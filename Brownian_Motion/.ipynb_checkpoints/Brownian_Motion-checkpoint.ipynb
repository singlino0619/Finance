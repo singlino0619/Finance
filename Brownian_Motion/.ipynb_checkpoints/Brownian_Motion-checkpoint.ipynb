{
 "cells": [
  {
   "cell_type": "code",
   "execution_count": 31,
   "metadata": {
    "collapsed": true
   },
   "outputs": [],
   "source": [
    "%matplotlib inline\n",
    "import random\n",
    "import numpy as np\n",
    "from numpy.random import randn\n",
    "import matplotlib.pyplot as plt"
   ]
  },
  {
   "cell_type": "code",
   "execution_count": null,
   "metadata": {},
   "outputs": [],
   "source": []
  },
  {
   "cell_type": "code",
   "execution_count": null,
   "metadata": {
    "collapsed": true
   },
   "outputs": [],
   "source": []
  },
  {
   "cell_type": "raw",
   "metadata": {},
   "source": [
    "mean = 0\n",
    "var = 1\n",
    "sim_num = 100000\n",
    "rand_num_list = np.zeros(sim_num)\n",
    "for i in range(len(rand_num_list)):\n",
    "    rand_num_list[i] = random.gauss(mean, var)\n",
    "rand_num_list"
   ]
  },
  {
   "cell_type": "code",
   "execution_count": 25,
   "metadata": {},
   "outputs": [
    {
     "data": {
      "text/plain": [
       "(array([  1.00000000e+00,   0.00000000e+00,   2.00000000e+00,\n",
       "          0.00000000e+00,   1.00000000e+00,   1.00000000e+00,\n",
       "          1.00000000e+00,   7.00000000e+00,   4.00000000e+00,\n",
       "          1.40000000e+01,   8.00000000e+00,   2.00000000e+01,\n",
       "          2.70000000e+01,   4.50000000e+01,   3.80000000e+01,\n",
       "          5.00000000e+01,   5.30000000e+01,   9.20000000e+01,\n",
       "          8.30000000e+01,   1.27000000e+02,   1.55000000e+02,\n",
       "          1.93000000e+02,   2.54000000e+02,   2.63000000e+02,\n",
       "          3.39000000e+02,   4.46000000e+02,   5.22000000e+02,\n",
       "          5.92000000e+02,   7.31000000e+02,   8.44000000e+02,\n",
       "          9.78000000e+02,   1.11500000e+03,   1.20500000e+03,\n",
       "          1.41500000e+03,   1.60200000e+03,   1.81500000e+03,\n",
       "          1.92400000e+03,   2.10100000e+03,   2.31400000e+03,\n",
       "          2.50100000e+03,   2.68000000e+03,   2.88000000e+03,\n",
       "          3.04500000e+03,   3.16400000e+03,   3.27900000e+03,\n",
       "          3.29600000e+03,   3.43400000e+03,   3.54600000e+03,\n",
       "          3.45700000e+03,   3.52800000e+03,   3.51600000e+03,\n",
       "          3.51700000e+03,   3.31400000e+03,   3.13000000e+03,\n",
       "          3.04000000e+03,   2.93700000e+03,   2.81600000e+03,\n",
       "          2.63300000e+03,   2.42600000e+03,   2.13800000e+03,\n",
       "          2.09300000e+03,   1.92200000e+03,   1.70200000e+03,\n",
       "          1.57200000e+03,   1.33300000e+03,   1.20800000e+03,\n",
       "          1.06900000e+03,   9.46000000e+02,   7.71000000e+02,\n",
       "          6.70000000e+02,   5.43000000e+02,   4.59000000e+02,\n",
       "          4.11000000e+02,   3.29000000e+02,   2.93000000e+02,\n",
       "          2.20000000e+02,   1.62000000e+02,   1.54000000e+02,\n",
       "          1.15000000e+02,   9.40000000e+01,   6.40000000e+01,\n",
       "          5.50000000e+01,   4.10000000e+01,   3.10000000e+01,\n",
       "          2.20000000e+01,   2.30000000e+01,   7.00000000e+00,\n",
       "          1.30000000e+01,   2.00000000e+00,   4.00000000e+00,\n",
       "          3.00000000e+00,   4.00000000e+00,   1.00000000e+00,\n",
       "          1.00000000e+00,   2.00000000e+00,   0.00000000e+00,\n",
       "          0.00000000e+00,   0.00000000e+00,   1.00000000e+00,\n",
       "          1.00000000e+00]),\n",
       " array([-4.29596754, -4.20802494, -4.12008234, -4.03213974, -3.94419713,\n",
       "        -3.85625453, -3.76831193, -3.68036933, -3.59242673, -3.50448412,\n",
       "        -3.41654152, -3.32859892, -3.24065632, -3.15271372, -3.06477111,\n",
       "        -2.97682851, -2.88888591, -2.80094331, -2.71300071, -2.6250581 ,\n",
       "        -2.5371155 , -2.4491729 , -2.3612303 , -2.27328769, -2.18534509,\n",
       "        -2.09740249, -2.00945989, -1.92151729, -1.83357468, -1.74563208,\n",
       "        -1.65768948, -1.56974688, -1.48180428, -1.39386167, -1.30591907,\n",
       "        -1.21797647, -1.13003387, -1.04209126, -0.95414866, -0.86620606,\n",
       "        -0.77826346, -0.69032086, -0.60237825, -0.51443565, -0.42649305,\n",
       "        -0.33855045, -0.25060785, -0.16266524, -0.07472264,  0.01321996,\n",
       "         0.10116256,  0.18910516,  0.27704777,  0.36499037,  0.45293297,\n",
       "         0.54087557,  0.62881818,  0.71676078,  0.80470338,  0.89264598,\n",
       "         0.98058858,  1.06853119,  1.15647379,  1.24441639,  1.33235899,\n",
       "         1.42030159,  1.5082442 ,  1.5961868 ,  1.6841294 ,  1.772072  ,\n",
       "         1.8600146 ,  1.94795721,  2.03589981,  2.12384241,  2.21178501,\n",
       "         2.29972762,  2.38767022,  2.47561282,  2.56355542,  2.65149802,\n",
       "         2.73944063,  2.82738323,  2.91532583,  3.00326843,  3.09121103,\n",
       "         3.17915364,  3.26709624,  3.35503884,  3.44298144,  3.53092405,\n",
       "         3.61886665,  3.70680925,  3.79475185,  3.88269445,  3.97063706,\n",
       "         4.05857966,  4.14652226,  4.23446486,  4.32240746,  4.41035007,\n",
       "         4.49829267]),\n",
       " <a list of 100 Patch objects>)"
      ]
     },
     "execution_count": 25,
     "metadata": {},
     "output_type": "execute_result"
    },
    {
     "data": {
      "image/png": "[encoded data removed]",
      "text/plain": [
       "<matplotlib.figure.Figure at 0x111bbb8d0>"
      ]
     },
     "metadata": {},
     "output_type": "display_data"
    }
   ],
   "source": [
    "plt.hist(rand_num_list, bins=100)"
   ]
  },
  {
   "cell_type": "code",
   "execution_count": 32,
   "metadata": {},
   "outputs": [
    {
     "data": {
      "text/plain": [
       "array([-0.8907617 , -1.14632177, -2.00685928,  0.1887822 , -0.38481735,\n",
       "        0.88538145,  1.88615643,  0.99324988,  1.38799194,  0.39417972,\n",
       "       -0.96805205,  1.33783882, -1.42633689,  0.81507093,  1.03274936,\n",
       "        1.59451205, -0.20011766, -0.94840032, -0.54129421,  0.20525377,\n",
       "        1.65668784, -0.52667989,  0.54719812, -0.56633419, -2.0852812 ,\n",
       "       -0.54703916,  0.69175574, -0.31599158, -1.62402417,  0.22727077])"
      ]
     },
     "execution_count": 32,
     "metadata": {},
     "output_type": "execute_result"
    }
   ],
   "source": [
    "randn(30)"
   ]
  },
  {
   "cell_type": "code",
   "execution_count": 33,
   "metadata": {},
   "outputs": [
    {
     "data": {
      "text/plain": [
       "[<matplotlib.lines.Line2D at 0x112279390>]"
      ]
     },
     "execution_count": 33,
     "metadata": {},
     "output_type": "execute_result"
    },
    {
     "data": {
      "image/png": "[encoded data removed]",
      "text/plain": [
       "<matplotlib.figure.Figure at 0x1120745f8>"
      ]
     },
     "metadata": {},
     "output_type": "display_data"
    }
   ],
   "source": [
    "plt.plot(randn(1000).cumsum())"
   ]
  },
  {
   "cell_type": "markdown",
   "metadata": {},
   "source": [
    "## Geometric Brownian Motion \n",
    "In this jupyter notebook, we implement monte calro simulation for a gemetric brownian motion(BGM). We consider an underlying asset S(t) with expected income $\\mu(t)$ and volatility $\\sigma(t)$ and a stochastic process of $S(t)$ is assumed to be\n",
    "$$\n",
    "dS(t) = \\mu(t) dt + \\sigma(t) dW(t).\n",
    "$$\n",
    "The solution of BGM is given by, \n",
    "$$\n",
    "S(T) = S(0) \\exp \\left( \\int_{0}^{T} \\left( \\mu(t) - \\frac{\\sigma(t)^2}{2} \\right) dt + \\int_{0}^{T} \\sigma(t) dW(t) \\right).\n",
    "$$\n",
    "In this juyter notebook, we assume $\\mu(t)$ and $\\sigma(t)$ are independent of time for simplisity.\n",
    "In discrete time, we divide $T$ into $t_{0} = 0, t_{1}, t_{2}, ..., t_{n} = T$. Above process is approximatly given by, \n",
    "$$\n",
    "S_{t_{i+1}} = S_{t_{i}} \\exp \\left(  \\left(  \\mu(t) - \\frac{\\sigma(t)^2}{2} \\right) \\Delta t  + \\sigma \\sqrt{\\Delta t} \\epsilon_{i} \\right),\n",
    "$$\n",
    "where $t_{i+1} = t_{i} + \\Delta t$, $\\Delta t = T/n$ and $\\epsilon_{i}$ is standardised normal distribution. At time T, the asset price is \n",
    "given by the sum of the infinitesimal difference between $t=0$ and $t=T$. As a result, the asset price $S(T)$ is given by\n",
    "$$\n",
    "S(T) = S(0) \\exp \\left( \\left( \\mu - \\frac{\\sigma^2}{2}\\right) T +  \\sigma \\Sigma_{0}^{n} \\sqrt{\\Delta t} \\epsilon_{i}   \\right)\n",
    "$$"
   ]
  },
  {
   "cell_type": "code",
   "execution_count": null,
   "metadata": {
    "collapsed": true
   },
   "outputs": [],
   "source": []
  }
 ],
 "metadata": {
  "kernelspec": {
   "display_name": "Python 3",
   "language": "python",
   "name": "python3"
  },
  "language_info": {
   "codemirror_mode": {
    "name": "ipython",
    "version": 3
   },
   "file_extension": ".py",
   "mimetype": "text/x-python",
   "name": "python",
   "nbconvert_exporter": "python",
   "pygments_lexer": "ipython3",
   "version": "3.6.2"
  }
 },
 "nbformat": 4,
 "nbformat_minor": 2
}
