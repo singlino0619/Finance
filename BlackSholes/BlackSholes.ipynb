{
 "cells": [
  {
   "cell_type": "code",
   "execution_count": 145,
   "metadata": {},
   "outputs": [],
   "source": [
    "%matplotlib inline\n",
    "import numpy as np\n",
    "import random\n",
    "import math\n",
    "import matplotlib.pyplot as plt\n",
    "\n",
    "def BlackSholes(drift, vola, init, t, rand):\n",
    "    S_t = init * math.exp((drift - vola**2 / 2) * t + vola * math.sqrt(t) * rand )\n",
    "    return S_t\n",
    "\n",
    "drift = 0.3\n",
    "vola = 0.3\n",
    "maturity = 1 # unit: year\n",
    "NumberOfPath = 100000\n",
    "StockPrice = np.zeros(NumberOfPath)\n",
    "StockPrice[0] = 100\n",
    "delta_t = maturity / NumberOfPath\n",
    "for i in range(1, NumberOfPath):\n",
    "    StockPrice[i] = BlackSholes(drift, vola, StockPrice[i-1], delta_t, random.gauss(0,1))\n",
    "    \n",
    "#plt.plot(StockPrice)\n",
    "#Result = sum()\n",
    "#print(StockPrice)"
   ]
  },
  {
   "cell_type": "code",
   "execution_count": 144,
   "metadata": {
    "collapsed": true
   },
   "outputs": [],
   "source": [
    "#TODO make class for returning process of Stock Price.\n",
    "#TODO write code for deriving call option price in the balck-sholes model."
   ]
  },
  {
   "cell_type": "code",
   "execution_count": null,
   "metadata": {
    "collapsed": true
   },
   "outputs": [],
   "source": []
  }
 ],
 "metadata": {
  "kernelspec": {
   "display_name": "Python 3",
   "language": "python",
   "name": "python3"
  },
  "language_info": {
   "codemirror_mode": {
    "name": "ipython",
    "version": 3
   },
   "file_extension": ".py",
   "mimetype": "text/x-python",
   "name": "python",
   "nbconvert_exporter": "python",
   "pygments_lexer": "ipython3",
   "version": "3.6.2"
  }
 },
 "nbformat": 4,
 "nbformat_minor": 2
}
