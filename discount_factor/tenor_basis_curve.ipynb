{
 "cells": [
  {
   "cell_type": "markdown",
   "metadata": {},
   "source": [
    "# tenor basis swap\n",
    "Mark to market value of 3M-6M tenor basis swap of JPY is given by\n",
    "\n",
    "$\n",
    "\\begin{align}\n",
    "V_{ts}(t) &= V_{\\text{6M}} - V_{\\text{3M}} \\\\\n",
    "            &= \\Sigma_{i = 1}^{n^{6M}} D^{6M}(t^{6M}_{i}) L^{6M}(t, t^{6M}_{i-1}, t^{6M}_{i}) \\delta^{6M}_{t^{6M}_{i}}\n",
    "            - \\Sigma_{j = 1}^{n^{3M}} D^{3M}(t^{3M}_{j}) \\left(L^{3M}(t, t^{3M}_{j-1}, t^{3M}_{j}) + \\alpha^{6-3}_{t, n^{3M}} \\right) \\delta^{3M}_{t^{3M}_{j}} \\\\\n",
    "            &= \\left( D^{6M}(t^{6M}_{0}) - D^{6M}(t^{6M}_{n^{6M}})\\right) - \n",
    "            \\Sigma_{j = 1}^{n^{3M}} D^{3M}(t^{3M}_{j}) \\left(L^{3M}(t, t^{3M}_{j-1}, t^{3M}_{j}) + \\alpha^{6-3}_{t, n^{3M}} \\right)\n",
    "\\end{align}\n",
    "$\n",
    "\n",
    "where $\\alpha^{6-3}_{t, n^{3M}}$ is a tenor basis spread with matuiry of corresponding tenor basis swap. This notation is the same as $\\alpha^{6-3}_{t, n^{6M}}$ because both cash flows will finish at the same time on maturity.\n",
    "\n",
    "$\n",
    "L^{3M}(t, t_{i-1}, t_{i}) = \\frac{\n",
    "\\left( D^{6M}(t^{6M}_{0}) - D^{6M}(t^{6M}_{N}) \\right)\n",
    "- \\Sigma_{i}^{M - 1} D(t^{3M}_{i - 1}) \\left( L^{3M}(t, t^{3M}_{i-2}, t^{3M}_{i-1}) + \\alpha^{3-6}_{M} \\right) \\delta^{3M}\n",
    "}\n",
    "{D(t^{3M}_{i}) \\delta^{3M}} - \\alpha^{3-6}_{M}\n",
    "$"
   ]
  },
  {
   "cell_type": "code",
   "execution_count": 1,
   "metadata": {
    "collapsed": true
   },
   "outputs": [],
   "source": [
    "import pandas as pd\n",
    "import numpy as np\n",
    "from  single_df_curve import single_df_curve\n",
    "import os\n",
    "import matplotlib.pyplot as plt\n",
    "import datetime\n",
    "%matplotlib inline"
   ]
  },
  {
   "cell_type": "code",
   "execution_count": 2,
   "metadata": {
    "collapsed": true
   },
   "outputs": [],
   "source": [
    "input_path = '/Users/susynishida/Desktop/dev/Python/Finance/input/20180731'\n",
    "file_name = 'TenorBasis.csv'\n",
    "file_path = os.path.join(input_path, file_name)"
   ]
  },
  {
   "cell_type": "code",
   "execution_count": 3,
   "metadata": {},
   "outputs": [
    {
     "data": {
      "text/html": [
       "<div>\n",
       "<style>\n",
       "    .dataframe thead tr:only-child th {\n",
       "        text-align: right;\n",
       "    }\n",
       "\n",
       "    .dataframe thead th {\n",
       "        text-align: left;\n",
       "    }\n",
       "\n",
       "    .dataframe tbody tr th {\n",
       "        vertical-align: top;\n",
       "    }\n",
       "</style>\n",
       "<table border=\"1\" class=\"dataframe\">\n",
       "  <thead>\n",
       "    <tr style=\"text-align: right;\">\n",
       "      <th></th>\n",
       "      <th>date</th>\n",
       "      <th>item</th>\n",
       "      <th>ccy</th>\n",
       "      <th>tenor</th>\n",
       "      <th>maturity</th>\n",
       "      <th>spread</th>\n",
       "    </tr>\n",
       "  </thead>\n",
       "  <tbody>\n",
       "    <tr>\n",
       "      <th>0</th>\n",
       "      <td>2018/7/31</td>\n",
       "      <td>TenorBasis</td>\n",
       "      <td>JPY</td>\n",
       "      <td>3M</td>\n",
       "      <td>1Y</td>\n",
       "      <td>-0.008</td>\n",
       "    </tr>\n",
       "    <tr>\n",
       "      <th>1</th>\n",
       "      <td>2018/7/31</td>\n",
       "      <td>TenorBasis</td>\n",
       "      <td>JPY</td>\n",
       "      <td>3M</td>\n",
       "      <td>2Y</td>\n",
       "      <td>-0.009</td>\n",
       "    </tr>\n",
       "    <tr>\n",
       "      <th>2</th>\n",
       "      <td>2018/7/31</td>\n",
       "      <td>TenorBasis</td>\n",
       "      <td>JPY</td>\n",
       "      <td>3M</td>\n",
       "      <td>3Y</td>\n",
       "      <td>-0.010</td>\n",
       "    </tr>\n",
       "    <tr>\n",
       "      <th>3</th>\n",
       "      <td>2018/7/31</td>\n",
       "      <td>TenorBasis</td>\n",
       "      <td>JPY</td>\n",
       "      <td>3M</td>\n",
       "      <td>4Y</td>\n",
       "      <td>-0.010</td>\n",
       "    </tr>\n",
       "    <tr>\n",
       "      <th>4</th>\n",
       "      <td>2018/7/31</td>\n",
       "      <td>TenorBasis</td>\n",
       "      <td>JPY</td>\n",
       "      <td>3M</td>\n",
       "      <td>5Y</td>\n",
       "      <td>-0.010</td>\n",
       "    </tr>\n",
       "  </tbody>\n",
       "</table>\n",
       "</div>"
      ],
      "text/plain": [
       "        date        item  ccy tenor maturity  spread\n",
       "0  2018/7/31  TenorBasis  JPY    3M       1Y  -0.008\n",
       "1  2018/7/31  TenorBasis  JPY    3M       2Y  -0.009\n",
       "2  2018/7/31  TenorBasis  JPY    3M       3Y  -0.010\n",
       "3  2018/7/31  TenorBasis  JPY    3M       4Y  -0.010\n",
       "4  2018/7/31  TenorBasis  JPY    3M       5Y  -0.010"
      ]
     },
     "execution_count": 3,
     "metadata": {},
     "output_type": "execute_result"
    }
   ],
   "source": [
    "df_tb = pd.read_csv(file_path)\n",
    "df_tb.head()"
   ]
  },
  {
   "cell_type": "code",
   "execution_count": 30,
   "metadata": {
    "collapsed": true
   },
   "outputs": [],
   "source": [
    "class TenorBasis():\n",
    "    def __init__(self, df, str_ccy):\n",
    "        self._df = df[df['ccy'] == str_ccy]\n",
    "        self._ccy = str_ccy\n",
    "        self._str_tenor = (self._df['tenor'].unique())[0]\n",
    "        self._int_tenor_m = int((self._str_tenor)[:-1])\n",
    "        self._float_tenor_y = (self._int_tenor_m) / 12\n",
    "        self._int_max_mat = int((self._df.iloc[-1]['maturity'])[:-1])\n",
    "        \n",
    "    def add_col_mat_interp(self):\n",
    "        df_add_col = (self._df).copy()\n",
    "        df_add_col['flo_mat_for_intep'] = df_add_col['maturity'].apply(lambda x: float(x[:-1]))\n",
    "        return df_add_col\n",
    "        \n",
    "    def gen_maturity(self):\n",
    "        maturity_list = np.arange(0, self._int_max_mat + self._float_tenor_y, self._float_tenor_y)\n",
    "        return maturity_list\n",
    "    \n",
    "    def gen_df_for_interp(self):\n",
    "        df_maturity = pd.DataFrame(self.gen_maturity(), columns=['maturity_for_interp'])\n",
    "        df_add_col = self.add_col_mat_interp()\n",
    "        df_for_intep = pd.merge(df_maturity, df_add_col, left_on='maturity_for_interp', right_on='flo_mat_for_intep', how='outer')\n",
    "        return df_for_intep\n",
    "    \n",
    "    def interp_spread(self):\n",
    "        df_for_intep = self.gen_df_for_interp()\n",
    "        df_for_intep.iloc[0] = 0\n",
    "        df_interp = (df_for_intep.set_index('maturity_for_interp')[['spread']]).interpolate('index')\n",
    "        return df_interp\n",
    "    \n",
    "    def get_test(self):\n",
    "        return self.interp_spread()"
   ]
  },
  {
   "cell_type": "code",
   "execution_count": 5,
   "metadata": {},
   "outputs": [
    {
     "data": {
      "text/plain": [
       "<matplotlib.axes._subplots.AxesSubplot at 0x10e65ba58>"
      ]
     },
     "execution_count": 5,
     "metadata": {},
     "output_type": "execute_result"
    },
    {
     "data": {
      "image/png": "[encoded data removed]",
      "text/plain": [
       "<matplotlib.figure.Figure at 0x10e6dc400>"
      ]
     },
     "metadata": {},
     "output_type": "display_data"
    }
   ],
   "source": [
    "tb = TenorBasis(df_tb, 'JPY')\n",
    "tb.interp_spread().plot()"
   ]
  },
  {
   "cell_type": "code",
   "execution_count": 15,
   "metadata": {},
   "outputs": [
    {
     "data": {
      "text/html": [
       "<div>\n",
       "<style>\n",
       "    .dataframe thead tr:only-child th {\n",
       "        text-align: right;\n",
       "    }\n",
       "\n",
       "    .dataframe thead th {\n",
       "        text-align: left;\n",
       "    }\n",
       "\n",
       "    .dataframe tbody tr th {\n",
       "        vertical-align: top;\n",
       "    }\n",
       "</style>\n",
       "<table border=\"1\" class=\"dataframe\">\n",
       "  <thead>\n",
       "    <tr style=\"text-align: right;\">\n",
       "      <th></th>\n",
       "      <th>spread</th>\n",
       "    </tr>\n",
       "    <tr>\n",
       "      <th>maturity_for_interp</th>\n",
       "      <th></th>\n",
       "    </tr>\n",
       "  </thead>\n",
       "  <tbody>\n",
       "    <tr>\n",
       "      <th>0.00</th>\n",
       "      <td>0.000</td>\n",
       "    </tr>\n",
       "    <tr>\n",
       "      <th>0.25</th>\n",
       "      <td>-0.002</td>\n",
       "    </tr>\n",
       "    <tr>\n",
       "      <th>0.50</th>\n",
       "      <td>-0.004</td>\n",
       "    </tr>\n",
       "    <tr>\n",
       "      <th>0.75</th>\n",
       "      <td>-0.006</td>\n",
       "    </tr>\n",
       "    <tr>\n",
       "      <th>1.00</th>\n",
       "      <td>-0.008</td>\n",
       "    </tr>\n",
       "  </tbody>\n",
       "</table>\n",
       "</div>"
      ],
      "text/plain": [
       "                     spread\n",
       "maturity_for_interp        \n",
       "0.00                  0.000\n",
       "0.25                 -0.002\n",
       "0.50                 -0.004\n",
       "0.75                 -0.006\n",
       "1.00                 -0.008"
      ]
     },
     "execution_count": 15,
     "metadata": {},
     "output_type": "execute_result"
    }
   ],
   "source": [
    "tb = TenorBasis(df_tb, 'JPY')\n",
    "tb.get_test().head()"
   ]
  },
  {
   "cell_type": "code",
   "execution_count": 14,
   "metadata": {},
   "outputs": [
    {
     "data": {
      "text/html": [
       "<div>\n",
       "<style>\n",
       "    .dataframe thead tr:only-child th {\n",
       "        text-align: right;\n",
       "    }\n",
       "\n",
       "    .dataframe thead th {\n",
       "        text-align: left;\n",
       "    }\n",
       "\n",
       "    .dataframe tbody tr th {\n",
       "        vertical-align: top;\n",
       "    }\n",
       "</style>\n",
       "<table border=\"1\" class=\"dataframe\">\n",
       "  <thead>\n",
       "    <tr style=\"text-align: right;\">\n",
       "      <th></th>\n",
       "      <th>spread</th>\n",
       "    </tr>\n",
       "    <tr>\n",
       "      <th>maturity_for_interp</th>\n",
       "      <th></th>\n",
       "    </tr>\n",
       "  </thead>\n",
       "  <tbody>\n",
       "    <tr>\n",
       "      <th>0.00</th>\n",
       "      <td>-0.008</td>\n",
       "    </tr>\n",
       "    <tr>\n",
       "      <th>0.25</th>\n",
       "      <td>-0.008</td>\n",
       "    </tr>\n",
       "    <tr>\n",
       "      <th>0.50</th>\n",
       "      <td>-0.008</td>\n",
       "    </tr>\n",
       "    <tr>\n",
       "      <th>0.75</th>\n",
       "      <td>-0.008</td>\n",
       "    </tr>\n",
       "    <tr>\n",
       "      <th>1.00</th>\n",
       "      <td>-0.008</td>\n",
       "    </tr>\n",
       "  </tbody>\n",
       "</table>\n",
       "</div>"
      ],
      "text/plain": [
       "                     spread\n",
       "maturity_for_interp        \n",
       "0.00                 -0.008\n",
       "0.25                 -0.008\n",
       "0.50                 -0.008\n",
       "0.75                 -0.008\n",
       "1.00                 -0.008"
      ]
     },
     "execution_count": 14,
     "metadata": {},
     "output_type": "execute_result"
    }
   ],
   "source": [
    "tb = TenorBasis(df_tb, 'JPY')\n",
    "tb.gen_df_for_interp().set_index('maturity_for_interp')[['spread']].interpolate('index', limit_direction='both').head()"
   ]
  },
  {
   "cell_type": "code",
   "execution_count": 8,
   "metadata": {
    "collapsed": true
   },
   "outputs": [],
   "source": [
    "base_date = '20180731'\n",
    "root_path = '/Users/susynishida/Desktop/dev/Python/Finance/input/'\n",
    "file_name = '/IR.csv'\n",
    "file_path = os.path.join(root_path + base_date + file_name)\n",
    "df_IR = pd.read_csv(file_path)"
   ]
  },
  {
   "cell_type": "code",
   "execution_count": 9,
   "metadata": {
    "collapsed": true,
    "scrolled": true
   },
   "outputs": [],
   "source": [
    "DF_obj = single_df_curve.discount_factor(df_IR, 'USD')\n",
    "df_DF_20180731 = pd.DataFrame(DF_obj.get_array_DF('2018/08/02', '2048/7/15', 'cubic', 'cubic'), columns=['date', 'DF'])"
   ]
  },
  {
   "cell_type": "code",
   "execution_count": 10,
   "metadata": {
    "collapsed": true
   },
   "outputs": [],
   "source": [
    "df_DF_20180731['date'] = pd.to_datetime(df_DF_20180731['date'])\n",
    "df_DF_20180731.set_index('date', inplace=True)"
   ]
  },
  {
   "cell_type": "code",
   "execution_count": 31,
   "metadata": {},
   "outputs": [],
   "source": [
    "initial_float_rate = DF_obj.get_raw_rate('3M')"
   ]
  },
  {
   "cell_type": "code",
   "execution_count": 236,
   "metadata": {},
   "outputs": [
    {
     "data": {
      "text/plain": [
       "DatetimeIndex(['2018-07-02', '2018-07-03', '2018-07-04', '2018-07-05',\n",
       "               '2018-07-06', '2018-07-07', '2018-07-08', '2018-07-09',\n",
       "               '2018-07-10', '2018-07-11',\n",
       "               ...\n",
       "               '2048-06-23', '2048-06-24', '2048-06-25', '2048-06-26',\n",
       "               '2048-06-27', '2048-06-28', '2048-06-29', '2048-06-30',\n",
       "               '2048-07-01', '2048-07-02'],\n",
       "              dtype='datetime64[ns]', length=10959, freq='D')"
      ]
     },
     "execution_count": 236,
     "metadata": {},
     "output_type": "execute_result"
    }
   ],
   "source": [
    "index_datetime = pd.date_range(start='20180702', end='20480702')\n",
    "index_datetime"
   ]
  },
  {
   "cell_type": "code",
   "execution_count": 71,
   "metadata": {},
   "outputs": [
    {
     "data": {
      "text/plain": [
       "DatetimeIndex(['2018-08-02', '2018-11-02', '2019-02-02', '2019-05-02',\n",
       "               '2019-08-02', '2019-11-02', '2020-02-02', '2020-05-02',\n",
       "               '2020-08-02', '2020-11-02',\n",
       "               ...\n",
       "               '2046-02-02', '2046-05-02', '2046-08-02', '2046-11-02',\n",
       "               '2047-02-02', '2047-05-02', '2047-08-02', '2047-11-02',\n",
       "               '2048-02-02', '2048-05-02'],\n",
       "              dtype='datetime64[ns]', length=120, freq=None)"
      ]
     },
     "execution_count": 71,
     "metadata": {},
     "output_type": "execute_result"
    }
   ],
   "source": [
    "index_datetime[(index_datetime.day == 2) & index_datetime.month.isin([8, 11, 2, 5])]"
   ]
  },
  {
   "cell_type": "code",
   "execution_count": 277,
   "metadata": {},
   "outputs": [],
   "source": [
    "def generate_cash_flow_month_list(initial_date, end_date, freq_month):\n",
    "    \"\"\"\n",
    "    input: start date, maturity date, frequency of month\n",
    "    output: a list of month of corresponding frequency (type is integer)\n",
    "    \"\"\"\n",
    "    num_month = datetime.datetime.strptime(initial_date, '%Y/%m/%d').month\n",
    "    month_list = [num_month]\n",
    "    int_freq_month = int(freq_month[:-1])\n",
    "    len_iteration = int(12 / int_freq_month)\n",
    "    for i in range(len_iteration - 1):\n",
    "        num_month += int_freq_month\n",
    "        if num_month > 12:\n",
    "            num_month -= 12\n",
    "        else:\n",
    "            pass\n",
    "        month_list.append(num_month)\n",
    "    return month_list\n",
    "\n",
    "def generate_cash_flow_month(initial_date, end_date, freq_month, roll_date):\n",
    "    \"\"\"\n",
    "    return datetime dataframe with designated roll_date and a list of month of corresponding frequency\n",
    "    \"\"\"\n",
    "    cashflow_list = generate_cash_flow_month_list(initial_date, end_date, freq_month)\n",
    "    df_tmp = pd.date_range(start=initial_date, end=end_date)\n",
    "    df_dt = df_tmp[(df_tmp.day == roll_date) & (df_tmp.month.isin(cashflow_list))]\n",
    "    return df_dt"
   ]
  },
  {
   "cell_type": "code",
   "execution_count": 263,
   "metadata": {},
   "outputs": [
    {
     "data": {
      "text/plain": [
       "DatetimeIndex(['2018-07-02', '2018-10-02', '2019-01-02', '2019-04-02',\n",
       "               '2019-07-02', '2019-10-02', '2020-01-02', '2020-04-02',\n",
       "               '2020-07-02', '2020-10-02',\n",
       "               ...\n",
       "               '2046-04-02', '2046-07-02', '2046-10-02', '2047-01-02',\n",
       "               '2047-04-02', '2047-07-02', '2047-10-02', '2048-01-02',\n",
       "               '2048-04-02', '2048-07-02'],\n",
       "              dtype='datetime64[ns]', length=121, freq=None)"
      ]
     },
     "execution_count": 263,
     "metadata": {},
     "output_type": "execute_result"
    }
   ],
   "source": [
    "generate_cash_flow_month_list('2018/7/2', '2048/7/2', '3M')\n",
    "generate_cash_flow_month('2018/7/2', '2048/7/2', '3M', 2)"
   ]
  },
  {
   "cell_type": "code",
   "execution_count": 273,
   "metadata": {},
   "outputs": [
    {
     "data": {
      "text/html": [
       "<div>\n",
       "<style>\n",
       "    .dataframe thead tr:only-child th {\n",
       "        text-align: right;\n",
       "    }\n",
       "\n",
       "    .dataframe thead th {\n",
       "        text-align: left;\n",
       "    }\n",
       "\n",
       "    .dataframe tbody tr th {\n",
       "        vertical-align: top;\n",
       "    }\n",
       "</style>\n",
       "<table border=\"1\" class=\"dataframe\">\n",
       "  <thead>\n",
       "    <tr style=\"text-align: right;\">\n",
       "      <th></th>\n",
       "    </tr>\n",
       "    <tr>\n",
       "      <th>0</th>\n",
       "    </tr>\n",
       "  </thead>\n",
       "  <tbody>\n",
       "    <tr>\n",
       "      <th>2018-07-02</th>\n",
       "    </tr>\n",
       "    <tr>\n",
       "      <th>2018-10-02</th>\n",
       "    </tr>\n",
       "    <tr>\n",
       "      <th>2019-01-02</th>\n",
       "    </tr>\n",
       "    <tr>\n",
       "      <th>2019-04-02</th>\n",
       "    </tr>\n",
       "    <tr>\n",
       "      <th>2019-07-02</th>\n",
       "    </tr>\n",
       "    <tr>\n",
       "      <th>2019-10-02</th>\n",
       "    </tr>\n",
       "    <tr>\n",
       "      <th>2020-01-02</th>\n",
       "    </tr>\n",
       "    <tr>\n",
       "      <th>2020-04-02</th>\n",
       "    </tr>\n",
       "    <tr>\n",
       "      <th>2020-07-02</th>\n",
       "    </tr>\n",
       "    <tr>\n",
       "      <th>2020-10-02</th>\n",
       "    </tr>\n",
       "    <tr>\n",
       "      <th>2021-01-02</th>\n",
       "    </tr>\n",
       "    <tr>\n",
       "      <th>2021-04-02</th>\n",
       "    </tr>\n",
       "    <tr>\n",
       "      <th>2021-07-02</th>\n",
       "    </tr>\n",
       "    <tr>\n",
       "      <th>2021-10-02</th>\n",
       "    </tr>\n",
       "    <tr>\n",
       "      <th>2022-01-02</th>\n",
       "    </tr>\n",
       "    <tr>\n",
       "      <th>2022-04-02</th>\n",
       "    </tr>\n",
       "    <tr>\n",
       "      <th>2022-07-02</th>\n",
       "    </tr>\n",
       "    <tr>\n",
       "      <th>2022-10-02</th>\n",
       "    </tr>\n",
       "    <tr>\n",
       "      <th>2023-01-02</th>\n",
       "    </tr>\n",
       "    <tr>\n",
       "      <th>2023-04-02</th>\n",
       "    </tr>\n",
       "    <tr>\n",
       "      <th>2023-07-02</th>\n",
       "    </tr>\n",
       "    <tr>\n",
       "      <th>2023-10-02</th>\n",
       "    </tr>\n",
       "    <tr>\n",
       "      <th>2024-01-02</th>\n",
       "    </tr>\n",
       "    <tr>\n",
       "      <th>2024-04-02</th>\n",
       "    </tr>\n",
       "    <tr>\n",
       "      <th>2024-07-02</th>\n",
       "    </tr>\n",
       "    <tr>\n",
       "      <th>2024-10-02</th>\n",
       "    </tr>\n",
       "    <tr>\n",
       "      <th>2025-01-02</th>\n",
       "    </tr>\n",
       "    <tr>\n",
       "      <th>2025-04-02</th>\n",
       "    </tr>\n",
       "    <tr>\n",
       "      <th>2025-07-02</th>\n",
       "    </tr>\n",
       "    <tr>\n",
       "      <th>2025-10-02</th>\n",
       "    </tr>\n",
       "  </tbody>\n",
       "</table>\n",
       "</div>"
      ],
      "text/plain": [
       "Empty DataFrame\n",
       "Columns: []\n",
       "Index: [2018-07-02 00:00:00, 2018-10-02 00:00:00, 2019-01-02 00:00:00, 2019-04-02 00:00:00, 2019-07-02 00:00:00, 2019-10-02 00:00:00, 2020-01-02 00:00:00, 2020-04-02 00:00:00, 2020-07-02 00:00:00, 2020-10-02 00:00:00, 2021-01-02 00:00:00, 2021-04-02 00:00:00, 2021-07-02 00:00:00, 2021-10-02 00:00:00, 2022-01-02 00:00:00, 2022-04-02 00:00:00, 2022-07-02 00:00:00, 2022-10-02 00:00:00, 2023-01-02 00:00:00, 2023-04-02 00:00:00, 2023-07-02 00:00:00, 2023-10-02 00:00:00, 2024-01-02 00:00:00, 2024-04-02 00:00:00, 2024-07-02 00:00:00, 2024-10-02 00:00:00, 2025-01-02 00:00:00, 2025-04-02 00:00:00, 2025-07-02 00:00:00, 2025-10-02 00:00:00]"
      ]
     },
     "execution_count": 273,
     "metadata": {},
     "output_type": "execute_result"
    }
   ],
   "source": [
    "df_test = pd.DataFrame(generate_cash_flow_month('2018/7/2', '2048/7/2', '3M', 2)).set_index([0])\n",
    "df_test.head(30)"
   ]
  },
  {
   "cell_type": "markdown",
   "metadata": {},
   "source": [
    "## trial space"
   ]
  },
  {
   "cell_type": "code",
   "execution_count": 78,
   "metadata": {},
   "outputs": [
    {
     "data": {
      "text/html": [
       "<div>\n",
       "<style>\n",
       "    .dataframe thead tr:only-child th {\n",
       "        text-align: right;\n",
       "    }\n",
       "\n",
       "    .dataframe thead th {\n",
       "        text-align: left;\n",
       "    }\n",
       "\n",
       "    .dataframe tbody tr th {\n",
       "        vertical-align: top;\n",
       "    }\n",
       "</style>\n",
       "<table border=\"1\" class=\"dataframe\">\n",
       "  <thead>\n",
       "    <tr style=\"text-align: right;\">\n",
       "      <th></th>\n",
       "      <th>D1</th>\n",
       "      <th>F1</th>\n",
       "      <th>F2</th>\n",
       "      <th>N1</th>\n",
       "      <th>N2</th>\n",
       "      <th>N3</th>\n",
       "      <th>S1</th>\n",
       "      <th>S2</th>\n",
       "    </tr>\n",
       "  </thead>\n",
       "  <tbody>\n",
       "    <tr>\n",
       "      <th>0</th>\n",
       "      <td>2014-11-01</td>\n",
       "      <td>1.1</td>\n",
       "      <td>1.1</td>\n",
       "      <td>1</td>\n",
       "      <td>10</td>\n",
       "      <td>6</td>\n",
       "      <td>A</td>\n",
       "      <td>A</td>\n",
       "    </tr>\n",
       "    <tr>\n",
       "      <th>1</th>\n",
       "      <td>2014-11-02</td>\n",
       "      <td>2.2</td>\n",
       "      <td>2.2</td>\n",
       "      <td>2</td>\n",
       "      <td>20</td>\n",
       "      <td>5</td>\n",
       "      <td>b</td>\n",
       "      <td>X</td>\n",
       "    </tr>\n",
       "    <tr>\n",
       "      <th>2</th>\n",
       "      <td>2014-11-03</td>\n",
       "      <td>3.3</td>\n",
       "      <td>3.3</td>\n",
       "      <td>3</td>\n",
       "      <td>30</td>\n",
       "      <td>4</td>\n",
       "      <td>C</td>\n",
       "      <td>X</td>\n",
       "    </tr>\n",
       "    <tr>\n",
       "      <th>3</th>\n",
       "      <td>2014-11-04</td>\n",
       "      <td>4.4</td>\n",
       "      <td>4.4</td>\n",
       "      <td>4</td>\n",
       "      <td>40</td>\n",
       "      <td>3</td>\n",
       "      <td>D</td>\n",
       "      <td>X</td>\n",
       "    </tr>\n",
       "    <tr>\n",
       "      <th>4</th>\n",
       "      <td>2014-11-05</td>\n",
       "      <td>5.5</td>\n",
       "      <td>5.5</td>\n",
       "      <td>5</td>\n",
       "      <td>50</td>\n",
       "      <td>2</td>\n",
       "      <td>E</td>\n",
       "      <td>E</td>\n",
       "    </tr>\n",
       "    <tr>\n",
       "      <th>5</th>\n",
       "      <td>2014-11-06</td>\n",
       "      <td>6.6</td>\n",
       "      <td>6.6</td>\n",
       "      <td>6</td>\n",
       "      <td>60</td>\n",
       "      <td>1</td>\n",
       "      <td>F</td>\n",
       "      <td>F</td>\n",
       "    </tr>\n",
       "  </tbody>\n",
       "</table>\n",
       "</div>"
      ],
      "text/plain": [
       "          D1   F1   F2  N1  N2  N3 S1 S2\n",
       "0 2014-11-01  1.1  1.1   1  10   6  A  A\n",
       "1 2014-11-02  2.2  2.2   2  20   5  b  X\n",
       "2 2014-11-03  3.3  3.3   3  30   4  C  X\n",
       "3 2014-11-04  4.4  4.4   4  40   3  D  X\n",
       "4 2014-11-05  5.5  5.5   5  50   2  E  E\n",
       "5 2014-11-06  6.6  6.6   6  60   1  F  F"
      ]
     },
     "execution_count": 78,
     "metadata": {},
     "output_type": "execute_result"
    }
   ],
   "source": [
    "df = pd.DataFrame({'N1': [1, 2, 3, 4, 5, 6],\n",
    "                   'N2': [10, 20, 30, 40, 50, 60],\n",
    "                   'N3': [6, 5, 4, 3, 2, 1],\n",
    "                   'F1': [1.1, 2.2, 3.3, 4.4, 5.5, 6.6],\n",
    "                   'F2': [1.1, 2.2, 3.3, 4.4, 5.5, 6.6],\n",
    "                   'S1': ['A', 'b', 'C', 'D', 'E', 'F'],\n",
    "                   'S2': ['A', 'X', 'X', 'X', 'E', 'F'],\n",
    "                   'D1': pd.date_range('2014-11-01', freq='D', periods=6)})\n",
    "df"
   ]
  },
  {
   "cell_type": "code",
   "execution_count": 105,
   "metadata": {},
   "outputs": [
    {
     "data": {
      "text/html": [
       "<div>\n",
       "<style>\n",
       "    .dataframe thead tr:only-child th {\n",
       "        text-align: right;\n",
       "    }\n",
       "\n",
       "    .dataframe thead th {\n",
       "        text-align: left;\n",
       "    }\n",
       "\n",
       "    .dataframe tbody tr th {\n",
       "        vertical-align: top;\n",
       "    }\n",
       "</style>\n",
       "<table border=\"1\" class=\"dataframe\">\n",
       "  <thead>\n",
       "    <tr style=\"text-align: right;\">\n",
       "      <th></th>\n",
       "      <th>a</th>\n",
       "      <th>b</th>\n",
       "      <th>date</th>\n",
       "    </tr>\n",
       "  </thead>\n",
       "  <tbody>\n",
       "    <tr>\n",
       "      <th>0</th>\n",
       "      <td>1</td>\n",
       "      <td>3</td>\n",
       "      <td>20180731</td>\n",
       "    </tr>\n",
       "    <tr>\n",
       "      <th>1</th>\n",
       "      <td>2</td>\n",
       "      <td>4</td>\n",
       "      <td>20180930</td>\n",
       "    </tr>\n",
       "  </tbody>\n",
       "</table>\n",
       "</div>"
      ],
      "text/plain": [
       "   a  b      date\n",
       "0  1  3  20180731\n",
       "1  2  4  20180930"
      ]
     },
     "execution_count": 105,
     "metadata": {},
     "output_type": "execute_result"
    }
   ],
   "source": [
    "df_test = pd.DataFrame({'a': [1,2], 'b': [3,4], 'date': ['20180731', '20180930']})\n",
    "df_test"
   ]
  },
  {
   "cell_type": "code",
   "execution_count": 113,
   "metadata": {},
   "outputs": [
    {
     "data": {
      "text/html": [
       "<div>\n",
       "<style>\n",
       "    .dataframe thead tr:only-child th {\n",
       "        text-align: right;\n",
       "    }\n",
       "\n",
       "    .dataframe thead th {\n",
       "        text-align: left;\n",
       "    }\n",
       "\n",
       "    .dataframe tbody tr th {\n",
       "        vertical-align: top;\n",
       "    }\n",
       "</style>\n",
       "<table border=\"1\" class=\"dataframe\">\n",
       "  <thead>\n",
       "    <tr style=\"text-align: right;\">\n",
       "      <th></th>\n",
       "      <th>a</th>\n",
       "      <th>b</th>\n",
       "    </tr>\n",
       "    <tr>\n",
       "      <th>date</th>\n",
       "      <th></th>\n",
       "      <th></th>\n",
       "    </tr>\n",
       "  </thead>\n",
       "  <tbody>\n",
       "    <tr>\n",
       "      <th>2018-07-31</th>\n",
       "      <td>1</td>\n",
       "      <td>3</td>\n",
       "    </tr>\n",
       "    <tr>\n",
       "      <th>2018-09-30</th>\n",
       "      <td>2</td>\n",
       "      <td>4</td>\n",
       "    </tr>\n",
       "  </tbody>\n",
       "</table>\n",
       "</div>"
      ],
      "text/plain": [
       "            a  b\n",
       "date            \n",
       "2018-07-31  1  3\n",
       "2018-09-30  2  4"
      ]
     },
     "execution_count": 113,
     "metadata": {},
     "output_type": "execute_result"
    }
   ],
   "source": [
    "df_test['date'] = pd.to_datetime(df_test['date'])\n",
    "df_test.set_index('date')"
   ]
  },
  {
   "cell_type": "code",
   "execution_count": 119,
   "metadata": {},
   "outputs": [
    {
     "data": {
      "text/html": [
       "<div>\n",
       "<style>\n",
       "    .dataframe thead tr:only-child th {\n",
       "        text-align: right;\n",
       "    }\n",
       "\n",
       "    .dataframe thead th {\n",
       "        text-align: left;\n",
       "    }\n",
       "\n",
       "    .dataframe tbody tr th {\n",
       "        vertical-align: top;\n",
       "    }\n",
       "</style>\n",
       "<table border=\"1\" class=\"dataframe\">\n",
       "  <thead>\n",
       "    <tr style=\"text-align: right;\">\n",
       "      <th></th>\n",
       "      <th>0</th>\n",
       "      <th>1</th>\n",
       "    </tr>\n",
       "  </thead>\n",
       "  <tbody>\n",
       "    <tr>\n",
       "      <th>0</th>\n",
       "      <td>0.711072</td>\n",
       "      <td>0.734881</td>\n",
       "    </tr>\n",
       "    <tr>\n",
       "      <th>1</th>\n",
       "      <td>-0.037444</td>\n",
       "      <td>0.704516</td>\n",
       "    </tr>\n",
       "    <tr>\n",
       "      <th>2</th>\n",
       "      <td>-0.307548</td>\n",
       "      <td>-0.312760</td>\n",
       "    </tr>\n",
       "    <tr>\n",
       "      <th>3</th>\n",
       "      <td>-1.370722</td>\n",
       "      <td>0.837124</td>\n",
       "    </tr>\n",
       "    <tr>\n",
       "      <th>4</th>\n",
       "      <td>1.678157</td>\n",
       "      <td>0.650706</td>\n",
       "    </tr>\n",
       "    <tr>\n",
       "      <th>5</th>\n",
       "      <td>-0.740335</td>\n",
       "      <td>1.424259</td>\n",
       "    </tr>\n",
       "    <tr>\n",
       "      <th>6</th>\n",
       "      <td>1.054841</td>\n",
       "      <td>-0.371938</td>\n",
       "    </tr>\n",
       "    <tr>\n",
       "      <th>7</th>\n",
       "      <td>-1.100815</td>\n",
       "      <td>-0.351681</td>\n",
       "    </tr>\n",
       "    <tr>\n",
       "      <th>8</th>\n",
       "      <td>0.730635</td>\n",
       "      <td>0.244518</td>\n",
       "    </tr>\n",
       "    <tr>\n",
       "      <th>9</th>\n",
       "      <td>0.054926</td>\n",
       "      <td>2.176498</td>\n",
       "    </tr>\n",
       "  </tbody>\n",
       "</table>\n",
       "</div>"
      ],
      "text/plain": [
       "          0         1\n",
       "0  0.711072  0.734881\n",
       "1 -0.037444  0.704516\n",
       "2 -0.307548 -0.312760\n",
       "3 -1.370722  0.837124\n",
       "4  1.678157  0.650706\n",
       "5 -0.740335  1.424259\n",
       "6  1.054841 -0.371938\n",
       "7 -1.100815 -0.351681\n",
       "8  0.730635  0.244518\n",
       "9  0.054926  2.176498"
      ]
     },
     "execution_count": 119,
     "metadata": {},
     "output_type": "execute_result"
    }
   ],
   "source": [
    "df_test_2 = pd.DataFrame(np.random.randn(10,2))\n",
    "df_test_2"
   ]
  },
  {
   "cell_type": "code",
   "execution_count": 124,
   "metadata": {},
   "outputs": [
    {
     "data": {
      "text/html": [
       "<div>\n",
       "<style>\n",
       "    .dataframe thead tr:only-child th {\n",
       "        text-align: right;\n",
       "    }\n",
       "\n",
       "    .dataframe thead th {\n",
       "        text-align: left;\n",
       "    }\n",
       "\n",
       "    .dataframe tbody tr th {\n",
       "        vertical-align: top;\n",
       "    }\n",
       "</style>\n",
       "<table border=\"1\" class=\"dataframe\">\n",
       "  <thead>\n",
       "    <tr style=\"text-align: right;\">\n",
       "      <th></th>\n",
       "      <th>a</th>\n",
       "      <th>b</th>\n",
       "    </tr>\n",
       "  </thead>\n",
       "  <tbody>\n",
       "    <tr>\n",
       "      <th>0</th>\n",
       "      <td>1</td>\n",
       "      <td>3</td>\n",
       "    </tr>\n",
       "    <tr>\n",
       "      <th>1</th>\n",
       "      <td>2</td>\n",
       "      <td>4</td>\n",
       "    </tr>\n",
       "  </tbody>\n",
       "</table>\n",
       "</div>"
      ],
      "text/plain": [
       "   a  b\n",
       "0  1  3\n",
       "1  2  4"
      ]
     },
     "execution_count": 124,
     "metadata": {},
     "output_type": "execute_result"
    }
   ],
   "source": [
    "pd.DataFrame({'a': [1, 2], 'b': [3, 4]})"
   ]
  },
  {
   "cell_type": "code",
   "execution_count": 127,
   "metadata": {},
   "outputs": [],
   "source": [
    "sr1 = pd.Series([1, 2, 3, 4])\n",
    "sr2 = pd.Series([5, 6, 7, 8])"
   ]
  },
  {
   "cell_type": "code",
   "execution_count": null,
   "metadata": {
    "collapsed": true
   },
   "outputs": [],
   "source": []
  }
 ],
 "metadata": {
  "kernelspec": {
   "display_name": "Python 3",
   "language": "python",
   "name": "python3"
  },
  "language_info": {
   "codemirror_mode": {
    "name": "ipython",
    "version": 3
   },
   "file_extension": ".py",
   "mimetype": "text/x-python",
   "name": "python",
   "nbconvert_exporter": "python",
   "pygments_lexer": "ipython3",
   "version": "3.6.2"
  },
  "toc": {
   "base_numbering": 1,
   "nav_menu": {},
   "number_sections": true,
   "sideBar": true,
   "skip_h1_title": false,
   "title_cell": "Table of Contents",
   "title_sidebar": "Contents",
   "toc_cell": false,
   "toc_position": {},
   "toc_section_display": true,
   "toc_window_display": false
  }
 },
 "nbformat": 4,
 "nbformat_minor": 2
}
