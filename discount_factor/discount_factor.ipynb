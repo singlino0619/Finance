{
 "cells": [
  {
   "cell_type": "code",
   "execution_count": 281,
   "metadata": {
    "collapsed": true
   },
   "outputs": [],
   "source": [
    " %matplotlib inline\n",
    "import pandas as pd\n",
    "import datetime\n",
    "from scipy import interpolate\n",
    "import numpy as np \n",
    "import matplotlib.pyplot as plt"
   ]
  },
  {
   "cell_type": "code",
   "execution_count": 282,
   "metadata": {
    "collapsed": true
   },
   "outputs": [],
   "source": [
    "base_date = '20180731'"
   ]
  },
  {
   "cell_type": "code",
   "execution_count": 283,
   "metadata": {
    "collapsed": true
   },
   "outputs": [],
   "source": [
    "root_path = '/Users/susynishida/Desktop/dev/Python/Finance/discount_factor/'"
   ]
  },
  {
   "cell_type": "code",
   "execution_count": 284,
   "metadata": {
    "collapsed": true
   },
   "outputs": [],
   "source": [
    "IR_input = '/IR.csv'"
   ]
  },
  {
   "cell_type": "code",
   "execution_count": 285,
   "metadata": {
    "collapsed": true
   },
   "outputs": [],
   "source": [
    "df_IR = pd.read_csv(root_path + 'input/' + base_date + IR_input)"
   ]
  },
  {
   "cell_type": "code",
   "execution_count": 286,
   "metadata": {},
   "outputs": [
    {
     "data": {
      "text/plain": [
       "0     0.019154\n",
       "1     0.000000\n",
       "2     0.000000\n",
       "3     0.000000\n",
       "4     0.000000\n",
       "5     0.000000\n",
       "6     0.000000\n",
       "7     0.000000\n",
       "8     0.000000\n",
       "9     0.000000\n",
       "10    0.000000\n",
       "11    0.000000\n",
       "12    0.000000\n",
       "13    0.000000\n",
       "14    0.000000\n",
       "15    0.000000\n",
       "16    0.000000\n",
       "17    0.000000\n",
       "18    0.000000\n",
       "19    0.000000\n",
       "Name: Tenor, dtype: float64"
      ]
     },
     "execution_count": 286,
     "metadata": {},
     "output_type": "execute_result"
    }
   ],
   "source": [
    "df_IR['Tenor'].apply(lambda x: df_IR['Rate'][df_IR.query('Tenor == @x').index[0]] if x=='O/N' else 0)"
   ]
  },
  {
   "cell_type": "code",
   "execution_count": 287,
   "metadata": {},
   "outputs": [
    {
     "data": {
      "text/html": [
       "<div>\n",
       "<style>\n",
       "    .dataframe thead tr:only-child th {\n",
       "        text-align: right;\n",
       "    }\n",
       "\n",
       "    .dataframe thead th {\n",
       "        text-align: left;\n",
       "    }\n",
       "\n",
       "    .dataframe tbody tr th {\n",
       "        vertical-align: top;\n",
       "    }\n",
       "</style>\n",
       "<table border=\"1\" class=\"dataframe\">\n",
       "  <thead>\n",
       "    <tr style=\"text-align: right;\">\n",
       "      <th></th>\n",
       "      <th>Date</th>\n",
       "      <th>Product</th>\n",
       "      <th>Tenor</th>\n",
       "      <th>Currency</th>\n",
       "      <th>Rate</th>\n",
       "      <th>lag(day)</th>\n",
       "      <th>Frequency(month)</th>\n",
       "      <th>Dcc</th>\n",
       "    </tr>\n",
       "  </thead>\n",
       "  <tbody>\n",
       "    <tr>\n",
       "      <th>0</th>\n",
       "      <td>2018/7/31</td>\n",
       "      <td>LIBOR</td>\n",
       "      <td>O/N</td>\n",
       "      <td>USD</td>\n",
       "      <td>0.019154</td>\n",
       "      <td>2</td>\n",
       "      <td>NaN</td>\n",
       "      <td>ACT/360</td>\n",
       "    </tr>\n",
       "    <tr>\n",
       "      <th>1</th>\n",
       "      <td>2018/7/31</td>\n",
       "      <td>LIBOR</td>\n",
       "      <td>1W</td>\n",
       "      <td>USD</td>\n",
       "      <td>0.019536</td>\n",
       "      <td>2</td>\n",
       "      <td>NaN</td>\n",
       "      <td>ACT/360</td>\n",
       "    </tr>\n",
       "    <tr>\n",
       "      <th>2</th>\n",
       "      <td>2018/7/31</td>\n",
       "      <td>LIBOR</td>\n",
       "      <td>1M</td>\n",
       "      <td>USD</td>\n",
       "      <td>0.020814</td>\n",
       "      <td>2</td>\n",
       "      <td>NaN</td>\n",
       "      <td>ACT/360</td>\n",
       "    </tr>\n",
       "    <tr>\n",
       "      <th>3</th>\n",
       "      <td>2018/7/31</td>\n",
       "      <td>LIBOR</td>\n",
       "      <td>2M</td>\n",
       "      <td>USD</td>\n",
       "      <td>0.021791</td>\n",
       "      <td>2</td>\n",
       "      <td>NaN</td>\n",
       "      <td>ACT/360</td>\n",
       "    </tr>\n",
       "    <tr>\n",
       "      <th>4</th>\n",
       "      <td>2018/7/31</td>\n",
       "      <td>LIBOR</td>\n",
       "      <td>3M</td>\n",
       "      <td>USD</td>\n",
       "      <td>0.023486</td>\n",
       "      <td>2</td>\n",
       "      <td>NaN</td>\n",
       "      <td>ACT/360</td>\n",
       "    </tr>\n",
       "    <tr>\n",
       "      <th>5</th>\n",
       "      <td>2018/7/31</td>\n",
       "      <td>LIBOR</td>\n",
       "      <td>6M</td>\n",
       "      <td>USD</td>\n",
       "      <td>0.025305</td>\n",
       "      <td>2</td>\n",
       "      <td>NaN</td>\n",
       "      <td>ACT/360</td>\n",
       "    </tr>\n",
       "    <tr>\n",
       "      <th>6</th>\n",
       "      <td>2018/7/31</td>\n",
       "      <td>LIBOR</td>\n",
       "      <td>9M</td>\n",
       "      <td>USD</td>\n",
       "      <td>0.026042</td>\n",
       "      <td>2</td>\n",
       "      <td>NaN</td>\n",
       "      <td>ACT/360</td>\n",
       "    </tr>\n",
       "    <tr>\n",
       "      <th>7</th>\n",
       "      <td>2018/7/31</td>\n",
       "      <td>SWAP</td>\n",
       "      <td>1Y</td>\n",
       "      <td>USD</td>\n",
       "      <td>0.026780</td>\n",
       "      <td>2</td>\n",
       "      <td>3.0</td>\n",
       "      <td>ACT/360</td>\n",
       "    </tr>\n",
       "    <tr>\n",
       "      <th>8</th>\n",
       "      <td>2018/7/31</td>\n",
       "      <td>SWAP</td>\n",
       "      <td>2Y</td>\n",
       "      <td>USD</td>\n",
       "      <td>0.028810</td>\n",
       "      <td>2</td>\n",
       "      <td>3.0</td>\n",
       "      <td>ACT/360</td>\n",
       "    </tr>\n",
       "    <tr>\n",
       "      <th>9</th>\n",
       "      <td>2018/7/31</td>\n",
       "      <td>SWAP</td>\n",
       "      <td>3Y</td>\n",
       "      <td>USD</td>\n",
       "      <td>0.029440</td>\n",
       "      <td>2</td>\n",
       "      <td>3.0</td>\n",
       "      <td>ACT/360</td>\n",
       "    </tr>\n",
       "    <tr>\n",
       "      <th>10</th>\n",
       "      <td>2018/7/31</td>\n",
       "      <td>SWAP</td>\n",
       "      <td>4Y</td>\n",
       "      <td>USD</td>\n",
       "      <td>0.029660</td>\n",
       "      <td>2</td>\n",
       "      <td>3.0</td>\n",
       "      <td>ACT/360</td>\n",
       "    </tr>\n",
       "    <tr>\n",
       "      <th>11</th>\n",
       "      <td>2018/7/31</td>\n",
       "      <td>SWAP</td>\n",
       "      <td>5Y</td>\n",
       "      <td>USD</td>\n",
       "      <td>0.029770</td>\n",
       "      <td>2</td>\n",
       "      <td>3.0</td>\n",
       "      <td>ACT/360</td>\n",
       "    </tr>\n",
       "    <tr>\n",
       "      <th>12</th>\n",
       "      <td>2018/7/31</td>\n",
       "      <td>SWAP</td>\n",
       "      <td>6Y</td>\n",
       "      <td>USD</td>\n",
       "      <td>0.029860</td>\n",
       "      <td>2</td>\n",
       "      <td>3.0</td>\n",
       "      <td>ACT/360</td>\n",
       "    </tr>\n",
       "    <tr>\n",
       "      <th>13</th>\n",
       "      <td>2018/7/31</td>\n",
       "      <td>SWAP</td>\n",
       "      <td>7Y</td>\n",
       "      <td>USD</td>\n",
       "      <td>0.029960</td>\n",
       "      <td>2</td>\n",
       "      <td>3.0</td>\n",
       "      <td>ACT/360</td>\n",
       "    </tr>\n",
       "    <tr>\n",
       "      <th>14</th>\n",
       "      <td>2018/7/31</td>\n",
       "      <td>SWAP</td>\n",
       "      <td>8Y</td>\n",
       "      <td>USD</td>\n",
       "      <td>0.030060</td>\n",
       "      <td>2</td>\n",
       "      <td>3.0</td>\n",
       "      <td>ACT/360</td>\n",
       "    </tr>\n",
       "    <tr>\n",
       "      <th>15</th>\n",
       "      <td>2018/7/31</td>\n",
       "      <td>SWAP</td>\n",
       "      <td>9Y</td>\n",
       "      <td>USD</td>\n",
       "      <td>0.030180</td>\n",
       "      <td>2</td>\n",
       "      <td>3.0</td>\n",
       "      <td>ACT/360</td>\n",
       "    </tr>\n",
       "    <tr>\n",
       "      <th>16</th>\n",
       "      <td>2018/7/31</td>\n",
       "      <td>SWAP</td>\n",
       "      <td>10Y</td>\n",
       "      <td>USD</td>\n",
       "      <td>0.030310</td>\n",
       "      <td>2</td>\n",
       "      <td>3.0</td>\n",
       "      <td>ACT/360</td>\n",
       "    </tr>\n",
       "    <tr>\n",
       "      <th>17</th>\n",
       "      <td>2018/7/31</td>\n",
       "      <td>SWAP</td>\n",
       "      <td>15Y</td>\n",
       "      <td>USD</td>\n",
       "      <td>0.030630</td>\n",
       "      <td>2</td>\n",
       "      <td>3.0</td>\n",
       "      <td>ACT/360</td>\n",
       "    </tr>\n",
       "    <tr>\n",
       "      <th>18</th>\n",
       "      <td>2018/7/31</td>\n",
       "      <td>SWAP</td>\n",
       "      <td>20Y</td>\n",
       "      <td>USD</td>\n",
       "      <td>0.030670</td>\n",
       "      <td>2</td>\n",
       "      <td>3.0</td>\n",
       "      <td>ACT/360</td>\n",
       "    </tr>\n",
       "    <tr>\n",
       "      <th>19</th>\n",
       "      <td>2018/7/31</td>\n",
       "      <td>SWAP</td>\n",
       "      <td>30Y</td>\n",
       "      <td>USD</td>\n",
       "      <td>0.030380</td>\n",
       "      <td>2</td>\n",
       "      <td>3.0</td>\n",
       "      <td>ACT/360</td>\n",
       "    </tr>\n",
       "  </tbody>\n",
       "</table>\n",
       "</div>"
      ],
      "text/plain": [
       "         Date Product Tenor Currency      Rate  lag(day)  Frequency(month)  \\\n",
       "0   2018/7/31   LIBOR   O/N      USD  0.019154         2               NaN   \n",
       "1   2018/7/31   LIBOR    1W      USD  0.019536         2               NaN   \n",
       "2   2018/7/31   LIBOR    1M      USD  0.020814         2               NaN   \n",
       "3   2018/7/31   LIBOR    2M      USD  0.021791         2               NaN   \n",
       "4   2018/7/31   LIBOR    3M      USD  0.023486         2               NaN   \n",
       "5   2018/7/31   LIBOR    6M      USD  0.025305         2               NaN   \n",
       "6   2018/7/31   LIBOR    9M      USD  0.026042         2               NaN   \n",
       "7   2018/7/31    SWAP    1Y      USD  0.026780         2               3.0   \n",
       "8   2018/7/31    SWAP    2Y      USD  0.028810         2               3.0   \n",
       "9   2018/7/31    SWAP    3Y      USD  0.029440         2               3.0   \n",
       "10  2018/7/31    SWAP    4Y      USD  0.029660         2               3.0   \n",
       "11  2018/7/31    SWAP    5Y      USD  0.029770         2               3.0   \n",
       "12  2018/7/31    SWAP    6Y      USD  0.029860         2               3.0   \n",
       "13  2018/7/31    SWAP    7Y      USD  0.029960         2               3.0   \n",
       "14  2018/7/31    SWAP    8Y      USD  0.030060         2               3.0   \n",
       "15  2018/7/31    SWAP    9Y      USD  0.030180         2               3.0   \n",
       "16  2018/7/31    SWAP   10Y      USD  0.030310         2               3.0   \n",
       "17  2018/7/31    SWAP   15Y      USD  0.030630         2               3.0   \n",
       "18  2018/7/31    SWAP   20Y      USD  0.030670         2               3.0   \n",
       "19  2018/7/31    SWAP   30Y      USD  0.030380         2               3.0   \n",
       "\n",
       "        Dcc  \n",
       "0   ACT/360  \n",
       "1   ACT/360  \n",
       "2   ACT/360  \n",
       "3   ACT/360  \n",
       "4   ACT/360  \n",
       "5   ACT/360  \n",
       "6   ACT/360  \n",
       "7   ACT/360  \n",
       "8   ACT/360  \n",
       "9   ACT/360  \n",
       "10  ACT/360  \n",
       "11  ACT/360  \n",
       "12  ACT/360  \n",
       "13  ACT/360  \n",
       "14  ACT/360  \n",
       "15  ACT/360  \n",
       "16  ACT/360  \n",
       "17  ACT/360  \n",
       "18  ACT/360  \n",
       "19  ACT/360  "
      ]
     },
     "execution_count": 287,
     "metadata": {},
     "output_type": "execute_result"
    }
   ],
   "source": [
    "df_IR"
   ]
  },
  {
   "cell_type": "code",
   "execution_count": 288,
   "metadata": {},
   "outputs": [
    {
     "data": {
      "text/plain": [
       "0.0191538"
      ]
     },
     "execution_count": 288,
     "metadata": {},
     "output_type": "execute_result"
    }
   ],
   "source": [
    "df_IR.set_index('Tenor').at['O/N', 'Rate']"
   ]
  },
  {
   "cell_type": "code",
   "execution_count": 289,
   "metadata": {},
   "outputs": [
    {
     "data": {
      "text/plain": [
       "3.0"
      ]
     },
     "execution_count": 289,
     "metadata": {},
     "output_type": "execute_result"
    }
   ],
   "source": [
    "df_IR.at[df_IR.query('Product == \"SWAP\"')['Frequency(month)'].index[0], 'Frequency(month)']"
   ]
  },
  {
   "cell_type": "code",
   "execution_count": 290,
   "metadata": {},
   "outputs": [
    {
     "data": {
      "text/plain": [
       "Int64Index([7], dtype='int64')"
      ]
     },
     "execution_count": 290,
     "metadata": {},
     "output_type": "execute_result"
    }
   ],
   "source": [
    "df_IR.query('Tenor == \"1Y\"').index"
   ]
  },
  {
   "cell_type": "code",
   "execution_count": 291,
   "metadata": {},
   "outputs": [
    {
     "data": {
      "text/plain": [
       "['O/N', '1W', '1M']"
      ]
     },
     "execution_count": 291,
     "metadata": {},
     "output_type": "execute_result"
    }
   ],
   "source": [
    "list(df_IR['Tenor'][0:3])"
   ]
  },
  {
   "cell_type": "markdown",
   "metadata": {},
   "source": [
    "## function: library"
   ]
  },
  {
   "cell_type": "code",
   "execution_count": 292,
   "metadata": {
    "collapsed": true
   },
   "outputs": [],
   "source": [
    "def tenor_to_days(str_tenor):\n",
    "    if(str_tenor=='O/N'):\n",
    "        days = 1\n",
    "    elif(str_tenor=='T/N'):\n",
    "        days = 2\n",
    "    elif(str_tenor[-1]=='W'):\n",
    "        days = int(str_tenor[0:len(str_tenor)-1]) * 7\n",
    "    elif(str_tenor[-1]=='M'):\n",
    "        days = int(str_tenor[0:len(str_tenor)-1]) * 30\n",
    "    elif(str_tenor[-1]=='Y'):\n",
    "        days = int(str_tenor[0:len(str_tenor)-1]) * 365\n",
    "    return days\n",
    "\n",
    "def str_dcc_to_num(str_dcc):\n",
    "    if(str_dcc=='ACT/360'):\n",
    "        dcc_num = 360\n",
    "    elif(str_dcc=='ACT/365F'):\n",
    "        dcc_num = 365\n",
    "    return dcc_num\n",
    "\n",
    "def interpolation(array_x, array_y, str_kind):\n",
    "    f = interpolate.interp1d(array_x, array_y, kind=str_kind)\n",
    "    return f"
   ]
  },
  {
   "cell_type": "markdown",
   "metadata": {},
   "source": [
    "## class: calc discount factor"
   ]
  },
  {
   "cell_type": "code",
   "execution_count": 402,
   "metadata": {},
   "outputs": [],
   "source": [
    "class discount_factor():\n",
    "    def __init__(self, df, str_ccy):\n",
    "        self._df_ir = df[df['Currency']==str_ccy]\n",
    "        self._base_date_obj = datetime.datetime.strptime(self._df_ir['Date'][0], '%Y/%m/%d')\n",
    "        self._spot_date = self._base_date_obj + datetime.timedelta(days=int(self._df_ir['lag(day)'][0]))\n",
    "        self._frequency_year = (self._df_ir.at[self._df_ir.query('Product == \"SWAP\"')['Frequency(month)'].index[0], 'Frequency(month)']) /12\n",
    "        self._str_frequency = str(int(self._df_ir.at[self._df_ir.query('Product == \"SWAP\"')['Frequency(month)'].index[0], 'Frequency(month)'])) + 'M'\n",
    "        \n",
    "    def get_raw_rate(self, str_tenor):\n",
    "        return self._df_ir.set_index('Tenor').at[str_tenor, 'Rate']\n",
    "\n",
    "    def calc_DF_short_term(self, str_tenor):\n",
    "        short_term_rate = self.get_raw_rate(str_tenor)\n",
    "        dcc = str_dcc_to_num(self._df_ir.set_index('Tenor').at[str_tenor, 'Dcc'])\n",
    "        target_date_obj = self._base_date_obj + datetime.timedelta(days = int(tenor_to_days(str_tenor)))\n",
    "        dfc = (target_date_obj - self._base_date_obj).days / dcc\n",
    "        DF = 1 / ( 1 + dfc * short_term_rate)\n",
    "        return DF\n",
    "    \n",
    "    def get_str_frequency(self):\n",
    "        return self._str_frequency\n",
    "    \n",
    "    def get_array_swap_tenor(self):\n",
    "        index_one_year = self._df_ir.query('Tenor == \"1Y\"').index[0]\n",
    "        array_swap_tenor = self._df_ir['Tenor'][index_one_year:].apply(lambda x: int(x[0:len(x)-1]))\n",
    "        list_array_swap_tenor = list(array_swap_tenor)\n",
    "        return list_array_swap_tenor\n",
    "    \n",
    "    def get_array_swap_rate(self):\n",
    "        index_one_year = self._df_ir.query('Tenor == \"1Y\"').index[0]\n",
    "        array_swap_rate = self._df_ir['Rate'][index_one_year:]\n",
    "        list_array_swap_rate = list(array_swap_rate.map(lambda x: float(x)))\n",
    "        return list_array_swap_rate\n",
    "    \n",
    "    def interpolation_swap_rate(self, kind):\n",
    "        array_x = self.get_array_swap_tenor()\n",
    "        array_y = self.get_array_swap_rate()\n",
    "        func = interpolation(array_x, array_y, kind)\n",
    "        return func\n",
    "    \n",
    "    def create_tenor_for_bootstrap(self):\n",
    "        initial_year = self.get_array_swap_tenor()[0]\n",
    "        last_year = self.get_array_swap_tenor()[-1]\n",
    "        ndarray_swap_tenor =  np.arange(initial_year, last_year + self._frequency_year, self._frequency_year)\n",
    "        return ndarray_swap_tenor\n",
    "\n",
    "    def create_swap_rate_for_bootstrap(self, kind):\n",
    "        func_swap_rate_interpolated = self.interpolation_swap_rate(kind)\n",
    "        ndarray_swap_tenor = self.create_tenor_for_bootstrap()\n",
    "        ndarray_swap_rate =  func_swap_rate_interpolated(ndarray_swap_tenor)\n",
    "        return ndarray_swap_rate\n",
    "    \n",
    "    def zip_swap_tenor_rate(self, kind):\n",
    "        list_swap_tenor = list(self.create_tenor_for_bootstrap())\n",
    "        list_swap_rate = list(self.create_swap_rate_for_bootstrap(kind))\n",
    "        return list(zip(list_swap_tenor, list_swap_rate))\n",
    "    \n",
    "    def get_array_str_for_bootstrap(self):\n",
    "        frequency = self._frequency_year * 12\n",
    "        array_int_for_bootstrap = []\n",
    "        while frequency  < 12:\n",
    "            array_int_for_bootstrap.append(int(frequency))\n",
    "            frequency = frequency + int((self._frequency_year * 12))\n",
    "        array_str_for_bootstrap = list(map(lambda x: str(x) + 'M', array_int_for_bootstrap))\n",
    "        return array_str_for_bootstrap\n",
    "    \n",
    "    def array_DF_short_term_for_bootstrap(self):\n",
    "        array_str_for_bootstrap = self.get_array_str_for_bootstrap()\n",
    "        array_DF_for_bootstrap = list(map(lambda x: self.calc_DF_short_term(x), array_str_for_bootstrap))\n",
    "        array_int_for_bootstrap = list(map(lambda x: int(x[0])/12, array_str_for_bootstrap))\n",
    "        array_for_bootstrap = list(zip(array_int_for_bootstrap, array_DF_for_bootstrap))\n",
    "        return array_for_bootstrap\n",
    "    \n",
    "    def calc_DF_bootstrap(self, kind):\n",
    "        array_DF_short_term_for_bootstrap = self.array_DF_short_term_for_bootstrap()\n",
    "        array_swap_rate = [j for i, j in DF_obj.zip_swap_tenor_rate(kind)]\n",
    "        dcf = self._frequency_year\n",
    "        array_DF_value = self.do_bootstrapping(dcf, array_swap_rate, array_DF_short_term_for_bootstrap)\n",
    "        array_tenor = [i for i, j in DF_obj.zip_swap_tenor_rate(kind)]\n",
    "        array_DF = list(zip(array_tenor, array_DF_value))\n",
    "        return array_DF\n",
    "    \n",
    "    def do_bootstrapping(self, dcf, array_swap_rate, array_DF_short_term):\n",
    "        sum_DF = sum([j for i, j in array_DF_short_term])\n",
    "        num_bootstrapping = len(array_swap_rate)\n",
    "        array_DF_value = []\n",
    "        for i in range(num_bootstrapping):\n",
    "            DF = 1.0 / (1.0 + dcf * array_swap_rate[i])  * (1.0 - array_swap_rate[i]* dcf * sum_DF)\n",
    "            array_DF_value.append(DF)\n",
    "            sum_DF += DF\n",
    "        return array_DF_value"
   ]
  },
  {
   "cell_type": "markdown",
   "metadata": {},
   "source": [
    "## try space"
   ]
  },
  {
   "cell_type": "code",
   "execution_count": 403,
   "metadata": {
    "collapsed": true
   },
   "outputs": [],
   "source": [
    "DF_obj = discount_factor(df_IR, 'USD')"
   ]
  },
  {
   "cell_type": "code",
   "execution_count": 404,
   "metadata": {},
   "outputs": [
    {
     "data": {
      "text/plain": [
       "[(1.0, 0.9736474209232449),\n",
       " (1.25, 0.9663172652591887),\n",
       " (1.5, 0.9589079741329505),\n",
       " (1.75, 0.951493863470052),\n",
       " (2.0, 0.9441301538706032),\n",
       " (2.25, 0.9368534240936077),\n",
       " (2.5, 0.9296820807766323),\n",
       " (2.75, 0.9226168304960739),\n",
       " (3.0, 0.9156411451810388),\n",
       " (3.25, 0.9087299050956952),\n",
       " (3.5, 0.9018791224878797),\n",
       " (3.75, 0.895089768585438),\n",
       " (4.0, 0.888360794266999),\n",
       " (4.25, 0.8816896256558138),\n",
       " (4.5, 0.8750737370914906),\n",
       " (4.75, 0.8685096924244902),\n",
       " (5.0, 0.8619927821088226),\n",
       " (5.25, 0.8555178534380758),\n",
       " (5.5, 0.8490820065438274),\n",
       " (5.75, 0.8426826923126468),\n",
       " (6.0, 0.836316991173861),\n",
       " (6.25, 0.8299825460410712),\n",
       " (6.5, 0.8236806009622656),\n",
       " (6.75, 0.8174136739819647),\n",
       " (7.0, 0.8111846843514471),\n",
       " (7.25, 0.8049956883643081),\n",
       " (7.5, 0.7988438106556045),\n",
       " (7.75, 0.7927245018208284),\n",
       " (8.0, 0.7866327361876039),\n",
       " (8.25, 0.7805640703003442),\n",
       " (8.5, 0.774518005267485),\n",
       " (8.75, 0.7684952146588907),\n",
       " (9.0, 0.762496543587276),\n",
       " (9.25, 0.7565236875538771),\n",
       " (9.5, 0.7505813603784763),\n",
       " (9.75, 0.7446754371813848),\n",
       " (10.0, 0.738812283498963),\n",
       " (10.25, 0.7329975743882421),\n",
       " (10.5, 0.7272325970624905),\n",
       " (10.75, 0.721517440721725),\n",
       " (11.0, 0.7158521244884227),\n",
       " (11.25, 0.7102365991904654),\n",
       " (11.5, 0.7046707491147006),\n",
       " (11.75, 0.6991543937307392),\n",
       " (12.0, 0.6936872893846916),\n",
       " (12.25, 0.6882691309626413),\n",
       " (12.5, 0.6828995535237286),\n",
       " (12.75, 0.677578133902805),\n",
       " (13.0, 0.6723043922826929),\n",
       " (13.25, 0.6670777937361585),\n",
       " (13.5, 0.6618977497377719),\n",
       " (13.75, 0.6567636196459065),\n",
       " (14.0, 0.6516747121551781),\n",
       " (14.25, 0.6466302867196997),\n",
       " (14.5, 0.6416295549475749),\n",
       " (14.75, 0.6366716819671127),\n",
       " (15.0, 0.6317557877653005),\n",
       " (15.25, 0.6268810837074758),\n",
       " (15.5, 0.622047292229328),\n",
       " (15.75, 0.6172542620689531),\n",
       " (16.0, 0.6125018357152426),\n",
       " (16.25, 0.6077898495773867),\n",
       " (16.5, 0.6031181341515847),\n",
       " (16.75, 0.5984865141849843),\n",
       " (17.0, 0.5938948088368612),\n",
       " (17.25, 0.5893428318370578),\n",
       " (17.5, 0.584830391641697),\n",
       " (17.75, 0.5803572915861919),\n",
       " (18.0, 0.5759233300355675),\n",
       " (18.25, 0.5715283005321189),\n",
       " (18.5, 0.5671719919404216),\n",
       " (18.75, 0.5628541885897183),\n",
       " (19.0, 0.5585746704137052),\n",
       " (19.25, 0.5543332130877371),\n",
       " (19.5, 0.5501295881634762),\n",
       " (19.75, 0.5459635632010099),\n",
       " (20.0, 0.5418349018984601),\n",
       " (20.25, 0.5377433642191072),\n",
       " (20.5, 0.5336887065160594),\n",
       " (20.75, 0.5296706816544846),\n",
       " (21.0, 0.5256890391314424),\n",
       " (21.25, 0.5217435251933283),\n",
       " (21.5, 0.5178338829509722),\n",
       " (21.75, 0.5139598524924045),\n",
       " (22.0, 0.5101211709933281),\n",
       " (22.25, 0.5063175728253163),\n",
       " (22.5, 0.502548789661769),\n",
       " (22.75, 0.49881455058165425),\n",
       " (23.0, 0.4951145821710619),\n",
       " (23.25, 0.49144860862260115),\n",
       " (23.5, 0.4878163518326676),\n",
       " (23.75, 0.48421753149661023),\n",
       " (24.0, 0.4806518652018286),\n",
       " (24.25, 0.4771190685188257),\n",
       " (24.5, 0.47361885509024976),\n",
       " (24.75, 0.47015093671795294),\n",
       " (25.0, 0.46671502344809485),\n",
       " (25.25, 0.46331082365432213),\n",
       " (25.5, 0.45993804411905304),\n",
       " (25.75, 0.45659639011289765),\n",
       " (26.0, 0.45328556547224025),\n",
       " (26.25, 0.4500052726750157),\n",
       " (26.5, 0.4467552129147119),\n",
       " (26.75, 0.4435350861726202),\n",
       " (27.0, 0.44034459128837194),\n",
       " (27.25, 0.43718342602878385),\n",
       " (27.5, 0.4340512871550451),\n",
       " (27.75, 0.43094787048827543),\n",
       " (28.0, 0.4278728709734803),\n",
       " (28.25, 0.42482598274193667),\n",
       " (28.5, 0.42180689917203307),\n",
       " (28.75, 0.4188153129485994),\n",
       " (29.0, 0.41585091612074787),\n",
       " (29.25, 0.41291340015825906),\n",
       " (29.5, 0.4100024560065401),\n",
       " (29.75, 0.4071177741401826),\n",
       " (30.0, 0.40425904461514706)]"
      ]
     },
     "execution_count": 404,
     "metadata": {},
     "output_type": "execute_result"
    }
   ],
   "source": [
    "DF_obj.calc_DF_bootstrap('cubic')"
   ]
  },
  {
   "cell_type": "code",
   "execution_count": 362,
   "metadata": {},
   "outputs": [
    {
     "data": {
      "text/plain": [
       "0.02678"
      ]
     },
     "execution_count": 362,
     "metadata": {},
     "output_type": "execute_result"
    }
   ],
   "source": [
    "DF_obj.zip_swap_tenor_rate('cubic')[0][1]"
   ]
  },
  {
   "cell_type": "code",
   "execution_count": 333,
   "metadata": {},
   "outputs": [
    {
     "data": {
      "text/plain": [
       "[0.02678,\n",
       " 0.027482226115063044,\n",
       " 0.028042544131500622,\n",
       " 0.02847909008218789,\n",
       " 0.028810000000000002,\n",
       " 0.029053409917812124,\n",
       " 0.02922745586849939,\n",
       " 0.029350273884936967,\n",
       " 0.02944,\n",
       " 0.0295121029636885,\n",
       " 0.02957138239450184,\n",
       " 0.029619970628064266,\n",
       " 0.029660000000000006,\n",
       " 0.029693490727433894,\n",
       " 0.029722014553493253,\n",
       " 0.02974703110280598,\n",
       " 0.029769999999999994,\n",
       " 0.029792215376575924,\n",
       " 0.029814309391525164,\n",
       " 0.02983674871071182,\n",
       " 0.029859999999999998,\n",
       " 0.029884366516262407,\n",
       " 0.029909497880406095,\n",
       " 0.029934880304346743,\n",
       " 0.02996,\n",
       " 0.029984537308374463,\n",
       " 0.030008949086850457,\n",
       " 0.030033886321901217,\n",
       " 0.030060000000000003,\n",
       " 0.030087796750239745,\n",
       " 0.030117205772192103,\n",
       " 0.030148011908048406,\n",
       " 0.030180000000000002,\n",
       " 0.030212869440666566,\n",
       " 0.030245977824381154,\n",
       " 0.03027859729590517,\n",
       " 0.03031,\n",
       " 0.03033959162694526,\n",
       " 0.030367312049093376,\n",
       " 0.030393234684315033,\n",
       " 0.03041743295048087,\n",
       " 0.030439980265461554,\n",
       " 0.03046095004712774,\n",
       " 0.030480415713350077,\n",
       " 0.03049845068199923,\n",
       " 0.030515128370945856,\n",
       " 0.030530522198060617,\n",
       " 0.030544705581214165,\n",
       " 0.030557751938277162,\n",
       " 0.03056973468712025,\n",
       " 0.030580727245614107,\n",
       " 0.030590803031629376,\n",
       " 0.03060003546303672,\n",
       " 0.030608497957706805,\n",
       " 0.03061626393351027,\n",
       " 0.03062340680831778,\n",
       " 0.030629999999999998,\n",
       " 0.030636105739690313,\n",
       " 0.03064174151157303,\n",
       " 0.03064691361309521,\n",
       " 0.030651628341703905,\n",
       " 0.030655891994846148,\n",
       " 0.030659710869969003,\n",
       " 0.030663091264519503,\n",
       " 0.03066603947594472,\n",
       " 0.030668561801691686,\n",
       " 0.030670664539207457,\n",
       " 0.03067235398593907,\n",
       " 0.030673636439333594,\n",
       " 0.03067451819683806,\n",
       " 0.030675005555899516,\n",
       " 0.030675104813965032,\n",
       " 0.03067482226848164,\n",
       " 0.03067416421689639,\n",
       " 0.03067313695665633,\n",
       " 0.03067174678520852,\n",
       " 0.03067,\n",
       " 0.03066790289847782,\n",
       " 0.03066546177808902,\n",
       " 0.030662682936280675,\n",
       " 0.030659572670499808,\n",
       " 0.03065613727819348,\n",
       " 0.03065238305680873,\n",
       " 0.030648316303792625,\n",
       " 0.03064394331659219,\n",
       " 0.03063927039265449,\n",
       " 0.03063430382942658,\n",
       " 0.030629049924355493,\n",
       " 0.030623514974888286,\n",
       " 0.030617705278472008,\n",
       " 0.030611627132553706,\n",
       " 0.030605286834580435,\n",
       " 0.030598690681999233,\n",
       " 0.030591844972257146,\n",
       " 0.030584756002801243,\n",
       " 0.030577430071078562,\n",
       " 0.030569873474536144,\n",
       " 0.030562092510621048,\n",
       " 0.030554093476780328,\n",
       " 0.030545882670461016,\n",
       " 0.030537466389110163,\n",
       " 0.03052885093017484,\n",
       " 0.030520042591102074,\n",
       " 0.030511047669338924,\n",
       " 0.030501872462332436,\n",
       " 0.030492523267529655,\n",
       " 0.03048300638237764,\n",
       " 0.030473328104323426,\n",
       " 0.030463494730814077,\n",
       " 0.030453512559296625,\n",
       " 0.03044338788721814,\n",
       " 0.030433127012025656,\n",
       " 0.030422736231166213,\n",
       " 0.030412221842086883,\n",
       " 0.030401590142234706,\n",
       " 0.030390847429056726,\n",
       " 0.03038]"
      ]
     },
     "execution_count": 333,
     "metadata": {},
     "output_type": "execute_result"
    }
   ],
   "source": [
    "[j for i, j in DF_obj.zip_swap_tenor_rate('cubic')]"
   ]
  },
  {
   "cell_type": "code",
   "execution_count": 25,
   "metadata": {},
   "outputs": [],
   "source": [
    "x_value = np.linspace(1,30,100)\n",
    "y_value = DF_obj.interpolation_swap_rate('slinear')\n",
    "y_value_c = DF_obj.interpolation_swap_rate('cubic')"
   ]
  },
  {
   "cell_type": "code",
   "execution_count": 26,
   "metadata": {},
   "outputs": [
    {
     "data": {
      "text/plain": [
       "[<matplotlib.lines.Line2D at 0x181c6af668>]"
      ]
     },
     "execution_count": 26,
     "metadata": {},
     "output_type": "execute_result"
    },
    {
     "data": {
      "image/png": "[encoded data removed]",
      "text/plain": [
       "<matplotlib.figure.Figure at 0x181c6af6d8>"
      ]
     },
     "metadata": {},
     "output_type": "display_data"
    }
   ],
   "source": [
    "plt.plot(x_value, y_value(x_value))\n",
    "plt.plot(x_value, y_value_c(x_value))"
   ]
  },
  {
   "cell_type": "code",
   "execution_count": 224,
   "metadata": {},
   "outputs": [
    {
     "data": {
      "text/plain": [
       "[0.02678,\n",
       " 0.028810000000000002,\n",
       " 0.029439999999999997,\n",
       " 0.029660000000000002,\n",
       " 0.029769999999999998,\n",
       " 0.02986,\n",
       " 0.029960000000000004,\n",
       " 0.030060000000000003,\n",
       " 0.030180000000000002,\n",
       " 0.030310000000000004,\n",
       " 0.03063,\n",
       " 0.03067,\n",
       " 0.03038]"
      ]
     },
     "execution_count": 224,
     "metadata": {},
     "output_type": "execute_result"
    }
   ],
   "source": [
    "DF_obj.get_array_swap_rate()"
   ]
  },
  {
   "cell_type": "code",
   "execution_count": 17,
   "metadata": {},
   "outputs": [
    {
     "data": {
      "text/plain": [
       "[1, 2, 3, 4, 5, 6, 7, 8, 9, 10, 15, 20, 30]"
      ]
     },
     "execution_count": 17,
     "metadata": {},
     "output_type": "execute_result"
    }
   ],
   "source": [
    "DF_obj.get_array_swap_tenor()"
   ]
  },
  {
   "cell_type": "code",
   "execution_count": 18,
   "metadata": {},
   "outputs": [
    {
     "data": {
      "text/plain": [
       "0.025305"
      ]
     },
     "execution_count": 18,
     "metadata": {},
     "output_type": "execute_result"
    }
   ],
   "source": [
    "DF_obj.get_raw_rate('6M')"
   ]
  },
  {
   "cell_type": "code",
   "execution_count": 19,
   "metadata": {},
   "outputs": [
    {
     "data": {
      "text/plain": [
       "0.9875055855784685"
      ]
     },
     "execution_count": 19,
     "metadata": {},
     "output_type": "execute_result"
    }
   ],
   "source": [
    "DF_obj.calc_DF_short_term('6M')"
   ]
  },
  {
   "cell_type": "code",
   "execution_count": 20,
   "metadata": {},
   "outputs": [
    {
     "data": {
      "text/plain": [
       "360"
      ]
     },
     "execution_count": 20,
     "metadata": {},
     "output_type": "execute_result"
    }
   ],
   "source": [
    "str_dcc_to_num('ACT/360')"
   ]
  },
  {
   "cell_type": "code",
   "execution_count": 21,
   "metadata": {},
   "outputs": [
    {
     "data": {
      "text/plain": [
       "7"
      ]
     },
     "execution_count": 21,
     "metadata": {},
     "output_type": "execute_result"
    }
   ],
   "source": [
    "tenor_to_days('1W')"
   ]
  },
  {
   "cell_type": "markdown",
   "metadata": {},
   "source": [
    "### datetime"
   ]
  },
  {
   "cell_type": "code",
   "execution_count": 22,
   "metadata": {
    "collapsed": true
   },
   "outputs": [],
   "source": [
    "today_obj = datetime.datetime.now()\n",
    "oneweek_obj = datetime.datetime.now() + datetime.timedelta(days=7)"
   ]
  },
  {
   "cell_type": "code",
   "execution_count": 23,
   "metadata": {},
   "outputs": [
    {
     "data": {
      "text/plain": [
       "7"
      ]
     },
     "execution_count": 23,
     "metadata": {},
     "output_type": "execute_result"
    }
   ],
   "source": [
    "(oneweek_obj -  today_obj).days"
   ]
  },
  {
   "cell_type": "markdown",
   "metadata": {},
   "source": [
    "## list of error"
   ]
  },
  {
   "cell_type": "code",
   "execution_count": 268,
   "metadata": {},
   "outputs": [
    {
     "ename": "KeyError",
     "evalue": "0",
     "output_type": "error",
     "traceback": [
      "\u001b[0;31m---------------------------------------------------------------------------\u001b[0m",
      "\u001b[0;31mKeyError\u001b[0m                                  Traceback (most recent call last)",
      "\u001b[0;32m<ipython-input-268-a6fde1791f55>\u001b[0m in \u001b[0;36m<module>\u001b[0;34m()\u001b[0m\n\u001b[0;32m----> 1\u001b[0;31m \u001b[0mdf_IR\u001b[0m\u001b[0;34m[\u001b[0m\u001b[0mdf_IR\u001b[0m\u001b[0;34m[\u001b[0m\u001b[0;34m'Tenor'\u001b[0m\u001b[0;34m]\u001b[0m\u001b[0;34m==\u001b[0m\u001b[0;34m'1M'\u001b[0m\u001b[0;34m]\u001b[0m\u001b[0;34m[\u001b[0m\u001b[0;34m'Rate'\u001b[0m\u001b[0;34m]\u001b[0m\u001b[0;34m[\u001b[0m\u001b[0;36m0\u001b[0m\u001b[0;34m]\u001b[0m\u001b[0;34m\u001b[0m\u001b[0m\n\u001b[0m",
      "\u001b[0;32m~/anaconda3/lib/python3.6/site-packages/pandas/core/series.py\u001b[0m in \u001b[0;36m__getitem__\u001b[0;34m(self, key)\u001b[0m\n\u001b[1;32m    599\u001b[0m         \u001b[0mkey\u001b[0m \u001b[0;34m=\u001b[0m \u001b[0mcom\u001b[0m\u001b[0;34m.\u001b[0m\u001b[0m_apply_if_callable\u001b[0m\u001b[0;34m(\u001b[0m\u001b[0mkey\u001b[0m\u001b[0;34m,\u001b[0m \u001b[0mself\u001b[0m\u001b[0;34m)\u001b[0m\u001b[0;34m\u001b[0m\u001b[0m\n\u001b[1;32m    600\u001b[0m         \u001b[0;32mtry\u001b[0m\u001b[0;34m:\u001b[0m\u001b[0;34m\u001b[0m\u001b[0m\n\u001b[0;32m--> 601\u001b[0;31m             \u001b[0mresult\u001b[0m \u001b[0;34m=\u001b[0m \u001b[0mself\u001b[0m\u001b[0;34m.\u001b[0m\u001b[0mindex\u001b[0m\u001b[0;34m.\u001b[0m\u001b[0mget_value\u001b[0m\u001b[0;34m(\u001b[0m\u001b[0mself\u001b[0m\u001b[0;34m,\u001b[0m \u001b[0mkey\u001b[0m\u001b[0;34m)\u001b[0m\u001b[0;34m\u001b[0m\u001b[0m\n\u001b[0m\u001b[1;32m    602\u001b[0m \u001b[0;34m\u001b[0m\u001b[0m\n\u001b[1;32m    603\u001b[0m             \u001b[0;32mif\u001b[0m \u001b[0;32mnot\u001b[0m \u001b[0mis_scalar\u001b[0m\u001b[0;34m(\u001b[0m\u001b[0mresult\u001b[0m\u001b[0;34m)\u001b[0m\u001b[0;34m:\u001b[0m\u001b[0;34m\u001b[0m\u001b[0m\n",
      "\u001b[0;32m~/anaconda3/lib/python3.6/site-packages/pandas/core/indexes/base.py\u001b[0m in \u001b[0;36mget_value\u001b[0;34m(self, series, key)\u001b[0m\n\u001b[1;32m   2475\u001b[0m         \u001b[0;32mtry\u001b[0m\u001b[0;34m:\u001b[0m\u001b[0;34m\u001b[0m\u001b[0m\n\u001b[1;32m   2476\u001b[0m             return self._engine.get_value(s, k,\n\u001b[0;32m-> 2477\u001b[0;31m                                           tz=getattr(series.dtype, 'tz', None))\n\u001b[0m\u001b[1;32m   2478\u001b[0m         \u001b[0;32mexcept\u001b[0m \u001b[0mKeyError\u001b[0m \u001b[0;32mas\u001b[0m \u001b[0me1\u001b[0m\u001b[0;34m:\u001b[0m\u001b[0;34m\u001b[0m\u001b[0m\n\u001b[1;32m   2479\u001b[0m             \u001b[0;32mif\u001b[0m \u001b[0mlen\u001b[0m\u001b[0;34m(\u001b[0m\u001b[0mself\u001b[0m\u001b[0;34m)\u001b[0m \u001b[0;34m>\u001b[0m \u001b[0;36m0\u001b[0m \u001b[0;32mand\u001b[0m \u001b[0mself\u001b[0m\u001b[0;34m.\u001b[0m\u001b[0minferred_type\u001b[0m \u001b[0;32min\u001b[0m \u001b[0;34m[\u001b[0m\u001b[0;34m'integer'\u001b[0m\u001b[0;34m,\u001b[0m \u001b[0;34m'boolean'\u001b[0m\u001b[0;34m]\u001b[0m\u001b[0;34m:\u001b[0m\u001b[0;34m\u001b[0m\u001b[0m\n",
      "\u001b[0;32mpandas/_libs/index.pyx\u001b[0m in \u001b[0;36mpandas._libs.index.IndexEngine.get_value\u001b[0;34m()\u001b[0m\n",
      "\u001b[0;32mpandas/_libs/index.pyx\u001b[0m in \u001b[0;36mpandas._libs.index.IndexEngine.get_value\u001b[0;34m()\u001b[0m\n",
      "\u001b[0;32mpandas/_libs/index.pyx\u001b[0m in \u001b[0;36mpandas._libs.index.IndexEngine.get_loc\u001b[0;34m()\u001b[0m\n",
      "\u001b[0;32mpandas/_libs/hashtable_class_helper.pxi\u001b[0m in \u001b[0;36mpandas._libs.hashtable.Int64HashTable.get_item\u001b[0;34m()\u001b[0m\n",
      "\u001b[0;32mpandas/_libs/hashtable_class_helper.pxi\u001b[0m in \u001b[0;36mpandas._libs.hashtable.Int64HashTable.get_item\u001b[0;34m()\u001b[0m\n",
      "\u001b[0;31mKeyError\u001b[0m: 0"
     ]
    }
   ],
   "source": [
    "df_IR[df_IR['Tenor']=='1M']['Rate'][0]"
   ]
  },
  {
   "cell_type": "code",
   "execution_count": null,
   "metadata": {
    "collapsed": true
   },
   "outputs": [],
   "source": []
  }
 ],
 "metadata": {
  "kernelspec": {
   "display_name": "Python 3",
   "language": "python",
   "name": "python3"
  },
  "language_info": {
   "codemirror_mode": {
    "name": "ipython",
    "version": 3
   },
   "file_extension": ".py",
   "mimetype": "text/x-python",
   "name": "python",
   "nbconvert_exporter": "python",
   "pygments_lexer": "ipython3",
   "version": "3.6.2"
  }
 },
 "nbformat": 4,
 "nbformat_minor": 2
}
