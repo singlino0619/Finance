{
 "cells": [
  {
   "cell_type": "code",
   "execution_count": 440,
   "metadata": {},
   "outputs": [],
   "source": [
    " %matplotlib inline\n",
    "import pandas as pd\n",
    "import datetime\n",
    "from scipy import interpolate\n",
    "import numpy as np \n",
    "import matplotlib.pyplot as plt"
   ]
  },
  {
   "cell_type": "code",
   "execution_count": 296,
   "metadata": {
    "collapsed": true
   },
   "outputs": [],
   "source": [
    "base_date = '20180731'"
   ]
  },
  {
   "cell_type": "code",
   "execution_count": 297,
   "metadata": {
    "collapsed": true
   },
   "outputs": [],
   "source": [
    "root_path = '/Users/susynishida/Desktop/dev/Python/Finance/discount_factor/'"
   ]
  },
  {
   "cell_type": "code",
   "execution_count": 298,
   "metadata": {
    "collapsed": true
   },
   "outputs": [],
   "source": [
    "IR_input = '/IR.csv'"
   ]
  },
  {
   "cell_type": "code",
   "execution_count": 299,
   "metadata": {},
   "outputs": [],
   "source": [
    "df_IR = pd.read_csv(root_path + 'input/' + base_date + IR_input)"
   ]
  },
  {
   "cell_type": "code",
   "execution_count": 420,
   "metadata": {},
   "outputs": [
    {
     "data": {
      "text/plain": [
       "0     0.019154\n",
       "1     0.000000\n",
       "2     0.000000\n",
       "3     0.000000\n",
       "4     0.000000\n",
       "5     0.000000\n",
       "6     0.000000\n",
       "7     0.000000\n",
       "8     0.000000\n",
       "9     0.000000\n",
       "10    0.000000\n",
       "11    0.000000\n",
       "12    0.000000\n",
       "13    0.000000\n",
       "14    0.000000\n",
       "15    0.000000\n",
       "16    0.000000\n",
       "17    0.000000\n",
       "18    0.000000\n",
       "Name: Tenor, dtype: float64"
      ]
     },
     "execution_count": 420,
     "metadata": {},
     "output_type": "execute_result"
    }
   ],
   "source": [
    "df_IR['Tenor'].apply(lambda x: df_IR['Rate'][df_IR.query('Tenor == @x').index[0]] if x=='O/N' else 0)"
   ]
  },
  {
   "cell_type": "code",
   "execution_count": 414,
   "metadata": {},
   "outputs": [
    {
     "data": {
      "text/html": [
       "<div>\n",
       "<style>\n",
       "    .dataframe thead tr:only-child th {\n",
       "        text-align: right;\n",
       "    }\n",
       "\n",
       "    .dataframe thead th {\n",
       "        text-align: left;\n",
       "    }\n",
       "\n",
       "    .dataframe tbody tr th {\n",
       "        vertical-align: top;\n",
       "    }\n",
       "</style>\n",
       "<table border=\"1\" class=\"dataframe\">\n",
       "  <thead>\n",
       "    <tr style=\"text-align: right;\">\n",
       "      <th></th>\n",
       "      <th>Date</th>\n",
       "      <th>Money_market</th>\n",
       "      <th>Tenor</th>\n",
       "      <th>Currency</th>\n",
       "      <th>Rate</th>\n",
       "      <th>lag(day)</th>\n",
       "      <th>Frequency(month)</th>\n",
       "      <th>Dcc</th>\n",
       "    </tr>\n",
       "  </thead>\n",
       "  <tbody>\n",
       "    <tr>\n",
       "      <th>0</th>\n",
       "      <td>2018/7/31</td>\n",
       "      <td>LIBOR</td>\n",
       "      <td>O/N</td>\n",
       "      <td>USD</td>\n",
       "      <td>0.019154</td>\n",
       "      <td>2</td>\n",
       "      <td>NaN</td>\n",
       "      <td>ACT/360</td>\n",
       "    </tr>\n",
       "    <tr>\n",
       "      <th>1</th>\n",
       "      <td>2018/7/31</td>\n",
       "      <td>LIBOR</td>\n",
       "      <td>1W</td>\n",
       "      <td>USD</td>\n",
       "      <td>0.019536</td>\n",
       "      <td>2</td>\n",
       "      <td>NaN</td>\n",
       "      <td>ACT/360</td>\n",
       "    </tr>\n",
       "    <tr>\n",
       "      <th>2</th>\n",
       "      <td>2018/7/31</td>\n",
       "      <td>LIBOR</td>\n",
       "      <td>1M</td>\n",
       "      <td>USD</td>\n",
       "      <td>0.020814</td>\n",
       "      <td>2</td>\n",
       "      <td>NaN</td>\n",
       "      <td>ACT/360</td>\n",
       "    </tr>\n",
       "    <tr>\n",
       "      <th>3</th>\n",
       "      <td>2018/7/31</td>\n",
       "      <td>LIBOR</td>\n",
       "      <td>2M</td>\n",
       "      <td>USD</td>\n",
       "      <td>0.021791</td>\n",
       "      <td>2</td>\n",
       "      <td>NaN</td>\n",
       "      <td>ACT/360</td>\n",
       "    </tr>\n",
       "    <tr>\n",
       "      <th>4</th>\n",
       "      <td>2018/7/31</td>\n",
       "      <td>LIBOR</td>\n",
       "      <td>3M</td>\n",
       "      <td>USD</td>\n",
       "      <td>0.023486</td>\n",
       "      <td>2</td>\n",
       "      <td>NaN</td>\n",
       "      <td>ACT/360</td>\n",
       "    </tr>\n",
       "    <tr>\n",
       "      <th>5</th>\n",
       "      <td>2018/7/31</td>\n",
       "      <td>LIBOR</td>\n",
       "      <td>6M</td>\n",
       "      <td>USD</td>\n",
       "      <td>0.025305</td>\n",
       "      <td>2</td>\n",
       "      <td>NaN</td>\n",
       "      <td>ACT/360</td>\n",
       "    </tr>\n",
       "    <tr>\n",
       "      <th>6</th>\n",
       "      <td>2018/7/31</td>\n",
       "      <td>SWAP</td>\n",
       "      <td>1Y</td>\n",
       "      <td>USD</td>\n",
       "      <td>0.026780</td>\n",
       "      <td>2</td>\n",
       "      <td>3.0</td>\n",
       "      <td>ACT/360</td>\n",
       "    </tr>\n",
       "    <tr>\n",
       "      <th>7</th>\n",
       "      <td>2018/7/31</td>\n",
       "      <td>SWAP</td>\n",
       "      <td>2Y</td>\n",
       "      <td>USD</td>\n",
       "      <td>0.028810</td>\n",
       "      <td>2</td>\n",
       "      <td>3.0</td>\n",
       "      <td>ACT/360</td>\n",
       "    </tr>\n",
       "    <tr>\n",
       "      <th>8</th>\n",
       "      <td>2018/7/31</td>\n",
       "      <td>SWAP</td>\n",
       "      <td>3Y</td>\n",
       "      <td>USD</td>\n",
       "      <td>0.029440</td>\n",
       "      <td>2</td>\n",
       "      <td>3.0</td>\n",
       "      <td>ACT/360</td>\n",
       "    </tr>\n",
       "    <tr>\n",
       "      <th>9</th>\n",
       "      <td>2018/7/31</td>\n",
       "      <td>SWAP</td>\n",
       "      <td>4Y</td>\n",
       "      <td>USD</td>\n",
       "      <td>0.029660</td>\n",
       "      <td>2</td>\n",
       "      <td>3.0</td>\n",
       "      <td>ACT/360</td>\n",
       "    </tr>\n",
       "    <tr>\n",
       "      <th>10</th>\n",
       "      <td>2018/7/31</td>\n",
       "      <td>SWAP</td>\n",
       "      <td>5Y</td>\n",
       "      <td>USD</td>\n",
       "      <td>0.029770</td>\n",
       "      <td>2</td>\n",
       "      <td>3.0</td>\n",
       "      <td>ACT/360</td>\n",
       "    </tr>\n",
       "    <tr>\n",
       "      <th>11</th>\n",
       "      <td>2018/7/31</td>\n",
       "      <td>SWAP</td>\n",
       "      <td>6Y</td>\n",
       "      <td>USD</td>\n",
       "      <td>0.029860</td>\n",
       "      <td>2</td>\n",
       "      <td>3.0</td>\n",
       "      <td>ACT/360</td>\n",
       "    </tr>\n",
       "    <tr>\n",
       "      <th>12</th>\n",
       "      <td>2018/7/31</td>\n",
       "      <td>SWAP</td>\n",
       "      <td>7Y</td>\n",
       "      <td>USD</td>\n",
       "      <td>0.029960</td>\n",
       "      <td>2</td>\n",
       "      <td>3.0</td>\n",
       "      <td>ACT/360</td>\n",
       "    </tr>\n",
       "    <tr>\n",
       "      <th>13</th>\n",
       "      <td>2018/7/31</td>\n",
       "      <td>SWAP</td>\n",
       "      <td>8Y</td>\n",
       "      <td>USD</td>\n",
       "      <td>0.030060</td>\n",
       "      <td>2</td>\n",
       "      <td>3.0</td>\n",
       "      <td>ACT/360</td>\n",
       "    </tr>\n",
       "    <tr>\n",
       "      <th>14</th>\n",
       "      <td>2018/7/31</td>\n",
       "      <td>SWAP</td>\n",
       "      <td>9Y</td>\n",
       "      <td>USD</td>\n",
       "      <td>0.030180</td>\n",
       "      <td>2</td>\n",
       "      <td>3.0</td>\n",
       "      <td>ACT/360</td>\n",
       "    </tr>\n",
       "    <tr>\n",
       "      <th>15</th>\n",
       "      <td>2018/7/31</td>\n",
       "      <td>SWAP</td>\n",
       "      <td>10Y</td>\n",
       "      <td>USD</td>\n",
       "      <td>0.030310</td>\n",
       "      <td>2</td>\n",
       "      <td>3.0</td>\n",
       "      <td>ACT/360</td>\n",
       "    </tr>\n",
       "    <tr>\n",
       "      <th>16</th>\n",
       "      <td>2018/7/31</td>\n",
       "      <td>SWAP</td>\n",
       "      <td>15Y</td>\n",
       "      <td>USD</td>\n",
       "      <td>0.030630</td>\n",
       "      <td>2</td>\n",
       "      <td>3.0</td>\n",
       "      <td>ACT/360</td>\n",
       "    </tr>\n",
       "    <tr>\n",
       "      <th>17</th>\n",
       "      <td>2018/7/31</td>\n",
       "      <td>SWAP</td>\n",
       "      <td>20Y</td>\n",
       "      <td>USD</td>\n",
       "      <td>0.030670</td>\n",
       "      <td>2</td>\n",
       "      <td>3.0</td>\n",
       "      <td>ACT/360</td>\n",
       "    </tr>\n",
       "    <tr>\n",
       "      <th>18</th>\n",
       "      <td>2018/7/31</td>\n",
       "      <td>SWAP</td>\n",
       "      <td>30Y</td>\n",
       "      <td>USD</td>\n",
       "      <td>0.030380</td>\n",
       "      <td>2</td>\n",
       "      <td>3.0</td>\n",
       "      <td>ACT/360</td>\n",
       "    </tr>\n",
       "  </tbody>\n",
       "</table>\n",
       "</div>"
      ],
      "text/plain": [
       "         Date Money_market Tenor Currency      Rate  lag(day)  \\\n",
       "0   2018/7/31        LIBOR   O/N      USD  0.019154         2   \n",
       "1   2018/7/31        LIBOR    1W      USD  0.019536         2   \n",
       "2   2018/7/31        LIBOR    1M      USD  0.020814         2   \n",
       "3   2018/7/31        LIBOR    2M      USD  0.021791         2   \n",
       "4   2018/7/31        LIBOR    3M      USD  0.023486         2   \n",
       "5   2018/7/31        LIBOR    6M      USD  0.025305         2   \n",
       "6   2018/7/31         SWAP    1Y      USD  0.026780         2   \n",
       "7   2018/7/31         SWAP    2Y      USD  0.028810         2   \n",
       "8   2018/7/31         SWAP    3Y      USD  0.029440         2   \n",
       "9   2018/7/31         SWAP    4Y      USD  0.029660         2   \n",
       "10  2018/7/31         SWAP    5Y      USD  0.029770         2   \n",
       "11  2018/7/31         SWAP    6Y      USD  0.029860         2   \n",
       "12  2018/7/31         SWAP    7Y      USD  0.029960         2   \n",
       "13  2018/7/31         SWAP    8Y      USD  0.030060         2   \n",
       "14  2018/7/31         SWAP    9Y      USD  0.030180         2   \n",
       "15  2018/7/31         SWAP   10Y      USD  0.030310         2   \n",
       "16  2018/7/31         SWAP   15Y      USD  0.030630         2   \n",
       "17  2018/7/31         SWAP   20Y      USD  0.030670         2   \n",
       "18  2018/7/31         SWAP   30Y      USD  0.030380         2   \n",
       "\n",
       "    Frequency(month)      Dcc  \n",
       "0                NaN  ACT/360  \n",
       "1                NaN  ACT/360  \n",
       "2                NaN  ACT/360  \n",
       "3                NaN  ACT/360  \n",
       "4                NaN  ACT/360  \n",
       "5                NaN  ACT/360  \n",
       "6                3.0  ACT/360  \n",
       "7                3.0  ACT/360  \n",
       "8                3.0  ACT/360  \n",
       "9                3.0  ACT/360  \n",
       "10               3.0  ACT/360  \n",
       "11               3.0  ACT/360  \n",
       "12               3.0  ACT/360  \n",
       "13               3.0  ACT/360  \n",
       "14               3.0  ACT/360  \n",
       "15               3.0  ACT/360  \n",
       "16               3.0  ACT/360  \n",
       "17               3.0  ACT/360  \n",
       "18               3.0  ACT/360  "
      ]
     },
     "execution_count": 414,
     "metadata": {},
     "output_type": "execute_result"
    }
   ],
   "source": [
    "df_IR"
   ]
  },
  {
   "cell_type": "code",
   "execution_count": 249,
   "metadata": {},
   "outputs": [
    {
     "data": {
      "text/plain": [
       "0.0191538"
      ]
     },
     "execution_count": 249,
     "metadata": {},
     "output_type": "execute_result"
    }
   ],
   "source": [
    "df_IR.set_index('Tenor').at['O/N', 'Rate']"
   ]
  },
  {
   "cell_type": "code",
   "execution_count": 489,
   "metadata": {},
   "outputs": [
    {
     "data": {
      "text/plain": [
       "Int64Index([6], dtype='int64')"
      ]
     },
     "execution_count": 489,
     "metadata": {},
     "output_type": "execute_result"
    }
   ],
   "source": [
    "df_IR.query('Tenor == \"1Y\"').index"
   ]
  },
  {
   "cell_type": "code",
   "execution_count": 514,
   "metadata": {},
   "outputs": [
    {
     "data": {
      "text/plain": [
       "['O/N', '1W', '1M']"
      ]
     },
     "execution_count": 514,
     "metadata": {},
     "output_type": "execute_result"
    }
   ],
   "source": [
    "list(df_IR['Tenor'][0:3])"
   ]
  },
  {
   "cell_type": "markdown",
   "metadata": {},
   "source": [
    "## function: library"
   ]
  },
  {
   "cell_type": "code",
   "execution_count": 473,
   "metadata": {},
   "outputs": [],
   "source": [
    "def tenor_to_days(str_tenor):\n",
    "    if(str_tenor=='O/N'):\n",
    "        days = 1\n",
    "    elif(str_tenor=='T/N'):\n",
    "        days = 2\n",
    "    elif(str_tenor[-1]=='W'):\n",
    "        days = int(str_tenor[0:len(str_tenor)-1]) * 7\n",
    "    elif(str_tenor[-1]=='M'):\n",
    "        days = int(str_tenor[0:len(str_tenor)-1]) * 30\n",
    "    elif(str_tenor[-1]=='Y'):\n",
    "        days = int(str_tenor[0:len(str_tenor)-1]) * 365\n",
    "    return days\n",
    "\n",
    "def str_dcc_to_num(str_dcc):\n",
    "    if(str_dcc=='ACT/360'):\n",
    "        dcc_num = 360\n",
    "    elif(str_dcc=='ACT/365F'):\n",
    "        dcc_num = 365\n",
    "    return dcc_num\n",
    "\n",
    "def interpolation_swap_rate(array_x, array_y, str_kind):\n",
    "    f = interpolate.interp1d(array_x, array_y, kind=str_kind)\n",
    "    return f"
   ]
  },
  {
   "cell_type": "markdown",
   "metadata": {},
   "source": [
    "## class: calc discount factor"
   ]
  },
  {
   "cell_type": "code",
   "execution_count": 614,
   "metadata": {},
   "outputs": [],
   "source": [
    "class discount_factor():\n",
    "    def __init__(self, df, str_ccy):\n",
    "        self._df_ir = df[df['Currency']==str_ccy]\n",
    "        self._base_date_obj = datetime.datetime.strptime(self._df_ir['Date'][0], '%Y/%m/%d')\n",
    "        self._spot_date = self._base_date_obj + datetime.timedelta(days=int(self._df_ir['lag(day)'][0]))\n",
    "        self._frequency = self._df_ir.set_index('Currency').at[str_ccy, 'Frequency(month)']\n",
    "        \n",
    "    def get_raw_rate(self, str_tenor):\n",
    "        return self._df_ir.set_index('Tenor').at[str_tenor, 'Rate']\n",
    "\n",
    "    def calc_DF_short_term(self, str_tenor):\n",
    "        short_term_rate = self.get_raw_rate(str_tenor)\n",
    "        dcc = str_dcc_to_num(self._df_ir.set_index('Tenor').at[str_tenor, 'Dcc'])\n",
    "        target_date_obj = self._base_date_obj + datetime.timedelta(days = int(tenor_to_days(str_tenor)))\n",
    "        dfc = (target_date_obj - self._base_date_obj).days / dcc\n",
    "        DF = 1 / ( 1 + dfc * short_term_rate)\n",
    "        return DF\n",
    "    \n",
    "    def calc_DF_swap(self, str_tenor):\n",
    "        swap_rate = self.get_raw_rate(str_tenor)\n",
    "        return DF\n",
    "    \n",
    "    def get_array_swap_tenor(self):\n",
    "        index_one_year = self._df_ir.query('Tenor == \"1Y\"').index[0]\n",
    "        array_swap_tenor = self._df_ir['Tenor'][index_one_year:].apply(lambda x: int(x[0:len(x)-1]))\n",
    "        list_array_swap_tenor = list(array_swap_tenor)\n",
    "        return list_array_swap_tenor\n",
    "    \n",
    "    def get_array_swap_rate(self):\n",
    "        index_one_year = self._df_ir.query('Tenor == \"1Y\"').index[0]\n",
    "        array_swap_rate = self._df_ir['Rate'][index_one_year:]\n",
    "        list_array_swap_rate = list(array_swap_rate.map(lambda x: float(x)))\n",
    "        return list_array_swap_rate\n",
    "    \n",
    "    def interpolation_swap_rate(self, kind):\n",
    "        array_x = self.get_array_swap_tenor()\n",
    "        array_y = self.get_array_swap_rate()\n",
    "        func = interpolation_swap_rate(array_x, array_y, kind)\n",
    "        return func"
   ]
  },
  {
   "cell_type": "markdown",
   "metadata": {},
   "source": [
    "## try space"
   ]
  },
  {
   "cell_type": "code",
   "execution_count": 609,
   "metadata": {},
   "outputs": [],
   "source": [
    "DF_obj = discount_factor(df_IR, 'USD')"
   ]
  },
  {
   "cell_type": "code",
   "execution_count": 631,
   "metadata": {},
   "outputs": [],
   "source": [
    "x_value = np.linspace(1,30,100)\n",
    "y_value = DF_obj.interpolation_swap_rate('slinear')\n",
    "y_value_c = DF_obj.interpolation_swap_rate('cubic')"
   ]
  },
  {
   "cell_type": "code",
   "execution_count": 632,
   "metadata": {},
   "outputs": [
    {
     "data": {
      "text/plain": [
       "[<matplotlib.lines.Line2D at 0x181b6764a8>]"
      ]
     },
     "execution_count": 632,
     "metadata": {},
     "output_type": "execute_result"
    },
    {
     "data": {
      "image/png": "[encoded data removed]",
      "text/plain": [
       "<matplotlib.figure.Figure at 0x181b676ac8>"
      ]
     },
     "metadata": {},
     "output_type": "display_data"
    }
   ],
   "source": [
    "plt.plot(x_value, y_value(x_value))\n",
    "plt.plot(x_value, y_value_c(x_value))"
   ]
  },
  {
   "cell_type": "code",
   "execution_count": 593,
   "metadata": {},
   "outputs": [
    {
     "data": {
      "text/plain": [
       "[0.02678,\n",
       " 0.028810000000000002,\n",
       " 0.029439999999999997,\n",
       " 0.029660000000000002,\n",
       " 0.029769999999999998,\n",
       " 0.02986,\n",
       " 0.029960000000000004,\n",
       " 0.030060000000000003,\n",
       " 0.030180000000000002,\n",
       " 0.030310000000000004,\n",
       " 0.03063,\n",
       " 0.03067,\n",
       " 0.03038]"
      ]
     },
     "execution_count": 593,
     "metadata": {},
     "output_type": "execute_result"
    }
   ],
   "source": [
    "DF_obj.get_array_swap_rate()"
   ]
  },
  {
   "cell_type": "code",
   "execution_count": 579,
   "metadata": {},
   "outputs": [
    {
     "data": {
      "text/plain": [
       "[1, 2, 3, 4, 5, 6, 7, 8, 9, 10, 15, 20, 30]"
      ]
     },
     "execution_count": 579,
     "metadata": {},
     "output_type": "execute_result"
    }
   ],
   "source": [
    "DF_obj.get_array_swap_tenor()"
   ]
  },
  {
   "cell_type": "code",
   "execution_count": 306,
   "metadata": {},
   "outputs": [
    {
     "data": {
      "text/plain": [
       "0.025305"
      ]
     },
     "execution_count": 306,
     "metadata": {},
     "output_type": "execute_result"
    }
   ],
   "source": [
    "DF_obj.get_raw_rate('6M')"
   ]
  },
  {
   "cell_type": "code",
   "execution_count": 286,
   "metadata": {},
   "outputs": [
    {
     "data": {
      "text/plain": [
       "0.9875055855784685"
      ]
     },
     "execution_count": 286,
     "metadata": {},
     "output_type": "execute_result"
    }
   ],
   "source": [
    "DF_obj.calc_DF_short_term('6M')"
   ]
  },
  {
   "cell_type": "code",
   "execution_count": 274,
   "metadata": {},
   "outputs": [
    {
     "data": {
      "text/plain": [
       "360"
      ]
     },
     "execution_count": 274,
     "metadata": {},
     "output_type": "execute_result"
    }
   ],
   "source": [
    "str_dcc_to_num('ACT/360')"
   ]
  },
  {
   "cell_type": "code",
   "execution_count": 275,
   "metadata": {},
   "outputs": [
    {
     "data": {
      "text/plain": [
       "7"
      ]
     },
     "execution_count": 275,
     "metadata": {},
     "output_type": "execute_result"
    }
   ],
   "source": [
    "tenor_to_days('1W')"
   ]
  },
  {
   "cell_type": "markdown",
   "metadata": {},
   "source": [
    "### datetime"
   ]
  },
  {
   "cell_type": "code",
   "execution_count": 183,
   "metadata": {},
   "outputs": [],
   "source": [
    "today_obj = datetime.datetime.now()\n",
    "oneweek_obj = datetime.datetime.now() + datetime.timedelta(days=7)"
   ]
  },
  {
   "cell_type": "code",
   "execution_count": 185,
   "metadata": {},
   "outputs": [
    {
     "data": {
      "text/plain": [
       "7"
      ]
     },
     "execution_count": 185,
     "metadata": {},
     "output_type": "execute_result"
    }
   ],
   "source": [
    "(oneweek_obj -  today_obj).days"
   ]
  },
  {
   "cell_type": "markdown",
   "metadata": {},
   "source": [
    "## list of error"
   ]
  },
  {
   "cell_type": "code",
   "execution_count": 268,
   "metadata": {},
   "outputs": [
    {
     "ename": "KeyError",
     "evalue": "0",
     "output_type": "error",
     "traceback": [
      "\u001b[0;31m---------------------------------------------------------------------------\u001b[0m",
      "\u001b[0;31mKeyError\u001b[0m                                  Traceback (most recent call last)",
      "\u001b[0;32m<ipython-input-268-a6fde1791f55>\u001b[0m in \u001b[0;36m<module>\u001b[0;34m()\u001b[0m\n\u001b[0;32m----> 1\u001b[0;31m \u001b[0mdf_IR\u001b[0m\u001b[0;34m[\u001b[0m\u001b[0mdf_IR\u001b[0m\u001b[0;34m[\u001b[0m\u001b[0;34m'Tenor'\u001b[0m\u001b[0;34m]\u001b[0m\u001b[0;34m==\u001b[0m\u001b[0;34m'1M'\u001b[0m\u001b[0;34m]\u001b[0m\u001b[0;34m[\u001b[0m\u001b[0;34m'Rate'\u001b[0m\u001b[0;34m]\u001b[0m\u001b[0;34m[\u001b[0m\u001b[0;36m0\u001b[0m\u001b[0;34m]\u001b[0m\u001b[0;34m\u001b[0m\u001b[0m\n\u001b[0m",
      "\u001b[0;32m~/anaconda3/lib/python3.6/site-packages/pandas/core/series.py\u001b[0m in \u001b[0;36m__getitem__\u001b[0;34m(self, key)\u001b[0m\n\u001b[1;32m    599\u001b[0m         \u001b[0mkey\u001b[0m \u001b[0;34m=\u001b[0m \u001b[0mcom\u001b[0m\u001b[0;34m.\u001b[0m\u001b[0m_apply_if_callable\u001b[0m\u001b[0;34m(\u001b[0m\u001b[0mkey\u001b[0m\u001b[0;34m,\u001b[0m \u001b[0mself\u001b[0m\u001b[0;34m)\u001b[0m\u001b[0;34m\u001b[0m\u001b[0m\n\u001b[1;32m    600\u001b[0m         \u001b[0;32mtry\u001b[0m\u001b[0;34m:\u001b[0m\u001b[0;34m\u001b[0m\u001b[0m\n\u001b[0;32m--> 601\u001b[0;31m             \u001b[0mresult\u001b[0m \u001b[0;34m=\u001b[0m \u001b[0mself\u001b[0m\u001b[0;34m.\u001b[0m\u001b[0mindex\u001b[0m\u001b[0;34m.\u001b[0m\u001b[0mget_value\u001b[0m\u001b[0;34m(\u001b[0m\u001b[0mself\u001b[0m\u001b[0;34m,\u001b[0m \u001b[0mkey\u001b[0m\u001b[0;34m)\u001b[0m\u001b[0;34m\u001b[0m\u001b[0m\n\u001b[0m\u001b[1;32m    602\u001b[0m \u001b[0;34m\u001b[0m\u001b[0m\n\u001b[1;32m    603\u001b[0m             \u001b[0;32mif\u001b[0m \u001b[0;32mnot\u001b[0m \u001b[0mis_scalar\u001b[0m\u001b[0;34m(\u001b[0m\u001b[0mresult\u001b[0m\u001b[0;34m)\u001b[0m\u001b[0;34m:\u001b[0m\u001b[0;34m\u001b[0m\u001b[0m\n",
      "\u001b[0;32m~/anaconda3/lib/python3.6/site-packages/pandas/core/indexes/base.py\u001b[0m in \u001b[0;36mget_value\u001b[0;34m(self, series, key)\u001b[0m\n\u001b[1;32m   2475\u001b[0m         \u001b[0;32mtry\u001b[0m\u001b[0;34m:\u001b[0m\u001b[0;34m\u001b[0m\u001b[0m\n\u001b[1;32m   2476\u001b[0m             return self._engine.get_value(s, k,\n\u001b[0;32m-> 2477\u001b[0;31m                                           tz=getattr(series.dtype, 'tz', None))\n\u001b[0m\u001b[1;32m   2478\u001b[0m         \u001b[0;32mexcept\u001b[0m \u001b[0mKeyError\u001b[0m \u001b[0;32mas\u001b[0m \u001b[0me1\u001b[0m\u001b[0;34m:\u001b[0m\u001b[0;34m\u001b[0m\u001b[0m\n\u001b[1;32m   2479\u001b[0m             \u001b[0;32mif\u001b[0m \u001b[0mlen\u001b[0m\u001b[0;34m(\u001b[0m\u001b[0mself\u001b[0m\u001b[0;34m)\u001b[0m \u001b[0;34m>\u001b[0m \u001b[0;36m0\u001b[0m \u001b[0;32mand\u001b[0m \u001b[0mself\u001b[0m\u001b[0;34m.\u001b[0m\u001b[0minferred_type\u001b[0m \u001b[0;32min\u001b[0m \u001b[0;34m[\u001b[0m\u001b[0;34m'integer'\u001b[0m\u001b[0;34m,\u001b[0m \u001b[0;34m'boolean'\u001b[0m\u001b[0;34m]\u001b[0m\u001b[0;34m:\u001b[0m\u001b[0;34m\u001b[0m\u001b[0m\n",
      "\u001b[0;32mpandas/_libs/index.pyx\u001b[0m in \u001b[0;36mpandas._libs.index.IndexEngine.get_value\u001b[0;34m()\u001b[0m\n",
      "\u001b[0;32mpandas/_libs/index.pyx\u001b[0m in \u001b[0;36mpandas._libs.index.IndexEngine.get_value\u001b[0;34m()\u001b[0m\n",
      "\u001b[0;32mpandas/_libs/index.pyx\u001b[0m in \u001b[0;36mpandas._libs.index.IndexEngine.get_loc\u001b[0;34m()\u001b[0m\n",
      "\u001b[0;32mpandas/_libs/hashtable_class_helper.pxi\u001b[0m in \u001b[0;36mpandas._libs.hashtable.Int64HashTable.get_item\u001b[0;34m()\u001b[0m\n",
      "\u001b[0;32mpandas/_libs/hashtable_class_helper.pxi\u001b[0m in \u001b[0;36mpandas._libs.hashtable.Int64HashTable.get_item\u001b[0;34m()\u001b[0m\n",
      "\u001b[0;31mKeyError\u001b[0m: 0"
     ]
    }
   ],
   "source": [
    "df_IR[df_IR['Tenor']=='1M']['Rate'][0]"
   ]
  },
  {
   "cell_type": "code",
   "execution_count": null,
   "metadata": {
    "collapsed": true
   },
   "outputs": [],
   "source": []
  }
 ],
 "metadata": {
  "kernelspec": {
   "display_name": "Python 3",
   "language": "python",
   "name": "python3"
  },
  "language_info": {
   "codemirror_mode": {
    "name": "ipython",
    "version": 3
   },
   "file_extension": ".py",
   "mimetype": "text/x-python",
   "name": "python",
   "nbconvert_exporter": "python",
   "pygments_lexer": "ipython3",
   "version": "3.6.2"
  }
 },
 "nbformat": 4,
 "nbformat_minor": 2
}
