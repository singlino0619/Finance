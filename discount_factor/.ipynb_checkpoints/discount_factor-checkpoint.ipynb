{
 "cells": [
  {
   "cell_type": "code",
   "execution_count": 1,
   "metadata": {
    "collapsed": true
   },
   "outputs": [],
   "source": [
    " %matplotlib inline\n",
    "import pandas as pd\n",
    "import datetime\n",
    "from scipy import interpolate\n",
    "import numpy as np \n",
    "import matplotlib.pyplot as plt"
   ]
  },
  {
   "cell_type": "code",
   "execution_count": 2,
   "metadata": {
    "collapsed": true
   },
   "outputs": [],
   "source": [
    "base_date = '20180731'"
   ]
  },
  {
   "cell_type": "code",
   "execution_count": 3,
   "metadata": {
    "collapsed": true
   },
   "outputs": [],
   "source": [
    "root_path = '/Users/susynishida/Desktop/dev/Python/Finance/discount_factor/'"
   ]
  },
  {
   "cell_type": "code",
   "execution_count": 4,
   "metadata": {
    "collapsed": true
   },
   "outputs": [],
   "source": [
    "IR_input = '/IR.csv'"
   ]
  },
  {
   "cell_type": "code",
   "execution_count": 5,
   "metadata": {
    "collapsed": true
   },
   "outputs": [],
   "source": [
    "df_IR = pd.read_csv(root_path + 'input/' + base_date + IR_input)"
   ]
  },
  {
   "cell_type": "code",
   "execution_count": 6,
   "metadata": {},
   "outputs": [
    {
     "data": {
      "text/plain": [
       "0     0.019154\n",
       "1     0.000000\n",
       "2     0.000000\n",
       "3     0.000000\n",
       "4     0.000000\n",
       "5     0.000000\n",
       "6     0.000000\n",
       "7     0.000000\n",
       "8     0.000000\n",
       "9     0.000000\n",
       "10    0.000000\n",
       "11    0.000000\n",
       "12    0.000000\n",
       "13    0.000000\n",
       "14    0.000000\n",
       "15    0.000000\n",
       "16    0.000000\n",
       "17    0.000000\n",
       "18    0.000000\n",
       "19    0.000000\n",
       "Name: Tenor, dtype: float64"
      ]
     },
     "execution_count": 6,
     "metadata": {},
     "output_type": "execute_result"
    }
   ],
   "source": [
    "df_IR['Tenor'].apply(lambda x: df_IR['Rate'][df_IR.query('Tenor == @x').index[0]] if x=='O/N' else 0)"
   ]
  },
  {
   "cell_type": "code",
   "execution_count": 29,
   "metadata": {},
   "outputs": [
    {
     "data": {
      "text/html": [
       "<div>\n",
       "<style>\n",
       "    .dataframe thead tr:only-child th {\n",
       "        text-align: right;\n",
       "    }\n",
       "\n",
       "    .dataframe thead th {\n",
       "        text-align: left;\n",
       "    }\n",
       "\n",
       "    .dataframe tbody tr th {\n",
       "        vertical-align: top;\n",
       "    }\n",
       "</style>\n",
       "<table border=\"1\" class=\"dataframe\">\n",
       "  <thead>\n",
       "    <tr style=\"text-align: right;\">\n",
       "      <th></th>\n",
       "      <th>Date</th>\n",
       "      <th>Product</th>\n",
       "      <th>Tenor</th>\n",
       "      <th>Currency</th>\n",
       "      <th>Rate</th>\n",
       "      <th>lag(day)</th>\n",
       "      <th>Frequency(month)</th>\n",
       "      <th>Dcc</th>\n",
       "    </tr>\n",
       "  </thead>\n",
       "  <tbody>\n",
       "    <tr>\n",
       "      <th>0</th>\n",
       "      <td>2018/7/31</td>\n",
       "      <td>LIBOR</td>\n",
       "      <td>O/N</td>\n",
       "      <td>USD</td>\n",
       "      <td>0.019154</td>\n",
       "      <td>2</td>\n",
       "      <td>NaN</td>\n",
       "      <td>ACT/360</td>\n",
       "    </tr>\n",
       "    <tr>\n",
       "      <th>1</th>\n",
       "      <td>2018/7/31</td>\n",
       "      <td>LIBOR</td>\n",
       "      <td>1W</td>\n",
       "      <td>USD</td>\n",
       "      <td>0.019536</td>\n",
       "      <td>2</td>\n",
       "      <td>NaN</td>\n",
       "      <td>ACT/360</td>\n",
       "    </tr>\n",
       "    <tr>\n",
       "      <th>2</th>\n",
       "      <td>2018/7/31</td>\n",
       "      <td>LIBOR</td>\n",
       "      <td>1M</td>\n",
       "      <td>USD</td>\n",
       "      <td>0.020814</td>\n",
       "      <td>2</td>\n",
       "      <td>NaN</td>\n",
       "      <td>ACT/360</td>\n",
       "    </tr>\n",
       "    <tr>\n",
       "      <th>3</th>\n",
       "      <td>2018/7/31</td>\n",
       "      <td>LIBOR</td>\n",
       "      <td>2M</td>\n",
       "      <td>USD</td>\n",
       "      <td>0.021791</td>\n",
       "      <td>2</td>\n",
       "      <td>NaN</td>\n",
       "      <td>ACT/360</td>\n",
       "    </tr>\n",
       "    <tr>\n",
       "      <th>4</th>\n",
       "      <td>2018/7/31</td>\n",
       "      <td>LIBOR</td>\n",
       "      <td>3M</td>\n",
       "      <td>USD</td>\n",
       "      <td>0.023486</td>\n",
       "      <td>2</td>\n",
       "      <td>NaN</td>\n",
       "      <td>ACT/360</td>\n",
       "    </tr>\n",
       "    <tr>\n",
       "      <th>5</th>\n",
       "      <td>2018/7/31</td>\n",
       "      <td>LIBOR</td>\n",
       "      <td>6M</td>\n",
       "      <td>USD</td>\n",
       "      <td>0.025305</td>\n",
       "      <td>2</td>\n",
       "      <td>NaN</td>\n",
       "      <td>ACT/360</td>\n",
       "    </tr>\n",
       "    <tr>\n",
       "      <th>6</th>\n",
       "      <td>2018/7/31</td>\n",
       "      <td>LIBOR</td>\n",
       "      <td>9M</td>\n",
       "      <td>USD</td>\n",
       "      <td>0.026042</td>\n",
       "      <td>2</td>\n",
       "      <td>NaN</td>\n",
       "      <td>ACT/360</td>\n",
       "    </tr>\n",
       "  </tbody>\n",
       "</table>\n",
       "</div>"
      ],
      "text/plain": [
       "        Date Product Tenor Currency      Rate  lag(day)  Frequency(month)  \\\n",
       "0  2018/7/31   LIBOR   O/N      USD  0.019154         2               NaN   \n",
       "1  2018/7/31   LIBOR    1W      USD  0.019536         2               NaN   \n",
       "2  2018/7/31   LIBOR    1M      USD  0.020814         2               NaN   \n",
       "3  2018/7/31   LIBOR    2M      USD  0.021791         2               NaN   \n",
       "4  2018/7/31   LIBOR    3M      USD  0.023486         2               NaN   \n",
       "5  2018/7/31   LIBOR    6M      USD  0.025305         2               NaN   \n",
       "6  2018/7/31   LIBOR    9M      USD  0.026042         2               NaN   \n",
       "\n",
       "       Dcc  \n",
       "0  ACT/360  \n",
       "1  ACT/360  \n",
       "2  ACT/360  \n",
       "3  ACT/360  \n",
       "4  ACT/360  \n",
       "5  ACT/360  \n",
       "6  ACT/360  "
      ]
     },
     "execution_count": 29,
     "metadata": {},
     "output_type": "execute_result"
    }
   ],
   "source": [
    "df_IR.query('Product == \"LIBOR\"')"
   ]
  },
  {
   "cell_type": "code",
   "execution_count": 8,
   "metadata": {},
   "outputs": [
    {
     "data": {
      "text/plain": [
       "0.0191538"
      ]
     },
     "execution_count": 8,
     "metadata": {},
     "output_type": "execute_result"
    }
   ],
   "source": [
    "df_IR.set_index('Tenor').at['O/N', 'Rate']"
   ]
  },
  {
   "cell_type": "code",
   "execution_count": 9,
   "metadata": {},
   "outputs": [
    {
     "data": {
      "text/plain": [
       "3.0"
      ]
     },
     "execution_count": 9,
     "metadata": {},
     "output_type": "execute_result"
    }
   ],
   "source": [
    "df_IR.at[df_IR.query('Product == \"SWAP\"')['Frequency(month)'].index[0], 'Frequency(month)']"
   ]
  },
  {
   "cell_type": "code",
   "execution_count": 10,
   "metadata": {},
   "outputs": [
    {
     "data": {
      "text/plain": [
       "Int64Index([7], dtype='int64')"
      ]
     },
     "execution_count": 10,
     "metadata": {},
     "output_type": "execute_result"
    }
   ],
   "source": [
    "df_IR.query('Tenor == \"1Y\"').index"
   ]
  },
  {
   "cell_type": "code",
   "execution_count": 11,
   "metadata": {},
   "outputs": [
    {
     "data": {
      "text/plain": [
       "['O/N', '1W', '1M']"
      ]
     },
     "execution_count": 11,
     "metadata": {},
     "output_type": "execute_result"
    }
   ],
   "source": [
    "list(df_IR['Tenor'][0:3])"
   ]
  },
  {
   "cell_type": "markdown",
   "metadata": {},
   "source": [
    "## function: library"
   ]
  },
  {
   "cell_type": "code",
   "execution_count": 12,
   "metadata": {
    "collapsed": true
   },
   "outputs": [],
   "source": [
    "def tenor_to_days(str_tenor):\n",
    "    if(str_tenor=='O/N'):\n",
    "        days = 1\n",
    "    elif(str_tenor=='T/N'):\n",
    "        days = 2\n",
    "    elif(str_tenor[-1]=='W'):\n",
    "        days = int(str_tenor[0:len(str_tenor)-1]) * 7\n",
    "    elif(str_tenor[-1]=='M'):\n",
    "        days = int(str_tenor[0:len(str_tenor)-1]) * 30\n",
    "    elif(str_tenor[-1]=='Y'):\n",
    "        days = int(str_tenor[0:len(str_tenor)-1]) * 365\n",
    "    return days\n",
    "\n",
    "def str_dcc_to_num(str_dcc):\n",
    "    if(str_dcc=='ACT/360'):\n",
    "        dcc_num = 360\n",
    "    elif(str_dcc=='ACT/365F'):\n",
    "        dcc_num = 365\n",
    "    return dcc_num\n",
    "\n",
    "def interpolation(array_x, array_y, str_kind):\n",
    "    f = interpolate.interp1d(array_x, array_y, kind=str_kind)\n",
    "    return f"
   ]
  },
  {
   "cell_type": "markdown",
   "metadata": {},
   "source": [
    "## class: calc discount factor"
   ]
  },
  {
   "cell_type": "code",
   "execution_count": 326,
   "metadata": {},
   "outputs": [],
   "source": [
    "class discount_factor():\n",
    "    def __init__(self, df, str_ccy):\n",
    "        self._df_ir = df[df['Currency']==str_ccy]\n",
    "        self._base_date_obj = datetime.datetime.strptime(self._df_ir['Date'][0], '%Y/%m/%d')\n",
    "        self._spot_date = self._base_date_obj + datetime.timedelta(days=int(self._df_ir['lag(day)'][0]))\n",
    "        self._frequency_year = (self._df_ir.at[self._df_ir.query('Product == \"SWAP\"')['Frequency(month)'].index[0], 'Frequency(month)']) /12\n",
    "        self._str_frequency = str(int(self._df_ir.at[self._df_ir.query('Product == \"SWAP\"')['Frequency(month)'].index[0], 'Frequency(month)'])) + 'M'\n",
    "        \n",
    "    def get_raw_rate(self, str_tenor):\n",
    "        return self._df_ir.set_index('Tenor').at[str_tenor, 'Rate']\n",
    "\n",
    "    def calc_DF_short_term(self, str_tenor):\n",
    "        short_term_rate = self.get_raw_rate(str_tenor)\n",
    "        dcc = str_dcc_to_num(self._df_ir.set_index('Tenor').at[str_tenor, 'Dcc'])\n",
    "        target_date_obj = self._base_date_obj + datetime.timedelta(days = int(tenor_to_days(str_tenor)))\n",
    "        dfc = (target_date_obj - self._base_date_obj).days / dcc\n",
    "        DF = 1 / ( 1 + dfc * short_term_rate)\n",
    "        return DF\n",
    "    \n",
    "    def get_str_frequency(self):\n",
    "        return self._str_frequency\n",
    "    \n",
    "    def get_array_swap_tenor(self):\n",
    "        index_one_year = self._df_ir.query('Tenor == \"1Y\"').index[0]\n",
    "        array_swap_tenor = self._df_ir['Tenor'][index_one_year:].apply(lambda x: int(x[0:len(x)-1]))\n",
    "        list_array_swap_tenor = list(array_swap_tenor)\n",
    "        return list_array_swap_tenor\n",
    "    \n",
    "    def get_array_swap_rate(self):\n",
    "        index_one_year = self._df_ir.query('Tenor == \"1Y\"').index[0]\n",
    "        array_swap_rate = self._df_ir['Rate'][index_one_year:]\n",
    "        list_array_swap_rate = list(array_swap_rate.map(lambda x: float(x)))\n",
    "        return list_array_swap_rate\n",
    "    \n",
    "    def interpolation_swap_rate(self, kind):\n",
    "        array_x = self.get_array_swap_tenor()\n",
    "        array_y = self.get_array_swap_rate()\n",
    "        func = interpolation(array_x, array_y, kind)\n",
    "        return func\n",
    "    \n",
    "    def create_tenor_for_bootstrap(self):\n",
    "        initial_year = self.get_array_swap_tenor()[0]\n",
    "        last_year = self.get_array_swap_tenor()[-1]\n",
    "        ndarray_swap_tenor =  np.arange(initial_year, last_year + self._frequency_year, self._frequency_year)\n",
    "        return ndarray_swap_tenor\n",
    "\n",
    "    def create_swap_rate_for_bootstrap(self, kind):\n",
    "        func_swap_rate_interpolated = self.interpolation_swap_rate(kind)\n",
    "        ndarray_swap_tenor = self.create_tenor_for_bootstrap()\n",
    "        ndarray_swap_rate =  func_swap_rate_interpolated(ndarray_swap_tenor)\n",
    "        return ndarray_swap_rate\n",
    "    \n",
    "    def zip_swap_tenor_rate(self, kind):\n",
    "        list_swap_tenor = list(self.create_tenor_for_bootstrap())\n",
    "        list_swap_rate = list(self.create_swap_rate_for_bootstrap(kind))\n",
    "        return list(zip(list_swap_tenor, list_swap_rate))\n",
    "    \n",
    "    def get_array_str_for_bootstrap(self):\n",
    "        frequency = self._frequency_year * 12\n",
    "        array_int_for_bootstrap = []\n",
    "        while frequency  < 12:\n",
    "            array_int_for_bootstrap.append(int(frequency))\n",
    "            frequency = frequency + int((self._frequency_year * 12))\n",
    "        array_str_for_bootstrap = list(map(lambda x: str(x) + 'M', array_int_for_bootstrap))\n",
    "        return array_str_for_bootstrap\n",
    "    \n",
    "    def array_DF_short_term_for_bootstrap(self):\n",
    "        array_str_for_bootstrap = self.get_array_str_for_bootstrap()\n",
    "        array_DF_for_bootstrap = list(map(lambda x: self.calc_DF_short_term(x), array_str_for_bootstrap))\n",
    "        array_int_for_bootstrap = list(map(lambda x: int(x[0])/12, array_str_for_bootstrap))\n",
    "        array_for_bootstrap = list(zip(array_int_for_bootstrap, array_DF_for_bootstrap))\n",
    "        return array_for_bootstrap\n",
    "    \n",
    "    def calc_DF_bootstrap(self, kind, unit_year):\n",
    "        array_DF_short_term_for_bootstrap = self.array_DF_short_term_for_bootstrap()\n",
    "        array_swap_rate = [j for i, j in DF_obj.zip_swap_tenor_rate(kind)]\n",
    "        dcf = self._frequency_year\n",
    "        array_DF_value = self.do_bootstrapping(dcf, array_swap_rate, array_DF_short_term_for_bootstrap)\n",
    "        if (unit_year == True): \n",
    "            array_tenor = [i for i, j in DF_obj.zip_swap_tenor_rate(kind)]\n",
    "        else:\n",
    "            array_tenor = map(lambda x : x * 365, [i for i, j in DF_obj.zip_swap_tenor_rate(kind)])\n",
    "        array_DF = list(zip(array_tenor, array_DF_value))\n",
    "        return array_DF\n",
    "    \n",
    "    def do_bootstrapping(self, dcf, array_swap_rate, array_DF_short_term):\n",
    "        sum_DF = sum([j for i, j in array_DF_short_term])\n",
    "        num_bootstrapping = len(array_swap_rate)\n",
    "        array_DF_value = []\n",
    "        for i in range(num_bootstrapping):\n",
    "            DF = 1.0 / (1.0 + dcf * array_swap_rate[i])  * (1.0 - array_swap_rate[i]* dcf * sum_DF)\n",
    "            array_DF_value.append(DF)\n",
    "            sum_DF += DF\n",
    "        return array_DF_value\n",
    "    \n",
    "    def array_DF_short_term(self):\n",
    "        array_DF_tenor = []\n",
    "        array_DF_value = []\n",
    "        series_tenor = self._df_ir.query('Product == \"LIBOR\"')['Tenor']\n",
    "        for i in range(len(series_tenor)):\n",
    "            array_DF_tenor.append(float(tenor_to_days(series_tenor[i])) + float(self._df_ir['lag(day)'][0]))\n",
    "            array_DF_value.append(self.calc_DF_short_term(series_tenor[i]))\n",
    "        array_DF_short_term = list(zip(array_DF_tenor, array_DF_value))\n",
    "        return array_DF_short_term\n",
    "    \n",
    "    def array_DF(self, kind):\n",
    "        array_DF_short = self.array_DF_short_term()\n",
    "        array_DF_swap = self.calc_DF_bootstrap(kind, False)\n",
    "        array_base_date = [(0.0, 1.0)]\n",
    "        array_DF = array_base_date + array_DF_short + array_DF_swap\n",
    "        return array_DF\n",
    "    \n",
    "    def get_DF(self, target_date, kind_swap_rate, kind_DF):\n",
    "        array_DF = self.array_DF(kind_swap_rate)\n",
    "        array_DF_x = [i for i, j in array_DF]\n",
    "        array_DF_y = [j for i, j in array_DF]\n",
    "        f = interpolation(array_DF_x, array_DF_y, kind_DF)\n",
    "        days = (datetime.datetime.strptime(target_date, '%Y/%m/%d') - self._spot_date).days\n",
    "        return f(days)\n",
    "\n",
    "    ##### for get_array_DF. need to be updated to get_array_DF make get_DF_function before into for loop.\n",
    "    def get_DF_function(self, kind_swap_rate, kind_DF):\n",
    "        array_DF = self.array_DF(kind_swap_rate)\n",
    "        array_DF_x = [i for i, j in array_DF]\n",
    "        array_DF_y = [j for i, j in array_DF]\n",
    "        f = interpolation(array_DF_x, array_DF_y, kind_DF)\n",
    "        return f\n",
    "    \n",
    "    def get_array_DF(self, initial_date, end_date, kind_swap_rate, kind_DF):\n",
    "        array_date = []\n",
    "        array_DF = []\n",
    "        initial_date_dt_obj = datetime.datetime.strptime(initial_date, '%Y/%m/%d')\n",
    "        end_date_dt_obj = datetime.datetime.strptime(end_date, '%Y/%m/%d')\n",
    "        days = (end_date_dt_obj - initial_date_dt_obj).days\n",
    "        for i in range(days + 1):\n",
    "            date = (initial_date_dt_obj + datetime.timedelta(days=i)).strftime('%Y/%m/%d')\n",
    "            array_date.append(date)\n",
    "            DF = self.get_DF(date, kind_swap_rate, kind_DF)\n",
    "            array_DF.append(float(DF))\n",
    "        array_DF = list(zip(array_date, array_DF))\n",
    "        return array_DF"
   ]
  },
  {
   "cell_type": "markdown",
   "metadata": {},
   "source": [
    "## try space"
   ]
  },
  {
   "cell_type": "code",
   "execution_count": 327,
   "metadata": {
    "collapsed": true
   },
   "outputs": [],
   "source": [
    "DF_obj = discount_factor(df_IR, 'USD')"
   ]
  },
  {
   "cell_type": "code",
   "execution_count": 328,
   "metadata": {},
   "outputs": [
    {
     "data": {
      "text/plain": [
       "[('2018/08/05', 0.9999467978306215),\n",
       " ('2018/08/06', 0.9999068774247414),\n",
       " ('2018/08/07', 0.9998588043616932),\n",
       " ('2018/08/08', 0.9998043429520019),\n",
       " ('2018/08/09', 0.9997452575061924),\n",
       " ('2018/08/10', 0.9996833123347901),\n",
       " ('2018/08/11', 0.9996202717483201),\n",
       " ('2018/08/12', 0.9995575994574869),\n",
       " ('2018/08/13', 0.9994955567737117),\n",
       " ('2018/08/14', 0.999434104408596),\n",
       " ('2018/08/15', 0.9993732030737402),\n",
       " ('2018/08/16', 0.9993128134807455),\n",
       " ('2018/08/17', 0.9992528963412125),\n",
       " ('2018/08/18', 0.9991934123667419),\n",
       " ('2018/08/19', 0.9991343222689351),\n",
       " ('2018/08/20', 0.9990755867593928),\n",
       " ('2018/08/21', 0.9990171665497158),\n",
       " ('2018/08/22', 0.9989590223515049),\n",
       " ('2018/08/23', 0.9989011148763616),\n",
       " ('2018/08/24', 0.9988434048358854),\n",
       " ('2018/08/25', 0.9987858529416785),\n",
       " ('2018/08/26', 0.9987284199053414),\n",
       " ('2018/08/27', 0.9986710664384748),\n",
       " ('2018/08/28', 0.9986137532526798),\n",
       " ('2018/08/29', 0.9985564410595571),\n",
       " ('2018/08/30', 0.9984990905707077),\n",
       " ('2018/08/31', 0.9984416624977321),\n",
       " ('2018/09/01', 0.9983841175522318),\n",
       " ('2018/09/02', 0.9983264164458074),\n",
       " ('2018/09/03', 0.9982685198900594),\n",
       " ('2018/09/04', 0.998210393615349),\n",
       " ('2018/09/05', 0.9981520234270751),\n",
       " ('2018/09/06', 0.9980934001493967),\n",
       " ('2018/09/07', 0.9980345146064725),\n",
       " ('2018/09/08', 0.9979753576224617),\n",
       " ('2018/09/09', 0.9979159200215231),\n",
       " ('2018/09/10', 0.9978561926278151),\n",
       " ('2018/09/11', 0.9977961662654975),\n",
       " ('2018/09/12', 0.9977358317587286),\n",
       " ('2018/09/13', 0.9976751799316673),\n",
       " ('2018/09/14', 0.9976142016084728),\n",
       " ('2018/09/15', 0.9975528876133037),\n",
       " ('2018/09/16', 0.9974912287703193),\n",
       " ('2018/09/17', 0.9974292159036777),\n",
       " ('2018/09/18', 0.997366839837539),\n",
       " ('2018/09/19', 0.9973040913960611),\n",
       " ('2018/09/20', 0.9972409614034035),\n",
       " ('2018/09/21', 0.9971774406837246),\n",
       " ('2018/09/22', 0.9971135200611838),\n",
       " ('2018/09/23', 0.9970491903599392),\n",
       " ('2018/09/24', 0.9969844424041504),\n",
       " ('2018/09/25', 0.9969192670179764),\n",
       " ('2018/09/26', 0.9968536550255755),\n",
       " ('2018/09/27', 0.9967875972511075),\n",
       " ('2018/09/28', 0.9967210845187305),\n",
       " ('2018/09/29', 0.9966541076526036),\n",
       " ('2018/09/30', 0.9965866574768857),\n",
       " ('2018/10/01', 0.9965187248157357),\n",
       " ('2018/10/02', 0.9964503004933124),\n",
       " ('2018/10/03', 0.9963813753337754),\n",
       " ('2018/10/04', 0.9963119448891713),\n",
       " ('2018/10/05', 0.996242023623103),\n",
       " ('2018/10/06', 0.9961716307270616),\n",
       " ('2018/10/07', 0.9961007853925384),\n",
       " ('2018/10/08', 0.996029506811024),\n",
       " ('2018/10/09', 0.9959578141740101),\n",
       " ('2018/10/10', 0.9958857266729872),\n",
       " ('2018/10/11', 0.9958132634994473),\n",
       " ('2018/10/12', 0.9957404438448808),\n",
       " ('2018/10/13', 0.9956672869007793),\n",
       " ('2018/10/14', 0.9955938118586336),\n",
       " ('2018/10/15', 0.9955200379099348),\n",
       " ('2018/10/16', 0.9954459842461743),\n",
       " ('2018/10/17', 0.9953716700588428),\n",
       " ('2018/10/18', 0.9952971145394319),\n",
       " ('2018/10/19', 0.9952223368794324),\n",
       " ('2018/10/20', 0.9951473562703357),\n",
       " ('2018/10/21', 0.9950721919036324),\n",
       " ('2018/10/22', 0.9949968629708141),\n",
       " ('2018/10/23', 0.994921388663372),\n",
       " ('2018/10/24', 0.994845788172797),\n",
       " ('2018/10/25', 0.9947700806905798),\n",
       " ('2018/10/26', 0.9946942854082126),\n",
       " ('2018/10/27', 0.9946184215171858),\n",
       " ('2018/10/28', 0.9945425082089907),\n",
       " ('2018/10/29', 0.994466564675118),\n",
       " ('2018/10/30', 0.9943906101070593),\n",
       " ('2018/10/31', 0.9943146636963055),\n",
       " ('2018/11/01', 0.9942387446343481),\n",
       " ('2018/11/02', 0.9941628721126776),\n",
       " ('2018/11/03', 0.9940870619902623),\n",
       " ('2018/11/04', 0.9940113167959768),\n",
       " ('2018/11/05', 0.9939356357261714),\n",
       " ('2018/11/06', 0.9938600179771978),\n",
       " ('2018/11/07', 0.9937844627454068),\n",
       " ('2018/11/08', 0.9937089692271495),\n",
       " ('2018/11/09', 0.9936335366187772),\n",
       " ('2018/11/10', 0.9935581641166407),\n",
       " ('2018/11/11', 0.9934828509170915),\n",
       " ('2018/11/12', 0.9934075962164799),\n",
       " ('2018/11/13', 0.9933323992111579),\n",
       " ('2018/11/14', 0.9932572590974759),\n",
       " ('2018/11/15', 0.9931821750717851),\n",
       " ('2018/11/16', 0.993107146330437),\n",
       " ('2018/11/17', 0.9930321720697821),\n",
       " ('2018/11/18', 0.9929572514861719),\n",
       " ('2018/11/19', 0.9928823837759574),\n",
       " ('2018/11/20', 0.9928075681354894),\n",
       " ('2018/11/21', 0.9927328037611194),\n",
       " ('2018/11/22', 0.992658089849198),\n",
       " ('2018/11/23', 0.9925834255960767),\n",
       " ('2018/11/24', 0.9925088101981067),\n",
       " ('2018/11/25', 0.9924342428516385),\n",
       " ('2018/11/26', 0.9923597227530236),\n",
       " ('2018/11/27', 0.9922852490986128),\n",
       " ('2018/11/28', 0.9922108210847574),\n",
       " ('2018/11/29', 0.9921364379078085),\n",
       " ('2018/11/30', 0.9920620987641169),\n",
       " ('2018/12/01', 0.9919878028500341),\n",
       " ('2018/12/02', 0.9919135493619109),\n",
       " ('2018/12/03', 0.9918393374960984),\n",
       " ('2018/12/04', 0.9917651664489476),\n",
       " ('2018/12/05', 0.9916910354168097),\n",
       " ('2018/12/06', 0.9916169435960359),\n",
       " ('2018/12/07', 0.9915428901829769),\n",
       " ('2018/12/08', 0.9914688743739846),\n",
       " ('2018/12/09', 0.991394895365409),\n",
       " ('2018/12/10', 0.9913209523536017),\n",
       " ('2018/12/11', 0.9912470445349141),\n",
       " ('2018/12/12', 0.9911731711056966),\n",
       " ('2018/12/13', 0.9910993312623008),\n",
       " ('2018/12/14', 0.9910255242010774),\n",
       " ('2018/12/15', 0.9909517491183779),\n",
       " ('2018/12/16', 0.9908780052105529),\n",
       " ('2018/12/17', 0.9908042916739539),\n",
       " ('2018/12/18', 0.9907306077049317),\n",
       " ('2018/12/19', 0.9906569524998374),\n",
       " ('2018/12/20', 0.9905833252550224),\n",
       " ('2018/12/21', 0.9905097251668374),\n",
       " ('2018/12/22', 0.9904361514316339),\n",
       " ('2018/12/23', 0.9903626032457624),\n",
       " ('2018/12/24', 0.9902890798055743),\n",
       " ('2018/12/25', 0.9902155803074209),\n",
       " ('2018/12/26', 0.9901421039476527),\n",
       " ('2018/12/27', 0.9900686499226212),\n",
       " ('2018/12/28', 0.9899952174286776),\n",
       " ('2018/12/29', 0.9899218056621726),\n",
       " ('2018/12/30', 0.9898484138194575),\n",
       " ('2018/12/31', 0.9897750410968833)]"
      ]
     },
     "execution_count": 328,
     "metadata": {},
     "output_type": "execute_result"
    }
   ],
   "source": [
    "DF_obj.get_array_DF('2018/8/5', '2018/12/31', 'cubic', 'cubic')"
   ]
  },
  {
   "cell_type": "code",
   "execution_count": 256,
   "metadata": {},
   "outputs": [
    {
     "data": {
      "text/plain": [
       "array(0.99832642)"
      ]
     },
     "execution_count": 256,
     "metadata": {},
     "output_type": "execute_result"
    }
   ],
   "source": [
    "DF_obj.get_DF('2018/9/2', 'cubic', 'cubic')"
   ]
  },
  {
   "cell_type": "code",
   "execution_count": 247,
   "metadata": {},
   "outputs": [
    {
     "data": {
      "text/plain": [
       "array(0.03038)"
      ]
     },
     "execution_count": 247,
     "metadata": {},
     "output_type": "execute_result"
    }
   ],
   "source": [
    "DF_obj.interpolation_swap_rate('cubic')(30)"
   ]
  },
  {
   "cell_type": "code",
   "execution_count": 120,
   "metadata": {},
   "outputs": [
    {
     "data": {
      "text/plain": [
       "0.02678"
      ]
     },
     "execution_count": 120,
     "metadata": {},
     "output_type": "execute_result"
    }
   ],
   "source": [
    "DF_obj.zip_swap_tenor_rate('cubic')[0][1]"
   ]
  },
  {
   "cell_type": "code",
   "execution_count": 17,
   "metadata": {},
   "outputs": [
    {
     "data": {
      "text/plain": [
       "[0.02678,\n",
       " 0.027482226115063044,\n",
       " 0.028042544131500622,\n",
       " 0.02847909008218789,\n",
       " 0.028810000000000002,\n",
       " 0.029053409917812124,\n",
       " 0.02922745586849939,\n",
       " 0.029350273884936967,\n",
       " 0.02944,\n",
       " 0.0295121029636885,\n",
       " 0.02957138239450184,\n",
       " 0.029619970628064266,\n",
       " 0.029660000000000006,\n",
       " 0.029693490727433894,\n",
       " 0.029722014553493253,\n",
       " 0.02974703110280598,\n",
       " 0.029769999999999994,\n",
       " 0.029792215376575924,\n",
       " 0.029814309391525164,\n",
       " 0.02983674871071182,\n",
       " 0.029859999999999998,\n",
       " 0.029884366516262407,\n",
       " 0.029909497880406095,\n",
       " 0.029934880304346743,\n",
       " 0.02996,\n",
       " 0.029984537308374463,\n",
       " 0.030008949086850457,\n",
       " 0.030033886321901217,\n",
       " 0.030060000000000003,\n",
       " 0.030087796750239745,\n",
       " 0.030117205772192103,\n",
       " 0.030148011908048406,\n",
       " 0.030180000000000002,\n",
       " 0.030212869440666566,\n",
       " 0.030245977824381154,\n",
       " 0.03027859729590517,\n",
       " 0.03031,\n",
       " 0.03033959162694526,\n",
       " 0.030367312049093376,\n",
       " 0.030393234684315033,\n",
       " 0.03041743295048087,\n",
       " 0.030439980265461554,\n",
       " 0.03046095004712774,\n",
       " 0.030480415713350077,\n",
       " 0.03049845068199923,\n",
       " 0.030515128370945856,\n",
       " 0.030530522198060617,\n",
       " 0.030544705581214165,\n",
       " 0.030557751938277162,\n",
       " 0.03056973468712025,\n",
       " 0.030580727245614107,\n",
       " 0.030590803031629376,\n",
       " 0.03060003546303672,\n",
       " 0.030608497957706805,\n",
       " 0.03061626393351027,\n",
       " 0.03062340680831778,\n",
       " 0.030629999999999998,\n",
       " 0.030636105739690313,\n",
       " 0.03064174151157303,\n",
       " 0.03064691361309521,\n",
       " 0.030651628341703905,\n",
       " 0.030655891994846148,\n",
       " 0.030659710869969003,\n",
       " 0.030663091264519503,\n",
       " 0.03066603947594472,\n",
       " 0.030668561801691686,\n",
       " 0.030670664539207457,\n",
       " 0.03067235398593907,\n",
       " 0.030673636439333594,\n",
       " 0.03067451819683806,\n",
       " 0.030675005555899516,\n",
       " 0.030675104813965032,\n",
       " 0.03067482226848164,\n",
       " 0.03067416421689639,\n",
       " 0.03067313695665633,\n",
       " 0.03067174678520852,\n",
       " 0.03067,\n",
       " 0.03066790289847782,\n",
       " 0.03066546177808902,\n",
       " 0.030662682936280675,\n",
       " 0.030659572670499808,\n",
       " 0.03065613727819348,\n",
       " 0.03065238305680873,\n",
       " 0.030648316303792625,\n",
       " 0.03064394331659219,\n",
       " 0.03063927039265449,\n",
       " 0.03063430382942658,\n",
       " 0.030629049924355493,\n",
       " 0.030623514974888286,\n",
       " 0.030617705278472008,\n",
       " 0.030611627132553706,\n",
       " 0.030605286834580435,\n",
       " 0.030598690681999233,\n",
       " 0.030591844972257146,\n",
       " 0.030584756002801243,\n",
       " 0.030577430071078562,\n",
       " 0.030569873474536144,\n",
       " 0.030562092510621048,\n",
       " 0.030554093476780328,\n",
       " 0.030545882670461016,\n",
       " 0.030537466389110163,\n",
       " 0.03052885093017484,\n",
       " 0.030520042591102074,\n",
       " 0.030511047669338924,\n",
       " 0.030501872462332436,\n",
       " 0.030492523267529655,\n",
       " 0.03048300638237764,\n",
       " 0.030473328104323426,\n",
       " 0.030463494730814077,\n",
       " 0.030453512559296625,\n",
       " 0.03044338788721814,\n",
       " 0.030433127012025656,\n",
       " 0.030422736231166213,\n",
       " 0.030412221842086883,\n",
       " 0.030401590142234706,\n",
       " 0.030390847429056726,\n",
       " 0.03038]"
      ]
     },
     "execution_count": 17,
     "metadata": {},
     "output_type": "execute_result"
    }
   ],
   "source": [
    "[j for i, j in DF_obj.zip_swap_tenor_rate('cubic')]"
   ]
  },
  {
   "cell_type": "code",
   "execution_count": 25,
   "metadata": {
    "collapsed": true
   },
   "outputs": [],
   "source": [
    "x_value = np.linspace(1,30,100)\n",
    "y_value = DF_obj.interpolation_swap_rate('slinear')\n",
    "y_value_c = DF_obj.interpolation_swap_rate('cubic')"
   ]
  },
  {
   "cell_type": "code",
   "execution_count": 26,
   "metadata": {},
   "outputs": [
    {
     "data": {
      "text/plain": [
       "[<matplotlib.lines.Line2D at 0x181c6af668>]"
      ]
     },
     "execution_count": 26,
     "metadata": {},
     "output_type": "execute_result"
    },
    {
     "data": {
      "image/png": "[encoded data removed]",
      "text/plain": [
       "<matplotlib.figure.Figure at 0x181c6af6d8>"
      ]
     },
     "metadata": {},
     "output_type": "display_data"
    }
   ],
   "source": [
    "plt.plot(x_value, y_value(x_value))\n",
    "plt.plot(x_value, y_value_c(x_value))"
   ]
  },
  {
   "cell_type": "code",
   "execution_count": 224,
   "metadata": {},
   "outputs": [
    {
     "data": {
      "text/plain": [
       "[0.02678,\n",
       " 0.028810000000000002,\n",
       " 0.029439999999999997,\n",
       " 0.029660000000000002,\n",
       " 0.029769999999999998,\n",
       " 0.02986,\n",
       " 0.029960000000000004,\n",
       " 0.030060000000000003,\n",
       " 0.030180000000000002,\n",
       " 0.030310000000000004,\n",
       " 0.03063,\n",
       " 0.03067,\n",
       " 0.03038]"
      ]
     },
     "execution_count": 224,
     "metadata": {},
     "output_type": "execute_result"
    }
   ],
   "source": [
    "DF_obj.get_array_swap_rate()"
   ]
  },
  {
   "cell_type": "code",
   "execution_count": 17,
   "metadata": {},
   "outputs": [
    {
     "data": {
      "text/plain": [
       "[1, 2, 3, 4, 5, 6, 7, 8, 9, 10, 15, 20, 30]"
      ]
     },
     "execution_count": 17,
     "metadata": {},
     "output_type": "execute_result"
    }
   ],
   "source": [
    "DF_obj.get_array_swap_tenor()"
   ]
  },
  {
   "cell_type": "code",
   "execution_count": 18,
   "metadata": {},
   "outputs": [
    {
     "data": {
      "text/plain": [
       "0.025305"
      ]
     },
     "execution_count": 18,
     "metadata": {},
     "output_type": "execute_result"
    }
   ],
   "source": [
    "DF_obj.get_raw_rate('6M')"
   ]
  },
  {
   "cell_type": "code",
   "execution_count": 19,
   "metadata": {},
   "outputs": [
    {
     "data": {
      "text/plain": [
       "0.9875055855784685"
      ]
     },
     "execution_count": 19,
     "metadata": {},
     "output_type": "execute_result"
    }
   ],
   "source": [
    "DF_obj.calc_DF_short_term('6M')"
   ]
  },
  {
   "cell_type": "code",
   "execution_count": 20,
   "metadata": {},
   "outputs": [
    {
     "data": {
      "text/plain": [
       "360"
      ]
     },
     "execution_count": 20,
     "metadata": {},
     "output_type": "execute_result"
    }
   ],
   "source": [
    "str_dcc_to_num('ACT/360')"
   ]
  },
  {
   "cell_type": "code",
   "execution_count": 21,
   "metadata": {},
   "outputs": [
    {
     "data": {
      "text/plain": [
       "7"
      ]
     },
     "execution_count": 21,
     "metadata": {},
     "output_type": "execute_result"
    }
   ],
   "source": [
    "tenor_to_days('1W')"
   ]
  },
  {
   "cell_type": "markdown",
   "metadata": {},
   "source": [
    "### datetime"
   ]
  },
  {
   "cell_type": "code",
   "execution_count": 22,
   "metadata": {
    "collapsed": true
   },
   "outputs": [],
   "source": [
    "today_obj = datetime.datetime.now()\n",
    "oneweek_obj = datetime.datetime.now() + datetime.timedelta(days=7)"
   ]
  },
  {
   "cell_type": "code",
   "execution_count": 23,
   "metadata": {},
   "outputs": [
    {
     "data": {
      "text/plain": [
       "7"
      ]
     },
     "execution_count": 23,
     "metadata": {},
     "output_type": "execute_result"
    }
   ],
   "source": [
    "(oneweek_obj -  today_obj).days"
   ]
  },
  {
   "cell_type": "markdown",
   "metadata": {},
   "source": [
    "## list of error"
   ]
  },
  {
   "cell_type": "code",
   "execution_count": 268,
   "metadata": {},
   "outputs": [
    {
     "ename": "KeyError",
     "evalue": "0",
     "output_type": "error",
     "traceback": [
      "\u001b[0;31m---------------------------------------------------------------------------\u001b[0m",
      "\u001b[0;31mKeyError\u001b[0m                                  Traceback (most recent call last)",
      "\u001b[0;32m<ipython-input-268-a6fde1791f55>\u001b[0m in \u001b[0;36m<module>\u001b[0;34m()\u001b[0m\n\u001b[0;32m----> 1\u001b[0;31m \u001b[0mdf_IR\u001b[0m\u001b[0;34m[\u001b[0m\u001b[0mdf_IR\u001b[0m\u001b[0;34m[\u001b[0m\u001b[0;34m'Tenor'\u001b[0m\u001b[0;34m]\u001b[0m\u001b[0;34m==\u001b[0m\u001b[0;34m'1M'\u001b[0m\u001b[0;34m]\u001b[0m\u001b[0;34m[\u001b[0m\u001b[0;34m'Rate'\u001b[0m\u001b[0;34m]\u001b[0m\u001b[0;34m[\u001b[0m\u001b[0;36m0\u001b[0m\u001b[0;34m]\u001b[0m\u001b[0;34m\u001b[0m\u001b[0m\n\u001b[0m",
      "\u001b[0;32m~/anaconda3/lib/python3.6/site-packages/pandas/core/series.py\u001b[0m in \u001b[0;36m__getitem__\u001b[0;34m(self, key)\u001b[0m\n\u001b[1;32m    599\u001b[0m         \u001b[0mkey\u001b[0m \u001b[0;34m=\u001b[0m \u001b[0mcom\u001b[0m\u001b[0;34m.\u001b[0m\u001b[0m_apply_if_callable\u001b[0m\u001b[0;34m(\u001b[0m\u001b[0mkey\u001b[0m\u001b[0;34m,\u001b[0m \u001b[0mself\u001b[0m\u001b[0;34m)\u001b[0m\u001b[0;34m\u001b[0m\u001b[0m\n\u001b[1;32m    600\u001b[0m         \u001b[0;32mtry\u001b[0m\u001b[0;34m:\u001b[0m\u001b[0;34m\u001b[0m\u001b[0m\n\u001b[0;32m--> 601\u001b[0;31m             \u001b[0mresult\u001b[0m \u001b[0;34m=\u001b[0m \u001b[0mself\u001b[0m\u001b[0;34m.\u001b[0m\u001b[0mindex\u001b[0m\u001b[0;34m.\u001b[0m\u001b[0mget_value\u001b[0m\u001b[0;34m(\u001b[0m\u001b[0mself\u001b[0m\u001b[0;34m,\u001b[0m \u001b[0mkey\u001b[0m\u001b[0;34m)\u001b[0m\u001b[0;34m\u001b[0m\u001b[0m\n\u001b[0m\u001b[1;32m    602\u001b[0m \u001b[0;34m\u001b[0m\u001b[0m\n\u001b[1;32m    603\u001b[0m             \u001b[0;32mif\u001b[0m \u001b[0;32mnot\u001b[0m \u001b[0mis_scalar\u001b[0m\u001b[0;34m(\u001b[0m\u001b[0mresult\u001b[0m\u001b[0;34m)\u001b[0m\u001b[0;34m:\u001b[0m\u001b[0;34m\u001b[0m\u001b[0m\n",
      "\u001b[0;32m~/anaconda3/lib/python3.6/site-packages/pandas/core/indexes/base.py\u001b[0m in \u001b[0;36mget_value\u001b[0;34m(self, series, key)\u001b[0m\n\u001b[1;32m   2475\u001b[0m         \u001b[0;32mtry\u001b[0m\u001b[0;34m:\u001b[0m\u001b[0;34m\u001b[0m\u001b[0m\n\u001b[1;32m   2476\u001b[0m             return self._engine.get_value(s, k,\n\u001b[0;32m-> 2477\u001b[0;31m                                           tz=getattr(series.dtype, 'tz', None))\n\u001b[0m\u001b[1;32m   2478\u001b[0m         \u001b[0;32mexcept\u001b[0m \u001b[0mKeyError\u001b[0m \u001b[0;32mas\u001b[0m \u001b[0me1\u001b[0m\u001b[0;34m:\u001b[0m\u001b[0;34m\u001b[0m\u001b[0m\n\u001b[1;32m   2479\u001b[0m             \u001b[0;32mif\u001b[0m \u001b[0mlen\u001b[0m\u001b[0;34m(\u001b[0m\u001b[0mself\u001b[0m\u001b[0;34m)\u001b[0m \u001b[0;34m>\u001b[0m \u001b[0;36m0\u001b[0m \u001b[0;32mand\u001b[0m \u001b[0mself\u001b[0m\u001b[0;34m.\u001b[0m\u001b[0minferred_type\u001b[0m \u001b[0;32min\u001b[0m \u001b[0;34m[\u001b[0m\u001b[0;34m'integer'\u001b[0m\u001b[0;34m,\u001b[0m \u001b[0;34m'boolean'\u001b[0m\u001b[0;34m]\u001b[0m\u001b[0;34m:\u001b[0m\u001b[0;34m\u001b[0m\u001b[0m\n",
      "\u001b[0;32mpandas/_libs/index.pyx\u001b[0m in \u001b[0;36mpandas._libs.index.IndexEngine.get_value\u001b[0;34m()\u001b[0m\n",
      "\u001b[0;32mpandas/_libs/index.pyx\u001b[0m in \u001b[0;36mpandas._libs.index.IndexEngine.get_value\u001b[0;34m()\u001b[0m\n",
      "\u001b[0;32mpandas/_libs/index.pyx\u001b[0m in \u001b[0;36mpandas._libs.index.IndexEngine.get_loc\u001b[0;34m()\u001b[0m\n",
      "\u001b[0;32mpandas/_libs/hashtable_class_helper.pxi\u001b[0m in \u001b[0;36mpandas._libs.hashtable.Int64HashTable.get_item\u001b[0;34m()\u001b[0m\n",
      "\u001b[0;32mpandas/_libs/hashtable_class_helper.pxi\u001b[0m in \u001b[0;36mpandas._libs.hashtable.Int64HashTable.get_item\u001b[0;34m()\u001b[0m\n",
      "\u001b[0;31mKeyError\u001b[0m: 0"
     ]
    }
   ],
   "source": [
    "df_IR[df_IR['Tenor']=='1M']['Rate'][0]"
   ]
  },
  {
   "cell_type": "code",
   "execution_count": null,
   "metadata": {
    "collapsed": true
   },
   "outputs": [],
   "source": []
  }
 ],
 "metadata": {
  "kernelspec": {
   "display_name": "Python 3",
   "language": "python",
   "name": "python3"
  },
  "language_info": {
   "codemirror_mode": {
    "name": "ipython",
    "version": 3
   },
   "file_extension": ".py",
   "mimetype": "text/x-python",
   "name": "python",
   "nbconvert_exporter": "python",
   "pygments_lexer": "ipython3",
   "version": "3.6.2"
  }
 },
 "nbformat": 4,
 "nbformat_minor": 2
}
