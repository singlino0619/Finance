{
 "cells": [
  {
   "cell_type": "code",
   "execution_count": 89,
   "metadata": {
    "collapsed": true
   },
   "outputs": [],
   "source": [
    "import pandas as pd\n",
    "import numpy as np\n",
    "import datetime"
   ]
  },
  {
   "cell_type": "code",
   "execution_count": 134,
   "metadata": {},
   "outputs": [
    {
     "data": {
      "text/plain": [
       "CompletedProcess(args=['jupyter', 'nbconvert', '--to', 'python', 'new_transaction.ipynb'], returncode=0)"
      ]
     },
     "execution_count": 134,
     "metadata": {},
     "output_type": "execute_result"
    }
   ],
   "source": [
    "import subprocess\n",
    "subprocess.run(['jupyter', 'nbconvert', '--to', 'python', 'new_transaction.ipynb'])"
   ]
  },
  {
   "cell_type": "code",
   "execution_count": 90,
   "metadata": {
    "collapsed": true
   },
   "outputs": [],
   "source": [
    "basedate1 = '2018/6/4'\n",
    "basedate2 = '2018/6/11'"
   ]
  },
  {
   "cell_type": "code",
   "execution_count": 140,
   "metadata": {
    "collapsed": true
   },
   "outputs": [],
   "source": [
    "def date_to_8digit(excel_format_date):\n",
    "    dt_obj_date = datetime.datetime.strptime(excel_format_date, '%Y/%m/%d')\n",
    "    date_to_8_digit = dt_obj_date.strftime('%Y%m%d')\n",
    "    return date_to_8_digit\n",
    "\n",
    "def import_tran_csv(basedate):\n",
    "    date = date_to_8digit(basedate)\n",
    "    df = pd.read_csv('transaction_' + date + '.csv')\n",
    "    return df\n",
    "\n",
    "def transaction_by_comp_num(comp_num, basedate):\n",
    "    str_comp_num = str(compnum)\n",
    "    df_tran_csv = import_tran_csv(basedate)\n",
    "    extract_tran_comp_num =  df_tran_scv.query(str_companu_num + '==' + basedate)\n",
    "    return extract_tran_comp_num"
   ]
  },
  {
   "cell_type": "code",
   "execution_count": 141,
   "metadata": {},
   "outputs": [],
   "source": [
    "df= import_tran_csv('2018/06/04')\n",
    "df_tran = import_tran_csv('2018/06/04')['company_num']"
   ]
  },
  {
   "cell_type": "code",
   "execution_count": 142,
   "metadata": {},
   "outputs": [
    {
     "data": {
      "text/html": [
       "<div>\n",
       "<style>\n",
       "    .dataframe thead tr:only-child th {\n",
       "        text-align: right;\n",
       "    }\n",
       "\n",
       "    .dataframe thead th {\n",
       "        text-align: left;\n",
       "    }\n",
       "\n",
       "    .dataframe tbody tr th {\n",
       "        vertical-align: top;\n",
       "    }\n",
       "</style>\n",
       "<table border=\"1\" class=\"dataframe\">\n",
       "  <thead>\n",
       "    <tr style=\"text-align: right;\">\n",
       "      <th></th>\n",
       "      <th>base_date</th>\n",
       "      <th>company_num</th>\n",
       "      <th>product</th>\n",
       "      <th>tran_num</th>\n",
       "      <th>CCY_rec</th>\n",
       "      <th>CCY_pay</th>\n",
       "      <th>start_date</th>\n",
       "      <th>end_date</th>\n",
       "    </tr>\n",
       "  </thead>\n",
       "  <tbody>\n",
       "    <tr>\n",
       "      <th>0</th>\n",
       "      <td>2018/6/4</td>\n",
       "      <td>1234567890</td>\n",
       "      <td>IRS</td>\n",
       "      <td>IR16</td>\n",
       "      <td>JPY</td>\n",
       "      <td>JPY</td>\n",
       "      <td>2015/4/23</td>\n",
       "      <td>2029/4/23</td>\n",
       "    </tr>\n",
       "    <tr>\n",
       "      <th>1</th>\n",
       "      <td>2018/6/4</td>\n",
       "      <td>1234567890</td>\n",
       "      <td>CCS</td>\n",
       "      <td>CC06</td>\n",
       "      <td>JPY</td>\n",
       "      <td>USD</td>\n",
       "      <td>2016/12/5</td>\n",
       "      <td>2019/6/5</td>\n",
       "    </tr>\n",
       "  </tbody>\n",
       "</table>\n",
       "</div>"
      ],
      "text/plain": [
       "  base_date  company_num product tran_num CCY_rec CCY_pay start_date  \\\n",
       "0  2018/6/4   1234567890     IRS     IR16     JPY     JPY  2015/4/23   \n",
       "1  2018/6/4   1234567890     CCS     CC06     JPY     USD  2016/12/5   \n",
       "\n",
       "    end_date  \n",
       "0  2029/4/23  \n",
       "1   2019/6/5  "
      ]
     },
     "execution_count": 142,
     "metadata": {},
     "output_type": "execute_result"
    }
   ],
   "source": [
    "df.query('company_num == 1234567890')"
   ]
  },
  {
   "cell_type": "code",
   "execution_count": 144,
   "metadata": {},
   "outputs": [
    {
     "ename": "NameError",
     "evalue": "name 'compnum' is not defined",
     "output_type": "error",
     "traceback": [
      "\u001b[0;31m---------------------------------------------------------------------------\u001b[0m",
      "\u001b[0;31mNameError\u001b[0m                                 Traceback (most recent call last)",
      "\u001b[0;32m<ipython-input-144-177d3a703d35>\u001b[0m in \u001b[0;36m<module>\u001b[0;34m()\u001b[0m\n\u001b[0;32m----> 1\u001b[0;31m \u001b[0mtransaction_by_comp_num\u001b[0m\u001b[0;34m(\u001b[0m\u001b[0;34m'1234567890'\u001b[0m\u001b[0;34m,\u001b[0m \u001b[0;34m'20180604'\u001b[0m\u001b[0;34m)\u001b[0m\u001b[0;34m\u001b[0m\u001b[0m\n\u001b[0m",
      "\u001b[0;32m<ipython-input-140-187ec12315d5>\u001b[0m in \u001b[0;36mtransaction_by_comp_num\u001b[0;34m(comp_num, basedate)\u001b[0m\n\u001b[1;32m     10\u001b[0m \u001b[0;34m\u001b[0m\u001b[0m\n\u001b[1;32m     11\u001b[0m \u001b[0;32mdef\u001b[0m \u001b[0mtransaction_by_comp_num\u001b[0m\u001b[0;34m(\u001b[0m\u001b[0mcomp_num\u001b[0m\u001b[0;34m,\u001b[0m \u001b[0mbasedate\u001b[0m\u001b[0;34m)\u001b[0m\u001b[0;34m:\u001b[0m\u001b[0;34m\u001b[0m\u001b[0m\n\u001b[0;32m---> 12\u001b[0;31m     \u001b[0mstr_comp_num\u001b[0m \u001b[0;34m=\u001b[0m \u001b[0mstr\u001b[0m\u001b[0;34m(\u001b[0m\u001b[0mcompnum\u001b[0m\u001b[0;34m)\u001b[0m\u001b[0;34m\u001b[0m\u001b[0m\n\u001b[0m\u001b[1;32m     13\u001b[0m     \u001b[0mdf_tran_csv\u001b[0m \u001b[0;34m=\u001b[0m \u001b[0mimport_tran_csv\u001b[0m\u001b[0;34m(\u001b[0m\u001b[0mbasedate\u001b[0m\u001b[0;34m)\u001b[0m\u001b[0;34m\u001b[0m\u001b[0m\n\u001b[1;32m     14\u001b[0m     \u001b[0mextract_tran_comp_num\u001b[0m \u001b[0;34m=\u001b[0m  \u001b[0mdf_tran_scv\u001b[0m\u001b[0;34m.\u001b[0m\u001b[0mquery\u001b[0m\u001b[0;34m(\u001b[0m\u001b[0mstr_companu_num\u001b[0m \u001b[0;34m+\u001b[0m \u001b[0;34m'=='\u001b[0m \u001b[0;34m+\u001b[0m \u001b[0mbasedate\u001b[0m\u001b[0;34m)\u001b[0m\u001b[0;34m\u001b[0m\u001b[0m\n",
      "\u001b[0;31mNameError\u001b[0m: name 'compnum' is not defined"
     ]
    }
   ],
   "source": [
    "transaction_by_comp_num('1234567890', '20180604')"
   ]
  },
  {
   "cell_type": "code",
   "execution_count": null,
   "metadata": {
    "collapsed": true
   },
   "outputs": [],
   "source": []
  }
 ],
 "metadata": {
  "kernelspec": {
   "display_name": "Python 3",
   "language": "python",
   "name": "python3"
  },
  "language_info": {
   "codemirror_mode": {
    "name": "ipython",
    "version": 3
   },
   "file_extension": ".py",
   "mimetype": "text/x-python",
   "name": "python",
   "nbconvert_exporter": "python",
   "pygments_lexer": "ipython3",
   "version": "3.6.2"
  }
 },
 "nbformat": 4,
 "nbformat_minor": 2
}
