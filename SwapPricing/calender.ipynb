{
 "cells": [
  {
   "cell_type": "code",
   "execution_count": null,
   "metadata": {},
   "outputs": [],
   "source": [
    "import sys\n",
    "from datetime import *\n",
    "from time import *\n",
    "\n",
    "print (\"日付を入力してください '2016/07/30'.\")\n",
    "user_input_date = input(\"your date :\")\n",
    "\n",
    "yobi = [\"月\",\"火\",\"水\",\"木\",\"金\",\"土\",\"日\"]\n",
    "\n",
    "while user_input_date != \"bye\":\n",
    "    try:\n",
    "        a = datetime.strptime(user_input_date,'%Y/%m/%d')\n",
    "        print (\"{}は{}曜日です\".format(user_input_date,yobi[a.weekday()]))\n",
    "    except ValueError:\n",
    "        print (\"誤った日付です\")\n",
    "    user_input_date = input(\"your date :\")\n",
    "else:\n",
    "    sys.exit(1)"
   ]
  },
  {
   "cell_type": "code",
   "execution_count": 19,
   "metadata": {},
   "outputs": [
    {
     "name": "stdout",
     "output_type": "stream",
     "text": [
      "date: 2018/9/1\n"
     ]
    },
    {
     "data": {
      "text/plain": [
       "'2018/9/1は土曜日です'"
      ]
     },
     "execution_count": 19,
     "metadata": {},
     "output_type": "execute_result"
    }
   ],
   "source": [
    "import datetime\n",
    "str_date = input('date: ')\n",
    "date_obj = datetime.datetime.strptime(str_date, '%Y/%m/%d')\n",
    "week_name = ['月', '火', '水', '木', '金', '土', '日']\n",
    "'{}は{}曜日です'.format(str_date, week_name[date_obj.weekday()])"
   ]
  },
  {
   "cell_type": "code",
   "execution_count": 139,
   "metadata": {},
   "outputs": [],
   "source": [
    "import datetime\n",
    "def calc_working_day(str_date, convention):\n",
    "    week_name = ['月', '火', '水', '木', '金', '土', '日']\n",
    "    date_obj = datetime.datetime.strptime(str_date, '%Y/%m/%d')\n",
    "    month = date_obj.month\n",
    "    one_day_after_obj = date_obj + datetime.timedelta(days = 1)\n",
    "    two_day_after_obj = date_obj + datetime.timedelta(days = 2)\n",
    "    one_day_after_month = one_day_after_obj.month\n",
    "    two_day_after_month = two_day_after_obj.month\n",
    "    # folloing convention\n",
    "    if (convention == 'following'):\n",
    "        if (date_obj.weekday() == 5):\n",
    "            date_obj_new = date_obj + datetime.timedelta(days = 2)\n",
    "            return date_obj_new.strftime('%Y/%m/%d') \n",
    "        elif (date_obj.weekday() == 6):\n",
    "            date_obj_new = date_obj + datetime.timedelta(days = 1)\n",
    "            return date_obj_new.strftime('%Y/%m/%d')\n",
    "        else:\n",
    "            return date_obj.strftime('%Y/%m/%d')\n",
    "    # modified following\n",
    "    elif (convention == 'modified following'):\n",
    "        if (month == two_day_after_month):\n",
    "            if (date_obj.weekday() == 5):\n",
    "                date_obj_new = date_obj + datetime.timedelta(days = 2)\n",
    "                return date_obj_new.strftime('%Y/%m/%d') \n",
    "            elif (date_obj.weekday() == 6):\n",
    "                date_obj_new = date_obj + datetime.timedelta(days = 1)\n",
    "                return date_obj_new.strftime('%Y/%m/%d')\n",
    "            else:\n",
    "                return date_obj.strftime('%Y/%m/%d')\n",
    "        if (month != two_day_after_month or month != one_day_after_month ):\n",
    "            if (date_obj.weekday() == 5):\n",
    "                date_obj_new = date_obj + datetime.timedelta(days = -1)\n",
    "                return date_obj_new.strftime('%Y/%m/%d') \n",
    "            elif (date_obj.weekday() == 6):\n",
    "                date_obj_new = date_obj + datetime.timedelta(days = -2)\n",
    "                return date_obj_new.strftime('%Y/%m/%d')\n",
    "            else:\n",
    "                return date_obj.strftime('%Y/%m/%d')\n",
    "            \n",
    "def cash_flow_generator(start_day, tenor, convention):\n",
    "    start_obj = datetime.datetime.strptime(start_day, '%Y/%m/%d')\n",
    "    day = start_day[-2:]\n",
    "    month = start_obj.month + int(tenor[0])\n",
    "    year = start_obj.year\n",
    "    if (month <= 12):\n",
    "        pass\n",
    "    elif (month > 12):\n",
    "        month -= 12\n",
    "        year += 1\n",
    "    end_date = str(year) + '/' + str(month) + '/' + str(day)\n",
    "    working_end_date = calc_working_day(end_date, convention)\n",
    "    return working_end_date"
   ]
  },
  {
   "cell_type": "code",
   "execution_count": 115,
   "metadata": {},
   "outputs": [
    {
     "name": "stdout",
     "output_type": "stream",
     "text": [
      "2018/04/02\n",
      "2018/03/30\n"
     ]
    }
   ],
   "source": [
    "print(calc_working_day('2018/3/31', 'following'))\n",
    "print(calc_working_day('2018/3/31', 'modified following'))"
   ]
  },
  {
   "cell_type": "code",
   "execution_count": 141,
   "metadata": {},
   "outputs": [
    {
     "data": {
      "text/plain": [
       "'2018/07/02'"
      ]
     },
     "execution_count": 141,
     "metadata": {},
     "output_type": "execute_result"
    }
   ],
   "source": [
    "cash_flow_generator('2017/12/30', '6M', 'following')"
   ]
  },
  {
   "cell_type": "code",
   "execution_count": 125,
   "metadata": {
    "collapsed": true
   },
   "outputs": [],
   "source": [
    "import dateutil"
   ]
  },
  {
   "cell_type": "code",
   "execution_count": 133,
   "metadata": {},
   "outputs": [
    {
     "name": "stdout",
     "output_type": "stream",
     "text": [
      "2018-01-31\n",
      "2018-02-28\n"
     ]
    }
   ],
   "source": [
    "from dateutil.relativedelta import relativedelta\n",
    "# 今日の日付を取得\n",
    "today = datetime.datetime.today()\n",
    "# 翌月を取得\n",
    "next_month = today + relativedelta(months=1)\n",
    "print(today.strftime('%Y-%m-%d'))\n",
    "print(next_month.strftime('%Y-%m-%d'))"
   ]
  },
  {
   "cell_type": "code",
   "execution_count": null,
   "metadata": {
    "collapsed": true
   },
   "outputs": [],
   "source": []
  }
 ],
 "metadata": {
  "kernelspec": {
   "display_name": "Python 3",
   "language": "python",
   "name": "python3"
  },
  "language_info": {
   "codemirror_mode": {
    "name": "ipython",
    "version": 3
   },
   "file_extension": ".py",
   "mimetype": "text/x-python",
   "name": "python",
   "nbconvert_exporter": "python",
   "pygments_lexer": "ipython3",
   "version": "3.6.2"
  }
 },
 "nbformat": 4,
 "nbformat_minor": 2
}
