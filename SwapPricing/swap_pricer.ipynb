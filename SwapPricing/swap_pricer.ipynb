{
 "cells": [
  {
   "cell_type": "code",
   "execution_count": 39,
   "metadata": {},
   "outputs": [],
   "source": [
    "import working_day.return_working_day as wd\n",
    "import discount_curve.discount_curve as dc\n",
    "import csv\n",
    "\n",
    "class swap_pricer:\n",
    "    def __init__(self, input_file_name):\n",
    "        self._ccy_our_pay = self._input_csv_read(input_file_name)['ccy_our_pay']\n",
    "        self._ccy_our_rec = self._input_csv_read(input_file_name)['ccy_our_pay']\n",
    "        self._fix_float_pay = self._input_csv_read(input_file_name)['fixed_or_float_pay_side']\n",
    "        self._fix_float_rec = self._input_csv_read(input_file_name)['fixed_or_float_rec_side']\n",
    "        \n",
    "    def _input_csv_read(self, input_file_name):\n",
    "        with open(input_file_name, 'r') as csvfile:\n",
    "            reader_obj = csv.reader(csvfile)\n",
    "            input_list = []\n",
    "            for row in reader_obj:\n",
    "                input_list.append(row)\n",
    "        key = input_list[0]\n",
    "        value = input_list[1]\n",
    "        input_dict = dict(zip(key, value))\n",
    "        return input_dict\n",
    "    \n",
    "    def get_ccy_our_pay(self):\n",
    "        return self._ccy_our_pay\n",
    "    \n",
    "    def get_ccy_our_rec(self):\n",
    "        return self._ccy_our_rec\n",
    "    \n",
    "    def get_fix_float_pay(self):\n",
    "        return self._fix_float_pay\n",
    "    \n",
    "    def get_fix_float_rec(self):\n",
    "        return self._fix_float_rec"
   ]
  },
  {
   "cell_type": "code",
   "execution_count": 42,
   "metadata": {},
   "outputs": [
    {
     "data": {
      "text/plain": [
       "'FIXED'"
      ]
     },
     "execution_count": 42,
     "metadata": {},
     "output_type": "execute_result"
    }
   ],
   "source": [
    "price_obj = swap_pricer('swap_pricing_input.csv')\n",
    "price_obj.get_ccy_our_pay()\n",
    "price_obj.get_ccy_our_rec()\n",
    "price_obj.get_fix_float_pay()\n",
    "price_obj.get_fix_float_rec()"
   ]
  },
  {
   "cell_type": "code",
   "execution_count": null,
   "metadata": {
    "collapsed": true
   },
   "outputs": [],
   "source": []
  }
 ],
 "metadata": {
  "kernelspec": {
   "display_name": "Python 3",
   "language": "python",
   "name": "python3"
  },
  "language_info": {
   "codemirror_mode": {
    "name": "ipython",
    "version": 3
   },
   "file_extension": ".py",
   "mimetype": "text/x-python",
   "name": "python",
   "nbconvert_exporter": "python",
   "pygments_lexer": "ipython3",
   "version": "3.6.2"
  }
 },
 "nbformat": 4,
 "nbformat_minor": 2
}
