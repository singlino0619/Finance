{
 "cells": [
  {
   "cell_type": "code",
   "execution_count": 104,
   "metadata": {},
   "outputs": [],
   "source": [
    "import working_day.return_working_day as wd\n",
    "import discount_curve.discount_curve as dc\n",
    "import csv\n",
    "import pandas as pd\n",
    "\n",
    "def year_to_month(str_year):\n",
    "        num_year = int(str_year[0:len(str_year)-1])\n",
    "        return num_year * 12\n",
    "\n",
    "class swap_pricer:\n",
    "    def __init__(self, input_file_name, convention_file_name):\n",
    "        df_input = pd.read_csv(input_file_name)\n",
    "        df_convention = pd.read_csv(convention_file_name, index_col=0)\n",
    "        self._ccy_our_pay = df_input.at[0, 'ccy_our_pay']\n",
    "        self._ccy_our_rec = df_input.at[0, 'ccy_our_rec']\n",
    "        self._fix_float_pay = df_input.at[0, 'fixed_or_float_pay_side']\n",
    "        self._fix_float_rec = df_input.at[0, 'fixed_or_float_rec_side']\n",
    "        self._term = df_input.at[0, 'term']\n",
    "        self._valuation_date = df_input.at[0, 'valuation_date']\n",
    "        self._dcc_pay = df_convention.at[self._ccy_our_pay, self._fix_float_pay]\n",
    "        self._dcc_rec = df_convention.at[self._ccy_our_rec, self._fix_float_rec]\n",
    "        self._roll_pay = df_convention.at[self._ccy_our_pay, 'ROLL']\n",
    "        self._roll_rec = df_convention.at[self._ccy_our_rec, 'ROLL']\n",
    "        self._num_pay_side = int(year_to_month(self._term) / int(self._roll_pay[0:len(self._roll_pay)-1]))\n",
    "        self._num_rec_side = int(year_to_month(self._term) / int(self._roll_rec[0:len(self._roll_rec)-1]))\n",
    "          \n",
    "    def get_ccy_our_pay(self):\n",
    "        return self._ccy_our_pay\n",
    "    \n",
    "    def get_ccy_our_rec(self):\n",
    "        return self._ccy_our_rec\n",
    "    \n",
    "    def get_fix_float_pay(self):\n",
    "        return self._fix_float_pay\n",
    "    \n",
    "    def get_fix_float_rec(self):\n",
    "        return self._fix_float_rec\n",
    "    \n",
    "    def get_term(self):\n",
    "        return self._term\n",
    "    \n",
    "    def get_valuation_date(self):\n",
    "        return self._valuation_date\n",
    "    \n",
    "    def get_dcc_pay(self):\n",
    "        return self._dcc_pay\n",
    "    \n",
    "    def get_dcc_rec(self):\n",
    "        return self._dcc_rec\n",
    "    \n",
    "    def get_num_pay_side(self):\n",
    "        return self._num_pay_side \n",
    "    \n",
    "    def get_num_rec_side(self):\n",
    "        return self._num_rec_side "
   ]
  },
  {
   "cell_type": "code",
   "execution_count": 105,
   "metadata": {},
   "outputs": [
    {
     "data": {
      "text/plain": [
       "20"
      ]
     },
     "execution_count": 105,
     "metadata": {},
     "output_type": "execute_result"
    }
   ],
   "source": [
    "price_obj = swap_pricer('swap_pricing_input.csv', 'convention.csv')\n",
    "price_obj.get_num_rec_side()"
   ]
  },
  {
   "cell_type": "code",
   "execution_count": 10,
   "metadata": {
    "collapsed": true
   },
   "outputs": [],
   "source": [
    "import pandas as pd"
   ]
  },
  {
   "cell_type": "code",
   "execution_count": 51,
   "metadata": {},
   "outputs": [
    {
     "data": {
      "text/html": [
       "<div>\n",
       "<style>\n",
       "    .dataframe thead tr:only-child th {\n",
       "        text-align: right;\n",
       "    }\n",
       "\n",
       "    .dataframe thead th {\n",
       "        text-align: left;\n",
       "    }\n",
       "\n",
       "    .dataframe tbody tr th {\n",
       "        vertical-align: top;\n",
       "    }\n",
       "</style>\n",
       "<table border=\"1\" class=\"dataframe\">\n",
       "  <thead>\n",
       "    <tr style=\"text-align: right;\">\n",
       "      <th></th>\n",
       "      <th>fixed</th>\n",
       "      <th>float</th>\n",
       "    </tr>\n",
       "    <tr>\n",
       "      <th>ccy</th>\n",
       "      <th></th>\n",
       "      <th></th>\n",
       "    </tr>\n",
       "  </thead>\n",
       "  <tbody>\n",
       "    <tr>\n",
       "      <th>EUR</th>\n",
       "      <td>ACT/365</td>\n",
       "      <td>ACT/360</td>\n",
       "    </tr>\n",
       "    <tr>\n",
       "      <th>GBP</th>\n",
       "      <td>ACT/365</td>\n",
       "      <td>ACT/360</td>\n",
       "    </tr>\n",
       "    <tr>\n",
       "      <th>JPY</th>\n",
       "      <td>ACT/365</td>\n",
       "      <td>ACT/360</td>\n",
       "    </tr>\n",
       "    <tr>\n",
       "      <th>USD</th>\n",
       "      <td>ACT/365</td>\n",
       "      <td>ACT/360</td>\n",
       "    </tr>\n",
       "  </tbody>\n",
       "</table>\n",
       "</div>"
      ],
      "text/plain": [
       "       fixed    float\n",
       "ccy                  \n",
       "EUR  ACT/365  ACT/360\n",
       "GBP  ACT/365  ACT/360\n",
       "JPY  ACT/365  ACT/360\n",
       "USD  ACT/365  ACT/360"
      ]
     },
     "execution_count": 51,
     "metadata": {},
     "output_type": "execute_result"
    }
   ],
   "source": [
    "df_convention = pd.read_csv('convention.csv', index_col=0)\n",
    "df_convention"
   ]
  },
  {
   "cell_type": "code",
   "execution_count": 37,
   "metadata": {},
   "outputs": [
    {
     "data": {
      "text/plain": [
       "'ACT/360'"
      ]
     },
     "execution_count": 37,
     "metadata": {},
     "output_type": "execute_result"
    }
   ],
   "source": [
    "df_convention.at['JPY', 'float']"
   ]
  },
  {
   "cell_type": "code",
   "execution_count": 65,
   "metadata": {},
   "outputs": [
    {
     "data": {
      "text/plain": [
       "'JPY'"
      ]
     },
     "execution_count": 65,
     "metadata": {},
     "output_type": "execute_result"
    }
   ],
   "source": [
    "df_input = pd.read_csv('swap_pricing_input.csv')\n",
    "df_input.at[0, 'ccy_our_pay']"
   ]
  },
  {
   "cell_type": "code",
   "execution_count": 95,
   "metadata": {},
   "outputs": [
    {
     "data": {
      "text/plain": [
       "120"
      ]
     },
     "execution_count": 95,
     "metadata": {},
     "output_type": "execute_result"
    }
   ],
   "source": [
    "year_to_month('10Y')"
   ]
  },
  {
   "cell_type": "markdown",
   "metadata": {},
   "source": [
    "# backup 2/18"
   ]
  },
  {
   "cell_type": "code",
   "execution_count": 54,
   "metadata": {},
   "outputs": [
    {
     "data": {
      "text/plain": [
       "\"    def _input_csv_read(self, input_file_name):\\n        with open(input_file_name, 'r') as csvfile:\\n            reader_obj = csv.reader(csvfile)\\n            input_list = []\\n            for row in reader_obj:\\n                input_list.append(row)\\n        key = input_list[0]\\n        value = input_list[1]\\n        input_dict = dict(zip(key, value))\\n        return input_dict\\n\""
      ]
     },
     "execution_count": 54,
     "metadata": {},
     "output_type": "execute_result"
    }
   ],
   "source": [
    "'''    def _input_csv_read(self, input_file_name):\n",
    "        with open(input_file_name, 'r') as csvfile:\n",
    "            reader_obj = csv.reader(csvfile)\n",
    "            input_list = []\n",
    "            for row in reader_obj:\n",
    "                input_list.append(row)\n",
    "        key = input_list[0]\n",
    "        value = input_list[1]\n",
    "        input_dict = dict(zip(key, value))\n",
    "        return input_dict\n",
    "'''"
   ]
  },
  {
   "cell_type": "code",
   "execution_count": 81,
   "metadata": {},
   "outputs": [
    {
     "ename": "ValueError",
     "evalue": "invalid literal for int() with base 10: 'Y'",
     "output_type": "error",
     "traceback": [
      "\u001b[0;31m---------------------------------------------------------------------------\u001b[0m",
      "\u001b[0;31mValueError\u001b[0m                                Traceback (most recent call last)",
      "\u001b[0;32m<ipython-input-81-9daf47a67a91>\u001b[0m in \u001b[0;36m<module>\u001b[0;34m()\u001b[0m\n\u001b[0;32m----> 1\u001b[0;31m \u001b[0myear_to_month\u001b[0m\u001b[0;34m(\u001b[0m\u001b[0;34m'10Y'\u001b[0m\u001b[0;34m)\u001b[0m\u001b[0;34m\u001b[0m\u001b[0m\n\u001b[0m",
      "\u001b[0;32m<ipython-input-80-a952fcf46ff9>\u001b[0m in \u001b[0;36myear_to_month\u001b[0;34m(str_year)\u001b[0m\n\u001b[1;32m      5\u001b[0m \u001b[0;34m\u001b[0m\u001b[0m\n\u001b[1;32m      6\u001b[0m \u001b[0;32mdef\u001b[0m \u001b[0myear_to_month\u001b[0m\u001b[0;34m(\u001b[0m\u001b[0mstr_year\u001b[0m\u001b[0;34m)\u001b[0m\u001b[0;34m:\u001b[0m\u001b[0;34m\u001b[0m\u001b[0m\n\u001b[0;32m----> 7\u001b[0;31m         \u001b[0mnum_year\u001b[0m \u001b[0;34m=\u001b[0m \u001b[0mint\u001b[0m\u001b[0;34m(\u001b[0m\u001b[0mstr_year\u001b[0m\u001b[0;34m[\u001b[0m\u001b[0mlen\u001b[0m\u001b[0;34m(\u001b[0m\u001b[0mstr_year\u001b[0m\u001b[0;34m)\u001b[0m\u001b[0;34m-\u001b[0m\u001b[0;36m1\u001b[0m\u001b[0;34m]\u001b[0m\u001b[0;34m)\u001b[0m\u001b[0;34m\u001b[0m\u001b[0m\n\u001b[0m\u001b[1;32m      8\u001b[0m \u001b[0;34m\u001b[0m\u001b[0m\n\u001b[1;32m      9\u001b[0m \u001b[0;32mclass\u001b[0m \u001b[0mswap_pricer\u001b[0m\u001b[0;34m:\u001b[0m\u001b[0;34m\u001b[0m\u001b[0m\n",
      "\u001b[0;31mValueError\u001b[0m: invalid literal for int() with base 10: 'Y'"
     ]
    }
   ],
   "source": [
    "year_to_month('10Y')"
   ]
  },
  {
   "cell_type": "code",
   "execution_count": null,
   "metadata": {
    "collapsed": true
   },
   "outputs": [],
   "source": []
  }
 ],
 "metadata": {
  "kernelspec": {
   "display_name": "Python 3",
   "language": "python",
   "name": "python3"
  },
  "language_info": {
   "codemirror_mode": {
    "name": "ipython",
    "version": 3
   },
   "file_extension": ".py",
   "mimetype": "text/x-python",
   "name": "python",
   "nbconvert_exporter": "python",
   "pygments_lexer": "ipython3",
   "version": "3.6.2"
  }
 },
 "nbformat": 4,
 "nbformat_minor": 2
}
