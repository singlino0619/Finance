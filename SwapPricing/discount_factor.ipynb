{
 "cells": [
  {
   "cell_type": "code",
   "execution_count": 253,
   "metadata": {},
   "outputs": [],
   "source": [
    "import csv\n",
    "import datetime\n",
    "\n",
    "class discount_factor:\n",
    "    def __init__(self, ir_list_name):\n",
    "        ## コンストラクタの順番に注意．　先に_ir_listを定義し， _load_ir_listの中で_base_dateを定義した関数(今回は_add_cash_flow())\n",
    "        ## を呼び出すと， _base_dateがまだ定義されていないのでエラーがでる．\n",
    "        self._base_date = ir_list_name[0:4] + '/' + ir_list_name[4:6] + '/' + ir_list_name[6:8]\n",
    "        self._ir_list = self._load_ir_list(ir_list_name)\n",
    "    \n",
    "    def _load_ir_list(self, ir_list_name):\n",
    "        with open(ir_list_name, 'r') as csvfile:\n",
    "            reader_obj = csv.reader(csvfile)\n",
    "            # rewritten header_obj by using next method(???)\n",
    "            header_obj = next(reader_obj)\n",
    "            ir_list = []\n",
    "            for row in reader_obj:\n",
    "                ir_list.append(row)\n",
    "            temp_num = [[] for i in range(len(ir_list))] # comprehension expression for making null list.\n",
    "            for i in range(len(ir_list)):\n",
    "                if (ir_list[i][0][0].isdigit()):\n",
    "                    num_tenor = ir_list[i][0][0: len(ir_list[i][0])-1]\n",
    "                    unit_tenor = ir_list[i][0][-1]\n",
    "                    temp_num[i] = \"{:.1f}\".format(int(num_tenor))\n",
    "                    ir_list[i][0] = temp_num[i] + unit_tenor\n",
    "        ir_list_with_cf = self._add_cash_flow(ir_list)\n",
    "        return ir_list_with_cf\n",
    "    \n",
    "    def _add_cash_flow(self, ir_list):\n",
    "        obj_trade_date = datetime.datetime.strptime(self._base_date, '%Y/%m/%d')\n",
    "        over_night_date = (obj_trade_date + datetime.timedelta(days=1)).strftime('%Y/%m/%d')\n",
    "        spot_date = (obj_trade_date + datetime.timedelta(days=2)).strftime('%Y/%m/%d')\n",
    "        for i in range(len(ir_list)):\n",
    "            if (ir_list[i][0] == 'O/N'):\n",
    "                ir_list[i].append(self._base_date)\n",
    "                ir_list[i].append(over_night_date)\n",
    "            elif (ir_list[i][0] == 'T/N'):\n",
    "                ir_list[i].append(over_night_date)\n",
    "                ir_list[i].append(spot_date)\n",
    "            else:\n",
    "                ir_list[i].append(spot_date)\n",
    "                ir_list[i].append(self._calc_end_date(self._base_date, ir_list[i][0]))\n",
    "        return ir_list\n",
    "    \n",
    "    def _calc_end_date(self, start_day, str_maturity):\n",
    "        datetime_obj_start = datetime.datetime.strptime(start_day, '%Y/%m/%d')\n",
    "        unit = str_maturity[-1]\n",
    "        int_num = int(str_maturity[0:len(str_maturity)-3])\n",
    "        if (unit == 'W'):\n",
    "            trade_days = int_num * 7\n",
    "        elif (unit == 'M'):\n",
    "            trade_days = int_num * 30\n",
    "        elif (unit == 'Y'):\n",
    "            trade_days = int_num * 365\n",
    "        end_day = datetime_obj_start + datetime.timedelta(days=trade_days)\n",
    "        return end_day.strftime('%Y/%m/%d')\n",
    "            \n",
    "    def get_ir_list(self):\n",
    "        return self._ir_list\n",
    "    \n",
    "    def get_base_date(self):\n",
    "        return self._base_date\n",
    "    \n",
    "#TODO implement make list for interpolation and interpolate swap rate\n",
    "#TODO implement calc DF for Money Market"
   ]
  },
  {
   "cell_type": "code",
   "execution_count": 252,
   "metadata": {},
   "outputs": [
    {
     "data": {
      "text/plain": [
       "[['O/N', 'Money Market', 'USD', '0.014375', '', '2018/01/18', '2018/01/19'],\n",
       " ['1.0W', 'Money Market', 'USD', '0.0146533', '', '2018/01/20', '2018/01/25'],\n",
       " ['1.0M', 'Money Market', 'USD', '0.0156118', '', '2018/01/20', '2018/02/17'],\n",
       " ['2.0M', 'Money Market', 'USD', '0.0163482', '', '2018/01/20', '2018/03/19'],\n",
       " ['3.0M', 'Money Market', 'USD', '0.017447', '', '2018/01/20', '2018/04/18'],\n",
       " ['6.0M', 'Money Market', 'USD', '0.019255', '', '2018/01/20', '2018/07/17'],\n",
       " ['1.0Y', 'Swap', 'USD', '0.02045', '6M', '2018/01/20', '2019/01/18'],\n",
       " ['2.0Y', 'Swap', 'USD', '0.02257', '6M', '2018/01/20', '2020/01/18'],\n",
       " ['3.0Y', 'Swap', 'USD', '0.02366', '6M', '2018/01/20', '2021/01/17'],\n",
       " ['4.0Y', 'Swap', 'USD', '0.02427', '6M', '2018/01/20', '2022/01/17'],\n",
       " ['5.0Y', 'Swap', 'USD', '0.02468', '6M', '2018/01/20', '2023/01/17'],\n",
       " ['6.0Y', 'Swap', 'USD', '0.02504', '6M', '2018/01/20', '2024/01/17'],\n",
       " ['7.0Y', 'Swap', 'USD', '0.02536', '6M', '2018/01/20', '2025/01/16'],\n",
       " ['8.0Y', 'Swap', 'USD', '0.02565', '6M', '2018/01/20', '2026/01/16'],\n",
       " ['9.0Y', 'Swap', 'USD', '0.02591', '6M', '2018/01/20', '2027/01/16'],\n",
       " ['10.0Y', 'Swap', 'USD', '0.02615', '6M', '2018/01/20', '2028/01/16'],\n",
       " ['15.0Y', 'Swap', 'USD', '0.0269', '6M', '2018/01/20', '2033/01/14'],\n",
       " ['20.0Y', 'Swap', 'USD', '0.02722', '6M', '2018/01/20', '2038/01/13'],\n",
       " ['30.0Y', 'Swap', 'USD', '0.02715', '6M', '2018/01/20', '2048/01/11']]"
      ]
     },
     "execution_count": 252,
     "metadata": {},
     "output_type": "execute_result"
    }
   ],
   "source": [
    "discount_factor('20180118_IR.csv').get_ir_list()"
   ]
  },
  {
   "cell_type": "code",
   "execution_count": 201,
   "metadata": {},
   "outputs": [
    {
     "ename": "ValueError",
     "evalue": "Unknown format code 'f' for object of type 'str'",
     "output_type": "error",
     "traceback": [
      "\u001b[0;31m---------------------------------------------------------------------------\u001b[0m",
      "\u001b[0;31mValueError\u001b[0m                                Traceback (most recent call last)",
      "\u001b[0;32m<ipython-input-201-6fdf4566b10c>\u001b[0m in \u001b[0;36m<module>\u001b[0;34m()\u001b[0m\n\u001b[0;32m----> 1\u001b[0;31m \u001b[0mint\u001b[0m\u001b[0;34m(\u001b[0m\u001b[0;34m'{:.0f}'\u001b[0m\u001b[0;34m.\u001b[0m\u001b[0mformat\u001b[0m\u001b[0;34m(\u001b[0m\u001b[0;34m'1.0'\u001b[0m\u001b[0;34m)\u001b[0m\u001b[0;34m)\u001b[0m\u001b[0;34m\u001b[0m\u001b[0m\n\u001b[0m",
      "\u001b[0;31mValueError\u001b[0m: Unknown format code 'f' for object of type 'str'"
     ]
    }
   ],
   "source": [
    "int('{:.0f}'.format('1.0'))"
   ]
  },
  {
   "cell_type": "code",
   "execution_count": 70,
   "metadata": {
    "collapsed": true
   },
   "outputs": [],
   "source": [
    "    def get_ir_list(ir_list_name):\n",
    "        with open(ir_list_name, 'r') as csvfile:\n",
    "            reader_obj = csv.reader(csvfile)\n",
    "            # rewritten header_obj by using next method(???)\n",
    "            header_obj = next(reader_obj)\n",
    "            ir_list = []\n",
    "            for row in reader_obj:\n",
    "                ir_list.append(row)\n",
    "            temp_num = [[] for i in range(len(ir_list))] # comprehension expression for making null list.\n",
    "            for i in range(len(ir_list)):\n",
    "                if (ir_list[i][0][0].isdigit()):\n",
    "                    num_tenor = ir_list[i][0][0: len(ir_list[i][0])-1]\n",
    "                    unit_tenor = ir_list[i][0][-1]\n",
    "                    temp_num[i] = \"{:.1f}\".format(int(num_tenor))\n",
    "                    ir_list[i][0] = temp_num[i] + unit_tenor\n",
    "        return ir_list"
   ]
  },
  {
   "cell_type": "code",
   "execution_count": 71,
   "metadata": {},
   "outputs": [
    {
     "data": {
      "text/plain": [
       "[['O/N', 'Money Market', 'USD', '0.014375', ''],\n",
       " ['1.0W', 'Money Market', 'USD', '0.0146533', ''],\n",
       " ['1.0M', 'Money Market', 'USD', '0.0156118', ''],\n",
       " ['2.0M', 'Money Market', 'USD', '0.0163482', ''],\n",
       " ['3.0M', 'Money Market', 'USD', '0.017447', ''],\n",
       " ['6.0M', 'Money Market', 'USD', '0.019255', ''],\n",
       " ['1.0Y', 'Swap', 'USD', '0.02045', '6M'],\n",
       " ['2.0Y', 'Swap', 'USD', '0.02257', '6M'],\n",
       " ['3.0Y', 'Swap', 'USD', '0.02366', '6M'],\n",
       " ['4.0Y', 'Swap', 'USD', '0.02427', '6M'],\n",
       " ['5.0Y', 'Swap', 'USD', '0.02468', '6M'],\n",
       " ['6.0Y', 'Swap', 'USD', '0.02504', '6M'],\n",
       " ['7.0Y', 'Swap', 'USD', '0.02536', '6M'],\n",
       " ['8.0Y', 'Swap', 'USD', '0.02565', '6M'],\n",
       " ['9.0Y', 'Swap', 'USD', '0.02591', '6M'],\n",
       " ['10.0Y', 'Swap', 'USD', '0.02615', '6M'],\n",
       " ['15.0Y', 'Swap', 'USD', '0.0269', '6M'],\n",
       " ['20.0Y', 'Swap', 'USD', '0.02722', '6M'],\n",
       " ['30.0Y', 'Swap', 'USD', '0.02715', '6M']]"
      ]
     },
     "execution_count": 71,
     "metadata": {},
     "output_type": "execute_result"
    }
   ],
   "source": [
    "get_ir_list('20180118_IR.csv')"
   ]
  },
  {
   "cell_type": "code",
   "execution_count": 55,
   "metadata": {},
   "outputs": [
    {
     "data": {
      "text/plain": [
       "[['O/N', 'Money Market', 'USD', '0.014375', ''],\n",
       " ['1.0W', 'Money Market', 'USD', '0.0146533', ''],\n",
       " ['1.0M', 'Money Market', 'USD', '0.0156118', ''],\n",
       " ['2.0M', 'Money Market', 'USD', '0.0163482', ''],\n",
       " ['3.0M', 'Money Market', 'USD', '0.017447', ''],\n",
       " ['6.0M', 'Money Market', 'USD', '0.019255', ''],\n",
       " ['1.0Y', 'Swap', 'USD', '0.02045', '6M'],\n",
       " ['2.0Y', 'Swap', 'USD', '0.02257', '6M'],\n",
       " ['3.0Y', 'Swap', 'USD', '0.02366', '6M'],\n",
       " ['4.0Y', 'Swap', 'USD', '0.02427', '6M'],\n",
       " ['5.0Y', 'Swap', 'USD', '0.02468', '6M'],\n",
       " ['6.0Y', 'Swap', 'USD', '0.02504', '6M'],\n",
       " ['7.0Y', 'Swap', 'USD', '0.02536', '6M'],\n",
       " ['8.0Y', 'Swap', 'USD', '0.02565', '6M'],\n",
       " ['9.0Y', 'Swap', 'USD', '0.02591', '6M'],\n",
       " ['10.0Y', 'Swap', 'USD', '0.02615', '6M'],\n",
       " ['15.0Y', 'Swap', 'USD', '0.0269', '6M'],\n",
       " ['20.0Y', 'Swap', 'USD', '0.02722', '6M'],\n",
       " ['30.0Y', 'Swap', 'USD', '0.02715', '6M']]"
      ]
     },
     "execution_count": 55,
     "metadata": {},
     "output_type": "execute_result"
    }
   ],
   "source": [
    "import csv\n",
    "\n",
    "with open('20180118_IR.csv', 'r') as csvfile:\n",
    "    reader_obj = csv.reader(csvfile)\n",
    "    # rewritten header_obj by using next method(???)\n",
    "    header_obj = next(reader_obj)\n",
    "    ir_list = []\n",
    "    for row in reader_obj:\n",
    "        ir_list.append(row)\n",
    "    temp_num = [[] for i in range(len(ir_list))] # comprehension expression for making null list.\n",
    "    for i in range(len(ir_list)):\n",
    "        if (ir_list[i][0][0].isdigit()):\n",
    "            num_tenor = ir_list[i][0][0: len(ir_list[i][0])-1]\n",
    "            unit_tenor = ir_list[i][0][-1]\n",
    "            temp_num[i] = \"{:.1f}\".format(int(num_tenor))\n",
    "            ir_list[i][0] = temp_num[i] + unit_tenor\n",
    "\n",
    "ir_list"
   ]
  },
  {
   "cell_type": "code",
   "execution_count": null,
   "metadata": {},
   "outputs": [],
   "source": []
  },
  {
   "cell_type": "code",
   "execution_count": null,
   "metadata": {
    "collapsed": true
   },
   "outputs": [],
   "source": []
  }
 ],
 "metadata": {
  "kernelspec": {
   "display_name": "Python 3",
   "language": "python",
   "name": "python3"
  },
  "language_info": {
   "codemirror_mode": {
    "name": "ipython",
    "version": 3
   },
   "file_extension": ".py",
   "mimetype": "text/x-python",
   "name": "python",
   "nbconvert_exporter": "python",
   "pygments_lexer": "ipython3",
   "version": "3.6.2"
  }
 },
 "nbformat": 4,
 "nbformat_minor": 2
}
