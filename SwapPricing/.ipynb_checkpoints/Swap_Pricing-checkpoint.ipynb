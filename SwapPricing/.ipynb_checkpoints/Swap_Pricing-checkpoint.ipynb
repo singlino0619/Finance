{
 "cells": [
  {
   "cell_type": "markdown",
   "metadata": {},
   "source": [
    "# Get discount factor for JPY\n",
    "- input: MoneyMarket (short term interest rate), Swap rate.\n",
    "- output: discount factors for each tenor listed by MoneMarket and Swap rate.\n",
    "\n",
    "## Pricing\n",
    "### Swap pricing formula\n",
    "The value of the exchange between a floot and a fixed side is given by\n",
    "$$\n",
    "V = \\sum_{i = 1}^{N}  L(t_{i-1}, t_{i}) \\times DF(t_{i}) \\times \\delta_{i} - \\sum_{i = 1}^{N} SwapRate \\times DF(t_{i})\\times \\delta_{i},\n",
    "$$\n",
    "where $L(t_{i-1}, t_{i})$ is the floot interest rate between $t_{i-1}$ and $t_{i}$, $DF(t_{i})$ is a discount factor, $\\delta_{i}$ is a day-count-fraction and $SwapRate$ is a Swap rate which means a par rate for a swap trade.\n",
    "\n",
    "### Bootstrap method for getting discount factors\n",
    "Discount factors as of today can be estimated from a par swap trade which corresponds to $V = 0$ under swap pricing formula. \n",
    "For example, let us consider a swap trade with maturity of 1.5 year. The discount factor for 1.5 year $DF(t_{1.5Y})$ is calculated by solveing the following equation:\n",
    "$$\n",
    "\\sum_{i = 1}^{3}  L(t_{i-1}, t_{i}) \\times DF(t_{i}) \\times \\delta = \\sum_{i = 1}^{3} SwapRate(1.5Y) \\times DF(t_{i})\\times \\delta\n",
    "$$\n",
    "\n",
    "where a quoted swap rate is used for $SwapRate(1.5Y)$, the day-count-fraction $\\delta$ is asuumed 6 month and the floot side interest rate is assumed that a following model expressed as\n",
    "$$\n",
    "L(t_{i-1}, t_{i}) = \\frac{1}{\\delta} \\Big( \\frac{ DF(t_{i-1}) }{ DF(t_{i}) } - 1 \\Big).\n",
    "$$\n",
    "The above equation can be solved by using $DF(t_{0.5Y})$, $DF(t_{1.0Y})$ and the floot interest rate which is defined as above equation. As a result, the discount factor $DF(t_{1.5Y})$  is given by\n",
    "$$\n",
    "DF(t_{1.5Y}) = \\frac{1}{(1 + \\delta \\times SwapRate(1.5Y))} \\Big( DF(t_{0}) - SwapRate(1.5Y) \\times \\delta \\times \\big(DF(t_{0.5Y}) + DF(t_{1.0Y}) \\big) \\Big),\n",
    "$$\n",
    "\n",
    "where $DF(t_{0.5Y})$ and $DF(t_{1.0Y})$ is calculated by using a quoted LIBOR (the rate of Money Market). The short rate of Money Market means spot rate, where the cashflows is expressed as only two terms. For example, $DF(t_{0.5Y})$ is given by\n",
    "$$\n",
    "DF(t_{0.5Y}) = \\frac{1}{( 1 + \\delta \\times L(0.0Y, 0.5Y))},\n",
    "$$\n",
    "\n",
    "where $L(0.0Y, 0.5Y)$ is the LIBOR rate between today and 6 month later.\n",
    "Discount factors after $t_{1.5Y}$ can be calculated by the same way as the derivation of $DF(t_{1.5Y})$.\n",
    "This method of getting discount factors gradually is called Bootstrap method.\n",
    "\n",
    "[](\n",
    "Continuously, let us consider a T/N swap trade. When $V = 0$ under the swap pricing formula, it is written by \n",
    "$$\n",
    "FixedRate(T/N)\\ ( DF(t_{O/N}) \\times \\delta_{1} + DF(t_{T/N}) \\times \\delta_{2} ) \\\\\n",
    " = ( DF(t_{O/N}) - DF(t_{0}) ) \\delta_{1} + (DF(t_{T/N}) - DF(t_{O/N})) \\delta_{2}, \n",
    "$$  \n",
    "\\\n",
    "where $\\delta_2$ is a day-count-fraction between $t_{O/N}$ and $t_{T/N}$ and a quoted Tomorrow-Next Rate is used for $FixedRate(T/N)$. \n",
    "This equation can be solved for $DF(t_{T/N})$ by using $DF(t_{O/N})$ which is derived from the above equation. \n",
    "In this way, discount factors at each tenor is calculated. This method for getiing discount factors is called as Bootstrap method. \n",
    "The expression of $DF(t_{T/N})$ is given by \n",
    "$$\n",
    "DF(t_{T/N}) = \\frac{ FixedRate(T/N)\\times DF(t_{O/N}) + DF(t_0) }{ 1 - FixedRate(T/N) } \n",
    "$$\n",
    ")"
   ]
  },
  {
   "cell_type": "code",
   "execution_count": 8,
   "metadata": {},
   "outputs": [
    {
     "ename": "IndentationError",
     "evalue": "expected an indented block (<ipython-input-8-180ce8381581>, line 14)",
     "output_type": "error",
     "traceback": [
      "\u001b[0;36m  File \u001b[0;32m\"<ipython-input-8-180ce8381581>\"\u001b[0;36m, line \u001b[0;32m14\u001b[0m\n\u001b[0;31m    '''\u001b[0m\n\u001b[0m       \n^\u001b[0m\n\u001b[0;31mIndentationError\u001b[0m\u001b[0;31m:\u001b[0m expected an indented block\n"
     ]
    }
   ],
   "source": [
    "import matplotlib.pyplot as plt\n",
    "import numpy as np\n",
    "import datetime\n",
    "\n",
    "class getDF_moneymarket:\n",
    "'''    def __init__(self, libor_rate, start_day, end_day):\n",
    "        self.libor_rate = libor_rate\n",
    "        self.start_day = start_day\n",
    "        self.end_day = end_day\n",
    "        self.datetime_obj_start = datetime.datetime.strptime(start_day, '%Y/%m/%d')\n",
    "        self.datetime_obj_end = datetime.datetime.strptime(end_day, '%Y/%m/%d')\n",
    "        self.daycount = (self.datetime_obj_end - self.datetime_obj_start).days / 360\n",
    "        self.discount_factor = 0\n",
    "'''\n",
    "    def __init__(self, today, array_ccy):\n",
    "            self._start_day = today\n",
    "\n",
    "    def getDF(self, seq_moneymarket):\n",
    "        "
   ]
  },
  {
   "cell_type": "code",
   "execution_count": 9,
   "metadata": {},
   "outputs": [
    {
     "ename": "NameError",
     "evalue": "name 'getDF_moneymarket' is not defined",
     "output_type": "error",
     "traceback": [
      "\u001b[0;31m---------------------------------------------------------------------------\u001b[0m",
      "\u001b[0;31mNameError\u001b[0m                                 Traceback (most recent call last)",
      "\u001b[0;32m<ipython-input-9-20a95f09654c>\u001b[0m in \u001b[0;36m<module>\u001b[0;34m()\u001b[0m\n\u001b[0;32m----> 1\u001b[0;31m \u001b[0mDF\u001b[0m \u001b[0;34m=\u001b[0m \u001b[0mgetDF_moneymarket\u001b[0m\u001b[0;34m(\u001b[0m\u001b[0;36m0.2\u001b[0m\u001b[0;34m,\u001b[0m \u001b[0;34m'2017/12/18'\u001b[0m\u001b[0;34m,\u001b[0m \u001b[0;34m'2019/12/30'\u001b[0m\u001b[0;34m)\u001b[0m\u001b[0;34m\u001b[0m\u001b[0m\n\u001b[0m\u001b[1;32m      2\u001b[0m \u001b[0mprint\u001b[0m\u001b[0;34m(\u001b[0m\u001b[0mDF\u001b[0m\u001b[0;34m.\u001b[0m\u001b[0mdiscount_factor\u001b[0m\u001b[0;34m)\u001b[0m\u001b[0;34m\u001b[0m\u001b[0m\n\u001b[1;32m      3\u001b[0m \u001b[0mprint\u001b[0m\u001b[0;34m(\u001b[0m\u001b[0mDF\u001b[0m\u001b[0;34m.\u001b[0m\u001b[0mgetDF\u001b[0m\u001b[0;34m(\u001b[0m\u001b[0;34m)\u001b[0m\u001b[0;34m)\u001b[0m\u001b[0;34m\u001b[0m\u001b[0m\n\u001b[1;32m      4\u001b[0m \u001b[0mprint\u001b[0m\u001b[0;34m(\u001b[0m\u001b[0mDF\u001b[0m\u001b[0;34m.\u001b[0m\u001b[0mdiscount_factor\u001b[0m\u001b[0;34m)\u001b[0m\u001b[0;34m\u001b[0m\u001b[0m\n",
      "\u001b[0;31mNameError\u001b[0m: name 'getDF_moneymarket' is not defined"
     ]
    }
   ],
   "source": [
    "DF = getDF_moneymarket(0.2, '2017/12/18', '2019/12/30')\n",
    "print(DF.discount_factor)\n",
    "print(DF.getDF())\n",
    "print(DF.discount_factor)"
   ]
  },
  {
   "cell_type": "code",
   "execution_count": 10,
   "metadata": {},
   "outputs": [
    {
     "ename": "NameError",
     "evalue": "name 'getDF_moneymarket' is not defined",
     "output_type": "error",
     "traceback": [
      "\u001b[0;31m---------------------------------------------------------------------------\u001b[0m",
      "\u001b[0;31mNameError\u001b[0m                                 Traceback (most recent call last)",
      "\u001b[0;32m<ipython-input-10-1243af6ebe67>\u001b[0m in \u001b[0;36m<module>\u001b[0;34m()\u001b[0m\n\u001b[0;32m----> 1\u001b[0;31m \u001b[0mDF1\u001b[0m \u001b[0;34m=\u001b[0m \u001b[0mgetDF_moneymarket\u001b[0m\u001b[0;34m(\u001b[0m\u001b[0;36m0.3\u001b[0m\u001b[0;34m,\u001b[0m \u001b[0;34m'2017/12/18'\u001b[0m\u001b[0;34m,\u001b[0m \u001b[0;34m'2018/3/20'\u001b[0m\u001b[0;34m)\u001b[0m\u001b[0;34m\u001b[0m\u001b[0m\n\u001b[0m\u001b[1;32m      2\u001b[0m \u001b[0mDF1\u001b[0m\u001b[0;34m.\u001b[0m\u001b[0mgetDF\u001b[0m\u001b[0;34m(\u001b[0m\u001b[0;34m)\u001b[0m\u001b[0;34m\u001b[0m\u001b[0m\n",
      "\u001b[0;31mNameError\u001b[0m: name 'getDF_moneymarket' is not defined"
     ]
    }
   ],
   "source": [
    "DF1 = getDF_moneymarket(0.3, '2017/12/18', '2018/3/20')\n",
    "DF1.getDF()"
   ]
  },
  {
   "cell_type": "code",
   "execution_count": 15,
   "metadata": {},
   "outputs": [
    {
     "data": {
      "text/plain": [
       "[['O/N', 0.99996014603284633],\n",
       " ['T/N', 0.99992029365403134],\n",
       " ['1W', 0.99963114479189386],\n",
       " ['2W', 0.99933734686835807],\n",
       " ['1M', 0.99861959163592562],\n",
       " ['2M', 0.9972344089791807],\n",
       " ['3M', 0.99572579872689437],\n",
       " ['6M', 0.99083925191027356],\n",
       " ['1Y', 0.97935386254067724]]"
      ]
     },
     "execution_count": 15,
     "metadata": {},
     "output_type": "execute_result"
    }
   ],
   "source": [
    "%matplotlib inline\n",
    "import numpy as np\n",
    "import csv\n",
    "import time\n",
    "import datetime\n",
    "import matplotlib.pyplot as plt\n",
    "\n",
    "with open('sample_moneymarket.csv', 'r') as csvfile:\n",
    "    reader_obj = csv.reader(csvfile)\n",
    "    # rewritten header_obj by using next method(???)\n",
    "    header_obj = next(reader_obj)\n",
    "    mm_list = []\n",
    "    for row in reader_obj:\n",
    "        mm_list.append(row)\n",
    "        \n",
    "mm_list\n",
    "\n",
    "\n",
    "\n",
    "\n",
    "def get_DF_MM(money_market_list):\n",
    "    list_len = len(money_market_list)\n",
    "    discount_factor = np.zeros(list_len*2).reshape(list_len, 2)\n",
    "    discount_factor = [[\"\",0.0] for i in range(list_len)]\n",
    "    day_count_fraction = np.zeros(list_len)\n",
    "    # substitution the kinf of trade\n",
    "    for i in range(0,list_len):\n",
    "             discount_factor[i][0] = money_market_list[i][0]\n",
    "    # calc daycount-fraction\n",
    "    convention = 360.0\n",
    "    for i in range(0, len(day_count_fraction)):\n",
    "        day_count_fraction[i] = calc_daycount(money_market_list[i][1], money_market_list[i][2], convention)\n",
    "    # calculate DF of O/N\n",
    "    discount_factor[0][1] = 1.0 / (1.0 + day_count_fraction[0] * float(money_market_list[0][3]))\n",
    "    # calculate DF of  T/N\n",
    "    discount_factor[1][1] = discount_factor[0][1] /(1.0 + day_count_fraction[1]*float(money_market_list[1][3]))\n",
    "    # calculate DF after 1W\n",
    "    for i in range(2, list_len):\n",
    "        discount_factor[i][1] = discount_factor[1][1] / (1.0 + day_count_fraction[i] * float(money_market_list[i][3]))\n",
    "    return discount_factor\n",
    "                                   \n",
    "def calc_daycount(start_day, end_day, convention):\n",
    "    datetime_obj_start = datetime.datetime.strptime(start_day, '%Y/%m/%d')\n",
    "    datetime_obj_end = datetime.datetime.strptime(end_day, '%Y/%m/%d')\n",
    "    daycount = (datetime_obj_end - datetime_obj_start).days / convention\n",
    "    return daycount\n",
    "\n",
    "def draw_DF(seq_discount_factor):\n",
    "        list_len = len(seq_discount_factor)\n",
    "        seq_DF = np.zeros(list_len)\n",
    "        for i in range(0, list_len):\n",
    "            seq_DF[i] = seq_discount_factor[i][1]\n",
    "        plt.plot(seq_DF)\n",
    "        plt.ylim([0,1.0])\n",
    "\n",
    "def get_DF_SW(money_market_list, swap_rate_list):\n",
    "    DF_moneymarket = get_DF_MM(money_market_list)\n",
    "\n",
    "\n",
    "    \n",
    "                                   \n",
    "list_discountfactor = get_DF(mm_list)\n",
    "list_discountfactor\n",
    "# draw_DF(list_discountfactor)"
   ]
  },
  {
   "cell_type": "code",
   "execution_count": 43,
   "metadata": {},
   "outputs": [
    {
     "data": {
      "text/plain": [
       "[[], [], [], [], []]"
      ]
     },
     "execution_count": 43,
     "metadata": {},
     "output_type": "execute_result"
    }
   ],
   "source": [
    "[[] for i in range(5)]"
   ]
  },
  {
   "cell_type": "code",
   "execution_count": 55,
   "metadata": {},
   "outputs": [
    {
     "data": {
      "text/plain": [
       "0.16666666666666666"
      ]
     },
     "execution_count": 55,
     "metadata": {},
     "output_type": "execute_result"
    }
   ],
   "source": [
    "calc_daycount(mm_list[0][1], mm_list[0][2], 360)\n",
    "calc_daycount(mm_list[5][1], mm_list[5][2], 360)"
   ]
  },
  {
   "cell_type": "code",
   "execution_count": 56,
   "metadata": {},
   "outputs": [
    {
     "data": {
      "text/plain": [
       "0.00141"
      ]
     },
     "execution_count": 56,
     "metadata": {},
     "output_type": "execute_result"
    }
   ],
   "source": [
    "float(mm_list[0][3])"
   ]
  },
  {
   "cell_type": "markdown",
   "metadata": {},
   "source": [
    "### エラーメッセージ\n",
    "\n",
    "---\n",
    "TypeError                                 Traceback (most recent call last)\n",
    "<ipython-input-29-8d376080b34d> in <module>()\n",
    "     33     return daycount\n",
    "     34 \n",
    "---> 35 get_DF(mm_list)\n",
    "\n",
    "<ipython-input-29-8d376080b34d> in get_DF(money_market_list)\n",
    "     24     convention = 360.0\n",
    "     25     day_count_fraction[0] = calc_daycount(money_market_list[0][1], money_market_list[0][2], convention)\n",
    "---> 26     discount_factor[0][1] = 1.0 / (1.0 + day_count_fraction[0] * money_market_list[0][3])\n",
    "     27     return discount_factor\n",
    "     28 \n",
    "\n",
    "TypeError: 'numpy.float64' object cannot be interpreted as an integer\n",
    "\n",
    "---\n",
    "### 解決策\n",
    "- 数値と文字列が混ざっているのでどちらかに統一すべし"
   ]
  },
  {
   "cell_type": "code",
   "execution_count": null,
   "metadata": {
    "collapsed": true
   },
   "outputs": [],
   "source": []
  },
  {
   "cell_type": "code",
   "execution_count": null,
   "metadata": {
    "collapsed": true
   },
   "outputs": [],
   "source": []
  }
 ],
 "metadata": {
  "kernelspec": {
   "display_name": "Python 3",
   "language": "python",
   "name": "python3"
  },
  "language_info": {
   "codemirror_mode": {
    "name": "ipython",
    "version": 3
   },
   "file_extension": ".py",
   "mimetype": "text/x-python",
   "name": "python",
   "nbconvert_exporter": "python",
   "pygments_lexer": "ipython3",
   "version": "3.6.2"
  }
 },
 "nbformat": 4,
 "nbformat_minor": 2
}
