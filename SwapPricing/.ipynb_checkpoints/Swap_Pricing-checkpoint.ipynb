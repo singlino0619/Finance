{
 "cells": [
  {
   "cell_type": "markdown",
   "metadata": {},
   "source": [
    "# Get discount factor for JPY\n",
    "- input: MoneyMarket (short term interest rate), Swap rate.\n",
    "- output: discount factors for each tenor listed by MoneMarket and Swap rate.\n",
    "\n",
    "## Pricing\n",
    "### Swap pricing formula\n",
    "The value of the exchange between a floot and a fixed side is given by\n",
    "$$\n",
    "V = \\sum_{i = 1}^{N}  L(t_{i-1}, t_{i}) \\times DF(t_{i}) \\times \\delta_{i} - \\sum_{i = 1}^{N} SwapRate \\times DF(t_{i})\\times \\delta_{i},\n",
    "$$\n",
    "where $L(t_{i-1}, t_{i})$ is the floot interest rate between $t_{i-1}$ and $t_{i}$, $DF(t_{i})$ is a discount factor, $\\delta_{i}$ is a day-count-fraction and $SwapRate$ is a Swap rate which means a par rate for a swap trade.\n",
    "\n",
    "### Bootstrap method for getting discount factors\n",
    "Discount factors as of today can be estimated from a par swap trade which corresponds to $V = 0$ under swap pricing formula. \n",
    "For example, let us consider a swap trade with maturity of 1.5 year. The discount factor for 1.5 year $DF(t_{1.5Y})$ is calculated by solveing the following equation:\n",
    "$$\n",
    "\\sum_{i = 1}^{3}  L(t_{i-1}, t_{i}) \\times DF(t_{i}) \\times \\delta = \\sum_{i = 1}^{3} SwapRate(1.5Y) \\times DF(t_{i})\\times \\delta\n",
    "$$\n",
    "\n",
    "where a quoted swap rate is used for $SwapRate(1.5Y)$, the day-count-fraction $\\delta$ is asuumed 6 month and the floot side interest rate is assumed that a following model expressed as\n",
    "$$\n",
    "L(t_{i-1}, t_{i}) = \\frac{1}{\\delta} \\Big( \\frac{ DF(t_{i-1}) }{ DF(t_{i}) } - 1 \\Big).\n",
    "$$\n",
    "The above equation can be solved by using $DF(t_{0.5Y})$, $DF(t_{1.0Y})$ and the floot interest rate which is defined as above equation. As a result, the discount factor $DF(t_{1.5Y})$  is given by\n",
    "$$\n",
    "DF(t_{1.5Y}) = \\frac{1}{(1 + \\delta \\times SwapRate(1.5Y))} \\Big( DF(t_{0}) - SwapRate(1.5Y) \\times \\delta \\times \\big(DF(t_{0.5Y}) + DF(t_{1.0Y}) \\big) \\Big),\n",
    "$$\n",
    "\n",
    "where $DF(t_{0.5Y})$ and $DF(t_{1.0Y})$ is calculated by using a quoted LIBOR (the rate of Money Market). The short rate of Money Market means spot rate, where the cashflows is expressed as only two terms. For example, $DF(t_{0.5Y})$ is given by\n",
    "$$\n",
    "DF(t_{0.5Y}) = \\frac{1}{( 1 + \\delta \\times L(0.0Y, 0.5Y))},\n",
    "$$\n",
    "\n",
    "where $L(0.0Y, 0.5Y)$ is the LIBOR rate between today and 6 month later.\n",
    "Discount factors after $t_{1.5Y}$ can be calculated by the same way as the derivation of $DF(t_{1.5Y})$.\n",
    "This method of getting discount factors gradually is called Bootstrap method.\n",
    "\n",
    "[](\n",
    "Continuously, let us consider a T/N swap trade. When $V = 0$ under the swap pricing formula, it is written by \n",
    "$$\n",
    "FixedRate(T/N)\\ ( DF(t_{O/N}) \\times \\delta_{1} + DF(t_{T/N}) \\times \\delta_{2} ) \\\\\n",
    " = ( DF(t_{O/N}) - DF(t_{0}) ) \\delta_{1} + (DF(t_{T/N}) - DF(t_{O/N})) \\delta_{2}, \n",
    "$$  \n",
    "\\\n",
    "where $\\delta_2$ is a day-count-fraction between $t_{O/N}$ and $t_{T/N}$ and a quoted Tomorrow-Next Rate is used for $FixedRate(T/N)$. \n",
    "This equation can be solved for $DF(t_{T/N})$ by using $DF(t_{O/N})$ which is derived from the above equation. \n",
    "In this way, discount factors at each tenor is calculated. This method for getiing discount factors is called as Bootstrap method. \n",
    "The expression of $DF(t_{T/N})$ is given by \n",
    "$$\n",
    "DF(t_{T/N}) = \\frac{ FixedRate(T/N)\\times DF(t_{O/N}) + DF(t_0) }{ 1 - FixedRate(T/N) } \n",
    "$$\n",
    "'')"
   ]
  },
  {
   "cell_type": "code",
   "execution_count": 1,
   "metadata": {},
   "outputs": [
    {
     "ename": "IndentationError",
     "evalue": "expected an indented block (<ipython-input-1-180ce8381581>, line 14)",
     "output_type": "error",
     "traceback": [
      "\u001b[0;36m  File \u001b[0;32m\"<ipython-input-1-180ce8381581>\"\u001b[0;36m, line \u001b[0;32m14\u001b[0m\n\u001b[0;31m    '''\u001b[0m\n\u001b[0m       \n^\u001b[0m\n\u001b[0;31mIndentationError\u001b[0m\u001b[0;31m:\u001b[0m expected an indented block\n"
     ]
    }
   ],
   "source": [
    "''' import matplotlib.pyplot as plt\n",
    "import numpy as np\n",
    "import datetime\n",
    "\n",
    "class getDF_moneymarket:\n",
    "   def __init__(self, libor_rate, start_day, end_day):\n",
    "        self.libor_rate = libor_rate\n",
    "        self.start_day = start_day\n",
    "        self.end_day = end_day\n",
    "        self.datetime_obj_start = datetime.datetime.strptime(start_day, '%Y/%m/%d')\n",
    "        self.datetime_obj_end = datetime.datetime.strptime(end_day, '%Y/%m/%d')\n",
    "        self.daycount = (self.datetime_obj_end - self.datetime_obj_start).days / 360\n",
    "        self.discount_factor = 0\n",
    "        \n",
    "    def __init__(self, today, array_ccy):\n",
    "            self._start_day = today\n",
    "\n",
    "    def getDF(self, seq_moneymarket):\n",
    "'''        "
   ]
  },
  {
   "cell_type": "code",
   "execution_count": 175,
   "metadata": {},
   "outputs": [
    {
     "data": {
      "text/plain": [
       "\"DF = getDF_moneymarket(0.2, '2017/12/18', '2019/12/30')\\nprint(DF.discount_factor)\\nprint(DF.getDF())\\nprint(DF.discount_factor)\\n\""
      ]
     },
     "execution_count": 175,
     "metadata": {},
     "output_type": "execute_result"
    }
   ],
   "source": [
    "'''DF = getDF_moneymarket(0.2, '2017/12/18', '2019/12/30')\n",
    "print(DF.discount_factor)\n",
    "print(DF.getDF())\n",
    "print(DF.discount_factor)\n",
    "'''"
   ]
  },
  {
   "cell_type": "code",
   "execution_count": 174,
   "metadata": {},
   "outputs": [
    {
     "data": {
      "text/plain": [
       "\"DF1 = getDF_moneymarket(0.3, '2017/12/18', '2018/3/20')\\nDF1.getDF()\\n\""
      ]
     },
     "execution_count": 174,
     "metadata": {},
     "output_type": "execute_result"
    }
   ],
   "source": [
    "'''DF1 = getDF_moneymarket(0.3, '2017/12/18', '2018/3/20')\n",
    "DF1.getDF()\n",
    "'''"
   ]
  },
  {
   "cell_type": "markdown",
   "metadata": {},
   "source": [
    "# 1/20\n",
    "- money marketのDFのリストの形式を変更\n",
    "    - [tenor, DF]　から [tenor, start, end, labor_rate, DF]の形式に変更"
   ]
  },
  {
   "cell_type": "code",
   "execution_count": 252,
   "metadata": {},
   "outputs": [
    {
     "data": {
      "text/plain": [
       "[['O/N', '2017/12/23', '2017/12/24', 0.014348, 0.99996014603284633],\n",
       " ['T/N', '2017/12/24', '2017/12/25', 0.014348, 0.99992029365403134],\n",
       " ['1W', '2017/12/25', '2018/1/1', 0.014876, 0.99963114479189386],\n",
       " ['2W', '2017/12/25', '2018/1/8', 0.015, 0.99933734686835807],\n",
       " ['1M', '2017/12/25', '2018/1/24', 0.01563, 0.99861959163592562],\n",
       " ['2M', '2017/12/25', '2018/2/23', 0.01616, 0.9972344089791807],\n",
       " ['3M', '2017/12/25', '2018/3/25', 0.01685, 0.99572579872689437],\n",
       " ['6M', '2017/12/25', '2018/6/23', 0.01833, 0.99083925191027356],\n",
       " ['1Y', '2017/12/25', '2018/12/20', 0.021, 0.97935386254067724]]"
      ]
     },
     "execution_count": 252,
     "metadata": {},
     "output_type": "execute_result"
    }
   ],
   "source": [
    "%matplotlib inline\n",
    "import numpy as np\n",
    "import csv\n",
    "import time\n",
    "import datetime\n",
    "import matplotlib.pyplot as plt\n",
    "\n",
    "with open('sample_moneymarket.csv', 'r') as csvfile:\n",
    "    reader_obj = csv.reader(csvfile)\n",
    "    # rewritten header_obj by using next method(???)\n",
    "    header_obj = next(reader_obj)\n",
    "    mm_list = []\n",
    "    for row in reader_obj:\n",
    "        mm_list.append(row)\n",
    "\n",
    "def get_DF_MM(money_market_list):\n",
    "    list_len = len(money_market_list)\n",
    "#    discount_factor = np.zeros(list_len*2).reshape(list_len, 2)\n",
    "    discount_factor_list = [[\"\", \"\", \"\", 0.0,0.0] for i in range(list_len)]\n",
    "#    discount_factor = [[\"\", 0.0] for i in range(list_len)]\n",
    "    day_count_fraction = np.zeros(list_len)\n",
    "    # substitution the kinf of trade\n",
    "    for i in range(0, list_len):\n",
    "        discount_factor_list[i][0] = money_market_list[i][0]\n",
    "        discount_factor_list[i][1] = money_market_list[i][1]\n",
    "        discount_factor_list[i][2] = money_market_list[i][2]\n",
    "        discount_factor_list[i][3] = float(money_market_list[i][3])\n",
    "    # calc daycount-fraction\n",
    "    convention = 360.0\n",
    "    for i in range(0, len(day_count_fraction)):\n",
    "        day_count_fraction[i] = calc_daycount(money_market_list[i][1], money_market_list[i][2], convention)\n",
    "    # calculate DF of O/N\n",
    "    discount_factor_list[0][4] = 1.0 / (1.0 + day_count_fraction[0] * float(discount_factor_list[0][3]))\n",
    "    # calculate DF of  T/N\n",
    "    discount_factor_list[1][4] = discount_factor_list[0][4] /(1.0 + day_count_fraction[1]*float(discount_factor_list[1][3]))\n",
    "    # calculate DF after 1W\n",
    "    for i in range(2, list_len):\n",
    "        discount_factor_list[i][4] = discount_factor_list[1][4] / (1.0 + day_count_fraction[i] * float(discount_factor_list[i][3]))\n",
    "    return discount_factor_list\n",
    "                                   \n",
    "def calc_daycount(start_day, end_day, convention):\n",
    "    datetime_obj_start = datetime.datetime.strptime(start_day, '%Y/%m/%d')\n",
    "    datetime_obj_end = datetime.datetime.strptime(end_day, '%Y/%m/%d')\n",
    "    daycount = (datetime_obj_end - datetime_obj_start).days / convention\n",
    "    return daycount\n",
    "\n",
    "def draw_DF(seq_discount_factor):\n",
    "        list_len = len(seq_discount_factor)\n",
    "        seq_DF = np.zeros(list_len)\n",
    "        for i in range(0, list_len):\n",
    "            seq_DF[i] = seq_discount_factor[i][1]\n",
    "        plt.plot(seq_DF)\n",
    "        plt.ylim([0,1.0])\n",
    "\n",
    "\n",
    "list_discountfactor = get_DF_MM(mm_list)\n",
    "list_discountfactor\n",
    "# draw_DF(list_discountfactor)"
   ]
  },
  {
   "cell_type": "code",
   "execution_count": 246,
   "metadata": {},
   "outputs": [
    {
     "data": {
      "text/plain": [
       "[['O/N', '2017/12/23', '2017/12/24', '0.014348'],\n",
       " ['T/N', '2017/12/24', '2017/12/25', '0.014348'],\n",
       " ['1W', '2017/12/25', '2018/1/1', '0.014876'],\n",
       " ['2W', '2017/12/25', '2018/1/8', '0.015'],\n",
       " ['1M', '2017/12/25', '2018/1/24', '0.01563'],\n",
       " ['2M', '2017/12/25', '2018/2/23', '0.01616'],\n",
       " ['3M', '2017/12/25', '2018/3/25', '0.01685'],\n",
       " ['6M', '2017/12/25', '2018/6/23', '0.01833'],\n",
       " ['1Y', '2017/12/25', '2018/12/20', '0.021']]"
      ]
     },
     "execution_count": 246,
     "metadata": {},
     "output_type": "execute_result"
    }
   ],
   "source": [
    "with open('sample_moneymarket.csv', 'r') as csvfile:\n",
    "    reader_obj = csv.reader(csvfile)\n",
    "    # rewritten header_obj by using next method(???)\n",
    "    header_obj = next(reader_obj)\n",
    "    mm_list = []\n",
    "    for row in reader_obj:\n",
    "        mm_list.append(row)\n",
    "\n",
    "mm_list"
   ]
  },
  {
   "cell_type": "markdown",
   "metadata": {},
   "source": [
    "# 1/15\n",
    "- データの加工\n",
    "    - 小数点表記 (\"{:.1f}\".format())\n",
    "    - 文字列の結合　（+でできる）\n",
    "- 空のリスト作成\n",
    "    - 内包表記 -> [5 for i in range(10)] -> 5が１０個のリスト"
   ]
  },
  {
   "cell_type": "code",
   "execution_count": 247,
   "metadata": {},
   "outputs": [
    {
     "data": {
      "text/plain": [
       "[['1.0Y', '2017/12/25', '2018/12/25', '0.01904'],\n",
       " ['2.0Y', '2017/12/25', '2019/12/25', '0.02086'],\n",
       " ['3.0Y', '2017/12/25', '2020/12/24', '0.02187'],\n",
       " ['4.0Y', '2017/12/25', '2021/12/24', '0.02248'],\n",
       " ['5.0Y', '2017/12/25', '2022/12/24', '0.02295'],\n",
       " ['6.0Y', '2017/12/25', '2023/12/24', '0.02337'],\n",
       " ['7.0Y', '2017/12/25', '2024/12/23', '0.02376'],\n",
       " ['8.0Y', '2017/12/25', '2025/12/23', '0.02411'],\n",
       " ['9.0Y', '2017/12/25', '2026/12/23', '0.02444'],\n",
       " ['10.0Y', '2017/12/25', '2027/12/23', '0.02475'],\n",
       " ['15.0Y', '2017/12/25', '2032/12/21', '0.02582'],\n",
       " ['20.0Y', '2017/12/25', '2037/12/20', '0.02632'],\n",
       " ['30.0Y', '2017/12/25', '2047/12/18', '0.02646']]"
      ]
     },
     "execution_count": 247,
     "metadata": {},
     "output_type": "execute_result"
    }
   ],
   "source": [
    "with open('sample_swaprate.csv', 'r') as csvfile:\n",
    "    reader_obj = csv.reader(csvfile)\n",
    "    # rewritten header_obj by using next method(???)\n",
    "    header_obj = next(reader_obj)\n",
    "    swap_rate_list = []\n",
    "    for row in reader_obj:\n",
    "        swap_rate_list.append(row)\n",
    "    temp_num = [[] for i in range(len(swap_rate_list))] # comprehension expression for making null list.\n",
    "    ### proceccing the expression for the type of 1Y to 1.0Y.\n",
    "    for i in range(len(swap_rate_list)):\n",
    "        if (len(swap_rate_list[i][0]) == 2):\n",
    "            temp_num[i] = \"{:.1f}\".format(int(swap_rate_list[i][0][0])) + swap_rate_list[i][0][1]\n",
    "            swap_rate_list[i][0] = temp_num[i]\n",
    "        elif (len(swap_rate_list[i][0]) == 3):\n",
    "            temp_num[i] = \"{:.1f}\".format(int(swap_rate_list[i][0][0:2])) + swap_rate_list[i][0][2]\n",
    "            swap_rate_list[i][0] = temp_num[i]\n",
    "        else:\n",
    "            break\n",
    "\n",
    "swap_rate_list"
   ]
  },
  {
   "cell_type": "code",
   "execution_count": 10,
   "metadata": {},
   "outputs": [
    {
     "data": {
      "text/plain": [
       "0.16666666666666666"
      ]
     },
     "execution_count": 10,
     "metadata": {},
     "output_type": "execute_result"
    }
   ],
   "source": [
    "calc_daycount(mm_list[0][1], mm_list[0][2], 360)\n",
    "calc_daycount(mm_list[5][1], mm_list[5][2], 360)"
   ]
  },
  {
   "cell_type": "markdown",
   "metadata": {},
   "source": [
    "# 1/15\n",
    "- エクセルのVlookup風の作業\n",
    "    - 半年置きのテナーで，空のswap rateのリストを作成\n",
    "    - 外部データとして存在する，加工済みの（1Y->1.0Y）データとマッチする行はそのまま置き換え\n",
    "    - マッチしない行は据え置きでデフォルトの0を代入したままのリストを作成\n",
    "    \n",
    "# 1/16\n",
    "- get_end_day()関数の作成\n",
    "    - 祝日，　土日勘案はせず．(ってかどうやるの？)"
   ]
  },
  {
   "cell_type": "code",
   "execution_count": 340,
   "metadata": {},
   "outputs": [],
   "source": [
    "def get_end_day(maturity, start_day):\n",
    "    datetime_obj_start = datetime.datetime.strptime(start_day, '%Y/%m/%d')\n",
    "    effective_days = float(maturity[0:len(maturity)-1])*365\n",
    "    end_day = datetime_obj_start + datetime.timedelta(days=effective_days)\n",
    "    return end_day.strftime('%Y/%m/%d')\n",
    "\n",
    "from scipy.interpolate import interp1d\n",
    "def interpolation_swap_rate(swap_rate_list):\n",
    "    xaxis_date = []\n",
    "    yaxis_swap_rate = []\n",
    "    for i in range(len(swap_rate_list)):\n",
    "        xaxis_date.append(float(swap_rate_list[i][0][0:len(swap_rate_list[i][0])-1]))\n",
    "        yaxis_swap_rate.append(float(swap_rate_list[i][3]))\n",
    "    f_interpolated_swap_rate = interp1d(xaxis_date, yaxis_swap_rate)\n",
    "    return f\n",
    "\n",
    "def get_interpolated_swap_rate_list(swap_rate_list, tenor):\n",
    "    max_maturity = float(swap_rate_list[-1][0][0:len(swap_rate_list[-1][0])-1])\n",
    "    seq_len_of_swap_rate = int(max_maturity/tenor - 1)\n",
    "    array_swap_rate = [[\"\", 0, 0, 0] for i in range(seq_len_of_swap_rate )]\n",
    "    for i in range(2,seq_len_of_swap_rate +2):\n",
    "        array_swap_rate[i-2][0] = \"{}Y\".format(i*tenor)\n",
    "    func_interpolated_swap_rate = interpolation_swap_rate(swap_rate_list)\n",
    "    ## for sentence is nested...\n",
    "    ## I wanna reviese code, but I have not an idea. Please tell me better coding if you have.\n",
    "    for i in range(len(array_swap_rate)):\n",
    "        array_swap_rate[i][1] = swap_rate_list[0][1]\n",
    "        array_swap_rate[i][2] = get_end_day(array_swap_rate[i][0], array_swap_rate[i][1])\n",
    "        interpolated_date = float(array_swap_rate[i][0][0:len(array_swap_rate[i][0])-1])\n",
    "        array_swap_rate[i][3] = float(func_interpolated_swap_rate(interpolated_date))\n",
    "        for j in range(len(swap_rate_list)):\n",
    "            if (array_swap_rate[i][0] in swap_rate_list[j][0]):\n",
    "                array_swap_rate[i] = swap_rate_list[j]\n",
    "                break\n",
    "                \n",
    "    return array_swap_rate\n",
    "\n",
    "def get_DF(money_market_list, swap_rate_list, tenor):\n",
    "    interpolated_swap_rate_list_temp = get_interpolated_swap_rate_list(swap_rate_list, tenor)\n",
    "    interpolated_swap_rate_list = interpolated_swap_rate_list_temp[1:len(interpolated_swap_rate_list_temp)]\n",
    "    interpolated_DF_swap_rate_list = [[\"\", \"\", \"\", 0.0, 0.0] for i in range(len(interpolated_swap_rate_list))]\n",
    "    ## interpolated_swa_rate_list[i].append(0)では，swap_rate_listが上書きされていく... append使って書くにはどうする？\n",
    "    for i in range(len(interpolated_swap_rate_list)):\n",
    "        interpolated_DF_swap_rate_list[i][0] = interpolated_swap_rate_list[i][0]\n",
    "        interpolated_DF_swap_rate_list[i][1] = interpolated_swap_rate_list[i][1]\n",
    "        interpolated_DF_swap_rate_list[i][2] = interpolated_swap_rate_list[i][2]\n",
    "        interpolated_DF_swap_rate_list[i][3] = interpolated_swap_rate_list[i][3]\n",
    "    discount_factor_len = len(money_market_list) + len(interpolated_swap_rate_list)\n",
    "    discount_factor_list = [[\"\", \"\", \"\", 0.0, 0.0] for i in range(discount_factor_len)]\n",
    "    DF_money_market_list = get_DF_MM(money_market_list)\n",
    "    # listの結合 llist_new = listA + listB でいける\n",
    "    discount_factor_list = DF_money_market_list + interpolated_DF_swap_rate_list\n",
    "    \n",
    "    return discount_factor_list\n",
    "    \n",
    "def bootstrapping_DF_swap_rate(discount_factor_list, tenor_name):\n",
    "    convention = 360\n",
    "    # make list day_count_fraction\n",
    "    day_count_fraction = np.zeros(len(discount_factor_list))\n",
    "    for i in range(0, len(day_count_fraction)):\n",
    "        day_count_fraction[i] = calc_daycount(discount_factor_list[i][1], discount_factor_list[i][2], convention)\n",
    "    # make list extrac date list for using index\n",
    "    extract_date_list = extract_1d_list(discount_factor_list, 0)\n",
    "    index_roll_tenor = extract_date_list.index('6M')\n",
    "    index_target_tenor = extract_date_list.index('1.5Y')\n",
    "    discount_factor_18M = 1/(1 + day_count_fraction[index_target_tenor]*discount_factor_list[index_target_tenor][3]) \\\n",
    "                                        * (1 - day_count_fraction[index_target_tenor] )\n",
    "    return discount_factor_18M\n",
    "\n",
    "def extract_1d_list(discount_factor_list, index):\n",
    "    extracted_list = []\n",
    "    for i in range(len(discount_factor_list)):\n",
    "        extracted_list.append(discount_factor_list[i][index])\n",
    "    return extracted_list\n",
    "\n",
    "def calc_annuity(discount_factor_list, target_tenor, roll_tenor):\n",
    "    extract_date_list = extract_1d_list(discount_factor_list, 0)\n",
    "    index_target_tenor = extract_date_list.index(target_tenor)\n",
    "    num_of_roll_tenor_in_unit_year = float(transform_tenor_to_unit_in_year(roll_tenor))\n",
    "    num_of_target_tenor_in_unit_year = float(transform_tenor_to_unit_in_year(target_tenor))\n",
    "    num_of_roll = num_of_target_tenor_in_unit_year / num_of_roll_tenor_in_unit_year \n",
    "    make_tenor_list_for_sum = ['{}Y'.format( i * num_of_roll_tenor_in_unit_year) for i in range(1, int(num_of_roll) + 1)]\n",
    "    for i in range(int(num_of_roll) - 1):\n",
    "        print(a)\n",
    "\n",
    "def transform_tenor_to_unit_in_year(tenor_string):\n",
    "    tenor = 0\n",
    "    tenor_unit = tenor_string[-1]\n",
    "    if (tenor_unit == 'Y'):\n",
    "        tenor = float(tenor_string[0:len(tenor_string)-1])\n",
    "    elif (tenor_unit == 'M'):\n",
    "        tenor = float(tenor_string[0:len(tenor_string)-1]) / 12\n",
    "    return tenor\n",
    "    "
   ]
  },
  {
   "cell_type": "code",
   "execution_count": 298,
   "metadata": {},
   "outputs": [
    {
     "name": "stdout",
     "output_type": "stream",
     "text": [
      "9\n"
     ]
    },
    {
     "data": {
      "text/plain": [
       "-0.50416182893735217"
      ]
     },
     "execution_count": 298,
     "metadata": {},
     "output_type": "execute_result"
    }
   ],
   "source": [
    "DF_LIST = get_DF(mm_list, swap_rate_list, 1/2)\n",
    "bootstrapping_DF_swap_rate(DF_LIST, '6M')"
   ]
  },
  {
   "cell_type": "code",
   "execution_count": 341,
   "metadata": {},
   "outputs": [
    {
     "name": "stdout",
     "output_type": "stream",
     "text": [
      "['0.5Y', '1.0Y', '1.5Y']\n",
      "[[1, 2], [3, 4]]\n",
      "[[1, 2], [3, 4]]\n"
     ]
    }
   ],
   "source": [
    "calc_annuity(DF_LIST, '1.5Y', '6M')"
   ]
  },
  {
   "cell_type": "code",
   "execution_count": 321,
   "metadata": {},
   "outputs": [
    {
     "data": {
      "text/plain": [
       "1.0"
      ]
     },
     "execution_count": 321,
     "metadata": {},
     "output_type": "execute_result"
    }
   ],
   "source": [
    "transform_tenor_to_unit_in_year('1Y')"
   ]
  },
  {
   "cell_type": "code",
   "execution_count": 254,
   "metadata": {},
   "outputs": [
    {
     "data": {
      "text/plain": [
       "[['O/N', '2017/12/23', '2017/12/24', 0.014348, 0.99996014603284633],\n",
       " ['T/N', '2017/12/24', '2017/12/25', 0.014348, 0.99992029365403134],\n",
       " ['1W', '2017/12/25', '2018/1/1', 0.014876, 0.99963114479189386],\n",
       " ['2W', '2017/12/25', '2018/1/8', 0.015, 0.99933734686835807],\n",
       " ['1M', '2017/12/25', '2018/1/24', 0.01563, 0.99861959163592562],\n",
       " ['2M', '2017/12/25', '2018/2/23', 0.01616, 0.9972344089791807],\n",
       " ['3M', '2017/12/25', '2018/3/25', 0.01685, 0.99572579872689437],\n",
       " ['6M', '2017/12/25', '2018/6/23', 0.01833, 0.99083925191027356],\n",
       " ['1Y', '2017/12/25', '2018/12/20', 0.021, 0.97935386254067724],\n",
       " ['1.5Y', '2017/12/25', '2019/06/25', 0.019950000000000002, 0.0],\n",
       " ['2.0Y', '2017/12/25', '2019/12/25', '0.02086', 0.0],\n",
       " ['2.5Y', '2017/12/25', '2020/06/24', 0.021365000000000002, 0.0],\n",
       " ['3.0Y', '2017/12/25', '2020/12/24', '0.02187', 0.0],\n",
       " ['3.5Y', '2017/12/25', '2021/06/24', 0.022175, 0.0],\n",
       " ['4.0Y', '2017/12/25', '2021/12/24', '0.02248', 0.0],\n",
       " ['4.5Y', '2017/12/25', '2022/06/24', 0.022715, 0.0],\n",
       " ['5.0Y', '2017/12/25', '2022/12/24', '0.02295', 0.0],\n",
       " ['5.5Y', '2017/12/25', '2023/06/24', 0.02316, 0.0],\n",
       " ['6.0Y', '2017/12/25', '2023/12/24', '0.02337', 0.0],\n",
       " ['6.5Y', '2017/12/25', '2024/06/23', 0.023565, 0.0],\n",
       " ['7.0Y', '2017/12/25', '2024/12/23', '0.02376', 0.0],\n",
       " ['7.5Y', '2017/12/25', '2025/06/23', 0.023934999999999998, 0.0],\n",
       " ['8.0Y', '2017/12/25', '2025/12/23', '0.02411', 0.0],\n",
       " ['8.5Y', '2017/12/25', '2026/06/23', 0.024274999999999998, 0.0],\n",
       " ['9.0Y', '2017/12/25', '2026/12/23', '0.02444', 0.0],\n",
       " ['9.5Y', '2017/12/25', '2027/06/23', 0.024595, 0.0],\n",
       " ['10.0Y', '2017/12/25', '2027/12/23', '0.02475', 0.0],\n",
       " ['10.5Y', '2017/12/25', '2028/06/22', 0.024857, 0.0],\n",
       " ['11.0Y', '2017/12/25', '2028/12/22', 0.024964, 0.0],\n",
       " ['11.5Y', '2017/12/25', '2029/06/22', 0.025071, 0.0],\n",
       " ['12.0Y', '2017/12/25', '2029/12/22', 0.025178, 0.0],\n",
       " ['12.5Y', '2017/12/25', '2030/06/22', 0.025285000000000002, 0.0],\n",
       " ['13.0Y', '2017/12/25', '2030/12/22', 0.025392, 0.0],\n",
       " ['13.5Y', '2017/12/25', '2031/06/22', 0.025499, 0.0],\n",
       " ['14.0Y', '2017/12/25', '2031/12/22', 0.025606, 0.0],\n",
       " ['14.5Y', '2017/12/25', '2032/06/21', 0.025713, 0.0],\n",
       " ['15.0Y', '2017/12/25', '2032/12/21', '0.02582', 0.0],\n",
       " ['15.5Y', '2017/12/25', '2033/06/21', 0.02587, 0.0],\n",
       " ['16.0Y', '2017/12/25', '2033/12/21', 0.02592, 0.0],\n",
       " ['16.5Y', '2017/12/25', '2034/06/21', 0.02597, 0.0],\n",
       " ['17.0Y', '2017/12/25', '2034/12/21', 0.026019999999999998, 0.0],\n",
       " ['17.5Y', '2017/12/25', '2035/06/21', 0.02607, 0.0],\n",
       " ['18.0Y', '2017/12/25', '2035/12/21', 0.02612, 0.0],\n",
       " ['18.5Y', '2017/12/25', '2036/06/20', 0.02617, 0.0],\n",
       " ['19.0Y', '2017/12/25', '2036/12/20', 0.02622, 0.0],\n",
       " ['19.5Y', '2017/12/25', '2037/06/20', 0.026269999999999998, 0.0],\n",
       " ['20.0Y', '2017/12/25', '2037/12/20', '0.02632', 0.0],\n",
       " ['20.5Y', '2017/12/25', '2038/06/20', 0.026327, 0.0],\n",
       " ['21.0Y', '2017/12/25', '2038/12/20', 0.026334, 0.0],\n",
       " ['21.5Y', '2017/12/25', '2039/06/20', 0.026341, 0.0],\n",
       " ['22.0Y', '2017/12/25', '2039/12/20', 0.026348, 0.0],\n",
       " ['22.5Y', '2017/12/25', '2040/06/19', 0.026355, 0.0],\n",
       " ['23.0Y', '2017/12/25', '2040/12/19', 0.026362, 0.0],\n",
       " ['23.5Y', '2017/12/25', '2041/06/19', 0.026369, 0.0],\n",
       " ['24.0Y', '2017/12/25', '2041/12/19', 0.026376, 0.0],\n",
       " ['24.5Y', '2017/12/25', '2042/06/19', 0.026383, 0.0],\n",
       " ['25.0Y', '2017/12/25', '2042/12/19', 0.02639, 0.0],\n",
       " ['25.5Y', '2017/12/25', '2043/06/19', 0.026397, 0.0],\n",
       " ['26.0Y', '2017/12/25', '2043/12/19', 0.026404, 0.0],\n",
       " ['26.5Y', '2017/12/25', '2044/06/18', 0.026411, 0.0],\n",
       " ['27.0Y', '2017/12/25', '2044/12/18', 0.026418, 0.0],\n",
       " ['27.5Y', '2017/12/25', '2045/06/18', 0.026425, 0.0],\n",
       " ['28.0Y', '2017/12/25', '2045/12/18', 0.026432, 0.0],\n",
       " ['28.5Y', '2017/12/25', '2046/06/18', 0.026439, 0.0],\n",
       " ['29.0Y', '2017/12/25', '2046/12/18', 0.026446, 0.0],\n",
       " ['29.5Y', '2017/12/25', '2047/06/18', 0.026453, 0.0],\n",
       " ['30.0Y', '2017/12/25', '2047/12/18', '0.02646', 0.0]]"
      ]
     },
     "execution_count": 254,
     "metadata": {},
     "output_type": "execute_result"
    }
   ],
   "source": [
    "get_DF(mm_list, swap_rate_list, 1/2)"
   ]
  },
  {
   "cell_type": "code",
   "execution_count": 207,
   "metadata": {},
   "outputs": [
    {
     "data": {
      "text/plain": [
       "[['1.0Y', '2017/12/25', '2018/12/25', '0.01904'],\n",
       " ['1.5Y', '2017/12/25', '2019/06/25', 0.019950000000000002],\n",
       " ['2.0Y', '2017/12/25', '2019/12/25', '0.02086'],\n",
       " ['2.5Y', '2017/12/25', '2020/06/24', 0.021365000000000002],\n",
       " ['3.0Y', '2017/12/25', '2020/12/24', '0.02187'],\n",
       " ['3.5Y', '2017/12/25', '2021/06/24', 0.022175],\n",
       " ['4.0Y', '2017/12/25', '2021/12/24', '0.02248'],\n",
       " ['4.5Y', '2017/12/25', '2022/06/24', 0.022715],\n",
       " ['5.0Y', '2017/12/25', '2022/12/24', '0.02295'],\n",
       " ['5.5Y', '2017/12/25', '2023/06/24', 0.02316],\n",
       " ['6.0Y', '2017/12/25', '2023/12/24', '0.02337'],\n",
       " ['6.5Y', '2017/12/25', '2024/06/23', 0.023565],\n",
       " ['7.0Y', '2017/12/25', '2024/12/23', '0.02376'],\n",
       " ['7.5Y', '2017/12/25', '2025/06/23', 0.023934999999999998],\n",
       " ['8.0Y', '2017/12/25', '2025/12/23', '0.02411'],\n",
       " ['8.5Y', '2017/12/25', '2026/06/23', 0.024274999999999998],\n",
       " ['9.0Y', '2017/12/25', '2026/12/23', '0.02444'],\n",
       " ['9.5Y', '2017/12/25', '2027/06/23', 0.024595],\n",
       " ['10.0Y', '2017/12/25', '2027/12/23', '0.02475'],\n",
       " ['10.5Y', '2017/12/25', '2028/06/22', 0.024857],\n",
       " ['11.0Y', '2017/12/25', '2028/12/22', 0.024964],\n",
       " ['11.5Y', '2017/12/25', '2029/06/22', 0.025071],\n",
       " ['12.0Y', '2017/12/25', '2029/12/22', 0.025178],\n",
       " ['12.5Y', '2017/12/25', '2030/06/22', 0.025285000000000002],\n",
       " ['13.0Y', '2017/12/25', '2030/12/22', 0.025392],\n",
       " ['13.5Y', '2017/12/25', '2031/06/22', 0.025499],\n",
       " ['14.0Y', '2017/12/25', '2031/12/22', 0.025606],\n",
       " ['14.5Y', '2017/12/25', '2032/06/21', 0.025713],\n",
       " ['15.0Y', '2017/12/25', '2032/12/21', '0.02582'],\n",
       " ['15.5Y', '2017/12/25', '2033/06/21', 0.02587],\n",
       " ['16.0Y', '2017/12/25', '2033/12/21', 0.02592],\n",
       " ['16.5Y', '2017/12/25', '2034/06/21', 0.02597],\n",
       " ['17.0Y', '2017/12/25', '2034/12/21', 0.026019999999999998],\n",
       " ['17.5Y', '2017/12/25', '2035/06/21', 0.02607],\n",
       " ['18.0Y', '2017/12/25', '2035/12/21', 0.02612],\n",
       " ['18.5Y', '2017/12/25', '2036/06/20', 0.02617],\n",
       " ['19.0Y', '2017/12/25', '2036/12/20', 0.02622],\n",
       " ['19.5Y', '2017/12/25', '2037/06/20', 0.026269999999999998],\n",
       " ['20.0Y', '2017/12/25', '2037/12/20', '0.02632'],\n",
       " ['20.5Y', '2017/12/25', '2038/06/20', 0.026327],\n",
       " ['21.0Y', '2017/12/25', '2038/12/20', 0.026334],\n",
       " ['21.5Y', '2017/12/25', '2039/06/20', 0.026341],\n",
       " ['22.0Y', '2017/12/25', '2039/12/20', 0.026348],\n",
       " ['22.5Y', '2017/12/25', '2040/06/19', 0.026355],\n",
       " ['23.0Y', '2017/12/25', '2040/12/19', 0.026362],\n",
       " ['23.5Y', '2017/12/25', '2041/06/19', 0.026369],\n",
       " ['24.0Y', '2017/12/25', '2041/12/19', 0.026376],\n",
       " ['24.5Y', '2017/12/25', '2042/06/19', 0.026383],\n",
       " ['25.0Y', '2017/12/25', '2042/12/19', 0.02639],\n",
       " ['25.5Y', '2017/12/25', '2043/06/19', 0.026397],\n",
       " ['26.0Y', '2017/12/25', '2043/12/19', 0.026404],\n",
       " ['26.5Y', '2017/12/25', '2044/06/18', 0.026411],\n",
       " ['27.0Y', '2017/12/25', '2044/12/18', 0.026418],\n",
       " ['27.5Y', '2017/12/25', '2045/06/18', 0.026425],\n",
       " ['28.0Y', '2017/12/25', '2045/12/18', 0.026432],\n",
       " ['28.5Y', '2017/12/25', '2046/06/18', 0.026439],\n",
       " ['29.0Y', '2017/12/25', '2046/12/18', 0.026446],\n",
       " ['29.5Y', '2017/12/25', '2047/06/18', 0.026453],\n",
       " ['30.0Y', '2017/12/25', '2047/12/18', '0.02646']]"
      ]
     },
     "execution_count": 207,
     "metadata": {},
     "output_type": "execute_result"
    }
   ],
   "source": [
    "get_interpolated_swap_rate_list(swap_rate_list, 1/2)"
   ]
  },
  {
   "cell_type": "code",
   "execution_count": 250,
   "metadata": {},
   "outputs": [
    {
     "data": {
      "text/plain": [
       "[['1.0Y', '2017/12/25', '2018/12/25', '0.01904'],\n",
       " ['2.0Y', '2017/12/25', '2019/12/25', '0.02086'],\n",
       " ['3.0Y', '2017/12/25', '2020/12/24', '0.02187'],\n",
       " ['4.0Y', '2017/12/25', '2021/12/24', '0.02248'],\n",
       " ['5.0Y', '2017/12/25', '2022/12/24', '0.02295'],\n",
       " ['6.0Y', '2017/12/25', '2023/12/24', '0.02337'],\n",
       " ['7.0Y', '2017/12/25', '2024/12/23', '0.02376'],\n",
       " ['8.0Y', '2017/12/25', '2025/12/23', '0.02411'],\n",
       " ['9.0Y', '2017/12/25', '2026/12/23', '0.02444'],\n",
       " ['10.0Y', '2017/12/25', '2027/12/23', '0.02475'],\n",
       " ['15.0Y', '2017/12/25', '2032/12/21', '0.02582'],\n",
       " ['20.0Y', '2017/12/25', '2037/12/20', '0.02632'],\n",
       " ['30.0Y', '2017/12/25', '2047/12/18', '0.02646']]"
      ]
     },
     "execution_count": 250,
     "metadata": {},
     "output_type": "execute_result"
    }
   ],
   "source": [
    "swap_rate_list"
   ]
  },
  {
   "cell_type": "code",
   "execution_count": null,
   "metadata": {},
   "outputs": [],
   "source": []
  },
  {
   "cell_type": "code",
   "execution_count": 195,
   "metadata": {},
   "outputs": [
    {
     "data": {
      "text/plain": [
       "[[1, 2, 0], [3, 4, 0]]"
      ]
     },
     "execution_count": 195,
     "metadata": {},
     "output_type": "execute_result"
    }
   ],
   "source": [
    "a = [[1,2], [3,4]]\n",
    "for i in range(2):\n",
    "    a[i].append(0)\n",
    "a"
   ]
  },
  {
   "cell_type": "code",
   "execution_count": 60,
   "metadata": {},
   "outputs": [
    {
     "data": {
      "text/plain": [
       "'2018/01/30'"
      ]
     },
     "execution_count": 60,
     "metadata": {},
     "output_type": "execute_result"
    }
   ],
   "source": [
    "import datetime\n",
    "now = datetime.datetime.today()\n",
    "d = now + datetime.timedelta(days=10)\n",
    "d.strftime('%Y/%m/%d')"
   ]
  },
  {
   "cell_type": "code",
   "execution_count": 62,
   "metadata": {
    "collapsed": true
   },
   "outputs": [],
   "source": [
    "x = np.array([0,1,2,3,4,5,6,7,8,9,10])\n",
    "y = np.array([20,20,15,14,1,4,2,6,1,1,1])\n",
    "f = interp1d(x,y)"
   ]
  },
  {
   "cell_type": "code",
   "execution_count": 63,
   "metadata": {},
   "outputs": [
    {
     "name": "stdout",
     "output_type": "stream",
     "text": [
      "[1.0, 2.0, 3.0, 4.0, 5.0, 6.0, 7.0, 8.0, 9.0, 10.0, 15.0, 20.0, 30.0]\n",
      "[0.01904, 0.02086, 0.02187, 0.02248, 0.02295, 0.02337, 0.02376, 0.02411, 0.02444, 0.02475, 0.02582, 0.02632, 0.02646]\n"
     ]
    },
    {
     "data": {
      "text/plain": [
       "array(0.019950000000000002)"
      ]
     },
     "execution_count": 63,
     "metadata": {},
     "output_type": "execute_result"
    },
    {
     "data": {
      "image/png": "[encoded data removed]",
      "text/plain": [
       "<matplotlib.figure.Figure at 0x1817f21d30>"
      ]
     },
     "metadata": {},
     "output_type": "display_data"
    }
   ],
   "source": [
    "from scipy.interpolate import interp1d\n",
    "x = []\n",
    "y = []\n",
    "for i in range(len(swap_rate_list)):\n",
    "    x.append(float(swap_rate_list[i][0][0:len(swap_rate_list[i][0])-1]))\n",
    "    y.append(float(swap_rate_list[i][3]))\n",
    "print(x)\n",
    "print(y)\n",
    "f = interp1d(x,y)\n",
    "xnew = np.linspace(1, 30, num=60, endpoint=True)\n",
    "plt.plot(xnew, f(xnew), '-')\n",
    "f(1.5)"
   ]
  },
  {
   "cell_type": "markdown",
   "metadata": {},
   "source": [
    "### エラーメッセージ\n",
    "\n",
    "---\n",
    "TypeError                                 Traceback (most recent call last)\n",
    "<ipython-input-29-8d376080b34d> in <module>()\n",
    "     33     return daycount\n",
    "     34 \n",
    "---> 35 get_DF(mm_list)\n",
    "\n",
    "<ipython-input-29-8d376080b34d> in get_DF(money_market_list)\n",
    "     24     convention = 360.0\n",
    "     25     day_count_fraction[0] = calc_daycount(money_market_list[0][1], money_market_list[0][2], convention)\n",
    "---> 26     discount_factor[0][1] = 1.0 / (1.0 + day_count_fraction[0] * money_market_list[0][3])\n",
    "     27     return discount_factor\n",
    "     28 \n",
    "\n",
    "TypeError: 'numpy.float64' object cannot be interpreted as an integer\n",
    "\n",
    "---\n",
    "### 解決策\n",
    "- 数値と文字列が混ざっているのでどちらかに統一すべし"
   ]
  },
  {
   "cell_type": "code",
   "execution_count": null,
   "metadata": {
    "collapsed": true
   },
   "outputs": [],
   "source": []
  },
  {
   "cell_type": "code",
   "execution_count": null,
   "metadata": {
    "collapsed": true
   },
   "outputs": [],
   "source": []
  }
 ],
 "metadata": {
  "kernelspec": {
   "display_name": "Python 3",
   "language": "python",
   "name": "python3"
  },
  "language_info": {
   "codemirror_mode": {
    "name": "ipython",
    "version": 3
   },
   "file_extension": ".py",
   "mimetype": "text/x-python",
   "name": "python",
   "nbconvert_exporter": "python",
   "pygments_lexer": "ipython3",
   "version": "3.6.2"
  }
 },
 "nbformat": 4,
 "nbformat_minor": 2
}
