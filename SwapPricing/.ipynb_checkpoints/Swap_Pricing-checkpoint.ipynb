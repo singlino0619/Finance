{
 "cells": [
  {
   "cell_type": "markdown",
   "metadata": {},
   "source": [
    "# Get discount factor for JPY\n",
    "- input: MoneyMarket (short term interest rate), Swap rate.\n",
    "- output: discount factors for each tenor listed by MoneMarket and Swap rate.\n",
    "\n",
    "## Pricing\n",
    "### Swap pricing formula\n",
    "The value of the exchange between a floot and a fixed side is given by\n",
    "$$\n",
    "V = \\sum_{i = 1}^{N}  L(t_{i-1}, t_{i}) \\times DF(t_{i}) \\times \\delta_{i} - \\sum_{i = 1}^{N} SwapRate \\times DF(t_{i})\\times \\delta_{i},\n",
    "$$\n",
    "where $L(t_{i-1}, t_{i})$ is the floot interest rate between $t_{i-1}$ and $t_{i}$, $DF(t_{i})$ is a discount factor, $\\delta_{i}$ is a day-count-fraction and $SwapRate$ is a Swap rate which means a par rate for a swap trade.\n",
    "\n",
    "### Bootstrap method for getting discount factors\n",
    "Discount factors as of today can be estimated from a par swap trade which corresponds to $V = 0$ under swap pricing formula. \n",
    "For example, let us consider a swap trade with maturity of 1.5 year. The discount factor for 1.5 year $DF(t_{1.5Y})$ is calculated by solveing the following equation:\n",
    "$$\n",
    "\\sum_{i = 1}^{3}  L(t_{i-1}, t_{i}) \\times DF(t_{i}) \\times \\delta = \\sum_{i = 1}^{3} SwapRate(1.5Y) \\times DF(t_{i})\\times \\delta\n",
    "$$\n",
    "\n",
    "where a quoted swap rate is used for $SwapRate(1.5Y)$, the day-count-fraction $\\delta$ is asuumed 6 month and the floot side interest rate is assumed that a following model expressed as\n",
    "$$\n",
    "L(t_{i-1}, t_{i}) = \\frac{1}{\\delta} \\Big( \\frac{ DF(t_{i-1}) }{ DF(t_{i}) } - 1 \\Big).\n",
    "$$\n",
    "The above equation can be solved by using $DF(t_{0.5Y})$, $DF(t_{1.0Y})$ and the floot interest rate which is defined as above equation. As a result, the discount factor $DF(t_{1.5Y})$  is given by\n",
    "$$\n",
    "DF(t_{1.5Y}) = \\frac{1}{(1 + \\delta \\times SwapRate(1.5Y))} \\Big( DF(t_{0}) - SwapRate(1.5Y) \\times \\delta \\times \\big(DF(t_{0.5Y}) + DF(t_{1.0Y}) \\big) \\Big),\n",
    "$$\n",
    "\n",
    "where $DF(t_{0.5Y})$ and $DF(t_{1.0Y})$ is calculated by using a quoted LIBOR (the rate of Money Market). The short rate of Money Market means spot rate, where the cashflows is expressed as only two terms. For example, $DF(t_{0.5Y})$ is given by\n",
    "$$\n",
    "DF(t_{0.5Y}) = \\frac{1}{( 1 + \\delta \\times L(0.0Y, 0.5Y))},\n",
    "$$\n",
    "\n",
    "where $L(0.0Y, 0.5Y)$ is the LIBOR rate between today and 6 month later.\n",
    "Discount factors after $t_{1.5Y}$ can be calculated by the same way as the derivation of $DF(t_{1.5Y})$.\n",
    "This method of getting discount factors gradually is called Bootstrap method.\n",
    "\n",
    "[](\n",
    "Continuously, let us consider a T/N swap trade. When $V = 0$ under the swap pricing formula, it is written by \n",
    "$$\n",
    "FixedRate(T/N)\\ ( DF(t_{O/N}) \\times \\delta_{1} + DF(t_{T/N}) \\times \\delta_{2} ) \\\\\n",
    " = ( DF(t_{O/N}) - DF(t_{0}) ) \\delta_{1} + (DF(t_{T/N}) - DF(t_{O/N})) \\delta_{2}, \n",
    "$$  \n",
    "\\\n",
    "where $\\delta_2$ is a day-count-fraction between $t_{O/N}$ and $t_{T/N}$ and a quoted Tomorrow-Next Rate is used for $FixedRate(T/N)$. \n",
    "This equation can be solved for $DF(t_{T/N})$ by using $DF(t_{O/N})$ which is derived from the above equation. \n",
    "In this way, discount factors at each tenor is calculated. This method for getiing discount factors is called as Bootstrap method. \n",
    "The expression of $DF(t_{T/N})$ is given by \n",
    "$$\n",
    "DF(t_{T/N}) = \\frac{ FixedRate(T/N)\\times DF(t_{O/N}) + DF(t_0) }{ 1 - FixedRate(T/N) } \n",
    "$$\n",
    ")"
   ]
  },
  {
   "cell_type": "code",
   "execution_count": 11,
   "metadata": {
    "collapsed": true
   },
   "outputs": [],
   "source": [
    "import matplotlib.pyplot as plt\n",
    "import numpy as np\n",
    "import datetime\n",
    "\n",
    "class getDF_moneymarket:\n",
    "'''    def __init__(self, libor_rate, start_day, end_day):\n",
    "        self.libor_rate = libor_rate\n",
    "        self.start_day = start_day\n",
    "        self.end_day = end_day\n",
    "        self.datetime_obj_start = datetime.datetime.strptime(start_day, '%Y/%m/%d')\n",
    "        self.datetime_obj_end = datetime.datetime.strptime(end_day, '%Y/%m/%d')\n",
    "        self.daycount = (self.datetime_obj_end - self.datetime_obj_start).days / 360\n",
    "        self.discount_factor = 0\n",
    "'''\n",
    "    def __init__(self, today, array_ccy):\n",
    "            self._start_day = today\n",
    "\n",
    "    def getDF(self):\n",
    "        self.discount_factor = [1 / (1 + self.daycount * self.libor_rate), self.start_day, self.end_day]\n",
    "        return self.discount_factor"
   ]
  },
  {
   "cell_type": "code",
   "execution_count": 12,
   "metadata": {},
   "outputs": [
    {
     "name": "stdout",
     "output_type": "stream",
     "text": [
      "0\n",
      "[0.7081038552321007, '2017/12/18', '2019/12/30']\n",
      "[0.7081038552321007, '2017/12/18', '2019/12/30']\n"
     ]
    }
   ],
   "source": [
    "DF = getDF_moneymarket(0.2, '2017/12/18', '2019/12/30')\n",
    "print(DF.discount_factor)\n",
    "print(DF.getDF())\n",
    "print(DF.discount_factor)"
   ]
  },
  {
   "cell_type": "code",
   "execution_count": 3,
   "metadata": {},
   "outputs": [
    {
     "data": {
      "text/plain": [
       "0.9287925696594427"
      ]
     },
     "execution_count": 3,
     "metadata": {},
     "output_type": "execute_result"
    }
   ],
   "source": [
    "DF1 = getDF_moneymarket(0.3, '2017/12/18', '2018/3/20')\n",
    "DF1.getDF()"
   ]
  },
  {
   "cell_type": "code",
   "execution_count": null,
   "metadata": {
    "collapsed": true
   },
   "outputs": [],
   "source": [
    "[['O/N', 0.001], ['T/N', 0.002], ['1W', 0.003]]"
   ]
  },
  {
   "cell_type": "code",
   "execution_count": null,
   "metadata": {
    "collapsed": true
   },
   "outputs": [],
   "source": []
  }
 ],
 "metadata": {
  "kernelspec": {
   "display_name": "Python 3",
   "language": "python",
   "name": "python3"
  },
  "language_info": {
   "codemirror_mode": {
    "name": "ipython",
    "version": 3
   },
   "file_extension": ".py",
   "mimetype": "text/x-python",
   "name": "python",
   "nbconvert_exporter": "python",
   "pygments_lexer": "ipython3",
   "version": "3.6.2"
  }
 },
 "nbformat": 4,
 "nbformat_minor": 2
}
