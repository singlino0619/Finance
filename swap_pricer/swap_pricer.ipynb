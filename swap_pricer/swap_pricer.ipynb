{
 "cells": [
  {
   "cell_type": "code",
   "execution_count": 1,
   "metadata": {
    "collapsed": true
   },
   "outputs": [],
   "source": [
    "%matplotlib inline\n",
    "import pandas as pd\n",
    "import numpy as np\n",
    "import single_df_curve.single_df_curve as sc\n",
    "import matplotlib.pyplot as plt\n",
    "import os"
   ]
  },
  {
   "cell_type": "code",
   "execution_count": 2,
   "metadata": {
    "collapsed": true
   },
   "outputs": [],
   "source": [
    "IR_base_date = '20180731'\n",
    "root_path = '/Users/susynishida/Desktop/dev/Python/Finance/input/'\n",
    "IR_input = '/IR.csv'\n",
    "df_IR_180731 = pd.read_csv(root_path + IR_base_date + IR_input)\n",
    "DF_usd_obj_180731 = sc.discount_factor(df_IR_180731, 'USD')"
   ]
  },
  {
   "cell_type": "code",
   "execution_count": 3,
   "metadata": {
    "collapsed": true
   },
   "outputs": [],
   "source": [
    "IR_base_date = '20180928'\n",
    "root_path = '/Users/susynishida/Desktop/dev/Python/Finance/input/'\n",
    "IR_input = '/IR.csv'\n",
    "df_IR_180928 = pd.read_csv(root_path + IR_base_date + IR_input)\n",
    "DF_usd_obj_180928 = sc.discount_factor(df_IR_180928, 'USD')"
   ]
  },
  {
   "cell_type": "code",
   "execution_count": 4,
   "metadata": {},
   "outputs": [
    {
     "data": {
      "text/html": [
       "<div>\n",
       "<style>\n",
       "    .dataframe thead tr:only-child th {\n",
       "        text-align: right;\n",
       "    }\n",
       "\n",
       "    .dataframe thead th {\n",
       "        text-align: left;\n",
       "    }\n",
       "\n",
       "    .dataframe tbody tr th {\n",
       "        vertical-align: top;\n",
       "    }\n",
       "</style>\n",
       "<table border=\"1\" class=\"dataframe\">\n",
       "  <thead>\n",
       "    <tr style=\"text-align: right;\">\n",
       "      <th></th>\n",
       "      <th>Date</th>\n",
       "      <th>Product</th>\n",
       "      <th>Tenor</th>\n",
       "      <th>Currency</th>\n",
       "      <th>Rate</th>\n",
       "      <th>lag(day)</th>\n",
       "      <th>Frequency(month)</th>\n",
       "      <th>Dcc</th>\n",
       "    </tr>\n",
       "  </thead>\n",
       "  <tbody>\n",
       "    <tr>\n",
       "      <th>0</th>\n",
       "      <td>2018/9/28</td>\n",
       "      <td>LIBOR</td>\n",
       "      <td>O/N</td>\n",
       "      <td>USD</td>\n",
       "      <td>0.021714</td>\n",
       "      <td>2</td>\n",
       "      <td>NaN</td>\n",
       "      <td>ACT/360</td>\n",
       "    </tr>\n",
       "    <tr>\n",
       "      <th>1</th>\n",
       "      <td>2018/9/28</td>\n",
       "      <td>LIBOR</td>\n",
       "      <td>1W</td>\n",
       "      <td>USD</td>\n",
       "      <td>0.021986</td>\n",
       "      <td>2</td>\n",
       "      <td>NaN</td>\n",
       "      <td>ACT/360</td>\n",
       "    </tr>\n",
       "    <tr>\n",
       "      <th>2</th>\n",
       "      <td>2018/9/28</td>\n",
       "      <td>LIBOR</td>\n",
       "      <td>1M</td>\n",
       "      <td>USD</td>\n",
       "      <td>0.022606</td>\n",
       "      <td>2</td>\n",
       "      <td>NaN</td>\n",
       "      <td>ACT/360</td>\n",
       "    </tr>\n",
       "    <tr>\n",
       "      <th>3</th>\n",
       "      <td>2018/9/28</td>\n",
       "      <td>LIBOR</td>\n",
       "      <td>2M</td>\n",
       "      <td>USD</td>\n",
       "      <td>0.023107</td>\n",
       "      <td>2</td>\n",
       "      <td>NaN</td>\n",
       "      <td>ACT/360</td>\n",
       "    </tr>\n",
       "    <tr>\n",
       "      <th>4</th>\n",
       "      <td>2018/9/28</td>\n",
       "      <td>LIBOR</td>\n",
       "      <td>3M</td>\n",
       "      <td>USD</td>\n",
       "      <td>0.023984</td>\n",
       "      <td>2</td>\n",
       "      <td>NaN</td>\n",
       "      <td>ACT/360</td>\n",
       "    </tr>\n",
       "  </tbody>\n",
       "</table>\n",
       "</div>"
      ],
      "text/plain": [
       "        Date Product Tenor Currency      Rate  lag(day)  Frequency(month)  \\\n",
       "0  2018/9/28   LIBOR   O/N      USD  0.021714         2               NaN   \n",
       "1  2018/9/28   LIBOR    1W      USD  0.021986         2               NaN   \n",
       "2  2018/9/28   LIBOR    1M      USD  0.022606         2               NaN   \n",
       "3  2018/9/28   LIBOR    2M      USD  0.023107         2               NaN   \n",
       "4  2018/9/28   LIBOR    3M      USD  0.023984         2               NaN   \n",
       "\n",
       "       Dcc  \n",
       "0  ACT/360  \n",
       "1  ACT/360  \n",
       "2  ACT/360  \n",
       "3  ACT/360  \n",
       "4  ACT/360  "
      ]
     },
     "execution_count": 4,
     "metadata": {},
     "output_type": "execute_result"
    }
   ],
   "source": [
    "df_IR_180928.head()"
   ]
  },
  {
   "cell_type": "code",
   "execution_count": 5,
   "metadata": {},
   "outputs": [
    {
     "data": {
      "text/html": [
       "<div>\n",
       "<style>\n",
       "    .dataframe thead tr:only-child th {\n",
       "        text-align: right;\n",
       "    }\n",
       "\n",
       "    .dataframe thead th {\n",
       "        text-align: left;\n",
       "    }\n",
       "\n",
       "    .dataframe tbody tr th {\n",
       "        vertical-align: top;\n",
       "    }\n",
       "</style>\n",
       "<table border=\"1\" class=\"dataframe\">\n",
       "  <thead>\n",
       "    <tr style=\"text-align: right;\">\n",
       "      <th></th>\n",
       "      <th>Date</th>\n",
       "      <th>Product</th>\n",
       "      <th>Tenor</th>\n",
       "      <th>Currency</th>\n",
       "      <th>Rate</th>\n",
       "      <th>lag(day)</th>\n",
       "      <th>Frequency(month)</th>\n",
       "      <th>Dcc</th>\n",
       "    </tr>\n",
       "  </thead>\n",
       "  <tbody>\n",
       "    <tr>\n",
       "      <th>0</th>\n",
       "      <td>2018/7/31</td>\n",
       "      <td>LIBOR</td>\n",
       "      <td>O/N</td>\n",
       "      <td>USD</td>\n",
       "      <td>0.019154</td>\n",
       "      <td>2</td>\n",
       "      <td>NaN</td>\n",
       "      <td>ACT/360</td>\n",
       "    </tr>\n",
       "    <tr>\n",
       "      <th>1</th>\n",
       "      <td>2018/7/31</td>\n",
       "      <td>LIBOR</td>\n",
       "      <td>1W</td>\n",
       "      <td>USD</td>\n",
       "      <td>0.019536</td>\n",
       "      <td>2</td>\n",
       "      <td>NaN</td>\n",
       "      <td>ACT/360</td>\n",
       "    </tr>\n",
       "    <tr>\n",
       "      <th>2</th>\n",
       "      <td>2018/7/31</td>\n",
       "      <td>LIBOR</td>\n",
       "      <td>1M</td>\n",
       "      <td>USD</td>\n",
       "      <td>0.020814</td>\n",
       "      <td>2</td>\n",
       "      <td>NaN</td>\n",
       "      <td>ACT/360</td>\n",
       "    </tr>\n",
       "    <tr>\n",
       "      <th>3</th>\n",
       "      <td>2018/7/31</td>\n",
       "      <td>LIBOR</td>\n",
       "      <td>2M</td>\n",
       "      <td>USD</td>\n",
       "      <td>0.021791</td>\n",
       "      <td>2</td>\n",
       "      <td>NaN</td>\n",
       "      <td>ACT/360</td>\n",
       "    </tr>\n",
       "    <tr>\n",
       "      <th>4</th>\n",
       "      <td>2018/7/31</td>\n",
       "      <td>LIBOR</td>\n",
       "      <td>3M</td>\n",
       "      <td>USD</td>\n",
       "      <td>0.023486</td>\n",
       "      <td>2</td>\n",
       "      <td>NaN</td>\n",
       "      <td>ACT/360</td>\n",
       "    </tr>\n",
       "  </tbody>\n",
       "</table>\n",
       "</div>"
      ],
      "text/plain": [
       "        Date Product Tenor Currency      Rate  lag(day)  Frequency(month)  \\\n",
       "0  2018/7/31   LIBOR   O/N      USD  0.019154         2               NaN   \n",
       "1  2018/7/31   LIBOR    1W      USD  0.019536         2               NaN   \n",
       "2  2018/7/31   LIBOR    1M      USD  0.020814         2               NaN   \n",
       "3  2018/7/31   LIBOR    2M      USD  0.021791         2               NaN   \n",
       "4  2018/7/31   LIBOR    3M      USD  0.023486         2               NaN   \n",
       "\n",
       "       Dcc  \n",
       "0  ACT/360  \n",
       "1  ACT/360  \n",
       "2  ACT/360  \n",
       "3  ACT/360  \n",
       "4  ACT/360  "
      ]
     },
     "execution_count": 5,
     "metadata": {},
     "output_type": "execute_result"
    }
   ],
   "source": [
    "df_IR_180731.head()"
   ]
  },
  {
   "cell_type": "code",
   "execution_count": 6,
   "metadata": {},
   "outputs": [
    {
     "data": {
      "text/plain": [
       "[('2018/10/10', 0.9958857266729872),\n",
       " ('2018/10/11', 0.9958132634994473),\n",
       " ('2018/10/12', 0.9957404438448808),\n",
       " ('2018/10/13', 0.9956672869007793),\n",
       " ('2018/10/14', 0.9955938118586336),\n",
       " ('2018/10/15', 0.9955200379099348)]"
      ]
     },
     "execution_count": 6,
     "metadata": {},
     "output_type": "execute_result"
    }
   ],
   "source": [
    "DF_usd_obj_180731.get_array_DF('2018/10/10', '2018/10/15', 'cubic', 'cubic')"
   ]
  },
  {
   "cell_type": "code",
   "execution_count": 7,
   "metadata": {},
   "outputs": [
    {
     "data": {
      "text/plain": [
       "[('2018/10/10', 0.9995029895396681),\n",
       " ('2018/10/11', 0.9994343131408379),\n",
       " ('2018/10/12', 0.9993665830370009),\n",
       " ('2018/10/13', 0.9992997401626513),\n",
       " ('2018/10/14', 0.9992337254522837),\n",
       " ('2018/10/15', 0.9991684798403917)]"
      ]
     },
     "execution_count": 7,
     "metadata": {},
     "output_type": "execute_result"
    }
   ],
   "source": [
    "DF_usd_obj_180928.get_array_DF('2018/10/10', '2018/10/15', 'cubic', 'cubic')"
   ]
  },
  {
   "cell_type": "code",
   "execution_count": 343,
   "metadata": {},
   "outputs": [],
   "source": [
    "class swap_pricer():\n",
    "    def __init__(self, str_base_date, str_start_date, str_end_date, fixed_rate, int_notional, str_ccy, str_frequency_fixed_side, str_frequency_floot_side, str_dcc_fixed_side, str_dcc_floot_side, is_fixed_pay, df_IR):\n",
    "        self._fixed_rate = fixed_rate\n",
    "        self._dt_obj_base_date = str_to_dt_obj(str_base_date)\n",
    "        self._boolean_fixed_side = is_fixed_pay\n",
    "        self._notional = int_notional\n",
    "        self._str_ccy = str_ccy\n",
    "        self._dcc_fixed_side = float(str_dcc_fixed_side)\n",
    "        self._dcc_floot_side = float(str_dcc_floot_side)\n",
    "        self._DF_obj =  sc.discount_factor(df_IR, str_ccy)\n",
    "        self._CF_df_fixed_side = get_CF_df_from_base_date(str_base_date, str_start_date, str_end_date, str_frequency_fixed_side, is_floot=False)\n",
    "        self._CF_df_floot_side = get_CF_df_from_base_date(str_base_date, str_start_date, str_end_date, str_frequency_floot_side, is_floot=True) \n",
    "        self._dcf_list_fixed_side = self._create_list_dcf(self._CF_df_fixed_side, str_dcc_fixed_side)\n",
    "        self._dcf_list_floot_side = self._create_list_dcf(self._CF_df_floot_side, str_dcc_floot_side)\n",
    "     \n",
    "    \n",
    "    def get_DF(self, str_target_date):\n",
    "        return self._DF_obj.get_DF(str_target_date, 'cubic', 'cubic')\n",
    "    \n",
    "    def get_CF_df_fixed_side(self):\n",
    "        return self._CF_df_fixed_side \n",
    "    \n",
    "    def get_CF_df_floot_side(self):\n",
    "        return self._CF_df_floot_side \n",
    "    \n",
    "    def get_dcf_list(self):\n",
    "        return self._dcf_list_floot_side\n",
    "    \n",
    "    def _create_list_dcf(self, CF_df, str_dcc):\n",
    "        len_CF_df = len(CF_df)\n",
    "        dcf_list = []\n",
    "        for i in range(len_CF_df):\n",
    "            dcf = (str_to_dt_obj(CF_df.iloc[i]['end_date']) - str_to_dt_obj(CF_df.iloc[i]['start_date'])).days / float(str_dcc)\n",
    "            dcf_list.append(dcf)\n",
    "        return dcf_list\n",
    "    \n",
    "    def calc_pv_fix_side(self):\n",
    "        len_CF = len(self._CF_df_fixed_side)\n",
    "        pv = 0\n",
    "        str_ini_sdate = self._CF_df_fixed_side.iloc[0]['start_date']\n",
    "        str_ini_edate = self._CF_df_fixed_side.iloc[0]['end_date']\n",
    "        if (str_to_dt_obj(str_ini_sdate) <= self._dt_obj_base_date <= str_to_dt_obj(str_ini_edate)):\n",
    "            dcf_initial = (str_to_dt_obj(str_ini_edate) - self._dt_obj_base_date).days / self._dcc_fixed_side\n",
    "            pv = self._fixed_rate * dcf_initial * self._DF_obj.get_DF(self._CF_df_fixed_side.iloc[0]['start_date'], 'cubic', 'cubic') \n",
    "            for i in range(len_CF - 1):\n",
    "                pv = pv + self._fixed_rate * self._DF_obj.get_DF(self._CF_df_fixed_side.iloc[i]['end_date'], 'cubic', 'cubic') * self._dcf_list_fixed_side[i]\n",
    "        else:\n",
    "            for i in range(len_CF):\n",
    "                pv = pv + self._fixed_rate * self._DF_obj.get_DF(self._CF_df_fixed_side.iloc[i]['end_date'], 'cubic', 'cubic') * self._dcf_list_fixed_side[i]\n",
    "        return self._notional * pv\n",
    "    \n",
    "    def calc_pv_floot_side(self):\n",
    "        len_CF = len(self._CF_df_floot_side)\n",
    "        pv = 0\n",
    "        forward_libor_list = self.generate_forward_libor()\n",
    "        index_for_fixing_rate = self.get_index_for_fixing_rate()\n",
    "        if (index_for_fixing_rate > 0):\n",
    "            fixing_rate = df_fixing_rate.iloc[index_for_fixing_rate]['fixing_rate']\n",
    "        # considering to aqure CF_date from CF.csv or from CF_after_trimming. In the case where end date is not difference from next CF start date,\n",
    "        # we need to use CF.csv\n",
    "            dcf_initial = (str_to_dt_obj(self._CF_df_floot_side.iloc[0]['start_date']) - self._dt_obj_base_date).days / self._dcc_floot_side\n",
    "            pv = fixing_rate * dcf_initial * self._DF_obj.get_DF(self._CF_df_floot_side.iloc[0]['start_date'], 'cubic', 'cubic') \n",
    "            for i in range(len_CF - 1):\n",
    "                pv = pv + forward_libor_list[i] * self._DF_obj.get_DF(self._CF_df_floot_side.iloc[i]['end_date'], 'cubic', 'cubic') * self._dcf_list_floot_side[i]\n",
    "        else:\n",
    "            for i in range(len_CF):\n",
    "                pv = pv + forward_libor_list[i] * self._DF_obj.get_DF(self._CF_df_floot_side.iloc[i]['end_date'], 'cubic', 'cubic') * self._dcf_list_floot_side[i]\n",
    "        return self._notional * pv\n",
    "    \n",
    "    def get_index_for_fixing_rate(self):\n",
    "        df_fixing_rate = pd.read_csv('CF.csv').loc[:, 'fixing_date(floot)':'fixing_rate'] # to do: chnage 'CF.csv'\n",
    "        index_for_fixing_rate = self._CF_df_floot_side.index[0] - 1\n",
    "        return index_for_fixing_rate\n",
    "    \n",
    "    def generate_forward_libor(self):\n",
    "        CF_df = self._CF_df_floot_side\n",
    "        len_CF = len(CF_df)\n",
    "        forward_libor_list = []\n",
    "        dcf_list = self._dcf_list_floot_side\n",
    "        for i in range(len_CF):\n",
    "            DF_start_date = self._DF_obj.get_DF(self._CF_df_floot_side.iloc[i]['start_date'], 'cubic', 'cubic')\n",
    "            DF_end_date = self._DF_obj.get_DF(self._CF_df_floot_side.iloc[i]['end_date'], 'cubic', 'cubic')\n",
    "            forward_libor = (DF_start_date / DF_end_date - 1) / dcf_list[i]\n",
    "            forward_libor_list.append(forward_libor)\n",
    "        return forward_libor_list\n",
    "    \n",
    "    def gool_seek(self):\n",
    "        annuity = self.calc_pv_fix_side() / self._fixed_rate\n",
    "        pv_floot_side= self.calc_pv_floot_side()\n",
    "        swap_rate = pv_floot_side / annuity\n",
    "        return swap_rate\n",
    "    \n",
    "    def calc_pv(self):\n",
    "        if (self._boolean_fixed_side == True):\n",
    "            sign = 1\n",
    "        else:\n",
    "            sign = -1\n",
    "        return sign * (self.calc_pv_floot_side() - self.calc_pv_fix_side())\n",
    "    \n",
    "    def output_CF_to_csv(self):\n",
    "        self._CF_df_floot_side.columns = ['fixing_date(floot)', 'start_date(floot)', 'end_date(floot)']\n",
    "        self._CF_df_fixed_side.columns = ['fixing_date(fixed)', 'start_date(fixed)', 'end_date(fixed)']\n",
    "        len_CF_floot_side = len(self._CF_df_floot_side)\n",
    "        self._CF_df_floot_side['fixing_rate'] = [float(0) for i in range(len_CF_floot_side)]\n",
    "        self._CF_df_fixed_side['fixed_rate']= self._fixed_rate\n",
    "        if (self._boolean_fixed_side):\n",
    "            df_concat = pd.concat([self._CF_df_fixed_side, self._CF_df_floot_side], axis=1)\n",
    "        else:\n",
    "            df_concat = pd.concat([self._CF_df_floot_side, self._CF_df_fixed_side], axis=1)\n",
    "        df_concat.to_csv('CF.csv')\n",
    "        \n",
    "    def calc_annuity(self):\n",
    "        df_CF = self._CF_df_fixed_side\n",
    "        list_dcf = self._dcf_list_fixed_side\n",
    "        annuity = 0\n",
    "        for i in range(len(df_CF)):\n",
    "            temp_DF = self._DF_obj.get_DF(self._CF_df_fixed_side.iloc[i]['end_date'], 'cubic', 'cubic')\n",
    "            annuity = annuity + temp_DF * list_dcf[i]\n",
    "        return annuity\n",
    "    \n",
    "    \n",
    "    ## this forward annuity calculation is used for MtM calculation but foward par wap rate...? We do not have to tank into account an \"accrued annuity\"\n",
    "    ## because we consider the forward start swap.\n",
    "    \n",
    "    def calc_forward_annuity(self, str_base_date):\n",
    "        df_fixed_CF = self._CF_df_fixed_side\n",
    "        list_start_date_CF = list(df_fixed_CF['start_date'])\n",
    "        index_num = get_index_from_base_date(list_start_date_CF, str_base_date)\n",
    "        list_dcf = self._dcf_list_fixed_side\n",
    "        dt_obj_end_date = str_to_dt_obj(df_fixed_CF.iloc[index_num]['end_date'])\n",
    "#        dcf_accurued = (dt_obj_end_date - str_to_dt_obj(str_base_date)).days / self._dcc_fixed_side\n",
    " #       annuity = self._DF_obj.get_DF(df_fixed_CF.iloc[index_num]['end_date'], 'cubic', 'cubic') * dcf_accurued\n",
    "        annuity = 0\n",
    "        if ((str_to_dt_obj(str_base_date) - str_to_dt_obj(list_start_date_CF[0])).days > 0):\n",
    "            for i in range(index_num + 1, len(df_fixed_CF)):\n",
    "                temp_DF = self._DF_obj.get_DF(df_fixed_CF.iloc[i]['end_date'], 'cubic', 'cubic')\n",
    "                annuity = annuity + temp_DF * list_dcf[i]\n",
    "        else:\n",
    "            for i in range(index_num, len(df_fixed_CF)):\n",
    "                temp_DF = self._DF_obj.get_DF(df_fixed_CF.iloc[i]['end_date'], 'cubic', 'cubic')\n",
    "                annuity = annuity + temp_DF * list_dcf[i]\n",
    "        return index_num, annuity\n",
    "    \n",
    "    def calc_forward_par_swap_rate(self, str_base_date):\n",
    "        df_fixed_CF = self._CF_df_fixed_side\n",
    "        base_date_index, forward_annuity = self.calc_forward_annuity(str_base_date)\n",
    "        last_index = len(df_fixed_CF) - 1\n",
    "        if (str_to_dt_obj(str_base_date) - str_to_dt_obj(df_fixed_CF.iloc[0]['start_date'])):\n",
    "            DF_initial = self._DF_obj.get_DF(df_fixed_CF.iloc[base_date_index + 1]['start_date'], 'cubic', 'cubic')\n",
    "            DF_end = self._DF_obj.get_DF(df_fixed_CF.iloc[last_index]['end_date'], 'cubic', 'cubic')\n",
    "        else:\n",
    "            DF_initial = self._DF_obj.get_DF(df_fixed_CF.iloc[base_date_index]['start_date'], 'cubic', 'cubic')\n",
    "            DF_end = self._DF_obj.get_DF(df_fixed_CF.iloc[last_index]['end_date'], 'cubic', 'cubic')\n",
    "        forward_par_swap_rate = (DF_initial - DF_end) / forward_annuity\n",
    "        return max(forward_par_swap_rate, 0)"
   ]
  },
  {
   "cell_type": "markdown",
   "metadata": {},
   "source": [
    "### test space swap_pricer_class"
   ]
  },
  {
   "cell_type": "code",
   "execution_count": 344,
   "metadata": {
    "collapsed": true
   },
   "outputs": [],
   "source": [
    "base_date = '2018/7/31'\n",
    "start_date = '2018/8/10'\n",
    "end_date = '2028/8/10'\n",
    "fixed_rate = 0.030052448128125627\n",
    "notional = 1\n",
    "CCY = 'USD'\n",
    "freq_fixed_side = '6M'\n",
    "freq_floot_side = '3M'\n",
    "str_dcc_fixed_side = '360'\n",
    "str_dcc_floot_side = '360'\n",
    "is_fixed_pay = True\n",
    "df_IR = df_IR_180731"
   ]
  },
  {
   "cell_type": "code",
   "execution_count": 345,
   "metadata": {},
   "outputs": [],
   "source": [
    "test_trade_obj = swap_pricer(base_date, start_date, end_date, fixed_rate, notional, CCY, freq_fixed_side, freq_floot_side, str_dcc_fixed_side,str_dcc_floot_side, is_fixed_pay, df_IR)"
   ]
  },
  {
   "cell_type": "code",
   "execution_count": 346,
   "metadata": {},
   "outputs": [
    {
     "data": {
      "text/plain": [
       "8.703936855736885"
      ]
     },
     "execution_count": 346,
     "metadata": {},
     "output_type": "execute_result"
    }
   ],
   "source": [
    "test_trade_obj.calc_annuity()"
   ]
  },
  {
   "cell_type": "code",
   "execution_count": 349,
   "metadata": {},
   "outputs": [
    {
     "data": {
      "text/plain": [
       "(0, 8.199586022609353)"
      ]
     },
     "execution_count": 349,
     "metadata": {},
     "output_type": "execute_result"
    }
   ],
   "source": [
    "test_trade_obj.calc_forward_annuity('2018/8/11')"
   ]
  },
  {
   "cell_type": "code",
   "execution_count": 352,
   "metadata": {},
   "outputs": [
    {
     "data": {
      "text/plain": [
       "0.0304284923030185"
      ]
     },
     "execution_count": 352,
     "metadata": {},
     "output_type": "execute_result"
    }
   ],
   "source": [
    "test_trade_obj.calc_forward_par_swap_rate('2020/9/14')"
   ]
  },
  {
   "cell_type": "markdown",
   "metadata": {},
   "source": [
    "### create sim_grid and draw forward swap rate"
   ]
  },
  {
   "cell_type": "code",
   "execution_count": 353,
   "metadata": {},
   "outputs": [],
   "source": [
    "sim_grid = ['2018/8/10', '2018/9/10', '2018/10/10', '2018/11/10', '2018/12/10','2019/1/10', '2019/2/10', '2019/4/10', \\\n",
    "                    '2019/6/10', '2019/8/10', '2019/10/10', '2019/12/10', '2020/2/10', '2020/8/10', '2021/2/10', \\\n",
    "                    '2020/8/10', '2021/2/10', '2021/8/10', '2022/8/10', '2023/8/10', '2024/8/10', '2025/8/10', \\\n",
    "                    '2026/8/10', '2027/8/10', '2028/8/10']"
   ]
  },
  {
   "cell_type": "code",
   "execution_count": 354,
   "metadata": {},
   "outputs": [],
   "source": [
    "forward_swap_rate_list = []\n",
    "for i in range(len(sim_grid)):\n",
    "    forward_swap_rate = test_trade_obj.calc_forward_par_swap_rate(sim_grid[i])\n",
    "    forward_swap_rate_list.append(forward_swap_rate)"
   ]
  },
  {
   "cell_type": "code",
   "execution_count": 355,
   "metadata": {},
   "outputs": [],
   "source": [
    "list_days_from_base_date = list(map(lambda x: (str_to_dt_obj(x) - str_to_dt_obj('2018/8/10')).days, sim_grid))"
   ]
  },
  {
   "cell_type": "code",
   "execution_count": 356,
   "metadata": {},
   "outputs": [
    {
     "data": {
      "text/plain": [
       "array([   0,   31,   61,   92,  122,  153,  184,  243,  304,  365,  426,\n",
       "        487,  549,  731,  915,  731,  915, 1096, 1461, 1826, 2192, 2557,\n",
       "       2922, 3287, 3653])"
      ]
     },
     "execution_count": 356,
     "metadata": {},
     "output_type": "execute_result"
    }
   ],
   "source": [
    "np.array(list_days_from_base_date)"
   ]
  },
  {
   "cell_type": "code",
   "execution_count": 357,
   "metadata": {},
   "outputs": [
    {
     "data": {
      "text/plain": [
       "array([0.03005245, 0.03032649, 0.03032649, 0.03032649, 0.03032649,\n",
       "       0.03032649, 0.03032649, 0.030466  , 0.030466  , 0.030466  ,\n",
       "       0.03047182, 0.03047182, 0.03047182, 0.03044307, 0.03042849,\n",
       "       0.03044307, 0.03042849, 0.03044411, 0.03051601, 0.0306414 ,\n",
       "       0.03079918, 0.03096503, 0.03117947, 0.03137472, 0.03142453])"
      ]
     },
     "execution_count": 357,
     "metadata": {},
     "output_type": "execute_result"
    }
   ],
   "source": [
    "np.array(forward_swap_rate_list)"
   ]
  },
  {
   "cell_type": "code",
   "execution_count": 358,
   "metadata": {},
   "outputs": [],
   "source": [
    "forward_swap_rate_with_days = np.c_[np.array(list_days_from_base_date), np.array(forward_swap_rate_list)]"
   ]
  },
  {
   "cell_type": "code",
   "execution_count": 360,
   "metadata": {},
   "outputs": [
    {
     "data": {
      "text/plain": [
       "(0.03, 0.032)"
      ]
     },
     "execution_count": 360,
     "metadata": {},
     "output_type": "execute_result"
    },
    {
     "data": {
      "image/png": "[encoded data removed]",
      "text/plain": [
       "<matplotlib.figure.Figure at 0x181e592978>"
      ]
     },
     "metadata": {},
     "output_type": "display_data"
    }
   ],
   "source": [
    "plt.figure(1, figsize=(4,4))\n",
    "plt.plot(forward_swap_rate_with_days[:, 0], forward_swap_rate_with_days[:, 1])\n",
    "plt.ylim([0.030, 0.032])"
   ]
  },
  {
   "cell_type": "markdown",
   "metadata": {},
   "source": [
    "### test space"
   ]
  },
  {
   "cell_type": "code",
   "execution_count": 297,
   "metadata": {},
   "outputs": [
    {
     "data": {
      "text/plain": [
       "0.030052448128125634"
      ]
     },
     "execution_count": 297,
     "metadata": {},
     "output_type": "execute_result"
    }
   ],
   "source": [
    "test_trade_obj.calc_forward_par_swap_rate('2018/8/10')"
   ]
  },
  {
   "cell_type": "code",
   "execution_count": 246,
   "metadata": {},
   "outputs": [
    {
     "data": {
      "text/plain": [
       "array(0.99968331)"
      ]
     },
     "execution_count": 246,
     "metadata": {},
     "output_type": "execute_result"
    }
   ],
   "source": [
    "test_trade_obj.get_DF('2018/8/10')"
   ]
  },
  {
   "cell_type": "code",
   "execution_count": 219,
   "metadata": {},
   "outputs": [
    {
     "data": {
      "text/plain": [
       "0.030052448128125634"
      ]
     },
     "execution_count": 219,
     "metadata": {},
     "output_type": "execute_result"
    }
   ],
   "source": [
    "(test_trade_obj.get_DF('2018/8/10') - test_trade_obj.get_DF('2028/8/10')) / test_trade_obj.calc_annuity()"
   ]
  },
  {
   "cell_type": "code",
   "execution_count": 101,
   "metadata": {},
   "outputs": [
    {
     "data": {
      "text/plain": [
       "0.030052448128125634"
      ]
     },
     "execution_count": 101,
     "metadata": {},
     "output_type": "execute_result"
    }
   ],
   "source": [
    "test_trade_obj.gool_seek()"
   ]
  },
  {
   "cell_type": "code",
   "execution_count": 41,
   "metadata": {},
   "outputs": [
    {
     "data": {
      "text/plain": [
       "17506470.544039235"
      ]
     },
     "execution_count": 41,
     "metadata": {},
     "output_type": "execute_result"
    }
   ],
   "source": [
    "test_trade_obj.calc_pv()"
   ]
  },
  {
   "cell_type": "code",
   "execution_count": 26,
   "metadata": {
    "collapsed": true
   },
   "outputs": [],
   "source": [
    "base_date = '2018/9/28'\n",
    "start_date = '2018/8/10'\n",
    "end_date = '2028/8/10'\n",
    "fixed_rate = 0.030052448128125627\n",
    "notional = 1\n",
    "CCY = 'USD'\n",
    "freq_fixed_side = '6M'\n",
    "freq_floot_side = '3M'\n",
    "str_dcc_fixed_side = '360'\n",
    "str_dcc_floot_side = '360'\n",
    "is_fixed_pay = True\n",
    "df_IR = df_IR_180928"
   ]
  },
  {
   "cell_type": "code",
   "execution_count": 27,
   "metadata": {
    "collapsed": true
   },
   "outputs": [],
   "source": [
    "test_trade_obj = swap_pricer(base_date, start_date, end_date, fixed_rate, notional, CCY, freq_fixed_side, freq_floot_side, str_dcc_fixed_side,str_dcc_floot_side, is_fixed_pay, df_IR)"
   ]
  },
  {
   "cell_type": "code",
   "execution_count": 28,
   "metadata": {},
   "outputs": [
    {
     "data": {
      "text/plain": [
       "0.014761190502946026"
      ]
     },
     "execution_count": 28,
     "metadata": {},
     "output_type": "execute_result"
    }
   ],
   "source": [
    "test_trade_obj.calc_pv()"
   ]
  },
  {
   "cell_type": "code",
   "execution_count": 909,
   "metadata": {},
   "outputs": [
    {
     "data": {
      "text/plain": [
       "0.03"
      ]
     },
     "execution_count": 909,
     "metadata": {},
     "output_type": "execute_result"
    }
   ],
   "source": [
    "pd.read_csv('CF.csv').loc[:, 'fixing_date(floot)':'fixing_rate'].loc[0]['fixing_rate']"
   ]
  },
  {
   "cell_type": "code",
   "execution_count": 43,
   "metadata": {
    "collapsed": true
   },
   "outputs": [],
   "source": [
    "base_date = '2018/11/2'\n",
    "start_date = '2018/12/10'\n",
    "end_date = '2028/12/10'\n",
    "fixed_rate = 0.01\n",
    "notional = 100000000\n",
    "CCY = 'USD'\n",
    "freq_fixed_side = '6M'\n",
    "freq_floot_side = '3M'\n",
    "str_dcc_fixed_side = '360'\n",
    "str_dcc_floot_side = '360'\n",
    "is_fixed_pay = True"
   ]
  },
  {
   "cell_type": "code",
   "execution_count": 44,
   "metadata": {},
   "outputs": [
    {
     "ename": "NameError",
     "evalue": "name 'par_rate' is not defined",
     "output_type": "error",
     "traceback": [
      "\u001b[0;31m---------------------------------------------------------------------------\u001b[0m",
      "\u001b[0;31mNameError\u001b[0m                                 Traceback (most recent call last)",
      "\u001b[0;32m<ipython-input-44-1f3b01adf2f9>\u001b[0m in \u001b[0;36m<module>\u001b[0;34m()\u001b[0m\n\u001b[0;32m----> 1\u001b[0;31m \u001b[0mIRS_obj\u001b[0m \u001b[0;34m=\u001b[0m \u001b[0mswap_pricer\u001b[0m\u001b[0;34m(\u001b[0m\u001b[0mbase_date\u001b[0m\u001b[0;34m,\u001b[0m \u001b[0mstart_date\u001b[0m\u001b[0;34m,\u001b[0m \u001b[0mend_date\u001b[0m\u001b[0;34m,\u001b[0m \u001b[0mpar_rate\u001b[0m\u001b[0;34m,\u001b[0m \u001b[0mnotional\u001b[0m\u001b[0;34m,\u001b[0m \u001b[0mCCY\u001b[0m\u001b[0;34m,\u001b[0m \u001b[0mfreq_fixed_side\u001b[0m\u001b[0;34m,\u001b[0m \u001b[0mfreq_floot_side\u001b[0m\u001b[0;34m,\u001b[0m \u001b[0mstr_dcc_fixed_side\u001b[0m\u001b[0;34m,\u001b[0m\u001b[0mstr_dcc_floot_side\u001b[0m\u001b[0;34m,\u001b[0m \u001b[0mis_fixed_pay\u001b[0m\u001b[0;34m,\u001b[0m \u001b[0mdf_IR\u001b[0m\u001b[0;34m)\u001b[0m\u001b[0;34m\u001b[0m\u001b[0m\n\u001b[0m\u001b[1;32m      2\u001b[0m \u001b[0mIRS_obj\u001b[0m\u001b[0;34m.\u001b[0m\u001b[0mcalc_pv\u001b[0m\u001b[0;34m(\u001b[0m\u001b[0;34m)\u001b[0m\u001b[0;34m\u001b[0m\u001b[0m\n",
      "\u001b[0;31mNameError\u001b[0m: name 'par_rate' is not defined"
     ]
    }
   ],
   "source": [
    "IRS_obj = swap_pricer(base_date, start_date, end_date, par_rate, notional, CCY, freq_fixed_side, freq_floot_side, str_dcc_fixed_side,str_dcc_floot_side, is_fixed_pay, df_IR)\n",
    "IRS_obj.calc_pv()"
   ]
  },
  {
   "cell_type": "markdown",
   "metadata": {},
   "source": [
    "### 2018/11/28\n",
    "- 問題：セータが出てこないので，要プログラム変更\n",
    "- 方針：キャッシュフローの部分をbase_dateからgenerateしないといけないはず"
   ]
  },
  {
   "cell_type": "markdown",
   "metadata": {},
   "source": [
    "## utilities"
   ]
  },
  {
   "cell_type": "code",
   "execution_count": 275,
   "metadata": {},
   "outputs": [],
   "source": [
    "import datetime\n",
    "\n",
    "def get_dtobj_int_year_month_day(str_date):\n",
    "    dt_obj_date = datetime.datetime.strptime(str_date, '%Y/%m/%d')\n",
    "    int_year = dt_obj_date.year\n",
    "    int_month = dt_obj_date.month\n",
    "    int_day = dt_obj_date.day\n",
    "    return dt_obj_date, int_year, int_month, int_day\n",
    "\n",
    "def generate_list_CF(str_start_date, str_end_date, str_frequency):\n",
    "    int_frequency = int(str_frequency[:len(str_frequency)-1])\n",
    "    dt_obj_start_date, int_year, int_month, int_day = get_dtobj_int_year_month_day(str_start_date)\n",
    "    dt_obj_end_date = get_dtobj_int_year_month_day(str_end_date)[0]\n",
    "    dt_obj_CF = dt_obj_start_date\n",
    "    CF_array = [dt_obj_CF.strftime('%Y/%m/%d')]\n",
    "    while dt_obj_CF < dt_obj_end_date:\n",
    "        int_month = int_month + int_frequency\n",
    "        if int_month > 12:\n",
    "            int_month = int_month - 12\n",
    "            int_year = int_year + 1\n",
    "            str_CF = str(int_year) + '/' + '{0:02d}'.format(int_month) + '/' + '{0:02d}'.format(int_day)\n",
    "            CF_array.append(str_CF)\n",
    "            dt_obj_CF = datetime.datetime.strptime(str_CF, '%Y/%m/%d')\n",
    "        else:\n",
    "            str_CF = str(int_year) + '/' + '{0:02d}'.format(int_month) + '/' + '{0:02d}'.format(int_day)\n",
    "            CF_array.append(str_CF)\n",
    "            dt_obj_CF = datetime.datetime.strptime(str_CF, '%Y/%m/%d')\n",
    "    return CF_array\n",
    "\n",
    "def generate_list_CF_with_days(str_start_date, str_end_date, str_frequency):\n",
    "    CF_list = generate_list_CF(str_start_date, str_end_date, str_frequency)\n",
    "    len_CF_list = len(CF_list)\n",
    "    dt_obj_start_date = datetime.datetime.strptime(CF_list[0], '%Y/%m/%d')\n",
    "    days_list = []\n",
    "    for i in range(len_CF_list):\n",
    "        dt_obj_target_date = datetime.datetime.strptime(CF_list[i], '%Y/%m/%d')\n",
    "        days = (dt_obj_target_date - dt_obj_start_date).days\n",
    "        days_list.append(days)\n",
    "    df_CF = pd.DataFrame(CF_list)\n",
    "    df_days = pd.DataFrame(days_list)\n",
    "    df_CF_with_days = pd.concat([df_days, df_CF], axis=1)\n",
    "    return df_CF_with_days.values.tolist()\n",
    "\n",
    "def generate_CF_df(str_start_date, str_end_date, str_frequency, is_floot):\n",
    "    '''\n",
    "    generate Cashflow with fixing date, start date and end date. \n",
    "    The output form is dataframe object after concatinating.\n",
    "    '''\n",
    "    original_CF_list = generate_list_CF(str_start_date, str_end_date, str_frequency)\n",
    "    start_CF_list = original_CF_list[:-1]\n",
    "    end_CF_list = original_CF_list[1:]\n",
    "    fixing_CF_list = []\n",
    "    if (is_floot):\n",
    "        for i in range(len(start_CF_list)):\n",
    "            fixing_CF = (str_to_dt_obj(start_CF_list[i]) - datetime.timedelta(days=2)).strftime('%Y/%m/%d')\n",
    "            fixing_CF_list.append(fixing_CF)\n",
    "    else:\n",
    "        fixing_CF_list = ['1900/01/01' for i in range(len(start_CF_list))]\n",
    "    df_start_CF = pd.DataFrame(start_CF_list)\n",
    "    df_end_CF = pd.DataFrame(end_CF_list)\n",
    "    df_fixing_CF = pd.DataFrame(fixing_CF_list) \n",
    "    df_concat = pd.concat([df_fixing_CF, df_start_CF, df_end_CF], axis=1)\n",
    "    df_concat.columns = ['fixing_date', 'start_date', 'end_date']\n",
    "    return df_concat\n",
    "\n",
    "def get_CF_df_from_base_date(str_base_date, str_start_date, str_end_date, str_frequency, is_floot):\n",
    "    original_df_CF = generate_CF_df(str_start_date, str_end_date, str_frequency, is_floot)\n",
    "    dt_obj_base_date = str_to_dt_obj(str_base_date)\n",
    "    dt_obj_start_date = str_to_dt_obj(str_start_date)\n",
    "    for i in range(len(original_df_CF)):\n",
    "        dt_obj_target_date = str_to_dt_obj(original_df_CF ['start_date'][i])\n",
    "        diff =  (dt_obj_base_date - dt_obj_target_date).days\n",
    "        index_num = i\n",
    "        if diff <= 0:\n",
    "            break\n",
    "    new_df_CF = original_df_CF[max([index_num, 0]):]\n",
    "#    if dt_obj_base_date > dt_obj_start_date:\n",
    "#       new_df_CF.loc[max([index_num - 1, 0])]['start_date'] = dt_obj_base_date.strftime('%Y/%m/%d')\n",
    "    return new_df_CF\n",
    "                                          \n",
    "def get_list_CF_from_base_date(str_base_date, str_start_date, str_end_date, str_frequency):\n",
    "    original_CF_list = generate_list_CF_with_days(str_start_date, str_end_date, str_frequency)\n",
    "    dt_obj_start_date = datetime.datetime.strptime(original_CF_list[0][1], '%Y/%m/%d')\n",
    "    dt_obj_base_date = datetime.datetime.strptime(str_base_date, '%Y/%m/%d')\n",
    "    for index, CF_list  in enumerate(original_CF_list):\n",
    "        dt_obj_target_date = datetime.datetime.strptime(CF_list[1], '%Y/%m/%d')\n",
    "        diff =  (dt_obj_base_date - dt_obj_target_date).days\n",
    "        if diff <= 0:\n",
    "            break\n",
    "    new_CF_list = original_CF_list[index:]\n",
    "    return [j for i, j in new_CF_list]\n",
    "\n",
    "def to_csv_df_CF(str_base_date, str_start_date, str_end_date, str_frequency, is_floot):\n",
    "    df_CF = get_CF_df_from_base_date(str_base_date, str_start_date, str_end_date, str_frequency, is_floot)\n",
    "    if (is_floot):\n",
    "        side_name = 'floot'\n",
    "    else:\n",
    "        side_name = 'fixed'\n",
    "    return df_CF.to_csv(side_name + '.csv')\n",
    "\n",
    "def str_to_dt_obj(str_date):\n",
    "    dt_obj = datetime.datetime.strptime(str_date, '%Y/%m/%d')\n",
    "    return dt_obj\n",
    "\n",
    "def get_index_from_base_date(list_start_date_CF, str_base_date):\n",
    "    dt_obj_base_date = str_to_dt_obj(str_base_date)\n",
    "    for index, CF_list in enumerate(list_start_date_CF):\n",
    "        dt_obj_target_date = str_to_dt_obj(CF_list)\n",
    "        diff = (dt_obj_base_date  - dt_obj_target_date).days\n",
    "        if diff <= 0:\n",
    "            break\n",
    "    return max(index - 1, 0)"
   ]
  },
  {
   "cell_type": "markdown",
   "metadata": {},
   "source": [
    "### test space"
   ]
  },
  {
   "cell_type": "code",
   "execution_count": 118,
   "metadata": {
    "collapsed": true
   },
   "outputs": [],
   "source": [
    "to_csv_df_CF('2018/7/31', '2018/08/10', '2028/8/10', '6M', is_floot=True)"
   ]
  },
  {
   "cell_type": "code",
   "execution_count": 114,
   "metadata": {},
   "outputs": [
    {
     "data": {
      "text/html": [
       "<div>\n",
       "<style>\n",
       "    .dataframe thead tr:only-child th {\n",
       "        text-align: right;\n",
       "    }\n",
       "\n",
       "    .dataframe thead th {\n",
       "        text-align: left;\n",
       "    }\n",
       "\n",
       "    .dataframe tbody tr th {\n",
       "        vertical-align: top;\n",
       "    }\n",
       "</style>\n",
       "<table border=\"1\" class=\"dataframe\">\n",
       "  <thead>\n",
       "    <tr style=\"text-align: right;\">\n",
       "      <th></th>\n",
       "      <th>fixing_date</th>\n",
       "      <th>start_date</th>\n",
       "      <th>end_date</th>\n",
       "    </tr>\n",
       "  </thead>\n",
       "  <tbody>\n",
       "    <tr>\n",
       "      <th>1</th>\n",
       "      <td>2019/03/08</td>\n",
       "      <td>2019/03/10</td>\n",
       "      <td>2019/09/10</td>\n",
       "    </tr>\n",
       "    <tr>\n",
       "      <th>2</th>\n",
       "      <td>2019/09/08</td>\n",
       "      <td>2019/09/10</td>\n",
       "      <td>2020/03/10</td>\n",
       "    </tr>\n",
       "    <tr>\n",
       "      <th>3</th>\n",
       "      <td>2020/03/08</td>\n",
       "      <td>2020/03/10</td>\n",
       "      <td>2020/09/10</td>\n",
       "    </tr>\n",
       "    <tr>\n",
       "      <th>4</th>\n",
       "      <td>2020/09/08</td>\n",
       "      <td>2020/09/10</td>\n",
       "      <td>2021/03/10</td>\n",
       "    </tr>\n",
       "    <tr>\n",
       "      <th>5</th>\n",
       "      <td>2021/03/08</td>\n",
       "      <td>2021/03/10</td>\n",
       "      <td>2021/09/10</td>\n",
       "    </tr>\n",
       "    <tr>\n",
       "      <th>6</th>\n",
       "      <td>2021/09/08</td>\n",
       "      <td>2021/09/10</td>\n",
       "      <td>2022/03/10</td>\n",
       "    </tr>\n",
       "    <tr>\n",
       "      <th>7</th>\n",
       "      <td>2022/03/08</td>\n",
       "      <td>2022/03/10</td>\n",
       "      <td>2022/09/10</td>\n",
       "    </tr>\n",
       "    <tr>\n",
       "      <th>8</th>\n",
       "      <td>2022/09/08</td>\n",
       "      <td>2022/09/10</td>\n",
       "      <td>2023/03/10</td>\n",
       "    </tr>\n",
       "    <tr>\n",
       "      <th>9</th>\n",
       "      <td>2023/03/08</td>\n",
       "      <td>2023/03/10</td>\n",
       "      <td>2023/09/10</td>\n",
       "    </tr>\n",
       "    <tr>\n",
       "      <th>10</th>\n",
       "      <td>2023/09/08</td>\n",
       "      <td>2023/09/10</td>\n",
       "      <td>2024/03/10</td>\n",
       "    </tr>\n",
       "    <tr>\n",
       "      <th>11</th>\n",
       "      <td>2024/03/08</td>\n",
       "      <td>2024/03/10</td>\n",
       "      <td>2024/09/10</td>\n",
       "    </tr>\n",
       "    <tr>\n",
       "      <th>12</th>\n",
       "      <td>2024/09/08</td>\n",
       "      <td>2024/09/10</td>\n",
       "      <td>2025/03/10</td>\n",
       "    </tr>\n",
       "    <tr>\n",
       "      <th>13</th>\n",
       "      <td>2025/03/08</td>\n",
       "      <td>2025/03/10</td>\n",
       "      <td>2025/09/10</td>\n",
       "    </tr>\n",
       "    <tr>\n",
       "      <th>14</th>\n",
       "      <td>2025/09/08</td>\n",
       "      <td>2025/09/10</td>\n",
       "      <td>2026/03/10</td>\n",
       "    </tr>\n",
       "    <tr>\n",
       "      <th>15</th>\n",
       "      <td>2026/03/08</td>\n",
       "      <td>2026/03/10</td>\n",
       "      <td>2026/09/10</td>\n",
       "    </tr>\n",
       "    <tr>\n",
       "      <th>16</th>\n",
       "      <td>2026/09/08</td>\n",
       "      <td>2026/09/10</td>\n",
       "      <td>2027/03/10</td>\n",
       "    </tr>\n",
       "    <tr>\n",
       "      <th>17</th>\n",
       "      <td>2027/03/08</td>\n",
       "      <td>2027/03/10</td>\n",
       "      <td>2027/09/10</td>\n",
       "    </tr>\n",
       "    <tr>\n",
       "      <th>18</th>\n",
       "      <td>2027/09/08</td>\n",
       "      <td>2027/09/10</td>\n",
       "      <td>2028/03/10</td>\n",
       "    </tr>\n",
       "    <tr>\n",
       "      <th>19</th>\n",
       "      <td>2028/03/08</td>\n",
       "      <td>2028/03/10</td>\n",
       "      <td>2028/09/10</td>\n",
       "    </tr>\n",
       "  </tbody>\n",
       "</table>\n",
       "</div>"
      ],
      "text/plain": [
       "   fixing_date  start_date    end_date\n",
       "1   2019/03/08  2019/03/10  2019/09/10\n",
       "2   2019/09/08  2019/09/10  2020/03/10\n",
       "3   2020/03/08  2020/03/10  2020/09/10\n",
       "4   2020/09/08  2020/09/10  2021/03/10\n",
       "5   2021/03/08  2021/03/10  2021/09/10\n",
       "6   2021/09/08  2021/09/10  2022/03/10\n",
       "7   2022/03/08  2022/03/10  2022/09/10\n",
       "8   2022/09/08  2022/09/10  2023/03/10\n",
       "9   2023/03/08  2023/03/10  2023/09/10\n",
       "10  2023/09/08  2023/09/10  2024/03/10\n",
       "11  2024/03/08  2024/03/10  2024/09/10\n",
       "12  2024/09/08  2024/09/10  2025/03/10\n",
       "13  2025/03/08  2025/03/10  2025/09/10\n",
       "14  2025/09/08  2025/09/10  2026/03/10\n",
       "15  2026/03/08  2026/03/10  2026/09/10\n",
       "16  2026/09/08  2026/09/10  2027/03/10\n",
       "17  2027/03/08  2027/03/10  2027/09/10\n",
       "18  2027/09/08  2027/09/10  2028/03/10\n",
       "19  2028/03/08  2028/03/10  2028/09/10"
      ]
     },
     "execution_count": 114,
     "metadata": {},
     "output_type": "execute_result"
    }
   ],
   "source": [
    "get_CF_df_from_base_date('2018/11/2', '2018/9/10', '2028/9/10', '6M', is_floot=True)"
   ]
  },
  {
   "cell_type": "code",
   "execution_count": 12,
   "metadata": {},
   "outputs": [
    {
     "data": {
      "text/plain": [
       "['2018/08/10',\n",
       " '2019/02/10',\n",
       " '2019/08/10',\n",
       " '2020/02/10',\n",
       " '2020/08/10',\n",
       " '2021/02/10',\n",
       " '2021/08/10',\n",
       " '2022/02/10',\n",
       " '2022/08/10',\n",
       " '2023/02/10',\n",
       " '2023/08/10',\n",
       " '2024/02/10',\n",
       " '2024/08/10',\n",
       " '2025/02/10',\n",
       " '2025/08/10',\n",
       " '2026/02/10',\n",
       " '2026/08/10',\n",
       " '2027/02/10',\n",
       " '2027/08/10',\n",
       " '2028/02/10',\n",
       " '2028/08/10']"
      ]
     },
     "execution_count": 12,
     "metadata": {},
     "output_type": "execute_result"
    }
   ],
   "source": [
    "get_list_CF_from_base_date('2018/8/2', '2018/8/10', '2028/8/10', '6M')"
   ]
  },
  {
   "cell_type": "code",
   "execution_count": null,
   "metadata": {
    "collapsed": true
   },
   "outputs": [],
   "source": []
  }
 ],
 "metadata": {
  "kernelspec": {
   "display_name": "Python 3",
   "language": "python",
   "name": "python3"
  },
  "language_info": {
   "codemirror_mode": {
    "name": "ipython",
    "version": 3
   },
   "file_extension": ".py",
   "mimetype": "text/x-python",
   "name": "python",
   "nbconvert_exporter": "python",
   "pygments_lexer": "ipython3",
   "version": "3.6.2"
  }
 },
 "nbformat": 4,
 "nbformat_minor": 2
}
