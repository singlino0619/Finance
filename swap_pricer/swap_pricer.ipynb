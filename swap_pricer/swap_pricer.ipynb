{
 "cells": [
  {
   "cell_type": "code",
   "execution_count": 670,
   "metadata": {
    "collapsed": true
   },
   "outputs": [],
   "source": [
    "%matplotlib inline\n",
    "import pandas as pd\n",
    "import numpy as np\n",
    "import single_df_curve.single_df_curve as sc\n",
    "import matplotlib.pyplot as plt\n",
    "import os"
   ]
  },
  {
   "cell_type": "code",
   "execution_count": 605,
   "metadata": {},
   "outputs": [],
   "source": [
    "IR_base_date = '20180731'\n",
    "root_path = '/Users/susynishida/Desktop/dev/Python/Finance/input/'\n",
    "IR_input = '/IR.csv'\n",
    "df_IR_180731 = pd.read_csv(root_path + IR_base_date + IR_input)\n",
    "DF_usd_obj_180731 = sc.discount_factor(df_IR_180731, 'USD')"
   ]
  },
  {
   "cell_type": "code",
   "execution_count": 606,
   "metadata": {
    "collapsed": true
   },
   "outputs": [],
   "source": [
    "IR_base_date = '20180928'\n",
    "root_path = '/Users/susynishida/Desktop/dev/Python/Finance/input/'\n",
    "IR_input = '/IR.csv'\n",
    "df_IR_180928 = pd.read_csv(root_path + IR_base_date + IR_input)\n",
    "DF_usd_obj_180928 = sc.discount_factor(df_IR_180928, 'USD')"
   ]
  },
  {
   "cell_type": "code",
   "execution_count": 610,
   "metadata": {},
   "outputs": [
    {
     "data": {
      "text/plain": [
       "[('2018/10/10', 0.9958857266729872),\n",
       " ('2018/10/11', 0.9958132634994473),\n",
       " ('2018/10/12', 0.9957404438448808),\n",
       " ('2018/10/13', 0.9956672869007793),\n",
       " ('2018/10/14', 0.9955938118586336),\n",
       " ('2018/10/15', 0.9955200379099348)]"
      ]
     },
     "execution_count": 610,
     "metadata": {},
     "output_type": "execute_result"
    }
   ],
   "source": [
    "DF_usd_obj_180731.get_array_DF('2018/10/10', '2018/10/15', 'cubic', 'cubic')"
   ]
  },
  {
   "cell_type": "code",
   "execution_count": 611,
   "metadata": {},
   "outputs": [
    {
     "data": {
      "text/plain": [
       "[('2018/10/10', 0.9995575994574869),\n",
       " ('2018/10/11', 0.9994955567737117),\n",
       " ('2018/10/12', 0.999434104408596),\n",
       " ('2018/10/13', 0.9993732030737402),\n",
       " ('2018/10/14', 0.9993128134807455),\n",
       " ('2018/10/15', 0.9992528963412125)]"
      ]
     },
     "execution_count": 611,
     "metadata": {},
     "output_type": "execute_result"
    }
   ],
   "source": [
    "DF_usd_obj_180928.get_array_DF('2018/10/10', '2018/10/15', 'cubic', 'cubic')"
   ]
  },
  {
   "cell_type": "code",
   "execution_count": 591,
   "metadata": {},
   "outputs": [
    {
     "data": {
      "text/plain": [
       "[0.9983264164458074,\n",
       " 0.9982685198900594,\n",
       " 0.998210393615349,\n",
       " 0.9981520234270751,\n",
       " 0.9980934001493967]"
      ]
     },
     "execution_count": 591,
     "metadata": {},
     "output_type": "execute_result"
    }
   ],
   "source": [
    "[j for i,j in DF_usd_obj.get_array_DF('2018/9/2', '2018/9/6', 'cubic', 'cubic')]"
   ]
  },
  {
   "cell_type": "code",
   "execution_count": 1010,
   "metadata": {},
   "outputs": [],
   "source": [
    "class swap_pricer():\n",
    "    def __init__(self, str_base_date, str_start_date, str_end_date, fixed_rate, int_notional, str_ccy, str_frequency_fixed_side, str_frequency_floot_side, str_dcc_fixed_side, str_dcc_floot_side, is_fixed_pay, df_IR):\n",
    "        self._fixed_rate = fixed_rate\n",
    "        self._dt_obj_base_date = str_to_dt_obj(str_base_date)\n",
    "        self._boolean_fixed_side = is_fixed_pay\n",
    "        self._notional = int_notional\n",
    "        self._str_ccy = str_ccy\n",
    "        self._dcc_fixed_side = float(str_dcc_fixed_side)\n",
    "        self._dcc_floot_side = float(str_dcc_floot_side)\n",
    "        self._DF_obj =  sc.discount_factor(df_IR, str_ccy)\n",
    "        self._CF_df_fixed_side = get_CF_df_from_base_date(str_base_date, str_start_date, str_end_date, str_frequency_fixed_side, is_floot=False)\n",
    "        self._CF_df_floot_side = get_CF_df_from_base_date(str_base_date, str_start_date, str_end_date, str_frequency_floot_side, is_floot=True) \n",
    "        self._dcf_list_fixed_side = self._create_list_dcf(self._CF_df_fixed_side, str_dcc_fixed_side)\n",
    "        self._dcf_list_floot_side = self._create_list_dcf(self._CF_df_floot_side, str_dcc_floot_side)\n",
    "     \n",
    "    \n",
    "    def get_DF(self, str_target_date):\n",
    "        return self._DF_obj.get_DF(str_target_date, 'cubic', 'cubic')\n",
    "    \n",
    "    def get_CF_df_fixed_side(self):\n",
    "        return self._CF_df_fixed_side \n",
    "    \n",
    "    def get_CF_df_floot_side(self):\n",
    "        return self._CF_df_floot_side \n",
    "    \n",
    "    def get_dcf_list(self):\n",
    "        return self._dcf_list_floot_side\n",
    "    \n",
    "    def _create_list_dcf(self, CF_df, str_dcc):\n",
    "        len_CF_df = len(CF_df)\n",
    "        dcf_list = []\n",
    "        for i in range(len_CF_df):\n",
    "            dcf = (str_to_dt_obj(CF_df.iloc[i]['end_date']) - str_to_dt_obj(CF_df.iloc[i]['start_date'])).days / float(str_dcc)\n",
    "            dcf_list.append(dcf)\n",
    "        return dcf_list\n",
    "    \n",
    "    def calc_pv_fix_side(self):\n",
    "        len_CF = len(self._CF_df_fixed_side)\n",
    "        pv = 0\n",
    "        str_ini_sdate = self._CF_df_fixed_side.iloc[0]['start_date']\n",
    "        str_ini_edate = self._CF_df_fixed_side.iloc[0]['end_date']\n",
    "        if (str_to_dt_obj(str_ini_sdate) <= self._dt_obj_base_date <= str_to_dt_obj(str_ini_edate)):\n",
    "            dcf_initial = (str_to_dt_obj(str_ini_edate) - self._dt_obj_base_date).days / self._dcc_fixed_side\n",
    "            pv = self._fixed_rate * dcf_initial * self._DF_obj.get_DF(self._CF_df_fixed_side.iloc[0]['start_date'], 'cubic', 'cubic') \n",
    "            for i in range(len_CF - 1):\n",
    "                pv = pv + self._fixed_rate * self._DF_obj.get_DF(self._CF_df_fixed_side.iloc[i]['end_date'], 'cubic', 'cubic') * self._dcf_list_fixed_side[i]\n",
    "        else:\n",
    "            for i in range(len_CF):\n",
    "                pv = pv + self._fixed_rate * self._DF_obj.get_DF(self._CF_df_fixed_side.iloc[i]['end_date'], 'cubic', 'cubic') * self._dcf_list_fixed_side[i]\n",
    "        return self._notional * pv\n",
    "    \n",
    "    def calc_pv_floot_side(self):\n",
    "        len_CF = len(self._CF_df_floot_side)\n",
    "        pv = 0\n",
    "        forward_libor_list = self.generate_forward_libor()\n",
    "        index_for_fixing_rate = self.get_index_for_fixing_rate()\n",
    "        if (index_for_fixing_rate > 0):\n",
    "            fixing_rate = df_fixing_rate.iloc[index_for_fixing_rate]['fixing_rate']\n",
    "        # considering to aqure CF_date from CF.csv or from CF_after_trimming. In the case where end date is not difference from next CF start date,\n",
    "        # we need to use CF.csv\n",
    "            dcf_initial = (str_to_dt_obj(self._CF_df_floot_side.iloc[0]['start_date']) - self._dt_obj_base_date).days / self._dcc_floot_side\n",
    "            pv = fixing_rate * dcf_initial * self._DF_obj.get_DF(self._CF_df_floot_side.iloc[0]['start_date'], 'cubic', 'cubic') \n",
    "            for i in range(len_CF - 1):\n",
    "                pv = pv + forward_libor_list[i] * self._DF_obj.get_DF(self._CF_df_floot_side.iloc[i]['end_date'], 'cubic', 'cubic') * self._dcf_list_floot_side[i]\n",
    "        else:\n",
    "            for i in range(len_CF):\n",
    "                pv = pv + forward_libor_list[i] * self._DF_obj.get_DF(self._CF_df_floot_side.iloc[i]['end_date'], 'cubic', 'cubic') * self._dcf_list_floot_side[i]\n",
    "        return self._notional * pv\n",
    "    \n",
    "    def get_index_for_fixing_rate(self):\n",
    "        df_fixing_rate = pd.read_csv('CF.csv').loc[:, 'fixing_date(floot)':'fixing_rate'] # to do: chnage 'CF.csv'\n",
    "        index_for_fixing_rate = self._CF_df_floot_side.index[0] - 1\n",
    "        return index_for_fixing_rate\n",
    "    \n",
    "    def generate_forward_libor(self):\n",
    "        CF_df = self._CF_df_floot_side\n",
    "        len_CF = len(CF_df)\n",
    "        forward_libor_list = []\n",
    "        dcf_list = self._dcf_list_floot_side\n",
    "        for i in range(len_CF):\n",
    "            DF_start_date = self._DF_obj.get_DF(self._CF_df_floot_side.iloc[i]['start_date'], 'cubic', 'cubic')\n",
    "            DF_end_date = self._DF_obj.get_DF(self._CF_df_floot_side.iloc[i]['end_date'], 'cubic', 'cubic')\n",
    "            forward_libor = (DF_start_date / DF_end_date - 1) / dcf_list[i]\n",
    "            forward_libor_list.append(forward_libor)\n",
    "        return forward_libor_list\n",
    "    \n",
    "    def gool_seek(self):\n",
    "        annuity = self.calc_pv_fix_side() / self._fixed_rate\n",
    "        pv_floot_side= self.calc_pv_floot_side()\n",
    "        swap_rate = pv_floot_side / annuity\n",
    "        return swap_rate\n",
    "    \n",
    "    def calc_pv(self):\n",
    "        if (self._boolean_fixed_side == True):\n",
    "            sign = 1\n",
    "        else:\n",
    "            sign = -1\n",
    "        return sign * (self.calc_pv_floot_side() - self.calc_pv_fix_side())\n",
    "    \n",
    "    def output_CF_to_csv(self):\n",
    "        self._CF_df_floot_side.columns = ['fixing_date(floot)', 'start_date(floot)', 'end_date(floot)']\n",
    "        self._CF_df_fixed_side.columns = ['fixing_date(fixed)', 'start_date(fixed)', 'end_date(fixed)']\n",
    "        len_CF_floot_side = len(self._CF_df_floot_side)\n",
    "        self._CF_df_floot_side['fixing_rate'] = [float(0) for i in range(len_CF_floot_side)]\n",
    "        self._CF_df_fixed_side['fixed_rate']= self._fixed_rate\n",
    "        if (self._boolean_fixed_side):\n",
    "            df_concat = pd.concat([self._CF_df_fixed_side, self._CF_df_floot_side], axis=1)\n",
    "        else:\n",
    "            df_concat = pd.concat([self._CF_df_floot_side, self._CF_df_fixed_side], axis=1)\n",
    "        df_concat.to_csv('CF.csv')"
   ]
  },
  {
   "cell_type": "code",
   "execution_count": 1020,
   "metadata": {},
   "outputs": [],
   "source": [
    "base_date = '2018/9/28'\n",
    "start_date = '2018/8/10'\n",
    "end_date = '2028/8/10'\n",
    "fixed_rate = 0.030052448128125624\n",
    "notional = 1\n",
    "CCY = 'USD'\n",
    "freq_fixed_side = '6M'\n",
    "freq_floot_side = '3M'\n",
    "str_dcc_fixed_side = '360'\n",
    "str_dcc_floot_side = '360'\n",
    "is_fixed_pay = True\n",
    "df_IR = df_IR_180928"
   ]
  },
  {
   "cell_type": "code",
   "execution_count": 1021,
   "metadata": {},
   "outputs": [],
   "source": [
    "test_trade_obj = swap_pricer(base_date, start_date, end_date, fixed_rate, notional, CCY, freq_fixed_side, freq_floot_side, str_dcc_fixed_side,str_dcc_floot_side, is_fixed_pay, df_IR)\n"
   ]
  },
  {
   "cell_type": "code",
   "execution_count": 1022,
   "metadata": {},
   "outputs": [
    {
     "data": {
      "text/plain": [
       "0.2558451108436123"
      ]
     },
     "execution_count": 1022,
     "metadata": {},
     "output_type": "execute_result"
    }
   ],
   "source": [
    "test_trade_obj.calc_pv_floot_side()"
   ]
  },
  {
   "cell_type": "code",
   "execution_count": 1023,
   "metadata": {},
   "outputs": [
    {
     "data": {
      "text/plain": [
       "0.24763948026241137"
      ]
     },
     "execution_count": 1023,
     "metadata": {},
     "output_type": "execute_result"
    }
   ],
   "source": [
    "test_trade_obj.calc_pv_fix_side()"
   ]
  },
  {
   "cell_type": "code",
   "execution_count": 1026,
   "metadata": {},
   "outputs": [
    {
     "data": {
      "text/plain": [
       "0.008205630581200912"
      ]
     },
     "execution_count": 1026,
     "metadata": {},
     "output_type": "execute_result"
    }
   ],
   "source": [
    "test_trade_obj.calc_pv()"
   ]
  },
  {
   "cell_type": "code",
   "execution_count": 1019,
   "metadata": {},
   "outputs": [
    {
     "data": {
      "text/plain": [
       "[0.024123370079415764,\n",
       " 0.02690506095531207,\n",
       " 0.02728591580713421,\n",
       " 0.028748179673801333,\n",
       " 0.030007848614566263,\n",
       " 0.030518361885545065,\n",
       " 0.030752881648882457,\n",
       " 0.030764603313526998,\n",
       " 0.03062515712631145,\n",
       " 0.030407950027026447,\n",
       " 0.03018848300075832,\n",
       " 0.0300484622903157,\n",
       " 0.03000246698404939,\n",
       " 0.029964567530084675,\n",
       " 0.029917510184204698,\n",
       " 0.029880781982579468,\n",
       " 0.029848858333262392,\n",
       " 0.029826285217047898,\n",
       " 0.02981433847820463,\n",
       " 0.02982998921484768,\n",
       " 0.02986408217863716,\n",
       " 0.029910315195466875,\n",
       " 0.029965066051445,\n",
       " 0.030038430140133812,\n",
       " 0.030119865204193748,\n",
       " 0.030193851414667565,\n",
       " 0.030250395247450403,\n",
       " 0.030299785641625002,\n",
       " 0.030337337839862068,\n",
       " 0.030390493377276374,\n",
       " 0.03046120916366634,\n",
       " 0.0305649773667089,\n",
       " 0.030688060825593038,\n",
       " 0.03081317367120454,\n",
       " 0.03092973834575167,\n",
       " 0.03105075532867536,\n",
       " 0.031160168277711894,\n",
       " 0.031243484770913005,\n",
       " 0.031291532121109356,\n",
       " 0.03130970329148075]"
      ]
     },
     "execution_count": 1019,
     "metadata": {},
     "output_type": "execute_result"
    }
   ],
   "source": [
    "test_trade_obj.generate_forward_libor()"
   ]
  },
  {
   "cell_type": "code",
   "execution_count": 909,
   "metadata": {},
   "outputs": [
    {
     "data": {
      "text/plain": [
       "0.03"
      ]
     },
     "execution_count": 909,
     "metadata": {},
     "output_type": "execute_result"
    }
   ],
   "source": [
    "pd.read_csv('CF.csv').loc[:, 'fixing_date(floot)':'fixing_rate'].loc[0]['fixing_rate']"
   ]
  },
  {
   "cell_type": "code",
   "execution_count": 752,
   "metadata": {
    "collapsed": true
   },
   "outputs": [],
   "source": [
    "base_date = '2018/11/2'\n",
    "start_date = '2018/12/10'\n",
    "end_date = '2028/12/10'\n",
    "fixed_rate = 0.01\n",
    "notional = 100000000\n",
    "CCY = 'USD'\n",
    "freq_fixed_side = '6M'\n",
    "freq_floot_side = '3M'\n",
    "str_dcc_fixed_side = '360'\n",
    "str_dcc_floot_side = '360'\n",
    "is_fixed_pay = True"
   ]
  },
  {
   "cell_type": "code",
   "execution_count": 613,
   "metadata": {},
   "outputs": [
    {
     "data": {
      "text/plain": [
       "-61218.49067253247"
      ]
     },
     "execution_count": 613,
     "metadata": {},
     "output_type": "execute_result"
    }
   ],
   "source": [
    "IRS_obj = swap_pricer(base_date, start_date, end_date, par_rate, notional, CCY, freq_fixed_side, freq_floot_side, str_dcc_fixed_side,str_dcc_floot_side, is_fixed_pay, df_IR)\n",
    "IRS_obj.calc_pv()"
   ]
  },
  {
   "cell_type": "code",
   "execution_count": null,
   "metadata": {
    "collapsed": true
   },
   "outputs": [],
   "source": [
    "pd.DataFrame."
   ]
  },
  {
   "cell_type": "markdown",
   "metadata": {},
   "source": [
    "### 2018/11/28\n",
    "- 問題：セータが出てこないので，要プログラム変更\n",
    "- 方針：キャッシュフローの部分をbase_dateからgenerateしないといけないはず"
   ]
  },
  {
   "cell_type": "markdown",
   "metadata": {},
   "source": [
    "## test space"
   ]
  },
  {
   "cell_type": "code",
   "execution_count": 11,
   "metadata": {},
   "outputs": [
    {
     "data": {
      "text/plain": [
       "<__main__.swap_pricer at 0x10e265ac8>"
      ]
     },
     "execution_count": 11,
     "metadata": {},
     "output_type": "execute_result"
    }
   ],
   "source": [
    "swap_pricer()"
   ]
  },
  {
   "cell_type": "code",
   "execution_count": 780,
   "metadata": {},
   "outputs": [],
   "source": [
    "import datetime\n",
    "\n",
    "def get_dtobj_int_year_month_day(str_date):\n",
    "    dt_obj_date = datetime.datetime.strptime(str_date, '%Y/%m/%d')\n",
    "    int_year = dt_obj_date.year\n",
    "    int_month = dt_obj_date.month\n",
    "    int_day = dt_obj_date.day\n",
    "    return dt_obj_date, int_year, int_month, int_day\n",
    "\n",
    "def generate_list_CF(str_start_date, str_end_date, str_frequency):\n",
    "    int_frequency = int(str_frequency[:len(str_frequency)-1])\n",
    "    dt_obj_start_date, int_year, int_month, int_day = get_dtobj_int_year_month_day(str_start_date)\n",
    "    dt_obj_end_date = get_dtobj_int_year_month_day(str_end_date)[0]\n",
    "    dt_obj_CF = dt_obj_start_date\n",
    "    CF_array = [dt_obj_CF.strftime('%Y/%m/%d')]\n",
    "    while dt_obj_CF < dt_obj_end_date:\n",
    "        int_month = int_month + int_frequency\n",
    "        if int_month > 12:\n",
    "            int_month = int_month - 12\n",
    "            int_year = int_year + 1\n",
    "            str_CF = str(int_year) + '/' + '{0:02d}'.format(int_month) + '/' + '{0:02d}'.format(int_day)\n",
    "            CF_array.append(str_CF)\n",
    "            dt_obj_CF = datetime.datetime.strptime(str_CF, '%Y/%m/%d')\n",
    "        else:\n",
    "            str_CF = str(int_year) + '/' + '{0:02d}'.format(int_month) + '/' + '{0:02d}'.format(int_day)\n",
    "            CF_array.append(str_CF)\n",
    "            dt_obj_CF = datetime.datetime.strptime(str_CF, '%Y/%m/%d')\n",
    "    return CF_array\n",
    "\n",
    "def generate_list_CF_with_days(str_start_date, str_end_date, str_frequency):\n",
    "    CF_list = generate_list_CF(str_start_date, str_end_date, str_frequency)\n",
    "    len_CF_list = len(CF_list)\n",
    "    dt_obj_start_date = datetime.datetime.strptime(CF_list[0], '%Y/%m/%d')\n",
    "    days_list = []\n",
    "    for i in range(len_CF_list):\n",
    "        dt_obj_target_date = datetime.datetime.strptime(CF_list[i], '%Y/%m/%d')\n",
    "        days = (dt_obj_target_date - dt_obj_start_date).days\n",
    "        days_list.append(days)\n",
    "    df_CF = pd.DataFrame(CF_list)\n",
    "    df_days = pd.DataFrame(days_list)\n",
    "    df_CF_with_days = pd.concat([df_days, df_CF], axis=1)\n",
    "    return df_CF_with_days.values.tolist()\n",
    "\n",
    "def generate_CF_df(str_start_date, str_end_date, str_frequency, is_floot):\n",
    "    '''\n",
    "    generate Cashflow with fixing date, start date and end date. \n",
    "    The output form is dataframe object after concatinating.\n",
    "    '''\n",
    "    original_CF_list = generate_list_CF(str_start_date, str_end_date, str_frequency)\n",
    "    start_CF_list = original_CF_list[:-1]\n",
    "    end_CF_list = original_CF_list[1:]\n",
    "    fixing_CF_list = []\n",
    "    if (is_floot):\n",
    "        for i in range(len(start_CF_list)):\n",
    "            fixing_CF = (str_to_dt_obj(start_CF_list[i]) - datetime.timedelta(days=2)).strftime('%Y/%m/%d')\n",
    "            fixing_CF_list.append(fixing_CF)\n",
    "    else:\n",
    "        fixing_CF_list = ['1900/01/01' for i in range(len(start_CF_list))]\n",
    "    df_start_CF = pd.DataFrame(start_CF_list)\n",
    "    df_end_CF = pd.DataFrame(end_CF_list)\n",
    "    df_fixing_CF = pd.DataFrame(fixing_CF_list) \n",
    "    df_concat = pd.concat([df_fixing_CF, df_start_CF, df_end_CF], axis=1)\n",
    "    df_concat.columns = ['fixing_date', 'start_date', 'end_date']\n",
    "    return df_concat\n",
    "\n",
    "def get_CF_df_from_base_date(str_base_date, str_start_date, str_end_date, str_frequency, is_floot):\n",
    "    original_df_CF = generate_CF_df(str_start_date, str_end_date, str_frequency, is_floot)\n",
    "    dt_obj_base_date = str_to_dt_obj(str_base_date)\n",
    "    dt_obj_start_date = str_to_dt_obj(str_start_date)\n",
    "    for i in range(len(original_df_CF)):\n",
    "        dt_obj_target_date = str_to_dt_obj(original_df_CF ['start_date'][i])\n",
    "        diff =  (dt_obj_base_date - dt_obj_target_date).days\n",
    "        index_num = i\n",
    "        if diff <= 0:\n",
    "            break\n",
    "    new_df_CF = original_df_CF[max([index_num, 0]):]\n",
    "#    if dt_obj_base_date > dt_obj_start_date:\n",
    " #       new_df_CF.loc[max([index_num - 1, 0])]['start_date'] = dt_obj_base_date.strftime('%Y/%m/%d')\n",
    "    return new_df_CF, index_num\n",
    "                                          \n",
    "def get_list_CF_from_base_date(str_base_date, str_start_date, str_end_date, str_frequency):\n",
    "    original_CF_list = generate_list_CF_with_days(str_start_date, str_end_date, str_frequency)\n",
    "    dt_obj_start_date = datetime.datetime.strptime(original_CF_list[0][1], '%Y/%m/%d')\n",
    "    dt_obj_base_date = datetime.datetime.strptime(str_base_date, '%Y/%m/%d')\n",
    "    for index, CF_list  in enumerate(original_CF_list):\n",
    "        dt_obj_target_date = datetime.datetime.strptime(CF_list[1], '%Y/%m/%d')\n",
    "        diff =  (dt_obj_base_date - dt_obj_target_date).days\n",
    "        if diff <= 0:\n",
    "            break\n",
    "    new_CF_list = original_CF_list[index:]\n",
    "    return [j for i, j in new_CF_list]\n",
    "\n",
    "def str_to_dt_obj(str_date):\n",
    "    dt_obj = datetime.datetime.strptime(str_date, '%Y/%m/%d')\n",
    "    return dt_obj"
   ]
  },
  {
   "cell_type": "code",
   "execution_count": 508,
   "metadata": {},
   "outputs": [
    {
     "data": {
      "text/html": [
       "<div>\n",
       "<style>\n",
       "    .dataframe thead tr:only-child th {\n",
       "        text-align: right;\n",
       "    }\n",
       "\n",
       "    .dataframe thead th {\n",
       "        text-align: left;\n",
       "    }\n",
       "\n",
       "    .dataframe tbody tr th {\n",
       "        vertical-align: top;\n",
       "    }\n",
       "</style>\n",
       "<table border=\"1\" class=\"dataframe\">\n",
       "  <thead>\n",
       "    <tr style=\"text-align: right;\">\n",
       "      <th></th>\n",
       "      <th>fixing_date</th>\n",
       "      <th>start_date</th>\n",
       "      <th>end_date</th>\n",
       "    </tr>\n",
       "  </thead>\n",
       "  <tbody>\n",
       "    <tr>\n",
       "      <th>2</th>\n",
       "      <td>2019/09/08</td>\n",
       "      <td>2019/09/10</td>\n",
       "      <td>2020/03/10</td>\n",
       "    </tr>\n",
       "    <tr>\n",
       "      <th>3</th>\n",
       "      <td>2020/03/08</td>\n",
       "      <td>2020/03/10</td>\n",
       "      <td>2020/09/10</td>\n",
       "    </tr>\n",
       "    <tr>\n",
       "      <th>4</th>\n",
       "      <td>2020/09/08</td>\n",
       "      <td>2020/09/10</td>\n",
       "      <td>2021/03/10</td>\n",
       "    </tr>\n",
       "    <tr>\n",
       "      <th>5</th>\n",
       "      <td>2021/03/08</td>\n",
       "      <td>2021/03/10</td>\n",
       "      <td>2021/09/10</td>\n",
       "    </tr>\n",
       "    <tr>\n",
       "      <th>6</th>\n",
       "      <td>2021/09/08</td>\n",
       "      <td>2021/09/10</td>\n",
       "      <td>2022/03/10</td>\n",
       "    </tr>\n",
       "    <tr>\n",
       "      <th>7</th>\n",
       "      <td>2022/03/08</td>\n",
       "      <td>2022/03/10</td>\n",
       "      <td>2022/09/10</td>\n",
       "    </tr>\n",
       "    <tr>\n",
       "      <th>8</th>\n",
       "      <td>2022/09/08</td>\n",
       "      <td>2022/09/10</td>\n",
       "      <td>2023/03/10</td>\n",
       "    </tr>\n",
       "    <tr>\n",
       "      <th>9</th>\n",
       "      <td>2023/03/08</td>\n",
       "      <td>2023/03/10</td>\n",
       "      <td>2023/09/10</td>\n",
       "    </tr>\n",
       "    <tr>\n",
       "      <th>10</th>\n",
       "      <td>2023/09/08</td>\n",
       "      <td>2023/09/10</td>\n",
       "      <td>2024/03/10</td>\n",
       "    </tr>\n",
       "    <tr>\n",
       "      <th>11</th>\n",
       "      <td>2024/03/08</td>\n",
       "      <td>2024/03/10</td>\n",
       "      <td>2024/09/10</td>\n",
       "    </tr>\n",
       "    <tr>\n",
       "      <th>12</th>\n",
       "      <td>2024/09/08</td>\n",
       "      <td>2024/09/10</td>\n",
       "      <td>2025/03/10</td>\n",
       "    </tr>\n",
       "    <tr>\n",
       "      <th>13</th>\n",
       "      <td>2025/03/08</td>\n",
       "      <td>2025/03/10</td>\n",
       "      <td>2025/09/10</td>\n",
       "    </tr>\n",
       "    <tr>\n",
       "      <th>14</th>\n",
       "      <td>2025/09/08</td>\n",
       "      <td>2025/09/10</td>\n",
       "      <td>2026/03/10</td>\n",
       "    </tr>\n",
       "    <tr>\n",
       "      <th>15</th>\n",
       "      <td>2026/03/08</td>\n",
       "      <td>2026/03/10</td>\n",
       "      <td>2026/09/10</td>\n",
       "    </tr>\n",
       "    <tr>\n",
       "      <th>16</th>\n",
       "      <td>2026/09/08</td>\n",
       "      <td>2026/09/10</td>\n",
       "      <td>2027/03/10</td>\n",
       "    </tr>\n",
       "    <tr>\n",
       "      <th>17</th>\n",
       "      <td>2027/03/08</td>\n",
       "      <td>2027/03/10</td>\n",
       "      <td>2027/09/10</td>\n",
       "    </tr>\n",
       "    <tr>\n",
       "      <th>18</th>\n",
       "      <td>2027/09/08</td>\n",
       "      <td>2027/09/10</td>\n",
       "      <td>2028/03/10</td>\n",
       "    </tr>\n",
       "    <tr>\n",
       "      <th>19</th>\n",
       "      <td>2028/03/08</td>\n",
       "      <td>2028/03/10</td>\n",
       "      <td>2028/09/10</td>\n",
       "    </tr>\n",
       "  </tbody>\n",
       "</table>\n",
       "</div>"
      ],
      "text/plain": [
       "   fixing_date  start_date    end_date\n",
       "2   2019/09/08  2019/09/10  2020/03/10\n",
       "3   2020/03/08  2020/03/10  2020/09/10\n",
       "4   2020/09/08  2020/09/10  2021/03/10\n",
       "5   2021/03/08  2021/03/10  2021/09/10\n",
       "6   2021/09/08  2021/09/10  2022/03/10\n",
       "7   2022/03/08  2022/03/10  2022/09/10\n",
       "8   2022/09/08  2022/09/10  2023/03/10\n",
       "9   2023/03/08  2023/03/10  2023/09/10\n",
       "10  2023/09/08  2023/09/10  2024/03/10\n",
       "11  2024/03/08  2024/03/10  2024/09/10\n",
       "12  2024/09/08  2024/09/10  2025/03/10\n",
       "13  2025/03/08  2025/03/10  2025/09/10\n",
       "14  2025/09/08  2025/09/10  2026/03/10\n",
       "15  2026/03/08  2026/03/10  2026/09/10\n",
       "16  2026/09/08  2026/09/10  2027/03/10\n",
       "17  2027/03/08  2027/03/10  2027/09/10\n",
       "18  2027/09/08  2027/09/10  2028/03/10\n",
       "19  2028/03/08  2028/03/10  2028/09/10"
      ]
     },
     "execution_count": 508,
     "metadata": {},
     "output_type": "execute_result"
    }
   ],
   "source": [
    "get_CF_df_from_base_date('2019/11/2', '2018/9/10', '2028/9/10', '6M', is_floot=True)"
   ]
  },
  {
   "cell_type": "code",
   "execution_count": 12,
   "metadata": {},
   "outputs": [
    {
     "data": {
      "text/plain": [
       "['2018/08/10',\n",
       " '2019/02/10',\n",
       " '2019/08/10',\n",
       " '2020/02/10',\n",
       " '2020/08/10',\n",
       " '2021/02/10',\n",
       " '2021/08/10',\n",
       " '2022/02/10',\n",
       " '2022/08/10',\n",
       " '2023/02/10',\n",
       " '2023/08/10',\n",
       " '2024/02/10',\n",
       " '2024/08/10',\n",
       " '2025/02/10',\n",
       " '2025/08/10',\n",
       " '2026/02/10',\n",
       " '2026/08/10',\n",
       " '2027/02/10',\n",
       " '2027/08/10',\n",
       " '2028/02/10',\n",
       " '2028/08/10']"
      ]
     },
     "execution_count": 12,
     "metadata": {},
     "output_type": "execute_result"
    }
   ],
   "source": [
    "get_list_CF_from_base_date('2018/8/2', '2018/8/10', '2028/8/10', '6M')"
   ]
  },
  {
   "cell_type": "code",
   "execution_count": null,
   "metadata": {
    "collapsed": true
   },
   "outputs": [],
   "source": []
  },
  {
   "cell_type": "code",
   "execution_count": 85,
   "metadata": {
    "collapsed": true
   },
   "outputs": [],
   "source": [
    "start_date = datetime.datetime.strptime('2018/10/10', \"%Y/%m/%d\")\n",
    "end_date = datetime.datetime.strptime('2018/11/10', \"%Y/%m/%d\")"
   ]
  },
  {
   "cell_type": "code",
   "execution_count": 868,
   "metadata": {
    "collapsed": true
   },
   "outputs": [],
   "source": [
    "def test_func(input_num):\n",
    "    num = input_num\n",
    "    return pd.DataFrame([[0,1],[2,3]]), num"
   ]
  },
  {
   "cell_type": "code",
   "execution_count": null,
   "metadata": {
    "collapsed": true
   },
   "outputs": [],
   "source": []
  }
 ],
 "metadata": {
  "kernelspec": {
   "display_name": "Python 3",
   "language": "python",
   "name": "python3"
  },
  "language_info": {
   "codemirror_mode": {
    "name": "ipython",
    "version": 3
   },
   "file_extension": ".py",
   "mimetype": "text/x-python",
   "name": "python",
   "nbconvert_exporter": "python",
   "pygments_lexer": "ipython3",
   "version": "3.6.2"
  }
 },
 "nbformat": 4,
 "nbformat_minor": 2
}
