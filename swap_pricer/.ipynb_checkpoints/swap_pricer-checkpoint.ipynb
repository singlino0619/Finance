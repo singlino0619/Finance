{
 "cells": [
  {
   "cell_type": "code",
   "execution_count": 1,
   "metadata": {
    "collapsed": true
   },
   "outputs": [],
   "source": [
    "import pandas as pd\n",
    "import numpy as np\n",
    "import single_df_curve.single_df_curve as sc"
   ]
  },
  {
   "cell_type": "code",
   "execution_count": 2,
   "metadata": {
    "collapsed": true
   },
   "outputs": [],
   "source": [
    "base_date = '20180731'\n",
    "root_path = '/Users/susynishida/Desktop/dev/Python/Finance/discount_factor/'\n",
    "IR_input = '/IR.csv'\n",
    "df_IR = pd.read_csv(root_path + 'input/' + base_date + IR_input)\n",
    "DF_usd_obj = sc.discount_factor(df_IR, 'USD')"
   ]
  },
  {
   "cell_type": "code",
   "execution_count": 3,
   "metadata": {},
   "outputs": [
    {
     "data": {
      "text/plain": [
       "[('2018/09/02', 0.9983264164458074),\n",
       " ('2018/09/03', 0.9982685198900594),\n",
       " ('2018/09/04', 0.998210393615349),\n",
       " ('2018/09/05', 0.9981520234270751),\n",
       " ('2018/09/06', 0.9980934001493967)]"
      ]
     },
     "execution_count": 3,
     "metadata": {},
     "output_type": "execute_result"
    }
   ],
   "source": [
    "DF_usd_obj.get_array_DF('2018/9/2', '2018/9/6', 'cubic', 'cubic')"
   ]
  },
  {
   "cell_type": "code",
   "execution_count": 4,
   "metadata": {},
   "outputs": [
    {
     "data": {
      "text/plain": [
       "[0.9983264164458074,\n",
       " 0.9982685198900594,\n",
       " 0.998210393615349,\n",
       " 0.9981520234270751,\n",
       " 0.9980934001493967]"
      ]
     },
     "execution_count": 4,
     "metadata": {},
     "output_type": "execute_result"
    }
   ],
   "source": [
    "[j for i,j in DF_usd_obj.get_array_DF('2018/9/2', '2018/9/6', 'cubic', 'cubic')]"
   ]
  },
  {
   "cell_type": "code",
   "execution_count": 223,
   "metadata": {},
   "outputs": [],
   "source": [
    "class swap_pricer():\n",
    "    def __init__(self, str_base_date, str_start_date, str_end_date, fixed_rate, int_notional, str_ccy, str_frequency_fixed_side, str_frequency_floot_side, str_dcc_fixed_side, str_dcc_floot_side, is_fixed_pay, df_IR):\n",
    "        self._fixed_rate = fixed_rate\n",
    "        self._boolean_fixed_side = is_fixed_pay\n",
    "        self._notional = int_notional\n",
    "        self._str_ccy = str_ccy\n",
    "        self._DF_obj =  sc.discount_factor(df_IR, str_ccy)\n",
    "        self._CF_list_fixed_side = get_list_CF_from_base_date(str_base_date, str_start_date, str_end_date, str_frequency_fixed_side)\n",
    "        self._CF_list_floot_side = get_list_CF_from_base_date(str_base_date, str_start_date, str_end_date, str_frequency_floot_side) \n",
    "        self._dcf_list_fixed_side = self._create_list_dcf(self._CF_list_fixed_side, str_dcc_fixed_side)\n",
    "        self._dcf_list_floot_side = self._create_list_dcf(self._CF_list_floot_side, str_dcc_floot_side)\n",
    "        \n",
    "    def _create_list_dcf(self, CF_list, str_dcc):\n",
    "        len_CF_list = len(CF_list)\n",
    "        dcf_list = []\n",
    "        for i in range(len_CF_list - 1):\n",
    "            dcf = ( str_to_dt_obj(CF_list[i+1]) - str_to_dt_obj(CF_list[i])).days / float(str_dcc)\n",
    "            dcf_list.append(dcf)\n",
    "        return dcf_list\n",
    "    \n",
    "    def calc_pv_fix_side(self):\n",
    "        len_CF = len(self._CF_list_fixed_side)\n",
    "        pv = 0\n",
    "        for i in range(len_CF - 1):\n",
    "            pv = pv + self._fixed_rate * self._DF_obj.get_DF(self._CF_list_fixed_side[i], 'cubic', 'cubic') * self._dcf_list_fixed_side[i]\n",
    "        return self._notional * pv\n",
    "    \n",
    "    def calc_pv_floot_side(self):\n",
    "        len_CF = len(self._CF_list_floot_side)\n",
    "        pv = 0\n",
    "        forward_libor_list = self.generate_forward_libor()\n",
    "        for i in range(len_CF - 1):\n",
    "            pv = pv + forward_libor_list[i] * self._DF_obj.get_DF(self._CF_list_floot_side[ i + 1], 'cubic', 'cubic') * self._dcf_list_floot_side[i]\n",
    "        return self._notional * pv\n",
    "    \n",
    "    def generate_forward_libor(self):\n",
    "        CF_list = self._CF_list_floot_side\n",
    "        len_CF = len(CF_list)\n",
    "        forward_libor_list = []\n",
    "        DF_list = list(map(lambda x: self._DF_obj.get_DF(x, 'cubic', 'cubic'), CF_list))\n",
    "        for i in range(len_CF - 1):\n",
    "            day_count_fraction = (str_to_dt_obj(CF_list[i+1]) - str_to_dt_obj(CF_list[i])).days / 360\n",
    "            forward_libor = (DF_list[i] / DF_list[i + 1] - 1) / day_count_fraction\n",
    "            forward_libor_list.append(forward_libor)\n",
    "        return forward_libor_list\n",
    "    \n",
    "    def gool_seek(self):\n",
    "        annuity = self.calc_pv_fix_side() / self._fixed_rate\n",
    "        pv_floot_side= self.calc_pv_floot_side()\n",
    "        swap_rate = pv_floot_side / annuity\n",
    "        return swap_rate\n",
    "    \n",
    "    def calc_pv(self):\n",
    "        if (self._boolean_fixed_side == True):\n",
    "            sign = 1\n",
    "        else:\n",
    "            sign = -1\n",
    "        return sign * (self.calc_pv_floot_side() - self.calc_pv_fix_side())"
   ]
  },
  {
   "cell_type": "code",
   "execution_count": 252,
   "metadata": {
    "collapsed": true
   },
   "outputs": [],
   "source": [
    "base_date = '2018/8/2'\n",
    "start_date = '2018/12/10'\n",
    "end_date = '2028/12/10'\n",
    "fixed_rate = 0.01\n",
    "notional = 100000000\n",
    "CCY = 'USD'\n",
    "freq_fixed_side = '6M'\n",
    "freq_floot_side = '3M'\n",
    "str_dcc_fixed_side = '360'\n",
    "str_dcc_floot_side = '360'\n",
    "is_fixed_pay = True"
   ]
  },
  {
   "cell_type": "code",
   "execution_count": 255,
   "metadata": {},
   "outputs": [
    {
     "data": {
      "text/plain": [
       "0.029831601005438912"
      ]
     },
     "execution_count": 255,
     "metadata": {},
     "output_type": "execute_result"
    }
   ],
   "source": [
    "IRS_obj = swap_pricer(base_date, start_date, end_date, fixed_rate, notional, CCY, freq_fixed_side, freq_floot_side, str_dcc_fixed_side,str_dcc_floot_side, is_fixed_pay, df_IR)\n",
    "par_rate = IRS_obj.gool_seek()\n",
    "par_rate"
   ]
  },
  {
   "cell_type": "code",
   "execution_count": 256,
   "metadata": {
    "collapsed": true
   },
   "outputs": [],
   "source": [
    "base_date = '2018/10/2'\n",
    "start_date = '2018/12/10'\n",
    "end_date = '2028/12/10'\n",
    "fixed_rate = 0.01\n",
    "notional = 100000000\n",
    "CCY = 'USD'\n",
    "freq_fixed_side = '6M'\n",
    "freq_floot_side = '3M'\n",
    "str_dcc_fixed_side = '360'\n",
    "str_dcc_floot_side = '360'\n",
    "is_fixed_pay = True"
   ]
  },
  {
   "cell_type": "code",
   "execution_count": 257,
   "metadata": {},
   "outputs": [
    {
     "data": {
      "text/plain": [
       "0.0"
      ]
     },
     "execution_count": 257,
     "metadata": {},
     "output_type": "execute_result"
    }
   ],
   "source": [
    "IRS_obj = swap_pricer(base_date, start_date, end_date, par_rate, notional, CCY, freq_fixed_side, freq_floot_side, str_dcc_fixed_side,str_dcc_floot_side, is_fixed_pay, df_IR)\n",
    "IRS_obj.calc_pv()"
   ]
  },
  {
   "cell_type": "markdown",
   "metadata": {},
   "source": [
    "### 2018/11/28\n",
    "- 問題：セータが出てこないので，要プログラム変更\n",
    "- 方針：キャッシュフローの部分をbase_dateからgenerateしないといけないはず"
   ]
  },
  {
   "cell_type": "markdown",
   "metadata": {},
   "source": [
    "## test space"
   ]
  },
  {
   "cell_type": "code",
   "execution_count": 11,
   "metadata": {},
   "outputs": [
    {
     "data": {
      "text/plain": [
       "<__main__.swap_pricer at 0x10e265ac8>"
      ]
     },
     "execution_count": 11,
     "metadata": {},
     "output_type": "execute_result"
    }
   ],
   "source": [
    "swap_pricer()"
   ]
  },
  {
   "cell_type": "code",
   "execution_count": 51,
   "metadata": {
    "collapsed": true
   },
   "outputs": [],
   "source": [
    "import datetime\n",
    "\n",
    "def get_dtobj_int_year_month_day(str_date):\n",
    "    dt_obj_date = datetime.datetime.strptime(str_date, '%Y/%m/%d')\n",
    "    int_year = dt_obj_date.year\n",
    "    int_month = dt_obj_date.month\n",
    "    int_day = dt_obj_date.day\n",
    "    return dt_obj_date, int_year, int_month, int_day\n",
    "\n",
    "def generate_list_CF(str_start_date, str_end_date, str_frequency):\n",
    "    int_frequency = int(str_frequency[:len(str_frequency)-1])\n",
    "    dt_obj_start_date, int_year, int_month, int_day = get_dtobj_int_year_month_day(str_start_date)\n",
    "    dt_obj_end_date = get_dtobj_int_year_month_day(str_end_date)[0]\n",
    "    dt_obj_CF = dt_obj_start_date\n",
    "    CF_array = [dt_obj_CF.strftime('%Y/%m/%d')]\n",
    "    while dt_obj_CF < dt_obj_end_date:\n",
    "        int_month = int_month + int_frequency\n",
    "        if int_month > 12:\n",
    "            int_month = int_month - 12\n",
    "            int_year = int_year + 1\n",
    "            str_CF = str(int_year) + '/' + '{0:02d}'.format(int_month) + '/' + '{0:02d}'.format(int_day)\n",
    "            CF_array.append(str_CF)\n",
    "            dt_obj_CF = datetime.datetime.strptime(str_CF, '%Y/%m/%d')\n",
    "        else:\n",
    "            str_CF = str(int_year) + '/' + '{0:02d}'.format(int_month) + '/' + '{0:02d}'.format(int_day)\n",
    "            CF_array.append(str_CF)\n",
    "            dt_obj_CF = datetime.datetime.strptime(str_CF, '%Y/%m/%d')\n",
    "    return CF_array\n",
    "\n",
    "def generate_list_CF_with_days(str_start_date, str_end_date, str_frequency):\n",
    "    CF_list = generate_list_CF(str_start_date, str_end_date, str_frequency)\n",
    "    len_CF_list = len(CF_list)\n",
    "    dt_obj_start_date = datetime.datetime.strptime(CF_list[0], '%Y/%m/%d')\n",
    "    days_list = []\n",
    "    for i in range(len_CF_list):\n",
    "        dt_obj_target_date = datetime.datetime.strptime(CF_list[i], '%Y/%m/%d')\n",
    "        days = (dt_obj_target_date - dt_obj_start_date).days\n",
    "        days_list.append(days)\n",
    "    df_CF = pd.DataFrame(CF_list)\n",
    "    df_days = pd.DataFrame(days_list)\n",
    "    df_CF_with_days = pd.concat([df_days, df_CF], axis=1)\n",
    "    return df_CF_with_days.values.tolist()\n",
    "\n",
    "def get_list_CF_from_base_date(str_base_date, str_start_date, str_end_date, str_frequency):\n",
    "    original_CF_list = generate_list_CF_with_days(str_start_date, str_end_date, str_frequency)\n",
    "    dt_obj_start_date = datetime.datetime.strptime(original_CF_list[0][1], '%Y/%m/%d')\n",
    "    dt_obj_base_date = datetime.datetime.strptime(str_base_date, '%Y/%m/%d')\n",
    "    for index, CF_list  in enumerate(original_CF_list):\n",
    "        dt_obj_target_date = datetime.datetime.strptime(CF_list[1], '%Y/%m/%d')\n",
    "        diff =  (dt_obj_base_date - dt_obj_target_date).days\n",
    "        if diff <= 0:\n",
    "            break\n",
    "    new_CF_list = original_CF_list[index:]\n",
    "    return [j for i, j in new_CF_list]\n",
    "\n",
    "def str_to_dt_obj(str_date):\n",
    "    dt_obj = datetime.datetime.strptime(str_date, '%Y/%m/%d')\n",
    "    return dt_obj"
   ]
  },
  {
   "cell_type": "code",
   "execution_count": 12,
   "metadata": {},
   "outputs": [
    {
     "data": {
      "text/plain": [
       "['2018/08/10',\n",
       " '2019/02/10',\n",
       " '2019/08/10',\n",
       " '2020/02/10',\n",
       " '2020/08/10',\n",
       " '2021/02/10',\n",
       " '2021/08/10',\n",
       " '2022/02/10',\n",
       " '2022/08/10',\n",
       " '2023/02/10',\n",
       " '2023/08/10',\n",
       " '2024/02/10',\n",
       " '2024/08/10',\n",
       " '2025/02/10',\n",
       " '2025/08/10',\n",
       " '2026/02/10',\n",
       " '2026/08/10',\n",
       " '2027/02/10',\n",
       " '2027/08/10',\n",
       " '2028/02/10',\n",
       " '2028/08/10']"
      ]
     },
     "execution_count": 12,
     "metadata": {},
     "output_type": "execute_result"
    }
   ],
   "source": [
    "get_list_CF_from_base_date('2018/8/2', '2018/8/10', '2028/8/10', '6M')"
   ]
  },
  {
   "cell_type": "code",
   "execution_count": null,
   "metadata": {
    "collapsed": true
   },
   "outputs": [],
   "source": []
  },
  {
   "cell_type": "code",
   "execution_count": 85,
   "metadata": {
    "collapsed": true
   },
   "outputs": [],
   "source": [
    "start_date = datetime.datetime.strptime('2018/10/10', \"%Y/%m/%d\")\n",
    "end_date = datetime.datetime.strptime('2018/11/10', \"%Y/%m/%d\")"
   ]
  },
  {
   "cell_type": "code",
   "execution_count": null,
   "metadata": {
    "collapsed": true
   },
   "outputs": [],
   "source": []
  }
 ],
 "metadata": {
  "kernelspec": {
   "display_name": "Python 3",
   "language": "python",
   "name": "python3"
  },
  "language_info": {
   "codemirror_mode": {
    "name": "ipython",
    "version": 3
   },
   "file_extension": ".py",
   "mimetype": "text/x-python",
   "name": "python",
   "nbconvert_exporter": "python",
   "pygments_lexer": "ipython3",
   "version": "3.6.2"
  }
 },
 "nbformat": 4,
 "nbformat_minor": 2
}
