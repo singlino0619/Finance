{
 "cells": [
  {
   "cell_type": "code",
   "execution_count": 2,
   "metadata": {
    "collapsed": true
   },
   "outputs": [],
   "source": [
    "import numpy as np\n",
    "import pandas as pd\n",
    "import matplotlib.pyplot as plt\n",
    "%matplotlib inline\n",
    "import datetime\n",
    "import pandas.tseries.offsets as offsets"
   ]
  },
  {
   "cell_type": "markdown",
   "metadata": {},
   "source": [
    "The SDE of Hull-While model is given by\n",
    "\n",
    "$\n",
    "dr(t) = \\left(\\theta(t) - a r(t)\\right ) dt + \\sigma(t) dW(t).\n",
    "$\n",
    "\n",
    "With following equation\n",
    "\n",
    "$\n",
    "dx(t) = - a x(t) dt + \\sigma(t) dW(t)\\ \\text{and}\\ x(0) = 0,\n",
    "$\n",
    "\n",
    "the stochastic process $r$ is expressed by\n",
    "\n",
    "$\n",
    "r(t) = \\phi(t) + x(t).\n",
    "$\n",
    "\n",
    "First term of right side of the equation is satisfied by\n",
    "\n",
    "$\n",
    "d \\phi(t) =\\left( \\theta(t) - a \\phi(t) \\right) dt.\n",
    "$\n",
    "\n",
    "$\n",
    "\\phi(t) = \\int_{0}^{t} \\theta(u) e^{-a (t - u)} du\n",
    "$\n",
    "\n",
    "Let $x(t)$ be following form:\n",
    "\n",
    "$\n",
    "X(t) = \\exp(\\int_{0}^{t} a du) x(t),\n",
    "$\n",
    "\n",
    "$\n",
    "d X(t) = \\sigma(t) \\exp(at) dW(t)\n",
    "$\n",
    "\n",
    "The discount factor is expressed by\n",
    "\n",
    "$\n",
    "D(t, T) = \\frac{D(0, T)}{D(0, t)} \\exp \\left( \\frac{\\Xi(t)}{2} \\left(B^{2}(t, S) - B^{2}(T, S)\\right) - B(t, T) X(t) \\right),\n",
    "$\n",
    "\n",
    "where\n",
    "\n",
    "$\n",
    "B(t, T) = \\int_{t}^{T} \\exp\\left( - a u \\right) du,\n",
    "$\n",
    "\n",
    "$\n",
    "\\Xi(s, t) = \\int_{s}^{t} \\tilde{\\sigma}^{2}(u) du,\n",
    "$\n",
    "\n",
    "$\n",
    "\\tilde{\\sigma}(t) = \\sigma(t) \\exp \\left( a t \\right).\n",
    "$"
   ]
  },
  {
   "cell_type": "code",
   "execution_count": 16,
   "metadata": {
    "collapsed": true
   },
   "outputs": [],
   "source": [
    "mr = 0.01"
   ]
  },
  {
   "cell_type": "code",
   "execution_count": 30,
   "metadata": {
    "collapsed": true
   },
   "outputs": [],
   "source": [
    "df_test = pd.DataFrame(pd.date_range('2018/7/31', '2028/7/31'), columns=['date'])\n",
    "df_test['dcf'] = (df_test - df_test.shift())['date'].apply(lambda x: x.days) / 360\n",
    "df_test['mean_reversion'] = mr\n",
    "\n",
    "maturity = (df_test.iloc[-1, 0] - df_test.iloc[0, 0]).days / 360\n",
    "sigma_tilde = np.exp(mr * maturity)"
   ]
  },
  {
   "cell_type": "code",
   "execution_count": 57,
   "metadata": {
    "collapsed": true
   },
   "outputs": [],
   "source": [
    "df_test['dcf * mr'] = df_test['dcf'] * df_test['mean_reversion']\n",
    "sigma_tilde_num_int = np.exp(df_test['dcf * mr'].sum())\n",
    "base_date = df_test['date'][0]\n",
    "df_test['maturity'] = df_test['date'].map(lambda x: (x - base_date).days / 360)\n",
    "\n",
    "df_test['sigma^2(t)'] = np.exp(df_test['mean_reversion'] * df_test['maturity'])\n",
    "df_test['dxi(t)'] = df_test['sigma^2(t)'] * df_test['dcf']\n",
    "df_test['xi(t)'] = df_test['dxi(t)'].cumsum()"
   ]
  },
  {
   "cell_type": "code",
   "execution_count": 114,
   "metadata": {
    "collapsed": true
   },
   "outputs": [],
   "source": [
    "df_test['-a*u'] = - df_test['mean_reversion'] * df_test['maturity']"
   ]
  },
  {
   "cell_type": "code",
   "execution_count": 116,
   "metadata": {},
   "outputs": [
    {
     "data": {
      "text/html": [
       "<div>\n",
       "<style>\n",
       "    .dataframe thead tr:only-child th {\n",
       "        text-align: right;\n",
       "    }\n",
       "\n",
       "    .dataframe thead th {\n",
       "        text-align: left;\n",
       "    }\n",
       "\n",
       "    .dataframe tbody tr th {\n",
       "        vertical-align: top;\n",
       "    }\n",
       "</style>\n",
       "<table border=\"1\" class=\"dataframe\">\n",
       "  <thead>\n",
       "    <tr style=\"text-align: right;\">\n",
       "      <th></th>\n",
       "      <th>date</th>\n",
       "      <th>dcf</th>\n",
       "      <th>mean_reversion</th>\n",
       "      <th>dcf * mr</th>\n",
       "      <th>maturity</th>\n",
       "      <th>sigma^2(t)</th>\n",
       "      <th>dxi(t)</th>\n",
       "      <th>xi(t)</th>\n",
       "      <th>-a*u</th>\n",
       "    </tr>\n",
       "  </thead>\n",
       "  <tbody>\n",
       "    <tr>\n",
       "      <th>0</th>\n",
       "      <td>2018-07-31</td>\n",
       "      <td>NaN</td>\n",
       "      <td>0.01</td>\n",
       "      <td>NaN</td>\n",
       "      <td>0.000000</td>\n",
       "      <td>1.000000</td>\n",
       "      <td>NaN</td>\n",
       "      <td>NaN</td>\n",
       "      <td>-0.000000</td>\n",
       "    </tr>\n",
       "    <tr>\n",
       "      <th>1</th>\n",
       "      <td>2018-08-01</td>\n",
       "      <td>0.002778</td>\n",
       "      <td>0.01</td>\n",
       "      <td>0.000028</td>\n",
       "      <td>0.002778</td>\n",
       "      <td>1.000028</td>\n",
       "      <td>0.002778</td>\n",
       "      <td>0.002778</td>\n",
       "      <td>-0.000028</td>\n",
       "    </tr>\n",
       "    <tr>\n",
       "      <th>2</th>\n",
       "      <td>2018-08-02</td>\n",
       "      <td>0.002778</td>\n",
       "      <td>0.01</td>\n",
       "      <td>0.000028</td>\n",
       "      <td>0.005556</td>\n",
       "      <td>1.000056</td>\n",
       "      <td>0.002778</td>\n",
       "      <td>0.005556</td>\n",
       "      <td>-0.000056</td>\n",
       "    </tr>\n",
       "    <tr>\n",
       "      <th>3</th>\n",
       "      <td>2018-08-03</td>\n",
       "      <td>0.002778</td>\n",
       "      <td>0.01</td>\n",
       "      <td>0.000028</td>\n",
       "      <td>0.008333</td>\n",
       "      <td>1.000083</td>\n",
       "      <td>0.002778</td>\n",
       "      <td>0.008334</td>\n",
       "      <td>-0.000083</td>\n",
       "    </tr>\n",
       "    <tr>\n",
       "      <th>4</th>\n",
       "      <td>2018-08-04</td>\n",
       "      <td>0.002778</td>\n",
       "      <td>0.01</td>\n",
       "      <td>0.000028</td>\n",
       "      <td>0.011111</td>\n",
       "      <td>1.000111</td>\n",
       "      <td>0.002778</td>\n",
       "      <td>0.011112</td>\n",
       "      <td>-0.000111</td>\n",
       "    </tr>\n",
       "  </tbody>\n",
       "</table>\n",
       "</div>"
      ],
      "text/plain": [
       "        date       dcf  mean_reversion  dcf * mr  maturity  sigma^2(t)  \\\n",
       "0 2018-07-31       NaN            0.01       NaN  0.000000    1.000000   \n",
       "1 2018-08-01  0.002778            0.01  0.000028  0.002778    1.000028   \n",
       "2 2018-08-02  0.002778            0.01  0.000028  0.005556    1.000056   \n",
       "3 2018-08-03  0.002778            0.01  0.000028  0.008333    1.000083   \n",
       "4 2018-08-04  0.002778            0.01  0.000028  0.011111    1.000111   \n",
       "\n",
       "     dxi(t)     xi(t)      -a*u  \n",
       "0       NaN       NaN -0.000000  \n",
       "1  0.002778  0.002778 -0.000028  \n",
       "2  0.002778  0.005556 -0.000056  \n",
       "3  0.002778  0.008334 -0.000083  \n",
       "4  0.002778  0.011112 -0.000111  "
      ]
     },
     "execution_count": 116,
     "metadata": {},
     "output_type": "execute_result"
    }
   ],
   "source": [
    "df_test.head()"
   ]
  },
  {
   "cell_type": "code",
   "execution_count": 138,
   "metadata": {
    "collapsed": true
   },
   "outputs": [],
   "source": [
    "def B_t_T(df, str_t, str_T):\n",
    "    df_tmp = df.set_index('date')\n",
    "    df_tmp['-a*u'] = df_tmp['-a*u'] * df_tmp['dcf']\n",
    "    return df_tmp[str_t : str_T]['-a*u'].sum()"
   ]
  },
  {
   "cell_type": "code",
   "execution_count": 150,
   "metadata": {},
   "outputs": [
    {
     "data": {
      "text/plain": [
       "-0.24699467592592605"
      ]
     },
     "execution_count": 150,
     "metadata": {},
     "output_type": "execute_result"
    }
   ],
   "source": [
    "B_t_T(df_test, '2022/7/31', '2028/7/31') - B_t_T(df_test, '2026/7/31', '2028/7/31') "
   ]
  },
  {
   "cell_type": "code",
   "execution_count": 151,
   "metadata": {},
   "outputs": [
    {
     "data": {
      "text/plain": [
       "-0.2469946759259259"
      ]
     },
     "execution_count": 151,
     "metadata": {},
     "output_type": "execute_result"
    }
   ],
   "source": [
    "B_t_T(df_test, '2022/7/31', '2026/7/31') - B_t_T(df_test, '2026/7/31', '2026/7/31')"
   ]
  },
  {
   "cell_type": "code",
   "execution_count": 177,
   "metadata": {},
   "outputs": [
    {
     "data": {
      "image/png": "[encoded data removed]",
      "text/plain": [
       "<matplotlib.figure.Figure at 0x10ca9e6d8>"
      ]
     },
     "metadata": {},
     "output_type": "display_data"
    }
   ],
   "source": [
    "plt.hist(random_array, bins=100);"
   ]
  },
  {
   "cell_type": "code",
   "execution_count": 7,
   "metadata": {},
   "outputs": [
    {
     "data": {
      "text/plain": [
       "DatetimeIndex(['2018-07-31', '2018-08-01', '2018-08-02', '2018-08-03',\n",
       "               '2018-08-04', '2018-08-05', '2018-08-06', '2018-08-07',\n",
       "               '2018-08-08', '2018-08-09',\n",
       "               ...\n",
       "               '2028-07-22', '2028-07-23', '2028-07-24', '2028-07-25',\n",
       "               '2028-07-26', '2028-07-27', '2028-07-28', '2028-07-29',\n",
       "               '2028-07-30', '2028-07-31'],\n",
       "              dtype='datetime64[ns]', length=3654, freq='D')"
      ]
     },
     "execution_count": 7,
     "metadata": {},
     "output_type": "execute_result"
    }
   ],
   "source": [
    "pd.date_range('2018/7/31', '2028/7/31')"
   ]
  },
  {
   "cell_type": "code",
   "execution_count": 146,
   "metadata": {},
   "outputs": [
    {
     "data": {
      "text/html": [
       "<div>\n",
       "<style>\n",
       "    .dataframe thead tr:only-child th {\n",
       "        text-align: right;\n",
       "    }\n",
       "\n",
       "    .dataframe thead th {\n",
       "        text-align: left;\n",
       "    }\n",
       "\n",
       "    .dataframe tbody tr th {\n",
       "        vertical-align: top;\n",
       "    }\n",
       "</style>\n",
       "<table border=\"1\" class=\"dataframe\">\n",
       "  <thead>\n",
       "    <tr style=\"text-align: right;\">\n",
       "      <th></th>\n",
       "      <th>date</th>\n",
       "    </tr>\n",
       "  </thead>\n",
       "  <tbody>\n",
       "    <tr>\n",
       "      <th>0</th>\n",
       "      <td>2018-07-31</td>\n",
       "    </tr>\n",
       "    <tr>\n",
       "      <th>1</th>\n",
       "      <td>2018-08-01</td>\n",
       "    </tr>\n",
       "    <tr>\n",
       "      <th>2</th>\n",
       "      <td>2018-08-02</td>\n",
       "    </tr>\n",
       "    <tr>\n",
       "      <th>3</th>\n",
       "      <td>2018-08-03</td>\n",
       "    </tr>\n",
       "    <tr>\n",
       "      <th>4</th>\n",
       "      <td>2018-08-04</td>\n",
       "    </tr>\n",
       "  </tbody>\n",
       "</table>\n",
       "</div>"
      ],
      "text/plain": [
       "        date\n",
       "0 2018-07-31\n",
       "1 2018-08-01\n",
       "2 2018-08-02\n",
       "3 2018-08-03\n",
       "4 2018-08-04"
      ]
     },
     "execution_count": 146,
     "metadata": {},
     "output_type": "execute_result"
    }
   ],
   "source": [
    "df_date_index = pd.DataFrame(pd.date_range('2018/7/31', '2028/7/31'), columns=['date'])\n",
    "df_date_index.head()"
   ]
  },
  {
   "cell_type": "code",
   "execution_count": 102,
   "metadata": {},
   "outputs": [
    {
     "data": {
      "text/plain": [
       "date   2018-07-31\n",
       "Name: 0, dtype: datetime64[ns]"
      ]
     },
     "execution_count": 102,
     "metadata": {},
     "output_type": "execute_result"
    }
   ],
   "source": [
    "df_date.iloc[0]"
   ]
  },
  {
   "cell_type": "code",
   "execution_count": 174,
   "metadata": {},
   "outputs": [
    {
     "data": {
      "text/plain": [
       "Timestamp('2019-07-31 00:00:00')"
      ]
     },
     "execution_count": 174,
     "metadata": {},
     "output_type": "execute_result"
    }
   ],
   "source": [
    "df_date_index.iloc[0, 0] + pd.DateOffset(years=1)"
   ]
  },
  {
   "cell_type": "code",
   "execution_count": 116,
   "metadata": {},
   "outputs": [
    {
     "ename": "AttributeError",
     "evalue": "module 'pandas.tseries.offsets' has no attribute 'Year'",
     "output_type": "error",
     "traceback": [
      "\u001b[0;31m--------------------------------------------------------------------------\u001b[0m",
      "\u001b[0;31mAttributeError\u001b[0m                           Traceback (most recent call last)",
      "\u001b[0;32m<ipython-input-116-7992e26fb8b0>\u001b[0m in \u001b[0;36m<module>\u001b[0;34m()\u001b[0m\n\u001b[0;32m----> 1\u001b[0;31m \u001b[0mpd\u001b[0m\u001b[0;34m.\u001b[0m\u001b[0moffsets\u001b[0m\u001b[0;34m.\u001b[0m\u001b[0mYear\u001b[0m\u001b[0;34m(\u001b[0m\u001b[0;34m)\u001b[0m\u001b[0;34m\u001b[0m\u001b[0m\n\u001b[0m",
      "\u001b[0;31mAttributeError\u001b[0m: module 'pandas.tseries.offsets' has no attribute 'Year'"
     ]
    }
   ],
   "source": [
    "pd.offsets.Year()"
   ]
  },
  {
   "cell_type": "code",
   "execution_count": 176,
   "metadata": {},
   "outputs": [],
   "source": [
    "idx_one_year = df_date_index[df_date_index['date'] == df_date_index.iloc[0, 0] + pd.DateOffset(years=1)].reset_index().iloc[0, 0]"
   ]
  },
  {
   "cell_type": "code",
   "execution_count": 179,
   "metadata": {},
   "outputs": [
    {
     "data": {
      "text/html": [
       "<div>\n",
       "<style>\n",
       "    .dataframe thead tr:only-child th {\n",
       "        text-align: right;\n",
       "    }\n",
       "\n",
       "    .dataframe thead th {\n",
       "        text-align: left;\n",
       "    }\n",
       "\n",
       "    .dataframe tbody tr th {\n",
       "        vertical-align: top;\n",
       "    }\n",
       "</style>\n",
       "<table border=\"1\" class=\"dataframe\">\n",
       "  <thead>\n",
       "    <tr style=\"text-align: right;\">\n",
       "      <th></th>\n",
       "      <th>date</th>\n",
       "    </tr>\n",
       "  </thead>\n",
       "  <tbody>\n",
       "    <tr>\n",
       "      <th>0</th>\n",
       "      <td>2018-07-31</td>\n",
       "    </tr>\n",
       "    <tr>\n",
       "      <th>1</th>\n",
       "      <td>2018-08-01</td>\n",
       "    </tr>\n",
       "    <tr>\n",
       "      <th>2</th>\n",
       "      <td>2018-08-02</td>\n",
       "    </tr>\n",
       "    <tr>\n",
       "      <th>3</th>\n",
       "      <td>2018-08-03</td>\n",
       "    </tr>\n",
       "    <tr>\n",
       "      <th>4</th>\n",
       "      <td>2018-08-04</td>\n",
       "    </tr>\n",
       "  </tbody>\n",
       "</table>\n",
       "</div>"
      ],
      "text/plain": [
       "        date\n",
       "0 2018-07-31\n",
       "1 2018-08-01\n",
       "2 2018-08-02\n",
       "3 2018-08-03\n",
       "4 2018-08-04"
      ]
     },
     "execution_count": 179,
     "metadata": {},
     "output_type": "execute_result"
    }
   ],
   "source": [
    "df_date_index.iloc[0:idx_one_year].head()"
   ]
  },
  {
   "cell_type": "code",
   "execution_count": 182,
   "metadata": {},
   "outputs": [
    {
     "data": {
      "text/plain": [
       "Timestamp('2019-08-07 00:00:00')"
      ]
     },
     "execution_count": 182,
     "metadata": {},
     "output_type": "execute_result"
    }
   ],
   "source": [
    "tmp_list = []\n",
    "for i in range(10)\n",
    "df_date_index.iloc[idx_one_year][0] + pd.DateOffset(weeks=1)"
   ]
  },
  {
   "cell_type": "code",
   "execution_count": 83,
   "metadata": {},
   "outputs": [
    {
     "data": {
      "image/png": "[encoded data removed]",
      "text/plain": [
       "<matplotlib.figure.Figure at 0x115f952b0>"
      ]
     },
     "metadata": {},
     "output_type": "display_data"
    }
   ],
   "source": [
    "df_date = pd.DataFrame(pd.date_range('2018/7/31', '2023/7/31'), columns=['date'])\n",
    "df_date['t'] = df_date.apply(lambda x: (x - x[0]))['date'].apply(lambda x: x.days) / 365\n",
    "list_dcf = dt_obj_to_dcf(df_date, 360)\n",
    "\n",
    "plt.plot(create_one_path(100, list_dcf));"
   ]
  },
  {
   "cell_type": "code",
   "execution_count": 200,
   "metadata": {
    "collapsed": true
   },
   "outputs": [],
   "source": [
    "def exp_mr_t(mr, t):\n",
    "    return np.exp(mr*t)\n",
    "\n",
    "def dt_obj_to_dcf(df_date, convention):\n",
    "    yearfrac = int(convention)\n",
    "    df_date['dcf'] = (df_date.shift(-1) - df_date)['date'].apply(lambda x: x.days) / yearfrac\n",
    "    return df_date['dcf'].tolist()[:-1]\n",
    "\n",
    "def create_one_path_hw(x_0, mr, array_grid, array_dcf, array_sigma):\n",
    "    array_result = np.zeros(len(array_dcf))\n",
    "    z = np.random.randn(len(array_dcf))\n",
    "    exp_at = exp_mr_t(mr, array_grid)\n",
    "    array_result[0] = x_0\n",
    "    for i in range(len(array_dcf) - 1):\n",
    "        array_result[i+1] = array_result[i] +  array_sigma[i] * exp_at[i] * np.sqrt(array_dcf[i]) * z[i]\n",
    "    return array_result\n",
    "\n",
    "def create_path_hw(num_path, x_0, mr, array_grid, array_dcf, array_sigma):\n",
    "    array_result = np.zeros([num_path, len(array_dcf)])\n",
    "    for i in range(num_path):\n",
    "        array_result[i, :] = create_one_path_hw(x_0, mr, array_grid, array_dcf, array_sigma)\n",
    "    return array_result"
   ]
  },
  {
   "cell_type": "code",
   "execution_count": 201,
   "metadata": {},
   "outputs": [
    {
     "data": {
      "image/png": "[encoded data removed]",
      "text/plain": [
       "<matplotlib.figure.Figure at 0x112bde908>"
      ]
     },
     "metadata": {},
     "output_type": "display_data"
    }
   ],
   "source": [
    "array_grid = df_date['t'].values\n",
    "array_dcf = df_date['dcf'].values\n",
    "array_sigma = np.ones(len(array_grid)) * 0.40\n",
    "create_one_path_hw(0.04, mr, array_grid, array_dcf, array_sigma)\n",
    "plt.plot(create_one_path_hw(0.02, mr, array_grid, array_dcf, array_sigma));"
   ]
  },
  {
   "cell_type": "code",
   "execution_count": 306,
   "metadata": {},
   "outputs": [
    {
     "data": {
      "image/png": "[encoded data removed]",
      "text/plain": [
       "<matplotlib.figure.Figure at 0x113850438>"
      ]
     },
     "metadata": {},
     "output_type": "display_data"
    }
   ],
   "source": [
    "maturity = df_date['t'].values[-1]\n",
    "coef_a = - 0.08\n",
    "vola_ptn1 = (lambda x: coef_a * x * (x - maturity))\n",
    "plt.plot(df_date['t'].values, vola_ptn1(df_date['t'].values));"
   ]
  },
  {
   "cell_type": "code",
   "execution_count": 307,
   "metadata": {
    "collapsed": true
   },
   "outputs": [],
   "source": [
    "array_sigma = vola_ptn1(df_date['t'].values)"
   ]
  },
  {
   "cell_type": "code",
   "execution_count": 324,
   "metadata": {},
   "outputs": [],
   "source": [
    "df_date = pd.DataFrame(pd.date_range('2018/7/31', '2023/7/31'), columns=['date'])\n",
    "df_date['t'] = df_date.apply(lambda x: (x - x[0]))['date'].apply(lambda x: x.days) / 365\n",
    "list_dcf = dt_obj_to_dcf(df_date, 360)\n",
    "array_grid = df_date['t'].values\n",
    "array_dcf = df_date['dcf'].values\n",
    "#array_sigma = np.ones(len(array_grid)) * 0.050\n",
    "array_sigma = vola_ptn1(df_date['t'].values)\n",
    "array_path = create_path_hw(10000, 0.01, mr, array_grid, array_dcf, array_sigma)\n",
    "# for i in range(len(array_path)):\n",
    "#       plt.plot(array_path[i]);"
   ]
  },
  {
   "cell_type": "code",
   "execution_count": 253,
   "metadata": {},
   "outputs": [
    {
     "data": {
      "text/plain": [
       "(0.0085, 0.015)"
      ]
     },
     "execution_count": 253,
     "metadata": {},
     "output_type": "execute_result"
    },
    {
     "data": {
      "image/png": "[encoded data removed]",
      "text/plain": [
       "<matplotlib.figure.Figure at 0x113443c18>"
      ]
     },
     "metadata": {},
     "output_type": "display_data"
    }
   ],
   "source": [
    "plt.plot(array_path.mean(axis=0));\n",
    "plt.ylim(0.0085, 0.015)"
   ]
  },
  {
   "cell_type": "code",
   "execution_count": 326,
   "metadata": {},
   "outputs": [
    {
     "data": {
      "text/plain": [
       "(0.0005, 0.03)"
      ]
     },
     "execution_count": 326,
     "metadata": {},
     "output_type": "execute_result"
    },
    {
     "data": {
      "image/png": "[encoded data removed]",
      "text/plain": [
       "<matplotlib.figure.Figure at 0x11532ca90>"
      ]
     },
     "metadata": {},
     "output_type": "display_data"
    }
   ],
   "source": [
    "plt.plot(array_path.mean(axis=0));\n",
    "plt.ylim(0.0005, 0.030)"
   ]
  },
  {
   "cell_type": "code",
   "execution_count": 327,
   "metadata": {},
   "outputs": [
    {
     "data": {
      "image/png": "[encoded data removed]",
      "text/plain": [
       "<matplotlib.figure.Figure at 0x114feccc0>"
      ]
     },
     "metadata": {},
     "output_type": "display_data"
    }
   ],
   "source": [
    "plt.plot(array_path.var(axis=0));"
   ]
  },
  {
   "cell_type": "code",
   "execution_count": 338,
   "metadata": {},
   "outputs": [
    {
     "data": {
      "image/png": "[encoded data removed]",
      "text/plain": [
       "<matplotlib.figure.Figure at 0x1149a44a8>"
      ]
     },
     "metadata": {},
     "output_type": "display_data"
    }
   ],
   "source": [
    "plt.hist(array_path[:, 1200], bins=50);\n",
    "plt.vlines(array_path[:, 750].mean(), 0, 300);"
   ]
  },
  {
   "cell_type": "code",
   "execution_count": 323,
   "metadata": {},
   "outputs": [
    {
     "data": {
      "text/plain": [
       "[<matplotlib.lines.Line2D at 0x115ad9208>]"
      ]
     },
     "execution_count": 323,
     "metadata": {},
     "output_type": "execute_result"
    },
    {
     "data": {
      "image/png": "[encoded data removed]",
      "text/plain": [
       "<matplotlib.figure.Figure at 0x1152cef98>"
      ]
     },
     "metadata": {},
     "output_type": "display_data"
    }
   ],
   "source": [
    "plt.plot(array_path.mean(0))"
   ]
  },
  {
   "cell_type": "code",
   "execution_count": 86,
   "metadata": {
    "collapsed": true
   },
   "outputs": [],
   "source": [
    "weekday_mapping = {0: 'MON', 1: 'TUE', 2: 'WED', 3: 'THU', 4: 'FRI', 5: 'SAT', 6: 'SUN'}"
   ]
  },
  {
   "cell_type": "markdown",
   "metadata": {},
   "source": [
    "# gomi"
   ]
  },
  {
   "cell_type": "code",
   "execution_count": null,
   "metadata": {
    "collapsed": true
   },
   "outputs": [],
   "source": [
    "# def create_one_path_old(x_0, list_dcf):\n",
    "#     x = x_0\n",
    "#     result = []\n",
    "#     z = np.random.randn(len(list_dcf))\n",
    "#     for i in range(len(list_dcf)):\n",
    "#         x += np.sqrt(list_dcf[i]) * z[i]\n",
    "#         result.append(x)\n",
    "#     return result\n",
    "\n",
    "# def create_path_old(num_path, list_dcf):\n",
    "#     list_result = [[] for i in range(num_path)]\n",
    "#     for i in range(num_path):\n",
    "#         list_result[i] = create_one_path(num_path, list_dcf)\n",
    "#     return list_result"
   ]
  },
  {
   "cell_type": "code",
   "execution_count": null,
   "metadata": {
    "collapsed": true
   },
   "outputs": [],
   "source": [
    "# def create_one_path_hw(x_0, list_dcf):\n",
    "#     array_result = np.zeros(len(list_dcf))\n",
    "#     z = np.random.randn(len(list_dcf))\n",
    "#     array_result[0] = x_0\n",
    "#     for i in range(len(list_dcf) - 1):\n",
    "#         array_result[i+1] = array_result[i] + np.sqrt(list_dcf[i]) * z[i]\n",
    "#     return array_result\n",
    "\n",
    "# def create_path_hw(num_path, x_0, list_dcf):\n",
    "#     list_result = np.zeros([num_path, len(list_dcf)])\n",
    "#     for i in range(num_path):\n",
    "#         list_result[i, :] = create_one_path(x_0, list_dcf)\n",
    "#     return list_result"
   ]
  }
 ],
 "metadata": {
  "kernelspec": {
   "display_name": "Python 3",
   "language": "python",
   "name": "python3"
  },
  "toc": {
   "base_numbering": 1,
   "nav_menu": {},
   "number_sections": true,
   "sideBar": true,
   "skip_h1_title": false,
   "title_cell": "Table of Contents",
   "title_sidebar": "Contents",
   "toc_cell": false,
   "toc_position": {},
   "toc_section_display": true,
   "toc_window_display": false
  }
 },
 "nbformat": 4,
 "nbformat_minor": 2
}
