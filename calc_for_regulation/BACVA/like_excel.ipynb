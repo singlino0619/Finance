{
 "cells": [
  {
   "cell_type": "code",
   "execution_count": 2,
   "metadata": {},
   "outputs": [],
   "source": [
    "import pandas as pd"
   ]
  },
  {
   "cell_type": "code",
   "execution_count": 4,
   "metadata": {},
   "outputs": [
    {
     "data": {
      "text/html": [
       "<div>\n",
       "<style>\n",
       "    .dataframe thead tr:only-child th {\n",
       "        text-align: right;\n",
       "    }\n",
       "\n",
       "    .dataframe thead th {\n",
       "        text-align: left;\n",
       "    }\n",
       "\n",
       "    .dataframe tbody tr th {\n",
       "        vertical-align: top;\n",
       "    }\n",
       "</style>\n",
       "<table border=\"1\" class=\"dataframe\">\n",
       "  <thead>\n",
       "    <tr style=\"text-align: right;\">\n",
       "      <th></th>\n",
       "      <th>CUSTOMER_NUM</th>\n",
       "      <th>NETTING_SET</th>\n",
       "      <th>EAD</th>\n",
       "      <th>MATURITY</th>\n",
       "    </tr>\n",
       "  </thead>\n",
       "  <tbody>\n",
       "    <tr>\n",
       "      <th>0</th>\n",
       "      <td>41747204</td>\n",
       "      <td>BIS0010</td>\n",
       "      <td>74028.399812</td>\n",
       "      <td>16.563736</td>\n",
       "    </tr>\n",
       "    <tr>\n",
       "      <th>1</th>\n",
       "      <td>41747204</td>\n",
       "      <td>BIS0010</td>\n",
       "      <td>17556.113430</td>\n",
       "      <td>0.893127</td>\n",
       "    </tr>\n",
       "    <tr>\n",
       "      <th>2</th>\n",
       "      <td>41747204</td>\n",
       "      <td>BIS0010</td>\n",
       "      <td>9469.513543</td>\n",
       "      <td>19.429423</td>\n",
       "    </tr>\n",
       "    <tr>\n",
       "      <th>3</th>\n",
       "      <td>41747204</td>\n",
       "      <td>BIS0010</td>\n",
       "      <td>82403.217982</td>\n",
       "      <td>12.074124</td>\n",
       "    </tr>\n",
       "    <tr>\n",
       "      <th>4</th>\n",
       "      <td>41747204</td>\n",
       "      <td>BIS0010</td>\n",
       "      <td>78318.052405</td>\n",
       "      <td>11.715427</td>\n",
       "    </tr>\n",
       "  </tbody>\n",
       "</table>\n",
       "</div>"
      ],
      "text/plain": [
       "   CUSTOMER_NUM NETTING_SET           EAD   MATURITY\n",
       "0      41747204     BIS0010  74028.399812  16.563736\n",
       "1      41747204     BIS0010  17556.113430   0.893127\n",
       "2      41747204     BIS0010   9469.513543  19.429423\n",
       "3      41747204     BIS0010  82403.217982  12.074124\n",
       "4      41747204     BIS0010  78318.052405  11.715427"
      ]
     },
     "execution_count": 4,
     "metadata": {},
     "output_type": "execute_result"
    }
   ],
   "source": [
    "df = pd.read_excel('input_BACVA.xlsx')\n",
    "df.head()"
   ]
  },
  {
   "cell_type": "code",
   "execution_count": 5,
   "metadata": {},
   "outputs": [
    {
     "data": {
      "text/plain": [
       "NETTING_SET\n",
       "BIS0010    261775.297171\n",
       "BIS0020     92244.587327\n",
       "BIS0981     55207.549548\n",
       "BIS0987    179254.128694\n",
       "BIS1097     79009.651022\n",
       "BIS1327    380734.581479\n",
       "BIS7778    166438.440386\n",
       "BIS7865    628405.921038\n",
       "BIS8753     72174.989191\n",
       "BIS8765    159193.417691\n",
       "Name: EAD, dtype: float64"
      ]
     },
     "execution_count": 5,
     "metadata": {},
     "output_type": "execute_result"
    }
   ],
   "source": [
    "df.groupby('NETTING_SET')['EAD'].sum()"
   ]
  },
  {
   "cell_type": "code",
   "execution_count": 21,
   "metadata": {},
   "outputs": [
    {
     "data": {
      "text/html": [
       "<div>\n",
       "<style>\n",
       "    .dataframe thead tr:only-child th {\n",
       "        text-align: right;\n",
       "    }\n",
       "\n",
       "    .dataframe thead th {\n",
       "        text-align: left;\n",
       "    }\n",
       "\n",
       "    .dataframe tbody tr th {\n",
       "        vertical-align: top;\n",
       "    }\n",
       "</style>\n",
       "<table border=\"1\" class=\"dataframe\">\n",
       "  <thead>\n",
       "    <tr style=\"text-align: right;\">\n",
       "      <th></th>\n",
       "      <th>CUSTOMER_NUM</th>\n",
       "      <th>NETTING_SET</th>\n",
       "      <th>EAD</th>\n",
       "      <th>MATURITY</th>\n",
       "      <th>EAD_MATURITY</th>\n",
       "    </tr>\n",
       "  </thead>\n",
       "  <tbody>\n",
       "    <tr>\n",
       "      <th>0</th>\n",
       "      <td>41747204</td>\n",
       "      <td>BIS0010</td>\n",
       "      <td>74028.399812</td>\n",
       "      <td>16.563736</td>\n",
       "      <td>1.226187e+06</td>\n",
       "    </tr>\n",
       "    <tr>\n",
       "      <th>1</th>\n",
       "      <td>41747204</td>\n",
       "      <td>BIS0010</td>\n",
       "      <td>17556.113430</td>\n",
       "      <td>0.893127</td>\n",
       "      <td>1.567984e+04</td>\n",
       "    </tr>\n",
       "    <tr>\n",
       "      <th>2</th>\n",
       "      <td>41747204</td>\n",
       "      <td>BIS0010</td>\n",
       "      <td>9469.513543</td>\n",
       "      <td>19.429423</td>\n",
       "      <td>1.839872e+05</td>\n",
       "    </tr>\n",
       "    <tr>\n",
       "      <th>3</th>\n",
       "      <td>41747204</td>\n",
       "      <td>BIS0010</td>\n",
       "      <td>82403.217982</td>\n",
       "      <td>12.074124</td>\n",
       "      <td>9.949467e+05</td>\n",
       "    </tr>\n",
       "    <tr>\n",
       "      <th>4</th>\n",
       "      <td>41747204</td>\n",
       "      <td>BIS0010</td>\n",
       "      <td>78318.052405</td>\n",
       "      <td>11.715427</td>\n",
       "      <td>9.175295e+05</td>\n",
       "    </tr>\n",
       "  </tbody>\n",
       "</table>\n",
       "</div>"
      ],
      "text/plain": [
       "   CUSTOMER_NUM NETTING_SET           EAD   MATURITY  EAD_MATURITY\n",
       "0      41747204     BIS0010  74028.399812  16.563736  1.226187e+06\n",
       "1      41747204     BIS0010  17556.113430   0.893127  1.567984e+04\n",
       "2      41747204     BIS0010   9469.513543  19.429423  1.839872e+05\n",
       "3      41747204     BIS0010  82403.217982  12.074124  9.949467e+05\n",
       "4      41747204     BIS0010  78318.052405  11.715427  9.175295e+05"
      ]
     },
     "execution_count": 21,
     "metadata": {},
     "output_type": "execute_result"
    }
   ],
   "source": [
    "df.assign(EAD_MATURITY=df['EAD']*df['MATURITY']).head()"
   ]
  },
  {
   "cell_type": "code",
   "execution_count": null,
   "metadata": {},
   "outputs": [],
   "source": []
  },
  {
   "cell_type": "code",
   "execution_count": null,
   "metadata": {},
   "outputs": [],
   "source": []
  },
  {
   "cell_type": "code",
   "execution_count": null,
   "metadata": {
    "collapsed": true
   },
   "outputs": [],
   "source": []
  }
 ],
 "metadata": {
  "kernelspec": {
   "display_name": "Python 3",
   "language": "python",
   "name": "python3"
  },
  "language_info": {
   "codemirror_mode": {
    "name": "ipython",
    "version": 3
   },
   "file_extension": ".py",
   "mimetype": "text/x-python",
   "name": "python",
   "nbconvert_exporter": "python",
   "pygments_lexer": "ipython3",
   "version": "3.6.2"
  }
 },
 "nbformat": 4,
 "nbformat_minor": 2
}
