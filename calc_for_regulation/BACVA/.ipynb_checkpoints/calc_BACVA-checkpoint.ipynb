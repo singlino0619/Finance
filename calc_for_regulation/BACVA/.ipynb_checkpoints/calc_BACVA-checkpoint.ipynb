{
 "cells": [
  {
   "cell_type": "code",
   "execution_count": 1,
   "metadata": {
    "collapsed": true
   },
   "outputs": [],
   "source": [
    "import pandas as pd\n",
    "import numpy as np"
   ]
  },
  {
   "cell_type": "markdown",
   "metadata": {},
   "source": [
    "## input data"
   ]
  },
  {
   "cell_type": "code",
   "execution_count": 2,
   "metadata": {},
   "outputs": [
    {
     "data": {
      "text/html": [
       "<div>\n",
       "<style>\n",
       "    .dataframe thead tr:only-child th {\n",
       "        text-align: right;\n",
       "    }\n",
       "\n",
       "    .dataframe thead th {\n",
       "        text-align: left;\n",
       "    }\n",
       "\n",
       "    .dataframe tbody tr th {\n",
       "        vertical-align: top;\n",
       "    }\n",
       "</style>\n",
       "<table border=\"1\" class=\"dataframe\">\n",
       "  <thead>\n",
       "    <tr style=\"text-align: right;\">\n",
       "      <th></th>\n",
       "      <th>CUSTOMER_NUM</th>\n",
       "      <th>NETTING_SET</th>\n",
       "      <th>EAD</th>\n",
       "      <th>MATURITY</th>\n",
       "    </tr>\n",
       "  </thead>\n",
       "  <tbody>\n",
       "    <tr>\n",
       "      <th>0</th>\n",
       "      <td>41747204</td>\n",
       "      <td>BIS0010</td>\n",
       "      <td>74028.399812</td>\n",
       "      <td>16.563736</td>\n",
       "    </tr>\n",
       "    <tr>\n",
       "      <th>1</th>\n",
       "      <td>41747204</td>\n",
       "      <td>BIS0010</td>\n",
       "      <td>17556.113430</td>\n",
       "      <td>0.893127</td>\n",
       "    </tr>\n",
       "    <tr>\n",
       "      <th>2</th>\n",
       "      <td>41747204</td>\n",
       "      <td>BIS0010</td>\n",
       "      <td>9469.513543</td>\n",
       "      <td>19.429423</td>\n",
       "    </tr>\n",
       "    <tr>\n",
       "      <th>3</th>\n",
       "      <td>41747204</td>\n",
       "      <td>BIS0010</td>\n",
       "      <td>82403.217982</td>\n",
       "      <td>12.074124</td>\n",
       "    </tr>\n",
       "    <tr>\n",
       "      <th>4</th>\n",
       "      <td>41747204</td>\n",
       "      <td>BIS0010</td>\n",
       "      <td>78318.052405</td>\n",
       "      <td>11.715427</td>\n",
       "    </tr>\n",
       "  </tbody>\n",
       "</table>\n",
       "</div>"
      ],
      "text/plain": [
       "   CUSTOMER_NUM NETTING_SET           EAD   MATURITY\n",
       "0      41747204     BIS0010  74028.399812  16.563736\n",
       "1      41747204     BIS0010  17556.113430   0.893127\n",
       "2      41747204     BIS0010   9469.513543  19.429423\n",
       "3      41747204     BIS0010  82403.217982  12.074124\n",
       "4      41747204     BIS0010  78318.052405  11.715427"
      ]
     },
     "execution_count": 2,
     "metadata": {},
     "output_type": "execute_result"
    }
   ],
   "source": [
    "df_saccr = pd.read_excel('input_BACVA.xlsx')\n",
    "df_saccr.head()"
   ]
  },
  {
   "cell_type": "markdown",
   "metadata": {},
   "source": [
    "## calclation flow\n",
    " 1. Add columns : product EAD by Maturity\n",
    " 1. Add DF defined by basel III\n",
    " 1. Add columns: EAD_MATURITY * DF\n",
    " 1. Add columns: SCVA"
   ]
  },
  {
   "cell_type": "code",
   "execution_count": 3,
   "metadata": {},
   "outputs": [
    {
     "data": {
      "text/html": [
       "<div>\n",
       "<style>\n",
       "    .dataframe thead tr:only-child th {\n",
       "        text-align: right;\n",
       "    }\n",
       "\n",
       "    .dataframe thead th {\n",
       "        text-align: left;\n",
       "    }\n",
       "\n",
       "    .dataframe tbody tr th {\n",
       "        vertical-align: top;\n",
       "    }\n",
       "</style>\n",
       "<table border=\"1\" class=\"dataframe\">\n",
       "  <thead>\n",
       "    <tr style=\"text-align: right;\">\n",
       "      <th></th>\n",
       "      <th>CUSTOMER_NUM</th>\n",
       "      <th>NETTING_SET</th>\n",
       "      <th>EAD</th>\n",
       "      <th>MATURITY</th>\n",
       "      <th>EAD_MAT</th>\n",
       "      <th>DF</th>\n",
       "      <th>EAD_MAT_DF</th>\n",
       "      <th>SCVA</th>\n",
       "    </tr>\n",
       "  </thead>\n",
       "  <tbody>\n",
       "    <tr>\n",
       "      <th>0</th>\n",
       "      <td>41747204</td>\n",
       "      <td>BIS0010</td>\n",
       "      <td>74028.399812</td>\n",
       "      <td>16.563736</td>\n",
       "      <td>1.226187e+06</td>\n",
       "      <td>0.679991</td>\n",
       "      <td>833795.722674</td>\n",
       "      <td>595568.373339</td>\n",
       "    </tr>\n",
       "    <tr>\n",
       "      <th>1</th>\n",
       "      <td>41747204</td>\n",
       "      <td>BIS0010</td>\n",
       "      <td>17556.113430</td>\n",
       "      <td>0.893127</td>\n",
       "      <td>1.567984e+04</td>\n",
       "      <td>0.978001</td>\n",
       "      <td>15334.888703</td>\n",
       "      <td>10953.491931</td>\n",
       "    </tr>\n",
       "    <tr>\n",
       "      <th>2</th>\n",
       "      <td>41747204</td>\n",
       "      <td>BIS0010</td>\n",
       "      <td>9469.513543</td>\n",
       "      <td>19.429423</td>\n",
       "      <td>1.839872e+05</td>\n",
       "      <td>0.639725</td>\n",
       "      <td>117701.173979</td>\n",
       "      <td>84072.267128</td>\n",
       "    </tr>\n",
       "    <tr>\n",
       "      <th>3</th>\n",
       "      <td>41747204</td>\n",
       "      <td>BIS0010</td>\n",
       "      <td>82403.217982</td>\n",
       "      <td>12.074124</td>\n",
       "      <td>9.949467e+05</td>\n",
       "      <td>0.750727</td>\n",
       "      <td>746933.438869</td>\n",
       "      <td>533523.884906</td>\n",
       "    </tr>\n",
       "    <tr>\n",
       "      <th>4</th>\n",
       "      <td>41747204</td>\n",
       "      <td>BIS0010</td>\n",
       "      <td>78318.052405</td>\n",
       "      <td>11.715427</td>\n",
       "      <td>9.175295e+05</td>\n",
       "      <td>0.756820</td>\n",
       "      <td>694404.989420</td>\n",
       "      <td>496003.563872</td>\n",
       "    </tr>\n",
       "  </tbody>\n",
       "</table>\n",
       "</div>"
      ],
      "text/plain": [
       "   CUSTOMER_NUM NETTING_SET           EAD   MATURITY       EAD_MAT        DF  \\\n",
       "0      41747204     BIS0010  74028.399812  16.563736  1.226187e+06  0.679991   \n",
       "1      41747204     BIS0010  17556.113430   0.893127  1.567984e+04  0.978001   \n",
       "2      41747204     BIS0010   9469.513543  19.429423  1.839872e+05  0.639725   \n",
       "3      41747204     BIS0010  82403.217982  12.074124  9.949467e+05  0.750727   \n",
       "4      41747204     BIS0010  78318.052405  11.715427  9.175295e+05  0.756820   \n",
       "\n",
       "      EAD_MAT_DF           SCVA  \n",
       "0  833795.722674  595568.373339  \n",
       "1   15334.888703   10953.491931  \n",
       "2  117701.173979   84072.267128  \n",
       "3  746933.438869  533523.884906  \n",
       "4  694404.989420  496003.563872  "
      ]
     },
     "execution_count": 3,
     "metadata": {},
     "output_type": "execute_result"
    }
   ],
   "source": [
    "# add columns: EAD * Maturity\n",
    "df_saccr['EAD_MAT'] = df_saccr['EAD']*df_saccr['MATURITY']\n",
    "\n",
    "# add columns: DF defined by Basel\n",
    "df_saccr['DF'] = ((1-np.exp(-0.05*df_saccr['MATURITY']))/(0.05*df_saccr['MATURITY']))\n",
    "\n",
    "# add columns: EAD_Maturity * DF\n",
    "df_saccr['EAD_MAT_DF'] = df_saccr['EAD_MAT'] * df_saccr['DF']\n",
    "\n",
    "# add columns: SCVA\n",
    "saccr_alpha = 1.4\n",
    "df_saccr['SCVA'] = df_saccr['EAD_MAT_DF'] / saccr_alpha\n",
    "\n",
    "df_saccr.head()"
   ]
  },
  {
   "cell_type": "code",
   "execution_count": 4,
   "metadata": {},
   "outputs": [],
   "source": [
    "groupby_obj_saccr = df_saccr.groupby('NETTING_SET')\n",
    "df_saccr_scva = pd.DataFrame(groupby_obj_saccr['SCVA'].sum().reset_index())\n",
    "df_saccr_scva_rename = df_saccr_scva.rename(columns={'SCVA': 'SCVA_in_NettingSet'})\n",
    "df_saccr_scva_rename['square_SCVA_in_NettingSet'] = df_saccr_scva_rename['SCVA_in_NettingSet']*df_saccr_scva_rename['SCVA_in_NettingSet']"
   ]
  },
  {
   "cell_type": "code",
   "execution_count": 5,
   "metadata": {
    "collapsed": true
   },
   "outputs": [],
   "source": [
    "saccr_rho = 0.5"
   ]
  },
  {
   "cell_type": "code",
   "execution_count": 6,
   "metadata": {
    "collapsed": true
   },
   "outputs": [],
   "source": [
    "first_term = pow((saccr_rho * df_saccr_scva_rename['SCVA_in_NettingSet'].sum()) ,2)\n",
    "second_term = (1- pow(saccr_rho,2)) * df_saccr_scva_rename['square_SCVA_in_NettingSet'].sum()"
   ]
  },
  {
   "cell_type": "code",
   "execution_count": 7,
   "metadata": {},
   "outputs": [
    {
     "data": {
      "text/plain": [
       "5733425.5905402228"
      ]
     },
     "execution_count": 7,
     "metadata": {},
     "output_type": "execute_result"
    }
   ],
   "source": [
    "BACVA = np.sqrt(first_term + second_term)\n",
    "BACVA"
   ]
  },
  {
   "cell_type": "code",
   "execution_count": 19,
   "metadata": {},
   "outputs": [
    {
     "data": {
      "text/html": [
       "<div>\n",
       "<style>\n",
       "    .dataframe thead tr:only-child th {\n",
       "        text-align: right;\n",
       "    }\n",
       "\n",
       "    .dataframe thead th {\n",
       "        text-align: left;\n",
       "    }\n",
       "\n",
       "    .dataframe tbody tr th {\n",
       "        vertical-align: top;\n",
       "    }\n",
       "</style>\n",
       "<table border=\"1\" class=\"dataframe\">\n",
       "  <thead>\n",
       "    <tr style=\"text-align: right;\">\n",
       "      <th></th>\n",
       "      <th>CUSTOMER_NUM</th>\n",
       "      <th>NETTING_SET</th>\n",
       "      <th>EAD</th>\n",
       "      <th>MATURITY</th>\n",
       "      <th>EAD_MAT</th>\n",
       "      <th>DF</th>\n",
       "      <th>EAD_MAT_DF</th>\n",
       "      <th>SCVA</th>\n",
       "      <th>SCVA_in_NettingSet</th>\n",
       "      <th>square_SCVA_in_NettingSet</th>\n",
       "    </tr>\n",
       "  </thead>\n",
       "  <tbody>\n",
       "    <tr>\n",
       "      <th>0</th>\n",
       "      <td>41747204</td>\n",
       "      <td>BIS0010</td>\n",
       "      <td>74028.399812</td>\n",
       "      <td>16.563736</td>\n",
       "      <td>1.226187e+06</td>\n",
       "      <td>0.679991</td>\n",
       "      <td>833795.722674</td>\n",
       "      <td>595568.373339</td>\n",
       "      <td>1.720122e+06</td>\n",
       "      <td>2.958818e+12</td>\n",
       "    </tr>\n",
       "    <tr>\n",
       "      <th>1</th>\n",
       "      <td>41747204</td>\n",
       "      <td>BIS0010</td>\n",
       "      <td>17556.113430</td>\n",
       "      <td>0.893127</td>\n",
       "      <td>1.567984e+04</td>\n",
       "      <td>0.978001</td>\n",
       "      <td>15334.888703</td>\n",
       "      <td>10953.491931</td>\n",
       "      <td>1.720122e+06</td>\n",
       "      <td>2.958818e+12</td>\n",
       "    </tr>\n",
       "    <tr>\n",
       "      <th>2</th>\n",
       "      <td>41747204</td>\n",
       "      <td>BIS0010</td>\n",
       "      <td>9469.513543</td>\n",
       "      <td>19.429423</td>\n",
       "      <td>1.839872e+05</td>\n",
       "      <td>0.639725</td>\n",
       "      <td>117701.173979</td>\n",
       "      <td>84072.267128</td>\n",
       "      <td>1.720122e+06</td>\n",
       "      <td>2.958818e+12</td>\n",
       "    </tr>\n",
       "    <tr>\n",
       "      <th>3</th>\n",
       "      <td>41747204</td>\n",
       "      <td>BIS0010</td>\n",
       "      <td>82403.217982</td>\n",
       "      <td>12.074124</td>\n",
       "      <td>9.949467e+05</td>\n",
       "      <td>0.750727</td>\n",
       "      <td>746933.438869</td>\n",
       "      <td>533523.884906</td>\n",
       "      <td>1.720122e+06</td>\n",
       "      <td>2.958818e+12</td>\n",
       "    </tr>\n",
       "    <tr>\n",
       "      <th>4</th>\n",
       "      <td>41747204</td>\n",
       "      <td>BIS0010</td>\n",
       "      <td>78318.052405</td>\n",
       "      <td>11.715427</td>\n",
       "      <td>9.175295e+05</td>\n",
       "      <td>0.756820</td>\n",
       "      <td>694404.989420</td>\n",
       "      <td>496003.563872</td>\n",
       "      <td>1.720122e+06</td>\n",
       "      <td>2.958818e+12</td>\n",
       "    </tr>\n",
       "  </tbody>\n",
       "</table>\n",
       "</div>"
      ],
      "text/plain": [
       "   CUSTOMER_NUM NETTING_SET           EAD   MATURITY       EAD_MAT        DF  \\\n",
       "0      41747204     BIS0010  74028.399812  16.563736  1.226187e+06  0.679991   \n",
       "1      41747204     BIS0010  17556.113430   0.893127  1.567984e+04  0.978001   \n",
       "2      41747204     BIS0010   9469.513543  19.429423  1.839872e+05  0.639725   \n",
       "3      41747204     BIS0010  82403.217982  12.074124  9.949467e+05  0.750727   \n",
       "4      41747204     BIS0010  78318.052405  11.715427  9.175295e+05  0.756820   \n",
       "\n",
       "      EAD_MAT_DF           SCVA  SCVA_in_NettingSet  square_SCVA_in_NettingSet  \n",
       "0  833795.722674  595568.373339        1.720122e+06               2.958818e+12  \n",
       "1   15334.888703   10953.491931        1.720122e+06               2.958818e+12  \n",
       "2  117701.173979   84072.267128        1.720122e+06               2.958818e+12  \n",
       "3  746933.438869  533523.884906        1.720122e+06               2.958818e+12  \n",
       "4  694404.989420  496003.563872        1.720122e+06               2.958818e+12  "
      ]
     },
     "execution_count": 19,
     "metadata": {},
     "output_type": "execute_result"
    }
   ],
   "source": [
    "df_saccr_bacva = pd.merge(df_saccr, df_saccr_scva_rename, on='NETTING_SET')\n",
    "df_saccr_bacva.head()"
   ]
  },
  {
   "cell_type": "code",
   "execution_count": 13,
   "metadata": {},
   "outputs": [
    {
     "data": {
      "text/html": [
       "<div>\n",
       "<style>\n",
       "    .dataframe thead tr:only-child th {\n",
       "        text-align: right;\n",
       "    }\n",
       "\n",
       "    .dataframe thead th {\n",
       "        text-align: left;\n",
       "    }\n",
       "\n",
       "    .dataframe tbody tr th {\n",
       "        vertical-align: top;\n",
       "    }\n",
       "</style>\n",
       "<table border=\"1\" class=\"dataframe\">\n",
       "  <thead>\n",
       "    <tr style=\"text-align: right;\">\n",
       "      <th></th>\n",
       "      <th>CUSTOMER_NUM</th>\n",
       "      <th>NETTING_SET</th>\n",
       "      <th>EAD</th>\n",
       "      <th>MATURITY</th>\n",
       "      <th>EAD_MAT</th>\n",
       "      <th>DF</th>\n",
       "      <th>EAD_MAT_DF</th>\n",
       "      <th>SCVA</th>\n",
       "    </tr>\n",
       "  </thead>\n",
       "  <tbody>\n",
       "    <tr>\n",
       "      <th>0</th>\n",
       "      <td>41747204</td>\n",
       "      <td>BIS0010</td>\n",
       "      <td>74028.399812</td>\n",
       "      <td>16.563736</td>\n",
       "      <td>1.226187e+06</td>\n",
       "      <td>0.679991</td>\n",
       "      <td>833795.722674</td>\n",
       "      <td>595568.373339</td>\n",
       "    </tr>\n",
       "    <tr>\n",
       "      <th>1</th>\n",
       "      <td>41747204</td>\n",
       "      <td>BIS0010</td>\n",
       "      <td>17556.113430</td>\n",
       "      <td>0.893127</td>\n",
       "      <td>1.567984e+04</td>\n",
       "      <td>0.978001</td>\n",
       "      <td>15334.888703</td>\n",
       "      <td>10953.491931</td>\n",
       "    </tr>\n",
       "    <tr>\n",
       "      <th>2</th>\n",
       "      <td>41747204</td>\n",
       "      <td>BIS0010</td>\n",
       "      <td>9469.513543</td>\n",
       "      <td>19.429423</td>\n",
       "      <td>1.839872e+05</td>\n",
       "      <td>0.639725</td>\n",
       "      <td>117701.173979</td>\n",
       "      <td>84072.267128</td>\n",
       "    </tr>\n",
       "    <tr>\n",
       "      <th>3</th>\n",
       "      <td>41747204</td>\n",
       "      <td>BIS0010</td>\n",
       "      <td>82403.217982</td>\n",
       "      <td>12.074124</td>\n",
       "      <td>9.949467e+05</td>\n",
       "      <td>0.750727</td>\n",
       "      <td>746933.438869</td>\n",
       "      <td>533523.884906</td>\n",
       "    </tr>\n",
       "    <tr>\n",
       "      <th>4</th>\n",
       "      <td>41747204</td>\n",
       "      <td>BIS0010</td>\n",
       "      <td>78318.052405</td>\n",
       "      <td>11.715427</td>\n",
       "      <td>9.175295e+05</td>\n",
       "      <td>0.756820</td>\n",
       "      <td>694404.989420</td>\n",
       "      <td>496003.563872</td>\n",
       "    </tr>\n",
       "  </tbody>\n",
       "</table>\n",
       "</div>"
      ],
      "text/plain": [
       "   CUSTOMER_NUM NETTING_SET           EAD   MATURITY       EAD_MAT        DF  \\\n",
       "0      41747204     BIS0010  74028.399812  16.563736  1.226187e+06  0.679991   \n",
       "1      41747204     BIS0010  17556.113430   0.893127  1.567984e+04  0.978001   \n",
       "2      41747204     BIS0010   9469.513543  19.429423  1.839872e+05  0.639725   \n",
       "3      41747204     BIS0010  82403.217982  12.074124  9.949467e+05  0.750727   \n",
       "4      41747204     BIS0010  78318.052405  11.715427  9.175295e+05  0.756820   \n",
       "\n",
       "      EAD_MAT_DF           SCVA  \n",
       "0  833795.722674  595568.373339  \n",
       "1   15334.888703   10953.491931  \n",
       "2  117701.173979   84072.267128  \n",
       "3  746933.438869  533523.884906  \n",
       "4  694404.989420  496003.563872  "
      ]
     },
     "execution_count": 13,
     "metadata": {},
     "output_type": "execute_result"
    }
   ],
   "source": [
    "df_saccr.head()"
   ]
  },
  {
   "cell_type": "code",
   "execution_count": 14,
   "metadata": {},
   "outputs": [
    {
     "data": {
      "text/html": [
       "<div>\n",
       "<style>\n",
       "    .dataframe thead tr:only-child th {\n",
       "        text-align: right;\n",
       "    }\n",
       "\n",
       "    .dataframe thead th {\n",
       "        text-align: left;\n",
       "    }\n",
       "\n",
       "    .dataframe tbody tr th {\n",
       "        vertical-align: top;\n",
       "    }\n",
       "</style>\n",
       "<table border=\"1\" class=\"dataframe\">\n",
       "  <thead>\n",
       "    <tr style=\"text-align: right;\">\n",
       "      <th></th>\n",
       "      <th>NETTING_SET</th>\n",
       "      <th>SCVA_in_NettingSet</th>\n",
       "      <th>square_SCVA_in_NettingSet</th>\n",
       "    </tr>\n",
       "  </thead>\n",
       "  <tbody>\n",
       "    <tr>\n",
       "      <th>0</th>\n",
       "      <td>BIS0010</td>\n",
       "      <td>1.720122e+06</td>\n",
       "      <td>2.958818e+12</td>\n",
       "    </tr>\n",
       "    <tr>\n",
       "      <th>1</th>\n",
       "      <td>BIS0020</td>\n",
       "      <td>7.981512e+05</td>\n",
       "      <td>6.370453e+11</td>\n",
       "    </tr>\n",
       "    <tr>\n",
       "      <th>2</th>\n",
       "      <td>BIS0981</td>\n",
       "      <td>8.871280e+04</td>\n",
       "      <td>7.869961e+09</td>\n",
       "    </tr>\n",
       "    <tr>\n",
       "      <th>3</th>\n",
       "      <td>BIS0987</td>\n",
       "      <td>1.296386e+06</td>\n",
       "      <td>1.680615e+12</td>\n",
       "    </tr>\n",
       "    <tr>\n",
       "      <th>4</th>\n",
       "      <td>BIS1097</td>\n",
       "      <td>2.737743e+05</td>\n",
       "      <td>7.495237e+10</td>\n",
       "    </tr>\n",
       "  </tbody>\n",
       "</table>\n",
       "</div>"
      ],
      "text/plain": [
       "  NETTING_SET  SCVA_in_NettingSet  square_SCVA_in_NettingSet\n",
       "0     BIS0010        1.720122e+06               2.958818e+12\n",
       "1     BIS0020        7.981512e+05               6.370453e+11\n",
       "2     BIS0981        8.871280e+04               7.869961e+09\n",
       "3     BIS0987        1.296386e+06               1.680615e+12\n",
       "4     BIS1097        2.737743e+05               7.495237e+10"
      ]
     },
     "execution_count": 14,
     "metadata": {},
     "output_type": "execute_result"
    }
   ],
   "source": [
    "df_saccr_scva_rename.head()"
   ]
  },
  {
   "cell_type": "code",
   "execution_count": 11,
   "metadata": {},
   "outputs": [
    {
     "data": {
      "text/plain": [
       "True"
      ]
     },
     "execution_count": 11,
     "metadata": {},
     "output_type": "execute_result"
    }
   ],
   "source": [
    "df_saccr.index.is_unique"
   ]
  },
  {
   "cell_type": "code",
   "execution_count": 73,
   "metadata": {},
   "outputs": [
    {
     "data": {
      "text/plain": [
       "\"\\ndf_saccr_ead_by_mat = df_input_saccr.assign(EAD_MATURITY=df_input_saccr['EAD']*df_input_saccr['MATURITY'])\\ndf_saccr_ead_by_mat.head()\\ndf_saccr_DF = df_saccr_ead_by_mat.assign(DF=((1-np.exp(-0.05*saccr_ead_by_mat['MATURITY']))/(0.05*df_saccr_ead_by_mat['MATURITY'])))\\ndf_input_saccr_3.head()\\ndf_input_saccr_4  = df_input_saccr_3.assign(DF_EAD_MAT=df_input_saccr_3['EAD_MATURITY']*df_input_saccr_3['DF'])\\ndf_input_saccr_4.head()\\nalpha = 1.4\\ndf_input_saccr_5 = df_input_saccr_4.assign(SCVA = df_input_saccr_4['DF_EAD_MAT']/alpha)\\ndf_input_saccr_5\\n\""
      ]
     },
     "execution_count": 73,
     "metadata": {},
     "output_type": "execute_result"
    }
   ],
   "source": [
    "'''\n",
    "df_saccr_ead_by_mat = df_input_saccr.assign(EAD_MATURITY=df_input_saccr['EAD']*df_input_saccr['MATURITY'])\n",
    "df_saccr_ead_by_mat.head()\n",
    "df_saccr_DF = df_saccr_ead_by_mat.assign(DF=((1-np.exp(-0.05*saccr_ead_by_mat['MATURITY']))/(0.05*df_saccr_ead_by_mat['MATURITY'])))\n",
    "df_input_saccr_3.head()\n",
    "df_input_saccr_4  = df_input_saccr_3.assign(DF_EAD_MAT=df_input_saccr_3['EAD_MATURITY']*df_input_saccr_3['DF'])\n",
    "df_input_saccr_4.head()\n",
    "alpha = 1.4\n",
    "df_input_saccr_5 = df_input_saccr_4.assign(SCVA = df_input_saccr_4['DF_EAD_MAT']/alpha)\n",
    "df_input_saccr_5\n",
    "'''"
   ]
  },
  {
   "cell_type": "code",
   "execution_count": 19,
   "metadata": {
    "collapsed": true
   },
   "outputs": [],
   "source": [
    "df1 = pd.DataFrame({'key' : ['b','b','a','c','a','a','b'],\n",
    "                                      'data1' : range(7)})\n",
    "df2 = pd.DataFrame({'key' : ['a', 'b', 'c'],\n",
    "                                      'data2' : range(3)})"
   ]
  },
  {
   "cell_type": "code",
   "execution_count": 21,
   "metadata": {},
   "outputs": [
    {
     "data": {
      "text/html": [
       "<div>\n",
       "<style>\n",
       "    .dataframe thead tr:only-child th {\n",
       "        text-align: right;\n",
       "    }\n",
       "\n",
       "    .dataframe thead th {\n",
       "        text-align: left;\n",
       "    }\n",
       "\n",
       "    .dataframe tbody tr th {\n",
       "        vertical-align: top;\n",
       "    }\n",
       "</style>\n",
       "<table border=\"1\" class=\"dataframe\">\n",
       "  <thead>\n",
       "    <tr style=\"text-align: right;\">\n",
       "      <th></th>\n",
       "      <th>data1</th>\n",
       "      <th>key</th>\n",
       "      <th>data2</th>\n",
       "    </tr>\n",
       "  </thead>\n",
       "  <tbody>\n",
       "    <tr>\n",
       "      <th>0</th>\n",
       "      <td>0</td>\n",
       "      <td>b</td>\n",
       "      <td>1</td>\n",
       "    </tr>\n",
       "    <tr>\n",
       "      <th>1</th>\n",
       "      <td>1</td>\n",
       "      <td>b</td>\n",
       "      <td>1</td>\n",
       "    </tr>\n",
       "    <tr>\n",
       "      <th>2</th>\n",
       "      <td>6</td>\n",
       "      <td>b</td>\n",
       "      <td>1</td>\n",
       "    </tr>\n",
       "    <tr>\n",
       "      <th>3</th>\n",
       "      <td>2</td>\n",
       "      <td>a</td>\n",
       "      <td>0</td>\n",
       "    </tr>\n",
       "    <tr>\n",
       "      <th>4</th>\n",
       "      <td>4</td>\n",
       "      <td>a</td>\n",
       "      <td>0</td>\n",
       "    </tr>\n",
       "    <tr>\n",
       "      <th>5</th>\n",
       "      <td>5</td>\n",
       "      <td>a</td>\n",
       "      <td>0</td>\n",
       "    </tr>\n",
       "    <tr>\n",
       "      <th>6</th>\n",
       "      <td>3</td>\n",
       "      <td>c</td>\n",
       "      <td>2</td>\n",
       "    </tr>\n",
       "  </tbody>\n",
       "</table>\n",
       "</div>"
      ],
      "text/plain": [
       "   data1 key  data2\n",
       "0      0   b      1\n",
       "1      1   b      1\n",
       "2      6   b      1\n",
       "3      2   a      0\n",
       "4      4   a      0\n",
       "5      5   a      0\n",
       "6      3   c      2"
      ]
     },
     "execution_count": 21,
     "metadata": {},
     "output_type": "execute_result"
    }
   ],
   "source": [
    "pd.merge(df1,df2, on='key')"
   ]
  },
  {
   "cell_type": "code",
   "execution_count": null,
   "metadata": {
    "collapsed": true
   },
   "outputs": [],
   "source": []
  }
 ],
 "metadata": {
  "kernelspec": {
   "display_name": "Python 3",
   "language": "python",
   "name": "python3"
  },
  "language_info": {
   "codemirror_mode": {
    "name": "ipython",
    "version": 3
   },
   "file_extension": ".py",
   "mimetype": "text/x-python",
   "name": "python",
   "nbconvert_exporter": "python",
   "pygments_lexer": "ipython3",
   "version": "3.6.2"
  }
 },
 "nbformat": 4,
 "nbformat_minor": 2
}
