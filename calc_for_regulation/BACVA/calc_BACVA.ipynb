{
 "cells": [
  {
   "cell_type": "code",
   "execution_count": 48,
   "metadata": {},
   "outputs": [],
   "source": [
    "import pandas as pd\n",
    "import numpy as np"
   ]
  },
  {
   "cell_type": "code",
   "execution_count": 8,
   "metadata": {},
   "outputs": [
    {
     "data": {
      "text/html": [
       "<div>\n",
       "<style>\n",
       "    .dataframe thead tr:only-child th {\n",
       "        text-align: right;\n",
       "    }\n",
       "\n",
       "    .dataframe thead th {\n",
       "        text-align: left;\n",
       "    }\n",
       "\n",
       "    .dataframe tbody tr th {\n",
       "        vertical-align: top;\n",
       "    }\n",
       "</style>\n",
       "<table border=\"1\" class=\"dataframe\">\n",
       "  <thead>\n",
       "    <tr style=\"text-align: right;\">\n",
       "      <th></th>\n",
       "      <th>CUSTOMOR_NUM</th>\n",
       "      <th>NETTING_SET</th>\n",
       "      <th>EAD</th>\n",
       "      <th>MATURITY</th>\n",
       "    </tr>\n",
       "  </thead>\n",
       "  <tbody>\n",
       "    <tr>\n",
       "      <th>0</th>\n",
       "      <td>41747204</td>\n",
       "      <td>BIS0010</td>\n",
       "      <td>74028.399812</td>\n",
       "      <td>16.563736</td>\n",
       "    </tr>\n",
       "    <tr>\n",
       "      <th>1</th>\n",
       "      <td>41747204</td>\n",
       "      <td>BIS0010</td>\n",
       "      <td>17556.113430</td>\n",
       "      <td>0.893127</td>\n",
       "    </tr>\n",
       "    <tr>\n",
       "      <th>2</th>\n",
       "      <td>41747204</td>\n",
       "      <td>BIS0010</td>\n",
       "      <td>9469.513543</td>\n",
       "      <td>19.429423</td>\n",
       "    </tr>\n",
       "    <tr>\n",
       "      <th>3</th>\n",
       "      <td>41747204</td>\n",
       "      <td>BIS0010</td>\n",
       "      <td>82403.217982</td>\n",
       "      <td>12.074124</td>\n",
       "    </tr>\n",
       "    <tr>\n",
       "      <th>4</th>\n",
       "      <td>41747204</td>\n",
       "      <td>BIS0010</td>\n",
       "      <td>78318.052405</td>\n",
       "      <td>11.715427</td>\n",
       "    </tr>\n",
       "  </tbody>\n",
       "</table>\n",
       "</div>"
      ],
      "text/plain": [
       "   CUSTOMOR_NUM NETTING_SET           EAD   MATURITY\n",
       "0      41747204     BIS0010  74028.399812  16.563736\n",
       "1      41747204     BIS0010  17556.113430   0.893127\n",
       "2      41747204     BIS0010   9469.513543  19.429423\n",
       "3      41747204     BIS0010  82403.217982  12.074124\n",
       "4      41747204     BIS0010  78318.052405  11.715427"
      ]
     },
     "execution_count": 8,
     "metadata": {},
     "output_type": "execute_result"
    }
   ],
   "source": [
    "df_input_saccr = pd.read_excel('input_BACVA.xlsx')\n",
    "df_input_saccr.head()"
   ]
  },
  {
   "cell_type": "code",
   "execution_count": 14,
   "metadata": {},
   "outputs": [
    {
     "data": {
      "text/plain": [
       "NETTING_SET\n",
       "BIS0010    261775.297171\n",
       "BIS0020     92244.587327\n",
       "BIS0981     55207.549548\n",
       "BIS0987    179254.128694\n",
       "BIS1097     79009.651022\n",
       "BIS1327    380734.581479\n",
       "BIS7778    166438.440386\n",
       "BIS7865    628405.921038\n",
       "BIS8753     72174.989191\n",
       "BIS8765    159193.417691\n",
       "Name: EAD, dtype: float64"
      ]
     },
     "execution_count": 14,
     "metadata": {},
     "output_type": "execute_result"
    }
   ],
   "source": [
    "df_input_saccr.groupby('NETTING_SET')['EAD'].sum()"
   ]
  },
  {
   "cell_type": "code",
   "execution_count": 57,
   "metadata": {},
   "outputs": [
    {
     "data": {
      "text/html": [
       "<div>\n",
       "<style>\n",
       "    .dataframe thead tr:only-child th {\n",
       "        text-align: right;\n",
       "    }\n",
       "\n",
       "    .dataframe thead th {\n",
       "        text-align: left;\n",
       "    }\n",
       "\n",
       "    .dataframe tbody tr th {\n",
       "        vertical-align: top;\n",
       "    }\n",
       "</style>\n",
       "<table border=\"1\" class=\"dataframe\">\n",
       "  <thead>\n",
       "    <tr style=\"text-align: right;\">\n",
       "      <th></th>\n",
       "      <th>CUSTOMOR_NUM</th>\n",
       "      <th>NETTING_SET</th>\n",
       "      <th>EAD</th>\n",
       "      <th>MATURITY</th>\n",
       "      <th>EAD_MATURITY</th>\n",
       "      <th>DF</th>\n",
       "    </tr>\n",
       "  </thead>\n",
       "  <tbody>\n",
       "    <tr>\n",
       "      <th>0</th>\n",
       "      <td>41747204</td>\n",
       "      <td>BIS0010</td>\n",
       "      <td>74028.399812</td>\n",
       "      <td>16.563736</td>\n",
       "      <td>1.226187e+06</td>\n",
       "      <td>0.679991</td>\n",
       "    </tr>\n",
       "    <tr>\n",
       "      <th>1</th>\n",
       "      <td>41747204</td>\n",
       "      <td>BIS0010</td>\n",
       "      <td>17556.113430</td>\n",
       "      <td>0.893127</td>\n",
       "      <td>1.567984e+04</td>\n",
       "      <td>0.978001</td>\n",
       "    </tr>\n",
       "    <tr>\n",
       "      <th>2</th>\n",
       "      <td>41747204</td>\n",
       "      <td>BIS0010</td>\n",
       "      <td>9469.513543</td>\n",
       "      <td>19.429423</td>\n",
       "      <td>1.839872e+05</td>\n",
       "      <td>0.639725</td>\n",
       "    </tr>\n",
       "    <tr>\n",
       "      <th>3</th>\n",
       "      <td>41747204</td>\n",
       "      <td>BIS0010</td>\n",
       "      <td>82403.217982</td>\n",
       "      <td>12.074124</td>\n",
       "      <td>9.949467e+05</td>\n",
       "      <td>0.750727</td>\n",
       "    </tr>\n",
       "    <tr>\n",
       "      <th>4</th>\n",
       "      <td>41747204</td>\n",
       "      <td>BIS0010</td>\n",
       "      <td>78318.052405</td>\n",
       "      <td>11.715427</td>\n",
       "      <td>9.175295e+05</td>\n",
       "      <td>0.756820</td>\n",
       "    </tr>\n",
       "  </tbody>\n",
       "</table>\n",
       "</div>"
      ],
      "text/plain": [
       "   CUSTOMOR_NUM NETTING_SET           EAD   MATURITY  EAD_MATURITY        DF\n",
       "0      41747204     BIS0010  74028.399812  16.563736  1.226187e+06  0.679991\n",
       "1      41747204     BIS0010  17556.113430   0.893127  1.567984e+04  0.978001\n",
       "2      41747204     BIS0010   9469.513543  19.429423  1.839872e+05  0.639725\n",
       "3      41747204     BIS0010  82403.217982  12.074124  9.949467e+05  0.750727\n",
       "4      41747204     BIS0010  78318.052405  11.715427  9.175295e+05  0.756820"
      ]
     },
     "execution_count": 57,
     "metadata": {},
     "output_type": "execute_result"
    }
   ],
   "source": [
    "df_input_saccr_2 = df_input_saccr.assign(EAD_MATURITY=df_input_saccr['EAD']*df_input_saccr['MATURITY'])\n",
    "df_input_saccr_3 = df_input_saccr_2.assign(DF=((1-np.exp(-0.05*df_input_saccr_2['MATURITY']))/(0.05*df_input_saccr_2['MATURITY'])))\n",
    "df_input_saccr_3.head()"
   ]
  },
  {
   "cell_type": "code",
   "execution_count": 63,
   "metadata": {},
   "outputs": [
    {
     "data": {
      "text/plain": [
       "NETTING_SET\n",
       "BIS0010    1.720122e+06\n",
       "BIS0020    7.981512e+05\n",
       "BIS0981    8.871280e+04\n",
       "BIS0987    1.296386e+06\n",
       "BIS1097    2.737743e+05\n",
       "BIS1327    1.158080e+06\n",
       "BIS7778    7.459311e+05\n",
       "BIS7865    2.639156e+06\n",
       "BIS8753    2.337454e+05\n",
       "BIS8765    4.320362e+05\n",
       "Name: SCVA, dtype: float64"
      ]
     },
     "execution_count": 63,
     "metadata": {},
     "output_type": "execute_result"
    }
   ],
   "source": [
    "df_input_saccr_4  = df_input_saccr_3.assign(DF_EAD_MAT=df_input_saccr_3['EAD_MATURITY']*df_input_saccr_3['DF'])\n",
    "alpha = 1.4\n",
    "df_input_saccr_5 = df_input_saccr_4.assign(SCVA = df_input_saccr_4['DF_EAD_MAT']/alpha)\n",
    "df_input_saccr_5.groupby('NETTING_SET')['SCVA'].sum()"
   ]
  },
  {
   "cell_type": "code",
   "execution_count": null,
   "metadata": {
    "collapsed": true
   },
   "outputs": [],
   "source": []
  }
 ],
 "metadata": {
  "kernelspec": {
   "display_name": "Python 3",
   "language": "python",
   "name": "python3"
  },
  "language_info": {
   "codemirror_mode": {
    "name": "ipython",
    "version": 3
   },
   "file_extension": ".py",
   "mimetype": "text/x-python",
   "name": "python",
   "nbconvert_exporter": "python",
   "pygments_lexer": "ipython3",
   "version": "3.6.2"
  }
 },
 "nbformat": 4,
 "nbformat_minor": 2
}
