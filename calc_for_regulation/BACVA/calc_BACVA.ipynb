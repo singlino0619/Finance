{
 "cells": [
  {
   "cell_type": "code",
   "execution_count": 74,
   "metadata": {
    "collapsed": true
   },
   "outputs": [],
   "source": [
    "import pandas as pd\n",
    "import numpy as np"
   ]
  },
  {
   "cell_type": "markdown",
   "metadata": {},
   "source": [
    "## input data"
   ]
  },
  {
   "cell_type": "code",
   "execution_count": 75,
   "metadata": {},
   "outputs": [
    {
     "data": {
      "text/html": [
       "<div>\n",
       "<style>\n",
       "    .dataframe thead tr:only-child th {\n",
       "        text-align: right;\n",
       "    }\n",
       "\n",
       "    .dataframe thead th {\n",
       "        text-align: left;\n",
       "    }\n",
       "\n",
       "    .dataframe tbody tr th {\n",
       "        vertical-align: top;\n",
       "    }\n",
       "</style>\n",
       "<table border=\"1\" class=\"dataframe\">\n",
       "  <thead>\n",
       "    <tr style=\"text-align: right;\">\n",
       "      <th></th>\n",
       "      <th>CUSTOMER_NUM</th>\n",
       "      <th>NETTING_SET</th>\n",
       "      <th>EAD</th>\n",
       "      <th>MATURITY</th>\n",
       "    </tr>\n",
       "  </thead>\n",
       "  <tbody>\n",
       "    <tr>\n",
       "      <th>0</th>\n",
       "      <td>41747204</td>\n",
       "      <td>BIS0010</td>\n",
       "      <td>74028.399812</td>\n",
       "      <td>16.563736</td>\n",
       "    </tr>\n",
       "    <tr>\n",
       "      <th>1</th>\n",
       "      <td>41747204</td>\n",
       "      <td>BIS0010</td>\n",
       "      <td>17556.113430</td>\n",
       "      <td>0.893127</td>\n",
       "    </tr>\n",
       "    <tr>\n",
       "      <th>2</th>\n",
       "      <td>41747204</td>\n",
       "      <td>BIS0010</td>\n",
       "      <td>9469.513543</td>\n",
       "      <td>19.429423</td>\n",
       "    </tr>\n",
       "    <tr>\n",
       "      <th>3</th>\n",
       "      <td>41747204</td>\n",
       "      <td>BIS0010</td>\n",
       "      <td>82403.217982</td>\n",
       "      <td>12.074124</td>\n",
       "    </tr>\n",
       "    <tr>\n",
       "      <th>4</th>\n",
       "      <td>41747204</td>\n",
       "      <td>BIS0010</td>\n",
       "      <td>78318.052405</td>\n",
       "      <td>11.715427</td>\n",
       "    </tr>\n",
       "  </tbody>\n",
       "</table>\n",
       "</div>"
      ],
      "text/plain": [
       "   CUSTOMER_NUM NETTING_SET           EAD   MATURITY\n",
       "0      41747204     BIS0010  74028.399812  16.563736\n",
       "1      41747204     BIS0010  17556.113430   0.893127\n",
       "2      41747204     BIS0010   9469.513543  19.429423\n",
       "3      41747204     BIS0010  82403.217982  12.074124\n",
       "4      41747204     BIS0010  78318.052405  11.715427"
      ]
     },
     "execution_count": 75,
     "metadata": {},
     "output_type": "execute_result"
    }
   ],
   "source": [
    "df_saccr = pd.read_excel('input_BACVA.xlsx')\n",
    "df_saccr.head()"
   ]
  },
  {
   "cell_type": "markdown",
   "metadata": {},
   "source": [
    "## calclation flow\n",
    " 1. Add columns : product EAD by Maturity\n",
    " 1. Add DF defined by basel III\n",
    " 1. Add columns: EAD_MATURITY * DF\n",
    " 1. Add columns: SCVA"
   ]
  },
  {
   "cell_type": "code",
   "execution_count": 76,
   "metadata": {},
   "outputs": [
    {
     "data": {
      "text/html": [
       "<div>\n",
       "<style>\n",
       "    .dataframe thead tr:only-child th {\n",
       "        text-align: right;\n",
       "    }\n",
       "\n",
       "    .dataframe thead th {\n",
       "        text-align: left;\n",
       "    }\n",
       "\n",
       "    .dataframe tbody tr th {\n",
       "        vertical-align: top;\n",
       "    }\n",
       "</style>\n",
       "<table border=\"1\" class=\"dataframe\">\n",
       "  <thead>\n",
       "    <tr style=\"text-align: right;\">\n",
       "      <th></th>\n",
       "      <th>CUSTOMER_NUM</th>\n",
       "      <th>NETTING_SET</th>\n",
       "      <th>EAD</th>\n",
       "      <th>MATURITY</th>\n",
       "      <th>EAD_MAT</th>\n",
       "      <th>DF</th>\n",
       "      <th>EAD_MAT_DF</th>\n",
       "      <th>SCVA</th>\n",
       "    </tr>\n",
       "  </thead>\n",
       "  <tbody>\n",
       "    <tr>\n",
       "      <th>0</th>\n",
       "      <td>41747204</td>\n",
       "      <td>BIS0010</td>\n",
       "      <td>74028.399812</td>\n",
       "      <td>16.563736</td>\n",
       "      <td>1.226187e+06</td>\n",
       "      <td>0.679991</td>\n",
       "      <td>833795.722674</td>\n",
       "      <td>595568.373339</td>\n",
       "    </tr>\n",
       "    <tr>\n",
       "      <th>1</th>\n",
       "      <td>41747204</td>\n",
       "      <td>BIS0010</td>\n",
       "      <td>17556.113430</td>\n",
       "      <td>0.893127</td>\n",
       "      <td>1.567984e+04</td>\n",
       "      <td>0.978001</td>\n",
       "      <td>15334.888703</td>\n",
       "      <td>10953.491931</td>\n",
       "    </tr>\n",
       "    <tr>\n",
       "      <th>2</th>\n",
       "      <td>41747204</td>\n",
       "      <td>BIS0010</td>\n",
       "      <td>9469.513543</td>\n",
       "      <td>19.429423</td>\n",
       "      <td>1.839872e+05</td>\n",
       "      <td>0.639725</td>\n",
       "      <td>117701.173979</td>\n",
       "      <td>84072.267128</td>\n",
       "    </tr>\n",
       "    <tr>\n",
       "      <th>3</th>\n",
       "      <td>41747204</td>\n",
       "      <td>BIS0010</td>\n",
       "      <td>82403.217982</td>\n",
       "      <td>12.074124</td>\n",
       "      <td>9.949467e+05</td>\n",
       "      <td>0.750727</td>\n",
       "      <td>746933.438869</td>\n",
       "      <td>533523.884906</td>\n",
       "    </tr>\n",
       "    <tr>\n",
       "      <th>4</th>\n",
       "      <td>41747204</td>\n",
       "      <td>BIS0010</td>\n",
       "      <td>78318.052405</td>\n",
       "      <td>11.715427</td>\n",
       "      <td>9.175295e+05</td>\n",
       "      <td>0.756820</td>\n",
       "      <td>694404.989420</td>\n",
       "      <td>496003.563872</td>\n",
       "    </tr>\n",
       "  </tbody>\n",
       "</table>\n",
       "</div>"
      ],
      "text/plain": [
       "   CUSTOMER_NUM NETTING_SET           EAD   MATURITY       EAD_MAT        DF  \\\n",
       "0      41747204     BIS0010  74028.399812  16.563736  1.226187e+06  0.679991   \n",
       "1      41747204     BIS0010  17556.113430   0.893127  1.567984e+04  0.978001   \n",
       "2      41747204     BIS0010   9469.513543  19.429423  1.839872e+05  0.639725   \n",
       "3      41747204     BIS0010  82403.217982  12.074124  9.949467e+05  0.750727   \n",
       "4      41747204     BIS0010  78318.052405  11.715427  9.175295e+05  0.756820   \n",
       "\n",
       "      EAD_MAT_DF           SCVA  \n",
       "0  833795.722674  595568.373339  \n",
       "1   15334.888703   10953.491931  \n",
       "2  117701.173979   84072.267128  \n",
       "3  746933.438869  533523.884906  \n",
       "4  694404.989420  496003.563872  "
      ]
     },
     "execution_count": 76,
     "metadata": {},
     "output_type": "execute_result"
    }
   ],
   "source": [
    "# add columns: EAD * Maturity\n",
    "df_saccr['EAD_MAT'] = df_saccr['EAD']*df_saccr['MATURITY']\n",
    "\n",
    "# add columns: DF defined by Basel\n",
    "df_saccr['DF'] = ((1-np.exp(-0.05*df_saccr['MATURITY']))/(0.05*df_saccr['MATURITY']))\n",
    "\n",
    "# add columns: EAD_Maturity * DF\n",
    "df_saccr['EAD_MAT_DF'] = df_saccr['EAD_MAT'] * df_saccr['DF']\n",
    "\n",
    "# add columns: SCVA\n",
    "saccr_alpha = 1.4\n",
    "df_saccr['SCVA'] = df_saccr['EAD_MAT_DF'] / saccr_alpha\n",
    "\n",
    "df_saccr.head()"
   ]
  },
  {
   "cell_type": "code",
   "execution_count": 79,
   "metadata": {},
   "outputs": [
    {
     "data": {
      "text/html": [
       "<div>\n",
       "<style>\n",
       "    .dataframe thead tr:only-child th {\n",
       "        text-align: right;\n",
       "    }\n",
       "\n",
       "    .dataframe thead th {\n",
       "        text-align: left;\n",
       "    }\n",
       "\n",
       "    .dataframe tbody tr th {\n",
       "        vertical-align: top;\n",
       "    }\n",
       "</style>\n",
       "<table border=\"1\" class=\"dataframe\">\n",
       "  <thead>\n",
       "    <tr style=\"text-align: right;\">\n",
       "      <th></th>\n",
       "      <th>NETTING_SET</th>\n",
       "      <th>SCVA</th>\n",
       "    </tr>\n",
       "  </thead>\n",
       "  <tbody>\n",
       "    <tr>\n",
       "      <th>0</th>\n",
       "      <td>BIS0010</td>\n",
       "      <td>1.720122e+06</td>\n",
       "    </tr>\n",
       "    <tr>\n",
       "      <th>1</th>\n",
       "      <td>BIS0020</td>\n",
       "      <td>7.981512e+05</td>\n",
       "    </tr>\n",
       "    <tr>\n",
       "      <th>2</th>\n",
       "      <td>BIS0981</td>\n",
       "      <td>8.871280e+04</td>\n",
       "    </tr>\n",
       "    <tr>\n",
       "      <th>3</th>\n",
       "      <td>BIS0987</td>\n",
       "      <td>1.296386e+06</td>\n",
       "    </tr>\n",
       "    <tr>\n",
       "      <th>4</th>\n",
       "      <td>BIS1097</td>\n",
       "      <td>2.737743e+05</td>\n",
       "    </tr>\n",
       "    <tr>\n",
       "      <th>5</th>\n",
       "      <td>BIS1327</td>\n",
       "      <td>1.158080e+06</td>\n",
       "    </tr>\n",
       "    <tr>\n",
       "      <th>6</th>\n",
       "      <td>BIS7778</td>\n",
       "      <td>7.459311e+05</td>\n",
       "    </tr>\n",
       "    <tr>\n",
       "      <th>7</th>\n",
       "      <td>BIS7865</td>\n",
       "      <td>2.639156e+06</td>\n",
       "    </tr>\n",
       "    <tr>\n",
       "      <th>8</th>\n",
       "      <td>BIS8753</td>\n",
       "      <td>2.337454e+05</td>\n",
       "    </tr>\n",
       "    <tr>\n",
       "      <th>9</th>\n",
       "      <td>BIS8765</td>\n",
       "      <td>4.320362e+05</td>\n",
       "    </tr>\n",
       "  </tbody>\n",
       "</table>\n",
       "</div>"
      ],
      "text/plain": [
       "  NETTING_SET          SCVA\n",
       "0     BIS0010  1.720122e+06\n",
       "1     BIS0020  7.981512e+05\n",
       "2     BIS0981  8.871280e+04\n",
       "3     BIS0987  1.296386e+06\n",
       "4     BIS1097  2.737743e+05\n",
       "5     BIS1327  1.158080e+06\n",
       "6     BIS7778  7.459311e+05\n",
       "7     BIS7865  2.639156e+06\n",
       "8     BIS8753  2.337454e+05\n",
       "9     BIS8765  4.320362e+05"
      ]
     },
     "execution_count": 79,
     "metadata": {},
     "output_type": "execute_result"
    }
   ],
   "source": [
    "groupby_obj_saccr = df_saccr.groupby('NETTING_SET')\n",
    "groupby_obj_saccr['SCVA'].sum().reset_index()"
   ]
  },
  {
   "cell_type": "code",
   "execution_count": 73,
   "metadata": {},
   "outputs": [
    {
     "data": {
      "text/plain": [
       "\"\\ndf_saccr_ead_by_mat = df_input_saccr.assign(EAD_MATURITY=df_input_saccr['EAD']*df_input_saccr['MATURITY'])\\ndf_saccr_ead_by_mat.head()\\ndf_saccr_DF = df_saccr_ead_by_mat.assign(DF=((1-np.exp(-0.05*saccr_ead_by_mat['MATURITY']))/(0.05*df_saccr_ead_by_mat['MATURITY'])))\\ndf_input_saccr_3.head()\\ndf_input_saccr_4  = df_input_saccr_3.assign(DF_EAD_MAT=df_input_saccr_3['EAD_MATURITY']*df_input_saccr_3['DF'])\\ndf_input_saccr_4.head()\\nalpha = 1.4\\ndf_input_saccr_5 = df_input_saccr_4.assign(SCVA = df_input_saccr_4['DF_EAD_MAT']/alpha)\\ndf_input_saccr_5\\n\""
      ]
     },
     "execution_count": 73,
     "metadata": {},
     "output_type": "execute_result"
    }
   ],
   "source": [
    "'''\n",
    "df_saccr_ead_by_mat = df_input_saccr.assign(EAD_MATURITY=df_input_saccr['EAD']*df_input_saccr['MATURITY'])\n",
    "df_saccr_ead_by_mat.head()\n",
    "df_saccr_DF = df_saccr_ead_by_mat.assign(DF=((1-np.exp(-0.05*saccr_ead_by_mat['MATURITY']))/(0.05*df_saccr_ead_by_mat['MATURITY'])))\n",
    "df_input_saccr_3.head()\n",
    "df_input_saccr_4  = df_input_saccr_3.assign(DF_EAD_MAT=df_input_saccr_3['EAD_MATURITY']*df_input_saccr_3['DF'])\n",
    "df_input_saccr_4.head()\n",
    "alpha = 1.4\n",
    "df_input_saccr_5 = df_input_saccr_4.assign(SCVA = df_input_saccr_4['DF_EAD_MAT']/alpha)\n",
    "df_input_saccr_5\n",
    "'''"
   ]
  },
  {
   "cell_type": "code",
   "execution_count": null,
   "metadata": {
    "collapsed": true
   },
   "outputs": [],
   "source": []
  }
 ],
 "metadata": {
  "kernelspec": {
   "display_name": "Python 3",
   "language": "python",
   "name": "python3"
  },
  "language_info": {
   "codemirror_mode": {
    "name": "ipython",
    "version": 3
   },
   "file_extension": ".py",
   "mimetype": "text/x-python",
   "name": "python",
   "nbconvert_exporter": "python",
   "pygments_lexer": "ipython3",
   "version": "3.6.2"
  }
 },
 "nbformat": 4,
 "nbformat_minor": 2
}
