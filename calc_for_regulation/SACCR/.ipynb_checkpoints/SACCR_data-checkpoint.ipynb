{
 "cells": [
  {
   "cell_type": "code",
   "execution_count": 1,
   "metadata": {
    "collapsed": true
   },
   "outputs": [],
   "source": [
    "import pandas as pd\n",
    "import numpy as np"
   ]
  },
  {
   "cell_type": "code",
   "execution_count": 11,
   "metadata": {},
   "outputs": [
    {
     "data": {
      "text/plain": [
       "CompletedProcess(args=['jupyter', 'nbconvert', '--to', 'python', 'SACCR_data.ipynb'], returncode=0)"
      ]
     },
     "execution_count": 11,
     "metadata": {},
     "output_type": "execute_result"
    }
   ],
   "source": [
    "import subprocess\n",
    "subprocess.run(['jupyter', 'nbconvert', '--to', 'python', 'SACCR_data.ipynb'])"
   ]
  },
  {
   "cell_type": "markdown",
   "metadata": {},
   "source": [
    "### 1. Import SA-CCR data"
   ]
  },
  {
   "cell_type": "code",
   "execution_count": 2,
   "metadata": {},
   "outputs": [
    {
     "data": {
      "text/html": [
       "<div>\n",
       "<style>\n",
       "    .dataframe thead tr:only-child th {\n",
       "        text-align: right;\n",
       "    }\n",
       "\n",
       "    .dataframe thead th {\n",
       "        text-align: left;\n",
       "    }\n",
       "\n",
       "    .dataframe tbody tr th {\n",
       "        vertical-align: top;\n",
       "    }\n",
       "</style>\n",
       "<table border=\"1\" class=\"dataframe\">\n",
       "  <thead>\n",
       "    <tr style=\"text-align: right;\">\n",
       "      <th></th>\n",
       "      <th>GCIF</th>\n",
       "      <th>PROPERTY</th>\n",
       "      <th>VALUE</th>\n",
       "    </tr>\n",
       "  </thead>\n",
       "  <tbody>\n",
       "    <tr>\n",
       "      <th>0</th>\n",
       "      <td>15560</td>\n",
       "      <td>EAD</td>\n",
       "      <td>9.970000e+11</td>\n",
       "    </tr>\n",
       "    <tr>\n",
       "      <th>1</th>\n",
       "      <td>824</td>\n",
       "      <td>EAD</td>\n",
       "      <td>2.120000e+11</td>\n",
       "    </tr>\n",
       "    <tr>\n",
       "      <th>2</th>\n",
       "      <td>20366</td>\n",
       "      <td>EAD</td>\n",
       "      <td>5.580000e+11</td>\n",
       "    </tr>\n",
       "    <tr>\n",
       "      <th>3</th>\n",
       "      <td>53515</td>\n",
       "      <td>EAD</td>\n",
       "      <td>9.710000e+11</td>\n",
       "    </tr>\n",
       "    <tr>\n",
       "      <th>4</th>\n",
       "      <td>96175</td>\n",
       "      <td>EAD</td>\n",
       "      <td>6.194499e+10</td>\n",
       "    </tr>\n",
       "  </tbody>\n",
       "</table>\n",
       "</div>"
      ],
      "text/plain": [
       "    GCIF PROPERTY         VALUE\n",
       "0  15560      EAD  9.970000e+11\n",
       "1    824      EAD  2.120000e+11\n",
       "2  20366      EAD  5.580000e+11\n",
       "3  53515      EAD  9.710000e+11\n",
       "4  96175      EAD  6.194499e+10"
      ]
     },
     "execution_count": 2,
     "metadata": {},
     "output_type": "execute_result"
    }
   ],
   "source": [
    "df_output = pd.read_csv('SACCR_output.csv')\n",
    "df_output.head()"
   ]
  },
  {
   "cell_type": "markdown",
   "metadata": {},
   "source": [
    "### 2. Get length of GCIF and GCIF itself without duplication."
   ]
  },
  {
   "cell_type": "code",
   "execution_count": 3,
   "metadata": {},
   "outputs": [
    {
     "data": {
      "text/plain": [
       "[15560,\n",
       " 824,\n",
       " 20366,\n",
       " 53515,\n",
       " 96175,\n",
       " 43241,\n",
       " 1498,\n",
       " 47197,\n",
       " 59938,\n",
       " 27057,\n",
       " 71068,\n",
       " 57595,\n",
       " 35262,\n",
       " 42170,\n",
       " 64295,\n",
       " 56470,\n",
       " 41054,\n",
       " 46678,\n",
       " 77107,\n",
       " 98059]"
      ]
     },
     "execution_count": 3,
     "metadata": {},
     "output_type": "execute_result"
    }
   ],
   "source": [
    "GCIF_LEN = len(df_output[df_output['PROPERTY']=='EAD'])\n",
    "array_GCIF = df_output[~df_output['GCIF'].duplicated()]['GCIF'].values.tolist()\n",
    "array_GCIF"
   ]
  },
  {
   "cell_type": "markdown",
   "metadata": {},
   "source": [
    "### 3. Get length of item(EAD, RWA, M)  and array of item"
   ]
  },
  {
   "cell_type": "code",
   "execution_count": 4,
   "metadata": {},
   "outputs": [
    {
     "data": {
      "text/plain": [
       "['EAD', 'RWA', 'M']"
      ]
     },
     "execution_count": 4,
     "metadata": {},
     "output_type": "execute_result"
    }
   ],
   "source": [
    "len_item = len(df_output[~df_output['PROPERTY'].duplicated()])\n",
    "array_item = df_output[~df_output['PROPERTY'].duplicated()]['PROPERTY'].values.tolist()\n",
    "array_item"
   ]
  },
  {
   "cell_type": "markdown",
   "metadata": {},
   "source": [
    "### 4. make dictionary SA-CCR data"
   ]
  },
  {
   "cell_type": "code",
   "execution_count": 9,
   "metadata": {},
   "outputs": [],
   "source": [
    "array_values = ['' for i in range(3)] # make empty 2 dimensional array using by List Comprehensions\n",
    "dict_saccr = {'01_GCIF' : array_GCIF}\n",
    "col_num_values = 2 # place of values in original output data.\n",
    "for i in range(0, len_item):\n",
    "    item_name = array_item[i]\n",
    "    array_values[i] = df_output.iloc[GCIF_LEN*i : GCIF_LEN*(i+1), col_num_values].values.tolist()\n",
    "    dict_saccr['0{}_'.format(i+2) + array_item[i]] = array_values[i]"
   ]
  },
  {
   "cell_type": "code",
   "execution_count": 10,
   "metadata": {},
   "outputs": [
    {
     "data": {
      "text/html": [
       "<div>\n",
       "<style>\n",
       "    .dataframe thead tr:only-child th {\n",
       "        text-align: right;\n",
       "    }\n",
       "\n",
       "    .dataframe thead th {\n",
       "        text-align: left;\n",
       "    }\n",
       "\n",
       "    .dataframe tbody tr th {\n",
       "        vertical-align: top;\n",
       "    }\n",
       "</style>\n",
       "<table border=\"1\" class=\"dataframe\">\n",
       "  <thead>\n",
       "    <tr style=\"text-align: right;\">\n",
       "      <th></th>\n",
       "      <th>01_GCIF</th>\n",
       "      <th>02_EAD</th>\n",
       "      <th>03_RWA</th>\n",
       "      <th>04_M</th>\n",
       "    </tr>\n",
       "  </thead>\n",
       "  <tbody>\n",
       "    <tr>\n",
       "      <th>0</th>\n",
       "      <td>15560</td>\n",
       "      <td>9.970000e+11</td>\n",
       "      <td>5.830000e+12</td>\n",
       "      <td>1.127999</td>\n",
       "    </tr>\n",
       "    <tr>\n",
       "      <th>1</th>\n",
       "      <td>824</td>\n",
       "      <td>2.120000e+11</td>\n",
       "      <td>6.610000e+12</td>\n",
       "      <td>2.361187</td>\n",
       "    </tr>\n",
       "    <tr>\n",
       "      <th>2</th>\n",
       "      <td>20366</td>\n",
       "      <td>5.580000e+11</td>\n",
       "      <td>9.320000e+12</td>\n",
       "      <td>0.871177</td>\n",
       "    </tr>\n",
       "    <tr>\n",
       "      <th>3</th>\n",
       "      <td>53515</td>\n",
       "      <td>9.710000e+11</td>\n",
       "      <td>4.570000e+12</td>\n",
       "      <td>0.373670</td>\n",
       "    </tr>\n",
       "    <tr>\n",
       "      <th>4</th>\n",
       "      <td>96175</td>\n",
       "      <td>6.194499e+10</td>\n",
       "      <td>4.030000e+12</td>\n",
       "      <td>1.594204</td>\n",
       "    </tr>\n",
       "  </tbody>\n",
       "</table>\n",
       "</div>"
      ],
      "text/plain": [
       "   01_GCIF        02_EAD        03_RWA      04_M\n",
       "0    15560  9.970000e+11  5.830000e+12  1.127999\n",
       "1      824  2.120000e+11  6.610000e+12  2.361187\n",
       "2    20366  5.580000e+11  9.320000e+12  0.871177\n",
       "3    53515  9.710000e+11  4.570000e+12  0.373670\n",
       "4    96175  6.194499e+10  4.030000e+12  1.594204"
      ]
     },
     "execution_count": 10,
     "metadata": {},
     "output_type": "execute_result"
    }
   ],
   "source": [
    "pd.DataFrame(dict_saccr).head()"
   ]
  },
  {
   "cell_type": "markdown",
   "metadata": {
    "collapsed": true
   },
   "source": [
    "## in case of using CSV reader"
   ]
  },
  {
   "cell_type": "code",
   "execution_count": 12,
   "metadata": {
    "collapsed": true
   },
   "outputs": [],
   "source": [
    "import csv"
   ]
  },
  {
   "cell_type": "code",
   "execution_count": 87,
   "metadata": {},
   "outputs": [],
   "source": [
    "with open('SACCR_output.csv', 'r') as csvfile:\n",
    "    obj_reader = csv.reader(csvfile)\n",
    "    data = [i for i in obj_reader]"
   ]
  },
  {
   "cell_type": "code",
   "execution_count": 63,
   "metadata": {},
   "outputs": [
    {
     "data": {
      "text/plain": [
       "[['GCIF', 'PROPERTY', 'VALUE'],\n",
       " ['15560', 'EAD', '9.97E+11'],\n",
       " ['824', 'EAD', '2.12E+11'],\n",
       " ['20366', 'EAD', '5.58E+11'],\n",
       " ['53515', 'EAD', '9.71E+11'],\n",
       " ['96175', 'EAD', '61944986793'],\n",
       " ['43241', 'EAD', '5.64E+11'],\n",
       " ['1498', 'EAD', '9.08E+11'],\n",
       " ['47197', 'EAD', '5.90E+11'],\n",
       " ['59938', 'EAD', '5.99E+11'],\n",
       " ['27057', 'EAD', '6.71E+11'],\n",
       " ['71068', 'EAD', '275254815'],\n",
       " ['57595', 'EAD', '7.28E+11'],\n",
       " ['35262', 'EAD', '2.51E+11'],\n",
       " ['42170', 'EAD', '6.44E+11'],\n",
       " ['64295', 'EAD', '9.01E+11'],\n",
       " ['56470', 'EAD', '2.30E+11'],\n",
       " ['41054', 'EAD', '2.53E+11'],\n",
       " ['46678', 'EAD', '5.18E+11'],\n",
       " ['77107', 'EAD', '7.74E+11'],\n",
       " ['98059', 'EAD', '2.64E+11'],\n",
       " ['15560', 'RWA', '5.83E+12'],\n",
       " ['824', 'RWA', '6.61E+12'],\n",
       " ['20366', 'RWA', '9.32E+12'],\n",
       " ['53515', 'RWA', '4.57E+12'],\n",
       " ['96175', 'RWA', '4.03E+12'],\n",
       " ['43241', 'RWA', '1.27E+12'],\n",
       " ['1498', 'RWA', '3.58E+11'],\n",
       " ['47197', 'RWA', '6.98E+12'],\n",
       " ['59938', 'RWA', '4.80E+12'],\n",
       " ['27057', 'RWA', '1.54E+12'],\n",
       " ['71068', 'RWA', '6.94E+12'],\n",
       " ['57595', 'RWA', '7.92E+12'],\n",
       " ['35262', 'RWA', '2.54E+12'],\n",
       " ['42170', 'RWA', '9.20E+12'],\n",
       " ['64295', 'RWA', '6.17E+12'],\n",
       " ['56470', 'RWA', '1.34E+12'],\n",
       " ['41054', 'RWA', '9.88E+12'],\n",
       " ['46678', 'RWA', '3.85E+12'],\n",
       " ['77107', 'RWA', '5.42E+12'],\n",
       " ['98059', 'RWA', '7.38E+12'],\n",
       " ['15560', 'M', '1.127998724'],\n",
       " ['824', 'M', '2.361187231'],\n",
       " ['20366', 'M', '0.871177209'],\n",
       " ['53515', 'M', '0.373670219'],\n",
       " ['96175', 'M', '1.594203677'],\n",
       " ['43241', 'M', '1.430553693'],\n",
       " ['1498', 'M', '2.8338258'],\n",
       " ['47197', 'M', '2.647667513'],\n",
       " ['59938', 'M', '2.245151535'],\n",
       " ['27057', 'M', '1.475911155'],\n",
       " ['71068', 'M', '1.108854926'],\n",
       " ['57595', 'M', '1.455081909'],\n",
       " ['35262', 'M', '1.79036052'],\n",
       " ['42170', 'M', '1.545619831'],\n",
       " ['64295', 'M', '0.197114801'],\n",
       " ['56470', 'M', '0.876489516'],\n",
       " ['41054', 'M', '1.451211345'],\n",
       " ['46678', 'M', '1.099317255'],\n",
       " ['77107', 'M', '2.235001664'],\n",
       " ['98059', 'M', '0.076309248']]"
      ]
     },
     "execution_count": 63,
     "metadata": {},
     "output_type": "execute_result"
    }
   ],
   "source": [
    "data"
   ]
  },
  {
   "cell_type": "code",
   "execution_count": null,
   "metadata": {
    "collapsed": true
   },
   "outputs": [],
   "source": []
  }
 ],
 "metadata": {
  "kernelspec": {
   "display_name": "Python 3",
   "language": "python",
   "name": "python3"
  },
  "language_info": {
   "codemirror_mode": {
    "name": "ipython",
    "version": 3
   },
   "file_extension": ".py",
   "mimetype": "text/x-python",
   "name": "python",
   "nbconvert_exporter": "python",
   "pygments_lexer": "ipython3",
   "version": "3.6.2"
  }
 },
 "nbformat": 4,
 "nbformat_minor": 2
}
