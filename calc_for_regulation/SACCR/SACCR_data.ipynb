{
 "cells": [
  {
   "cell_type": "code",
   "execution_count": 1,
   "metadata": {
    "collapsed": true
   },
   "outputs": [],
   "source": [
    "import pandas as pd\n",
    "import numpy as np"
   ]
  },
  {
   "cell_type": "code",
   "execution_count": 11,
   "metadata": {},
   "outputs": [
    {
     "data": {
      "text/plain": [
       "CompletedProcess(args=['jupyter', 'nbconvert', '--to', 'python', 'SACCR_data.ipynb'], returncode=0)"
      ]
     },
     "execution_count": 11,
     "metadata": {},
     "output_type": "execute_result"
    }
   ],
   "source": [
    "import subprocess\n",
    "subprocess.run(['jupyter', 'nbconvert', '--to', 'python', 'SACCR_data.ipynb'])"
   ]
  },
  {
   "cell_type": "markdown",
   "metadata": {},
   "source": [
    "### 1. Import SA-CCR data"
   ]
  },
  {
   "cell_type": "code",
   "execution_count": 2,
   "metadata": {},
   "outputs": [
    {
     "data": {
      "text/html": [
       "<div>\n",
       "<style>\n",
       "    .dataframe thead tr:only-child th {\n",
       "        text-align: right;\n",
       "    }\n",
       "\n",
       "    .dataframe thead th {\n",
       "        text-align: left;\n",
       "    }\n",
       "\n",
       "    .dataframe tbody tr th {\n",
       "        vertical-align: top;\n",
       "    }\n",
       "</style>\n",
       "<table border=\"1\" class=\"dataframe\">\n",
       "  <thead>\n",
       "    <tr style=\"text-align: right;\">\n",
       "      <th></th>\n",
       "      <th>GCIF</th>\n",
       "      <th>PROPERTY</th>\n",
       "      <th>VALUE</th>\n",
       "    </tr>\n",
       "  </thead>\n",
       "  <tbody>\n",
       "    <tr>\n",
       "      <th>0</th>\n",
       "      <td>15560</td>\n",
       "      <td>EAD</td>\n",
       "      <td>9.970000e+11</td>\n",
       "    </tr>\n",
       "    <tr>\n",
       "      <th>1</th>\n",
       "      <td>824</td>\n",
       "      <td>EAD</td>\n",
       "      <td>2.120000e+11</td>\n",
       "    </tr>\n",
       "    <tr>\n",
       "      <th>2</th>\n",
       "      <td>20366</td>\n",
       "      <td>EAD</td>\n",
       "      <td>5.580000e+11</td>\n",
       "    </tr>\n",
       "    <tr>\n",
       "      <th>3</th>\n",
       "      <td>53515</td>\n",
       "      <td>EAD</td>\n",
       "      <td>9.710000e+11</td>\n",
       "    </tr>\n",
       "    <tr>\n",
       "      <th>4</th>\n",
       "      <td>96175</td>\n",
       "      <td>EAD</td>\n",
       "      <td>6.194499e+10</td>\n",
       "    </tr>\n",
       "  </tbody>\n",
       "</table>\n",
       "</div>"
      ],
      "text/plain": [
       "    GCIF PROPERTY         VALUE\n",
       "0  15560      EAD  9.970000e+11\n",
       "1    824      EAD  2.120000e+11\n",
       "2  20366      EAD  5.580000e+11\n",
       "3  53515      EAD  9.710000e+11\n",
       "4  96175      EAD  6.194499e+10"
      ]
     },
     "execution_count": 2,
     "metadata": {},
     "output_type": "execute_result"
    }
   ],
   "source": [
    "df_output = pd.read_csv('SACCR_output.csv')\n",
    "df_output.head()"
   ]
  },
  {
   "cell_type": "markdown",
   "metadata": {},
   "source": [
    "### 2. Get length of GCIF and GCIF itself without duplication."
   ]
  },
  {
   "cell_type": "code",
   "execution_count": 3,
   "metadata": {},
   "outputs": [
    {
     "data": {
      "text/plain": [
       "[15560,\n",
       " 824,\n",
       " 20366,\n",
       " 53515,\n",
       " 96175,\n",
       " 43241,\n",
       " 1498,\n",
       " 47197,\n",
       " 59938,\n",
       " 27057,\n",
       " 71068,\n",
       " 57595,\n",
       " 35262,\n",
       " 42170,\n",
       " 64295,\n",
       " 56470,\n",
       " 41054,\n",
       " 46678,\n",
       " 77107,\n",
       " 98059]"
      ]
     },
     "execution_count": 3,
     "metadata": {},
     "output_type": "execute_result"
    }
   ],
   "source": [
    "GCIF_LEN = len(df_output[df_output['PROPERTY']=='EAD'])\n",
    "array_GCIF = df_output[~df_output['GCIF'].duplicated()]['GCIF'].values.tolist()\n",
    "array_GCIF"
   ]
  },
  {
   "cell_type": "markdown",
   "metadata": {},
   "source": [
    "### 3. Get length of item(EAD, RWA, M)  and array of item"
   ]
  },
  {
   "cell_type": "code",
   "execution_count": 4,
   "metadata": {},
   "outputs": [
    {
     "data": {
      "text/plain": [
       "['EAD', 'RWA', 'M']"
      ]
     },
     "execution_count": 4,
     "metadata": {},
     "output_type": "execute_result"
    }
   ],
   "source": [
    "len_item = len(df_output[~df_output['PROPERTY'].duplicated()])\n",
    "array_item = df_output[~df_output['PROPERTY'].duplicated()]['PROPERTY'].values.tolist()\n",
    "array_item"
   ]
  },
  {
   "cell_type": "markdown",
   "metadata": {},
   "source": [
    "### 4. make dictionary SA-CCR data"
   ]
  },
  {
   "cell_type": "code",
   "execution_count": 9,
   "metadata": {},
   "outputs": [],
   "source": [
    "array_values = ['' for i in range(3)] # make empty 2 dimensional array using by List Comprehensions\n",
    "dict_saccr = {'01_GCIF' : array_GCIF}\n",
    "col_num_values = 2 # place of values in original output data.\n",
    "for i in range(0, len_item):\n",
    "    item_name = array_item[i]\n",
    "    array_values[i] = df_output.iloc[GCIF_LEN*i : GCIF_LEN*(i+1), col_num_values].values.tolist()\n",
    "    dict_saccr['0{}_'.format(i+2) + array_item[i]] = array_values[i]"
   ]
  },
  {
   "cell_type": "code",
   "execution_count": 10,
   "metadata": {},
   "outputs": [
    {
     "data": {
      "text/html": [
       "<div>\n",
       "<style>\n",
       "    .dataframe thead tr:only-child th {\n",
       "        text-align: right;\n",
       "    }\n",
       "\n",
       "    .dataframe thead th {\n",
       "        text-align: left;\n",
       "    }\n",
       "\n",
       "    .dataframe tbody tr th {\n",
       "        vertical-align: top;\n",
       "    }\n",
       "</style>\n",
       "<table border=\"1\" class=\"dataframe\">\n",
       "  <thead>\n",
       "    <tr style=\"text-align: right;\">\n",
       "      <th></th>\n",
       "      <th>01_GCIF</th>\n",
       "      <th>02_EAD</th>\n",
       "      <th>03_RWA</th>\n",
       "      <th>04_M</th>\n",
       "    </tr>\n",
       "  </thead>\n",
       "  <tbody>\n",
       "    <tr>\n",
       "      <th>0</th>\n",
       "      <td>15560</td>\n",
       "      <td>9.970000e+11</td>\n",
       "      <td>5.830000e+12</td>\n",
       "      <td>1.127999</td>\n",
       "    </tr>\n",
       "    <tr>\n",
       "      <th>1</th>\n",
       "      <td>824</td>\n",
       "      <td>2.120000e+11</td>\n",
       "      <td>6.610000e+12</td>\n",
       "      <td>2.361187</td>\n",
       "    </tr>\n",
       "    <tr>\n",
       "      <th>2</th>\n",
       "      <td>20366</td>\n",
       "      <td>5.580000e+11</td>\n",
       "      <td>9.320000e+12</td>\n",
       "      <td>0.871177</td>\n",
       "    </tr>\n",
       "    <tr>\n",
       "      <th>3</th>\n",
       "      <td>53515</td>\n",
       "      <td>9.710000e+11</td>\n",
       "      <td>4.570000e+12</td>\n",
       "      <td>0.373670</td>\n",
       "    </tr>\n",
       "    <tr>\n",
       "      <th>4</th>\n",
       "      <td>96175</td>\n",
       "      <td>6.194499e+10</td>\n",
       "      <td>4.030000e+12</td>\n",
       "      <td>1.594204</td>\n",
       "    </tr>\n",
       "  </tbody>\n",
       "</table>\n",
       "</div>"
      ],
      "text/plain": [
       "   01_GCIF        02_EAD        03_RWA      04_M\n",
       "0    15560  9.970000e+11  5.830000e+12  1.127999\n",
       "1      824  2.120000e+11  6.610000e+12  2.361187\n",
       "2    20366  5.580000e+11  9.320000e+12  0.871177\n",
       "3    53515  9.710000e+11  4.570000e+12  0.373670\n",
       "4    96175  6.194499e+10  4.030000e+12  1.594204"
      ]
     },
     "execution_count": 10,
     "metadata": {},
     "output_type": "execute_result"
    }
   ],
   "source": [
    "pd.DataFrame(dict_saccr).head()"
   ]
  },
  {
   "cell_type": "code",
   "execution_count": null,
   "metadata": {
    "collapsed": true
   },
   "outputs": [],
   "source": []
  }
 ],
 "metadata": {
  "kernelspec": {
   "display_name": "Python 3",
   "language": "python",
   "name": "python3"
  },
  "language_info": {
   "codemirror_mode": {
    "name": "ipython",
    "version": 3
   },
   "file_extension": ".py",
   "mimetype": "text/x-python",
   "name": "python",
   "nbconvert_exporter": "python",
   "pygments_lexer": "ipython3",
   "version": "3.6.2"
  }
 },
 "nbformat": 4,
 "nbformat_minor": 2
}
