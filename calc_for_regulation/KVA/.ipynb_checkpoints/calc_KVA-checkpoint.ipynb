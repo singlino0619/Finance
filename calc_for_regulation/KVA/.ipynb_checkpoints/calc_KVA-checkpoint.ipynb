{
 "cells": [
  {
   "cell_type": "code",
   "execution_count": 1,
   "metadata": {
    "collapsed": true
   },
   "outputs": [],
   "source": [
    "import pandas as pd\n",
    "import numpy as np\n",
    "import datetime"
   ]
  },
  {
   "cell_type": "code",
   "execution_count": 2,
   "metadata": {},
   "outputs": [
    {
     "data": {
      "text/plain": [
       "CompletedProcess(args=['jupyter', 'nbconvert', '--to', 'python', 'calc_KVA.ipynb'], returncode=0)"
      ]
     },
     "execution_count": 2,
     "metadata": {},
     "output_type": "execute_result"
    }
   ],
   "source": [
    "import subprocess\n",
    "subprocess.run(['jupyter', 'nbconvert', '--to', 'python', 'calc_KVA.ipynb'])"
   ]
  },
  {
   "cell_type": "code",
   "execution_count": 8,
   "metadata": {},
   "outputs": [
    {
     "data": {
      "text/html": [
       "<div>\n",
       "<style>\n",
       "    .dataframe thead tr:only-child th {\n",
       "        text-align: right;\n",
       "    }\n",
       "\n",
       "    .dataframe thead th {\n",
       "        text-align: left;\n",
       "    }\n",
       "\n",
       "    .dataframe tbody tr th {\n",
       "        vertical-align: top;\n",
       "    }\n",
       "</style>\n",
       "<table border=\"1\" class=\"dataframe\">\n",
       "  <thead>\n",
       "    <tr style=\"text-align: right;\">\n",
       "      <th></th>\n",
       "      <th>Unnamed: 0</th>\n",
       "      <th>2017/3/31</th>\n",
       "      <th>2017/4/1</th>\n",
       "      <th>2017/4/2</th>\n",
       "      <th>2017/4/3</th>\n",
       "      <th>2017/4/4</th>\n",
       "      <th>2017/4/5</th>\n",
       "      <th>2017/4/6</th>\n",
       "      <th>2017/4/7</th>\n",
       "      <th>2017/4/8</th>\n",
       "      <th>...</th>\n",
       "      <th>2030/3/31</th>\n",
       "      <th>2031/3/31</th>\n",
       "      <th>2032/3/31</th>\n",
       "      <th>2033/3/31</th>\n",
       "      <th>2034/3/31</th>\n",
       "      <th>2035/3/31</th>\n",
       "      <th>2036/3/31</th>\n",
       "      <th>2037/3/31</th>\n",
       "      <th>2042/3/31</th>\n",
       "      <th>2047/3/31</th>\n",
       "    </tr>\n",
       "  </thead>\n",
       "  <tbody>\n",
       "    <tr>\n",
       "      <th>0</th>\n",
       "      <td>EAD_profile</td>\n",
       "      <td>15711322</td>\n",
       "      <td>15711322</td>\n",
       "      <td>22217136</td>\n",
       "      <td>27207840</td>\n",
       "      <td>31414040</td>\n",
       "      <td>35118757</td>\n",
       "      <td>38467159</td>\n",
       "      <td>41545486</td>\n",
       "      <td>44409937</td>\n",
       "      <td>...</td>\n",
       "      <td>613532705</td>\n",
       "      <td>599251055</td>\n",
       "      <td>581478125</td>\n",
       "      <td>560520628</td>\n",
       "      <td>536515463</td>\n",
       "      <td>509620658</td>\n",
       "      <td>479890630</td>\n",
       "      <td>447611857</td>\n",
       "      <td>250219210</td>\n",
       "      <td>0</td>\n",
       "    </tr>\n",
       "  </tbody>\n",
       "</table>\n",
       "<p>1 rows × 64 columns</p>\n",
       "</div>"
      ],
      "text/plain": [
       "    Unnamed: 0  2017/3/31  2017/4/1  2017/4/2  2017/4/3  2017/4/4  2017/4/5  \\\n",
       "0  EAD_profile   15711322  15711322  22217136  27207840  31414040  35118757   \n",
       "\n",
       "   2017/4/6  2017/4/7  2017/4/8    ...      2030/3/31  2031/3/31  2032/3/31  \\\n",
       "0  38467159  41545486  44409937    ...      613532705  599251055  581478125   \n",
       "\n",
       "   2033/3/31  2034/3/31  2035/3/31  2036/3/31  2037/3/31  2042/3/31  2047/3/31  \n",
       "0  560520628  536515463  509620658  479890630  447611857  250219210          0  \n",
       "\n",
       "[1 rows x 64 columns]"
      ]
     },
     "execution_count": 8,
     "metadata": {},
     "output_type": "execute_result"
    }
   ],
   "source": [
    "df_ead_profile = pd.read_csv('SACCR_EAD_profile.csv')\n",
    "df_ead_profile"
   ]
  },
  {
   "cell_type": "code",
   "execution_count": 9,
   "metadata": {},
   "outputs": [
    {
     "data": {
      "text/plain": [
       "['2017/3/31',\n",
       " '2017/4/1',\n",
       " '2017/4/2',\n",
       " '2017/4/3',\n",
       " '2017/4/4',\n",
       " '2017/4/5',\n",
       " '2017/4/6',\n",
       " '2017/4/7',\n",
       " '2017/4/8',\n",
       " '2017/4/9',\n",
       " '2017/4/10',\n",
       " '2017/4/11',\n",
       " '2017/4/12',\n",
       " '2017/4/13',\n",
       " '2017/4/14',\n",
       " '2017/4/15',\n",
       " '2017/4/16',\n",
       " '2017/4/17',\n",
       " '2017/4/18',\n",
       " '2017/4/19',\n",
       " '2017/4/20',\n",
       " '2017/4/21',\n",
       " '2017/4/22',\n",
       " '2017/4/23',\n",
       " '2017/4/24',\n",
       " '2017/4/25',\n",
       " '2017/4/26',\n",
       " '2017/4/27',\n",
       " '2017/4/28',\n",
       " '2017/4/29',\n",
       " '2017/4/30',\n",
       " '2017/5/31',\n",
       " '2017/6/30',\n",
       " '2017/7/31',\n",
       " '2017/8/31',\n",
       " '2017/9/30',\n",
       " '2017/10/31',\n",
       " '2017/11/30',\n",
       " '2017/12/31',\n",
       " '2018/1/31',\n",
       " '2018/2/28',\n",
       " '2018/3/31',\n",
       " '2019/3/31',\n",
       " '2020/3/31',\n",
       " '2021/3/31',\n",
       " '2022/3/31',\n",
       " '2023/3/31',\n",
       " '2024/3/31',\n",
       " '2025/3/31',\n",
       " '2026/3/31',\n",
       " '2027/3/31',\n",
       " '2028/3/31',\n",
       " '2029/3/31',\n",
       " '2030/3/31',\n",
       " '2031/3/31',\n",
       " '2032/3/31',\n",
       " '2033/3/31',\n",
       " '2034/3/31',\n",
       " '2035/3/31',\n",
       " '2036/3/31',\n",
       " '2037/3/31',\n",
       " '2042/3/31',\n",
       " '2047/3/31']"
      ]
     },
     "execution_count": 9,
     "metadata": {},
     "output_type": "execute_result"
    }
   ],
   "source": [
    "array_data_grid = df_ead_profile.columns.values.tolist()\n",
    "del array_data_grid[0]\n",
    "array_data_grid"
   ]
  },
  {
   "cell_type": "code",
   "execution_count": 10,
   "metadata": {},
   "outputs": [
    {
     "data": {
      "text/plain": [
       "[15711322,\n",
       " 15711322,\n",
       " 22217136,\n",
       " 27207840,\n",
       " 31414040,\n",
       " 35118757,\n",
       " 38467159,\n",
       " 41545486,\n",
       " 44409937,\n",
       " 47099549,\n",
       " 49642749,\n",
       " 52060998,\n",
       " 54370971,\n",
       " 56585931,\n",
       " 58716630,\n",
       " 60771932,\n",
       " 62759245,\n",
       " 64684837,\n",
       " 66554064,\n",
       " 68371550,\n",
       " 70141317,\n",
       " 71866890,\n",
       " 73551381,\n",
       " 75197550,\n",
       " 76807861,\n",
       " 78384525,\n",
       " 79929532,\n",
       " 81444685,\n",
       " 82931619,\n",
       " 84391827,\n",
       " 85826672,\n",
       " 122037335,\n",
       " 148645272,\n",
       " 171620647,\n",
       " 191642132,\n",
       " 209008149,\n",
       " 225368475,\n",
       " 239975398,\n",
       " 254026851,\n",
       " 267184833,\n",
       " 278407620,\n",
       " 290191781,\n",
       " 396251017,\n",
       " 468152060,\n",
       " 520506931,\n",
       " 559537802,\n",
       " 588414489,\n",
       " 609123498,\n",
       " 622854620,\n",
       " 630602836,\n",
       " 633062091,\n",
       " 630757694,\n",
       " 624131552,\n",
       " 613532705,\n",
       " 599251055,\n",
       " 581478125,\n",
       " 560520628,\n",
       " 536515463,\n",
       " 509620658,\n",
       " 479890630,\n",
       " 447611857,\n",
       " 250219210,\n",
       " 0]"
      ]
     },
     "execution_count": 10,
     "metadata": {},
     "output_type": "execute_result"
    }
   ],
   "source": [
    "array_ead = df_ead_profile.iloc[0].values.tolist()\n",
    "del array_ead[0]\n",
    "array_ead"
   ]
  },
  {
   "cell_type": "code",
   "execution_count": 22,
   "metadata": {
    "collapsed": true
   },
   "outputs": [],
   "source": [
    "def trapezoidal_rule(array_func_i, array_func_ip1):\n",
    "    function = (array_func_i + array_func_ip1)/2\n",
    "    return function\n",
    "\n",
    "def calc_KVA(capital_cost, risk_weight, alpha, array_EAD_profile, array_grid, netting_effect):\n",
    "    int_num = len(array_grid)\n",
    "    maturity_date = array_grid[int_num-1]\n",
    "    KVA = 0.0\n",
    "    datetime_obj_maturity = datetime.datetime.strptime(maturity_date, '%Y/%m/%d')\n",
    "    for i in range(0, int_num -1):\n",
    "        datetime_obj_date_i = datetime.datetime.strptime(array_grid[i], '%Y/%m/%d')\n",
    "        datetime_obj_date_i_p1 = datetime.datetime.strptime(array_grid[i+1], '%Y/%m/%d')\n",
    "        remaining_maturity = ((datetime_obj_maturity - datetime_obj_date_i).days) /365\n",
    "        DF = (1.0 - np.exp(-0.05*remaining_maturity)/(0.05*remaining_maturity))\n",
    "        delta_t = ((datetime_obj_date_i_p1 - datetime_obj_date_i).days) /365\n",
    "        KVA = KVA + capital_cost / alpha * risk_weight * DF * delta_t * trapezoidal_rule(array_ead[i], array_ead[i+1])\n",
    "    if(netting_effect==True):\n",
    "        KVA = KVA * 0.5\n",
    "    else:\n",
    "        KVA = KVA\n",
    "    return KVA"
   ]
  },
  {
   "cell_type": "code",
   "execution_count": 23,
   "metadata": {},
   "outputs": [
    {
     "data": {
      "text/plain": [
       "36960624.65786349"
      ]
     },
     "execution_count": 23,
     "metadata": {},
     "output_type": "execute_result"
    }
   ],
   "source": [
    "calc_KVA(0.6, 0.02, 1.4, array_ead, array_data_grid, False)"
   ]
  },
  {
   "cell_type": "code",
   "execution_count": 13,
   "metadata": {
    "collapsed": true
   },
   "outputs": [],
   "source": []
  },
  {
   "cell_type": "code",
   "execution_count": null,
   "metadata": {
    "collapsed": true
   },
   "outputs": [],
   "source": []
  }
 ],
 "metadata": {
  "kernelspec": {
   "display_name": "Python 3",
   "language": "python",
   "name": "python3"
  },
  "language_info": {
   "codemirror_mode": {
    "name": "ipython",
    "version": 3
   },
   "file_extension": ".py",
   "mimetype": "text/x-python",
   "name": "python",
   "nbconvert_exporter": "python",
   "pygments_lexer": "ipython3",
   "version": "3.6.2"
  }
 },
 "nbformat": 4,
 "nbformat_minor": 2
}
